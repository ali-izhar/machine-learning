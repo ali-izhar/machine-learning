{
 "cells": [
  {
   "cell_type": "code",
   "execution_count": 2,
   "id": "0d305f3e",
   "metadata": {},
   "outputs": [],
   "source": [
    "import numpy as np\n",
    "import pandas as pd\n",
    "from dataclasses import dataclass\n",
    "from sklearn.metrics import accuracy_score\n",
    "from probability import Generator, Dist\n",
    "\n",
    "import pprint\n",
    "pp = pprint.PrettyPrinter()"
   ]
  },
  {
   "attachments": {},
   "cell_type": "markdown",
   "id": "176ae782",
   "metadata": {},
   "source": [
    "## Define features\n",
    "Import the generator functions for the `normal`, `binomial`, and `uniform` distributions."
   ]
  },
  {
   "cell_type": "code",
   "execution_count": 7,
   "id": "58652abe",
   "metadata": {},
   "outputs": [],
   "source": [
    "FEATURES = ['height', 'weight', 'bark_days', 'ear_head_ratio']"
   ]
  },
  {
   "attachments": {},
   "cell_type": "markdown",
   "id": "ccac1d51",
   "metadata": {},
   "source": [
    "Since the features follow different distributions and each one of these has different parameters, we will create a `dataclass` for each one so that we have an easy way of saving parameters.\n",
    "\n",
    "```python\n",
    "@dataclass\n",
    "class my_data_class:\n",
    "    my_var: str\n",
    "        \n",
    "foo = my_data_class(my_var=\"Hello World\")\n",
    "```\n",
    "\n",
    "To access the information of `my_var` from `foo`, the syntax `foo.my_var` is used, which should be equal to \"Hello World\" in this example."
   ]
  },
  {
   "cell_type": "code",
   "execution_count": 8,
   "id": "6b224746",
   "metadata": {},
   "outputs": [],
   "source": [
    "@dataclass\n",
    "class params_gaussian:\n",
    "    mu: float\n",
    "    sigma: float\n",
    "\n",
    "    def __repr__(self):\n",
    "        return f\"params_gaussian(mu={self.mu:.3f}, sigma={self.sigma:.3f})\"\n",
    "    \n",
    "@dataclass\n",
    "class params_binomial:\n",
    "    n: int\n",
    "    p: float\n",
    "\n",
    "    def __repr__(self):\n",
    "        return f\"params_binomial(n={self.n:.3f}, p={self.p:.3f})\"\n",
    "    \n",
    "@dataclass\n",
    "class params_uniform:\n",
    "    a: float\n",
    "    b: float\n",
    "\n",
    "    def __repr__(self):\n",
    "        return f\"params_uniform(a={self.a:.3f}, b={self.b:.3f})\""
   ]
  },
  {
   "attachments": {},
   "cell_type": "markdown",
   "id": "4570f06a",
   "metadata": {},
   "source": [
    "Let's define a dictionary that has information for every breed of dogs."
   ]
  },
  {
   "cell_type": "code",
   "execution_count": 9,
   "id": "4268eb91",
   "metadata": {},
   "outputs": [],
   "source": [
    "breed_params = {\n",
    "    0: {\n",
    "        'height': params_gaussian(mu=35, sigma=1.5),\n",
    "        'weight': params_gaussian(mu=20, sigma=1),\n",
    "        'bark_days': params_binomial(n=30, p=0.8),\n",
    "        'ear_head_ratio': params_uniform(a=0.6, b=0.1)\n",
    "    },\n",
    "    1: {\n",
    "        'height': params_gaussian(mu=30, sigma=2),\n",
    "        'weight': params_gaussian(mu=25, sigma=5),\n",
    "        'bark_days': params_binomial(n=30, p=0.5),\n",
    "        'ear_head_ratio': params_uniform(a=0.2, b=0.5)\n",
    "    },\n",
    "    2: {\n",
    "        'height': params_gaussian(mu=40, sigma=3.5),\n",
    "        'weight': params_gaussian(mu=32, sigma=3),\n",
    "        'bark_days': params_binomial(n=30, p=0.3),\n",
    "        'ear_head_ratio': params_uniform(a=0.1, b=0.3)\n",
    "    }\n",
    "}"
   ]
  },
  {
   "attachments": {},
   "cell_type": "markdown",
   "id": "905d9287",
   "metadata": {},
   "source": [
    "## Generating the dataset\n",
    "With the parameters and distributions for each breed of dogs, let's generate a dataset."
   ]
  },
  {
   "cell_type": "code",
   "execution_count": 10,
   "id": "531a2f36",
   "metadata": {},
   "outputs": [],
   "source": [
    "generator = Generator()"
   ]
  },
  {
   "cell_type": "code",
   "execution_count": 11,
   "id": "209c57fc",
   "metadata": {},
   "outputs": [],
   "source": [
    "def generate_data_for_breed(breed, features, samples, params):\n",
    "    \"\"\"\n",
    "    Generate synthetic data for a specific breed of dogs based on given features and parameters.\n",
    "\n",
    "    Parameters:\n",
    "        - breed (str): The breed of the dog for which data is generated.\n",
    "        - features (list[str]): List of features to generate data for.\n",
    "        - samples (int): Number of samples to generate for each feature.\n",
    "        - params (dict): Dictionary containing parameters for each breed and its features.\n",
    "\n",
    "    Returns:\n",
    "        - df (pandas.DataFrame): A DataFrame containing the generated synthetic data.\n",
    "            The DataFrame will have columns for each feature and an additional column for the breed.\n",
    "    \"\"\"\n",
    "    \n",
    "    df = pd.DataFrame()\n",
    "    \n",
    "    for feature in features:\n",
    "        match feature:\n",
    "            case \"height\" | \"weight\":\n",
    "                df[feature] = generator.gaussian_generator(params[breed][feature].mu, params[breed][feature].sigma, samples)\n",
    "                \n",
    "            case \"bark_days\":\n",
    "                df[feature] = generator.binomial_generator(params[breed][feature].n, params[breed][feature].p, samples)\n",
    "                                       \n",
    "            case \"ear_head_ratio\":\n",
    "                df[feature] = generator.uniform_generator(params[breed][feature].a, params[breed][feature].b, samples)    \n",
    "    \n",
    "    df[\"breed\"] = breed\n",
    "    \n",
    "    return df"
   ]
  },
  {
   "cell_type": "code",
   "execution_count": 12,
   "id": "df3551d0",
   "metadata": {},
   "outputs": [
    {
     "data": {
      "text/html": [
       "<div>\n",
       "<style scoped>\n",
       "    .dataframe tbody tr th:only-of-type {\n",
       "        vertical-align: middle;\n",
       "    }\n",
       "\n",
       "    .dataframe tbody tr th {\n",
       "        vertical-align: top;\n",
       "    }\n",
       "\n",
       "    .dataframe thead th {\n",
       "        text-align: right;\n",
       "    }\n",
       "</style>\n",
       "<table border=\"1\" class=\"dataframe\">\n",
       "  <thead>\n",
       "    <tr style=\"text-align: right;\">\n",
       "      <th></th>\n",
       "      <th>height</th>\n",
       "      <th>weight</th>\n",
       "      <th>bark_days</th>\n",
       "      <th>ear_head_ratio</th>\n",
       "      <th>breed</th>\n",
       "    </tr>\n",
       "  </thead>\n",
       "  <tbody>\n",
       "    <tr>\n",
       "      <th>2836</th>\n",
       "      <td>39.697810</td>\n",
       "      <td>31.740980</td>\n",
       "      <td>9.0</td>\n",
       "      <td>0.193120</td>\n",
       "      <td>2</td>\n",
       "    </tr>\n",
       "    <tr>\n",
       "      <th>1002</th>\n",
       "      <td>36.710641</td>\n",
       "      <td>21.140427</td>\n",
       "      <td>26.0</td>\n",
       "      <td>0.163527</td>\n",
       "      <td>0</td>\n",
       "    </tr>\n",
       "    <tr>\n",
       "      <th>1075</th>\n",
       "      <td>34.726930</td>\n",
       "      <td>19.817954</td>\n",
       "      <td>24.0</td>\n",
       "      <td>0.386113</td>\n",
       "      <td>0</td>\n",
       "    </tr>\n",
       "    <tr>\n",
       "      <th>1583</th>\n",
       "      <td>32.324884</td>\n",
       "      <td>30.812210</td>\n",
       "      <td>18.0</td>\n",
       "      <td>0.463242</td>\n",
       "      <td>1</td>\n",
       "    </tr>\n",
       "    <tr>\n",
       "      <th>248</th>\n",
       "      <td>37.691499</td>\n",
       "      <td>21.794333</td>\n",
       "      <td>28.0</td>\n",
       "      <td>0.118190</td>\n",
       "      <td>0</td>\n",
       "    </tr>\n",
       "    <tr>\n",
       "      <th>814</th>\n",
       "      <td>36.688852</td>\n",
       "      <td>21.125901</td>\n",
       "      <td>26.0</td>\n",
       "      <td>0.165052</td>\n",
       "      <td>0</td>\n",
       "    </tr>\n",
       "    <tr>\n",
       "      <th>1407</th>\n",
       "      <td>30.844078</td>\n",
       "      <td>27.110196</td>\n",
       "      <td>16.0</td>\n",
       "      <td>0.399051</td>\n",
       "      <td>1</td>\n",
       "    </tr>\n",
       "    <tr>\n",
       "      <th>3376</th>\n",
       "      <td>38.616784</td>\n",
       "      <td>30.814387</td>\n",
       "      <td>8.0</td>\n",
       "      <td>0.169269</td>\n",
       "      <td>2</td>\n",
       "    </tr>\n",
       "    <tr>\n",
       "      <th>2700</th>\n",
       "      <td>44.655532</td>\n",
       "      <td>35.990456</td>\n",
       "      <td>12.0</td>\n",
       "      <td>0.281653</td>\n",
       "      <td>2</td>\n",
       "    </tr>\n",
       "    <tr>\n",
       "      <th>533</th>\n",
       "      <td>35.209095</td>\n",
       "      <td>20.139397</td>\n",
       "      <td>24.0</td>\n",
       "      <td>0.322284</td>\n",
       "      <td>0</td>\n",
       "    </tr>\n",
       "  </tbody>\n",
       "</table>\n",
       "</div>"
      ],
      "text/plain": [
       "         height     weight  bark_days  ear_head_ratio  breed\n",
       "2836  39.697810  31.740980        9.0        0.193120      2\n",
       "1002  36.710641  21.140427       26.0        0.163527      0\n",
       "1075  34.726930  19.817954       24.0        0.386113      0\n",
       "1583  32.324884  30.812210       18.0        0.463242      1\n",
       "248   37.691499  21.794333       28.0        0.118190      0\n",
       "814   36.688852  21.125901       26.0        0.165052      0\n",
       "1407  30.844078  27.110196       16.0        0.399051      1\n",
       "3376  38.616784  30.814387        8.0        0.169269      2\n",
       "2700  44.655532  35.990456       12.0        0.281653      2\n",
       "533   35.209095  20.139397       24.0        0.322284      0"
      ]
     },
     "execution_count": 12,
     "metadata": {},
     "output_type": "execute_result"
    }
   ],
   "source": [
    "# Generate data for each dog breed\n",
    "df_0 = generate_data_for_breed(breed=0, features=FEATURES, samples=1200, params=breed_params)\n",
    "df_1 = generate_data_for_breed(breed=1, features=FEATURES, samples=1350, params=breed_params)\n",
    "df_2 = generate_data_for_breed(breed=2, features=FEATURES, samples=900, params=breed_params)\n",
    "\n",
    "# Concatenate all breeds into a single dataframe\n",
    "df_all_breeds = pd.concat([df_0, df_1, df_2]).reset_index(drop=True)\n",
    "\n",
    "# Shuffle the data\n",
    "df_all_breeds = df_all_breeds.sample(frac = 1)\n",
    "\n",
    "# Print the dataframe\n",
    "df_all_breeds.head(10)"
   ]
  },
  {
   "attachments": {},
   "cell_type": "markdown",
   "id": "096b101b",
   "metadata": {},
   "source": [
    "## Testing and Training Data\n",
    "Use 70% of the generated data for training and the remaining 30% for testing."
   ]
  },
  {
   "cell_type": "code",
   "execution_count": 13,
   "id": "0a1ebd2c",
   "metadata": {},
   "outputs": [],
   "source": [
    "# Define a 70/30 training/testing split\n",
    "split = int(len(df_all_breeds)*0.7)\n",
    "\n",
    "# Do the split\n",
    "df_train = df_all_breeds[:split].reset_index(drop=True)\n",
    "df_test = df_all_breeds[split:].reset_index(drop=True)"
   ]
  },
  {
   "attachments": {},
   "cell_type": "markdown",
   "id": "dd62f77d",
   "metadata": {},
   "source": [
    "## Computing parameters out of the training data\n",
    "1. Compute the estimated parameters of each feature for every breed. The breeds are encoded as integers.\n",
    "2. Compute the proportion of data belonging to each breed in the training dataset."
   ]
  },
  {
   "cell_type": "code",
   "execution_count": 14,
   "id": "4311cc04",
   "metadata": {},
   "outputs": [],
   "source": [
    "def compute_training_params(df, features):\n",
    "    \"\"\"\n",
    "    Computes the estimated parameters for training a model based on the provided dataframe and features.\n",
    "\n",
    "    Args:\n",
    "        df (pandas.DataFrame): The dataframe containing the training data.\n",
    "        features (list): A list of feature names to consider.\n",
    "\n",
    "    Returns:\n",
    "        tuple: A tuple containing two dictionaries:\n",
    "            - params_dict (dict): A dictionary that contains the estimated parameters for each breed and feature.\n",
    "            - probs_dict (dict): A dictionary that contains the proportion of data belonging to each breed.\n",
    "    \"\"\"\n",
    "    \n",
    "    # Dict that should contain the estimated parameters\n",
    "    params_dict = {}\n",
    "    \n",
    "    # Dict that should contain the proportion of data belonging to each class\n",
    "    probs_dict = {}\n",
    "        \n",
    "    # Loop over the breeds\n",
    "    for breed in df[\"breed\"]:\n",
    "        \n",
    "        # Slice the original df to only include data for the current breed and the feature columns\n",
    "        df_breed = df[df[\"breed\"] == breed][features]\n",
    "        \n",
    "        # Save the probability of each class (breed) in the probabilities dict\n",
    "        probs_dict[breed] = round(len(df_breed) / len(df), 3)\n",
    "        \n",
    "        # Initialize the inner dict\n",
    "        inner_dict = {}\n",
    "        \n",
    "        # Loop over the columns of the sliced dataframe\n",
    "        for feature in df_breed.columns:\n",
    "            match feature:\n",
    "                case \"height\" | \"weight\": \n",
    "                    mu = df_breed[feature].mean()\n",
    "                    sigma = df_breed[feature].std()\n",
    "                    params = params_gaussian(mu, sigma)\n",
    "                    \n",
    "                case \"bark_days\":\n",
    "                    n = int(df_breed[feature].max())\n",
    "                    p = df_breed[feature].mean() / n\n",
    "                    params = params_binomial(n, p)\n",
    "\n",
    "                case \"ear_head_ratio\":\n",
    "                    a = df_breed[feature].min()\n",
    "                    b = df_breed[feature].max()\n",
    "                    params = params_uniform(a, b)\n",
    "            \n",
    "            # Save the dataclass object within the inner dict\n",
    "            inner_dict[feature] = params\n",
    "        \n",
    "        # Save inner dict within outer dict\n",
    "        params_dict[breed] = inner_dict\n",
    "    \n",
    "    return params_dict, probs_dict"
   ]
  },
  {
   "cell_type": "code",
   "execution_count": 15,
   "id": "d5604a11",
   "metadata": {},
   "outputs": [
    {
     "name": "stdout",
     "output_type": "stream",
     "text": [
      "Distribution parameters for training split:\n",
      "\n",
      "{0: {'bark_days': params_binomial(n=30.000, p=0.801),\n",
      "     'ear_head_ratio': params_uniform(a=0.100, b=0.597),\n",
      "     'height': params_gaussian(mu=35.030, sigma=1.519),\n",
      "     'weight': params_gaussian(mu=20.020, sigma=1.013)},\n",
      " 1: {'bark_days': params_binomial(n=24.000, p=0.622),\n",
      "     'ear_head_ratio': params_uniform(a=0.201, b=0.500),\n",
      "     'height': params_gaussian(mu=29.971, sigma=2.011),\n",
      "     'weight': params_gaussian(mu=24.927, sigma=5.028)},\n",
      " 2: {'bark_days': params_binomial(n=18.000, p=0.493),\n",
      "     'ear_head_ratio': params_uniform(a=0.101, b=0.300),\n",
      "     'height': params_gaussian(mu=39.814, sigma=3.575),\n",
      "     'weight': params_gaussian(mu=31.841, sigma=3.064)}}\n",
      "\n",
      "Probability of each class for training split:\n",
      "\n",
      "{0: 0.346, 1: 0.393, 2: 0.26}\n"
     ]
    }
   ],
   "source": [
    "train_params, train_class_probs = compute_training_params(df_train, FEATURES)\n",
    "\n",
    "print(\"Distribution parameters for training split:\\n\")\n",
    "pp.pprint(train_params)\n",
    "print(\"\\nProbability of each class for training split:\\n\")\n",
    "pp.pprint(train_class_probs)"
   ]
  },
  {
   "attachments": {},
   "cell_type": "markdown",
   "id": "ccf94741",
   "metadata": {},
   "source": [
    "## Compute the probability of X given the breed - $P(x \\mid C_i)$\n",
    "\n",
    "To code a Naive Bayes classifier, you will assume **class-conditional independence** for a given $\\boldsymbol x = (x_1, \\ldots, x_n)$ in $\\boldsymbol X$. With this assumption, you can compute the probability of $x$ given the class using the following expression:\n",
    "\n",
    "$$\\mathbf P(\\boldsymbol x \\mid C_{i}) = \\mathbf P(x_1 \\mid C_i) \\cdot \\mathbf P(x_2 \\mid C_i) \\cdot \\ldots \\cdot \\mathbf P(x_n \\mid C_i) = \\prod_{k = 1}^{n} \\mathbf P(x_k \\mid C_i).$$"
   ]
  },
  {
   "cell_type": "code",
   "execution_count": 16,
   "id": "2a38a72b",
   "metadata": {},
   "outputs": [],
   "source": [
    "dist = Dist()"
   ]
  },
  {
   "cell_type": "code",
   "execution_count": 17,
   "id": "965dcbcf",
   "metadata": {},
   "outputs": [],
   "source": [
    "def prob_of_X_given_C(X, features, breed, params_dict):\n",
    "    \"\"\"\n",
    "    Calculate the conditional probability of X given a specific breed, using the given features and parameters.\n",
    "\n",
    "    Args:\n",
    "        X (list): List of feature values for which the probability needs to be calculated.\n",
    "        features (list): List of feature names corresponding to the feature values in X.\n",
    "        breed (int): The breed for which the probability is calculated.\n",
    "        params_dict (dict): Dictionary containing the parameters for different breeds and features.\n",
    "\n",
    "    Returns:\n",
    "        float: The conditional probability of X given the specified breed.\n",
    "    \"\"\"\n",
    "    \n",
    "    if len(X) != len(features):\n",
    "        print(\"X and list of features should have the same length\")\n",
    "        return 0\n",
    "    \n",
    "    probability = 1.0\n",
    "    \n",
    "    for x, feature in zip(X, features):\n",
    "        \n",
    "        # Get the relevant parameters from params_dict \n",
    "        params = params_dict[breed][feature]\n",
    "\n",
    "        match feature:\n",
    "            case \"height\" | \"weight\": \n",
    "                # Compute the relevant pdf given the distribution and the estimated parameters\n",
    "                probability_f = dist.pdf_gaussian(x, params.mu, params.sigma)\n",
    "                \n",
    "            case \"bark_days\": \n",
    "                # Compute the relevant pdf given the distribution and the estimated parameters\n",
    "                probability_f = dist.pdf_binomial(x, params.n, params.p)\n",
    "\n",
    "            case \"ear_head_ratio\": \n",
    "                # Compute the relevant pdf given the distribution and the estimated parameters\n",
    "                probability_f = dist.pdf_uniform(x, params.a, params.b)\n",
    "        \n",
    "        # Multiply by probability of current feature\n",
    "        probability *= probability_f\n",
    "    \n",
    "    return probability"
   ]
  },
  {
   "cell_type": "code",
   "execution_count": 18,
   "id": "da5d6384",
   "metadata": {},
   "outputs": [
    {
     "name": "stdout",
     "output_type": "stream",
     "text": [
      "Example dog has breed 1 and features: height = 28.63, weight = 21.56, bark_days = 13.00, ear_head_ratio = 0.27\n",
      "\n",
      "Probability of these features if dog is classified as breed 0: 7.065771582111443e-11\n",
      "Probability of these features if dog is classified as breed 1: 0.003942085319420158\n",
      "Probability of these features if dog is classified as breed 2: 5.770264459662163e-08\n"
     ]
    }
   ],
   "source": [
    "example_dog = df_test[FEATURES].loc[0]\n",
    "example_breed = df_test[[\"breed\"]].loc[0][\"breed\"]\n",
    "print(f\"Example dog has breed {example_breed} and features: height = {example_dog['height']:.2f}, weight = {example_dog['weight']:.2f}, bark_days = {example_dog['bark_days']:.2f}, ear_head_ratio = {example_dog['ear_head_ratio']:.2f}\\n\")\n",
    "\n",
    "print(f\"Probability of these features if dog is classified as breed 0: {prob_of_X_given_C([*example_dog], FEATURES, 0, train_params)}\")\n",
    "print(f\"Probability of these features if dog is classified as breed 1: {prob_of_X_given_C([*example_dog], FEATURES, 1, train_params)}\")\n",
    "print(f\"Probability of these features if dog is classified as breed 2: {prob_of_X_given_C([*example_dog], FEATURES, 2, train_params)}\")"
   ]
  },
  {
   "attachments": {},
   "cell_type": "markdown",
   "id": "59b0a865",
   "metadata": {},
   "source": [
    "## Predict the breed"
   ]
  },
  {
   "cell_type": "code",
   "execution_count": 19,
   "id": "37b94df6",
   "metadata": {},
   "outputs": [],
   "source": [
    "def predict_breed(X, features, params_dict, probs_dict):\n",
    "    \"\"\"\n",
    "    Predicts the breed based on the input and features.\n",
    "\n",
    "    Args:\n",
    "        X (array-like): The input data for prediction.\n",
    "        features (array-like): The features used for prediction.\n",
    "        params_dict (dict): A dictionary containing parameters for different breeds.\n",
    "        probs_dict (dict): A dictionary containing probabilities for different breeds.\n",
    "\n",
    "    Returns:\n",
    "        int: The predicted breed index.\n",
    "    \"\"\"\n",
    "    \n",
    "    posterior_breed_0 = prob_of_X_given_C(X, features, 0, params_dict)*probs_dict[0]\n",
    "    posterior_breed_1 = prob_of_X_given_C(X, features, 1, params_dict)*probs_dict[1]\n",
    "    posterior_breed_2 = prob_of_X_given_C(X, features, 2, params_dict)*probs_dict[2]\n",
    "    \n",
    "    # Save the breed with the maximum posterior\n",
    "    prediction = np.argmax([posterior_breed_0, posterior_breed_1, posterior_breed_2])\n",
    "    \n",
    "    return prediction"
   ]
  },
  {
   "cell_type": "code",
   "execution_count": 20,
   "id": "ebe6d870",
   "metadata": {},
   "outputs": [
    {
     "name": "stdout",
     "output_type": "stream",
     "text": [
      "Example dog has breed 1 and Naive Bayes classified it as 1\n"
     ]
    }
   ],
   "source": [
    "example_pred = predict_breed([*example_dog], FEATURES, train_params, train_class_probs)\n",
    "print(f\"Example dog has breed {example_breed} and Naive Bayes classified it as {example_pred}\")"
   ]
  },
  {
   "attachments": {},
   "cell_type": "markdown",
   "id": "1fd73240",
   "metadata": {},
   "source": [
    "### Test the classifier on the test data"
   ]
  },
  {
   "cell_type": "code",
   "execution_count": 21,
   "id": "2f12e9b6",
   "metadata": {},
   "outputs": [
    {
     "name": "stdout",
     "output_type": "stream",
     "text": [
      "Accuracy score for the test split: 1.00\n"
     ]
    }
   ],
   "source": [
    "preds = df_test.apply(lambda x: predict_breed([*x[FEATURES]], FEATURES, train_params, train_class_probs), axis=1)\n",
    "test_acc = accuracy_score(df_test[\"breed\"], preds)\n",
    "print(f\"Accuracy score for the test split: {test_acc:.2f}\")"
   ]
  },
  {
   "attachments": {},
   "cell_type": "markdown",
   "id": "c2cf5d9b",
   "metadata": {},
   "source": [
    "The Naive Bayes classifier achieved an accuracy of 100% in the testing data. Nice job! \n",
    "\n",
    "You might think that something is wrong when reaching such a high accuracy but in this case it makes sense because the data is generated and you know the true distributions for each feature, real-life data won't have this nice behavior!\n",
    "\n",
    "For instance, look at the `Email spam detector` example."
   ]
  }
 ],
 "metadata": {
  "kernelspec": {
   "display_name": "venv",
   "language": "python",
   "name": "venv"
  },
  "language_info": {
   "codemirror_mode": {
    "name": "ipython",
    "version": 3
   },
   "file_extension": ".py",
   "mimetype": "text/x-python",
   "name": "python",
   "nbconvert_exporter": "python",
   "pygments_lexer": "ipython3",
   "version": "3.11.0"
  }
 },
 "nbformat": 4,
 "nbformat_minor": 5
}
