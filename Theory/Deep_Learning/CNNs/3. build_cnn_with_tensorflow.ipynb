{
 "cells": [
  {
   "cell_type": "code",
   "execution_count": 1,
   "id": "c0d71a7e",
   "metadata": {},
   "outputs": [],
   "source": [
    "import h5py\n",
    "import numpy as np\n",
    "import matplotlib.pyplot as plt\n",
    "import pandas as pd\n",
    "import tensorflow as tf\n",
    "import tensorflow.keras.layers as tfl\n",
    "\n",
    "%matplotlib inline\n",
    "np.random.seed(1)"
   ]
  },
  {
   "cell_type": "markdown",
   "id": "639a5960",
   "metadata": {},
   "source": [
    "## 1 - Load Data and Split the Data into Train/Test Sets\n",
    "\n",
    "We'll be using the [Happy House dataset](https://www.kaggle.com/datasets/iarunava/happy-house-dataset) in this notebook, which contains images of peoples' faces. The task is to build a `ConvNet` that determines whether the people in the images are smiling or not."
   ]
  },
  {
   "cell_type": "code",
   "execution_count": 2,
   "id": "8b11eccc",
   "metadata": {},
   "outputs": [],
   "source": [
    "def load_happy_dataset():\n",
    "    train_dataset = h5py.File('data/train_happy.h5', \"r\")\n",
    "    train_set_x_orig = np.array(train_dataset[\"train_set_x\"][:])   # train set features\n",
    "    train_set_y_orig = np.array(train_dataset[\"train_set_y\"][:])   # train set labels\n",
    "\n",
    "    test_dataset = h5py.File('data/test_happy.h5', \"r\")\n",
    "    test_set_x_orig = np.array(test_dataset[\"test_set_x\"][:])      # test set features\n",
    "    test_set_y_orig = np.array(test_dataset[\"test_set_y\"][:])      # test set labels\n",
    "\n",
    "    classes = np.array(test_dataset[\"list_classes\"][:])            # the list of classes\n",
    "    \n",
    "    train_set_y_orig = train_set_y_orig.reshape((1, train_set_y_orig.shape[0]))\n",
    "    test_set_y_orig = test_set_y_orig.reshape((1, test_set_y_orig.shape[0]))\n",
    "    \n",
    "    return train_set_x_orig, train_set_y_orig, test_set_x_orig, test_set_y_orig, classes"
   ]
  },
  {
   "cell_type": "code",
   "execution_count": 3,
   "id": "67871499",
   "metadata": {},
   "outputs": [
    {
     "name": "stdout",
     "output_type": "stream",
     "text": [
      "number of training examples = 600\n",
      "number of test examples = 150\n",
      "X_train shape: (600, 64, 64, 3)\n",
      "Y_train shape: (600, 1)\n",
      "X_test shape: (150, 64, 64, 3)\n",
      "Y_test shape: (150, 1)\n"
     ]
    }
   ],
   "source": [
    "X_train_orig, Y_train_orig, X_test_orig, Y_test_orig, classes = load_happy_dataset()\n",
    "\n",
    "# normalize image vectors\n",
    "X_train = X_train_orig/255.\n",
    "X_test = X_test_orig/255.\n",
    "\n",
    "# reshape\n",
    "Y_train = Y_train_orig.T\n",
    "Y_test = Y_test_orig.T\n",
    "\n",
    "print (\"number of training examples = \" + str(X_train.shape[0]))\n",
    "print (\"number of test examples = \" + str(X_test.shape[0]))\n",
    "print (\"X_train shape: \" + str(X_train.shape))\n",
    "print (\"Y_train shape: \" + str(Y_train.shape))\n",
    "print (\"X_test shape: \" + str(X_test.shape))\n",
    "print (\"Y_test shape: \" + str(Y_test.shape))"
   ]
  },
  {
   "cell_type": "code",
   "execution_count": 6,
   "id": "7b476b9d",
   "metadata": {},
   "outputs": [
    {
     "data": {
      "image/png": "[encoded data removed]",
      "text/plain": [
       "<Figure size 640x480 with 1 Axes>"
      ]
     },
     "metadata": {},
     "output_type": "display_data"
    }
   ],
   "source": [
    "index = 124\n",
    "plt.imshow(X_train_orig[index])  # display sample training image\n",
    "plt.show()"
   ]
  },
  {
   "cell_type": "markdown",
   "id": "67020d58",
   "metadata": {},
   "source": [
    "## 2 - The Sequential API\n",
    "\n",
    "We'll create a model using TF Keras' Sequential API, which allows us to build layer by layer, and is ideal for building models where each layer has **exactly one** input tensor and **one** output tensor. \n",
    "\n",
    "As we'll see, using the **<u>Sequential API</u>** is simple and straightforward, but is only appropriate for simpler, more straightforward tasks. Later in this notebook we'll spend some time building with a more flexible, powerful alternative: the **<u>Functional API</u>.**\n",
    "\n",
    "### 2.1 - Create the Sequential Model\n",
    "\n",
    "The TensorFlow Keras Sequential API can be used to build simple models with layer operations that proceed in a sequential order. We can also add layers incrementally to a Sequential model with the `.add()` method, or remove them using the `.pop()` method.\n",
    "\n",
    "For any layer construction in Keras, we'll need to specify the input shape in advance. This is because in Keras, the shape of the weights is based on the shape of the inputs. The weights are only created when the model first sees some input data. Sequential models can be created by passing a list of layers to the Sequential constructor."
   ]
  },
  {
   "cell_type": "code",
   "execution_count": 7,
   "id": "582c7a2e",
   "metadata": {},
   "outputs": [],
   "source": [
    "def happyModel():\n",
    "    \"\"\"Implements the forward propagation for the binary classification model:\n",
    "    ZEROPAD2D -> CONV2D -> BATCHNORM -> RELU -> MAXPOOL -> FLATTEN -> DENSE\n",
    "        \n",
    "    Arguments:\n",
    "    None\n",
    "\n",
    "    Returns:\n",
    "    model -- TF Keras model (object containing the information for the entire training process).\n",
    "    \n",
    "    -------------------\n",
    "    MODEL ARCHITECTURE:\n",
    "        * Zero Padding with padding 3, input shape of 64 x 64 x 3\n",
    "        * Convolution layer with 32 7x7 filters and stride of 1\n",
    "        * Batch Normalization on axis 3\n",
    "        * ReLU activation\n",
    "        * Max Pooling layer\n",
    "        * Flattening\n",
    "        * Dense Layer with 1 output unit and sigmoid activation\n",
    "    \"\"\"\n",
    "    \n",
    "    model = tf.keras.Sequential([\n",
    "        tfl.ZeroPadding2D(padding=3, input_shape=(64, 64, 3)),\n",
    "        tfl.Conv2D(filters=32, kernel_size=7, strides=1),\n",
    "        tfl.BatchNormalization(axis=3),\n",
    "        tfl.ReLU(),\n",
    "        tfl.MaxPooling2D(),\n",
    "        tfl.Flatten(),\n",
    "        tfl.Dense(units=1, activation='sigmoid'),\n",
    "    ])\n",
    "    \n",
    "    return model"
   ]
  },
  {
   "cell_type": "code",
   "execution_count": 9,
   "id": "651942c9",
   "metadata": {},
   "outputs": [],
   "source": [
    "happy_model = happyModel()"
   ]
  },
  {
   "cell_type": "code",
   "execution_count": 10,
   "id": "45d67e49",
   "metadata": {},
   "outputs": [
    {
     "name": "stdout",
     "output_type": "stream",
     "text": [
      "Model: \"sequential_1\"\n",
      "_________________________________________________________________\n",
      " Layer (type)                Output Shape              Param #   \n",
      "=================================================================\n",
      " zero_padding2d_1 (ZeroPadd  (None, 70, 70, 3)         0         \n",
      " ing2D)                                                          \n",
      "                                                                 \n",
      " conv2d_1 (Conv2D)           (None, 64, 64, 32)        4736      \n",
      "                                                                 \n",
      " batch_normalization_1 (Bat  (None, 64, 64, 32)        128       \n",
      " chNormalization)                                                \n",
      "                                                                 \n",
      " re_lu_1 (ReLU)              (None, 64, 64, 32)        0         \n",
      "                                                                 \n",
      " max_pooling2d_1 (MaxPoolin  (None, 32, 32, 32)        0         \n",
      " g2D)                                                            \n",
      "                                                                 \n",
      " flatten_1 (Flatten)         (None, 32768)             0         \n",
      "                                                                 \n",
      " dense_1 (Dense)             (None, 1)                 32769     \n",
      "                                                                 \n",
      "=================================================================\n",
      "Total params: 37633 (147.00 KB)\n",
      "Trainable params: 37569 (146.75 KB)\n",
      "Non-trainable params: 64 (256.00 Byte)\n",
      "_________________________________________________________________\n"
     ]
    }
   ],
   "source": [
    "happy_model.summary()"
   ]
  },
  {
   "cell_type": "code",
   "execution_count": 11,
   "id": "ae413e98",
   "metadata": {},
   "outputs": [],
   "source": [
    "happy_model.compile(optimizer='adam',\n",
    "                   loss='binary_crossentropy',\n",
    "                   metrics=['accuracy'])"
   ]
  },
  {
   "cell_type": "code",
   "execution_count": 12,
   "id": "f084f703",
   "metadata": {},
   "outputs": [
    {
     "name": "stdout",
     "output_type": "stream",
     "text": [
      "Epoch 1/10\n",
      "38/38 [==============================] - 2s 25ms/step - loss: 1.9522 - accuracy: 0.6317\n",
      "Epoch 2/10\n",
      "38/38 [==============================] - 1s 23ms/step - loss: 0.4139 - accuracy: 0.8417\n",
      "Epoch 3/10\n",
      "38/38 [==============================] - 1s 24ms/step - loss: 0.1952 - accuracy: 0.9150\n",
      "Epoch 4/10\n",
      "38/38 [==============================] - 1s 25ms/step - loss: 0.1279 - accuracy: 0.9450\n",
      "Epoch 5/10\n",
      "38/38 [==============================] - 1s 24ms/step - loss: 0.0918 - accuracy: 0.9633\n",
      "Epoch 6/10\n",
      "38/38 [==============================] - 1s 25ms/step - loss: 0.0998 - accuracy: 0.9617\n",
      "Epoch 7/10\n",
      "38/38 [==============================] - 1s 25ms/step - loss: 0.1684 - accuracy: 0.9283\n",
      "Epoch 8/10\n",
      "38/38 [==============================] - 1s 24ms/step - loss: 0.2693 - accuracy: 0.9017\n",
      "Epoch 9/10\n",
      "38/38 [==============================] - 1s 24ms/step - loss: 0.1016 - accuracy: 0.9600\n",
      "Epoch 10/10\n",
      "38/38 [==============================] - 1s 24ms/step - loss: 0.0992 - accuracy: 0.9567\n"
     ]
    },
    {
     "data": {
      "text/plain": [
       "<keras.src.callbacks.History at 0x295433120d0>"
      ]
     },
     "execution_count": 12,
     "metadata": {},
     "output_type": "execute_result"
    }
   ],
   "source": [
    "happy_model.fit(X_train, Y_train, epochs=10, batch_size=16)"
   ]
  },
  {
   "cell_type": "code",
   "execution_count": 13,
   "id": "dbfd9817",
   "metadata": {},
   "outputs": [
    {
     "name": "stdout",
     "output_type": "stream",
     "text": [
      "5/5 [==============================] - 0s 13ms/step - loss: 0.1243 - accuracy: 0.9467\n"
     ]
    },
    {
     "data": {
      "text/plain": [
       "[0.12427429109811783, 0.9466666579246521]"
      ]
     },
     "execution_count": 13,
     "metadata": {},
     "output_type": "execute_result"
    }
   ],
   "source": [
    "happy_model.evaluate(X_test, Y_test)"
   ]
  },
  {
   "cell_type": "code",
   "execution_count": 38,
   "id": "6c1bb832",
   "metadata": {},
   "outputs": [],
   "source": [
    "# let's predict on a new image\n",
    "\n",
    "from tensorflow.keras.preprocessing import image\n",
    "\n",
    "def load_and_prepare_image(img_path, target_size=(64, 64)):\n",
    "    img = image.load_img(img_path, target_size=target_size)\n",
    "    img_array = image.img_to_array(img)\n",
    "    img_array /= 255.0\n",
    "    \n",
    "    plt.imshow(img_array)\n",
    "    plt.show()\n",
    "    \n",
    "    # add batch dimension\n",
    "    img_array = np.expand_dims(img_array, axis=0)\n",
    "    return img_array"
   ]
  },
  {
   "cell_type": "code",
   "execution_count": 39,
   "id": "8aae1ebf",
   "metadata": {},
   "outputs": [
    {
     "data": {
      "image/png": "[encoded data removed]",
      "text/plain": [
       "<Figure size 640x480 with 1 Axes>"
      ]
     },
     "metadata": {},
     "output_type": "display_data"
    }
   ],
   "source": [
    "# Izhar is actually smiling in the picture (forshadowing)\n",
    "image_path = 'data/izhar.png'\n",
    "izhar_image = load_and_prepare_image(image_path)"
   ]
  },
  {
   "cell_type": "code",
   "execution_count": 21,
   "id": "0783b5e1",
   "metadata": {},
   "outputs": [
    {
     "name": "stdout",
     "output_type": "stream",
     "text": [
      "1/1 [==============================] - 0s 80ms/step\n",
      "Happy face detected!\n"
     ]
    }
   ],
   "source": [
    "prediction = happy_model.predict(izhar_image)\n",
    "\n",
    "if prediction[0][0] > 0.5:\n",
    "    print(\"Happy face detected!\")\n",
    "else:\n",
    "    print(\"Not a happy face.\")"
   ]
  },
  {
   "cell_type": "markdown",
   "id": "23184ecb",
   "metadata": {},
   "source": [
    "## 3 - The Functional API\n",
    "We'll use Keras' flexible [Functional API](https://www.tensorflow.org/guide/keras/functional) to build a ConvNet that can differentiate between 6 sign language digits. \n",
    "\n",
    "The Functional API can handle models with non-linear topology, shared layers, as well as layers with multiple inputs or outputs. Imagine that, where the Sequential API requires the model to move in a linear fashion through its layers, the Functional API allows much more flexibility. Where Sequential is a straight line, a Functional model is a graph, where the nodes of the layers can connect in many more ways than one. \n",
    "\n",
    "In the visual example below, the one possible direction of the movement Sequential model is shown in contrast to a skip connection, which is just one of the many ways a Functional model can be constructed. A skip connection, as you might have guessed, skips some layer in the network and feeds the output to a later layer in the network.\n",
    "\n",
    "<img src=\"media/seq_vs_func.png\" style=\"width:350px;\">"
   ]
  },
  {
   "cell_type": "markdown",
   "id": "07bea553",
   "metadata": {},
   "source": [
    "### 3.1 - Load the SIGNS Dataset\n",
    "\n",
    "The [SIGNS dataset](https://www.kaggle.com/datasets/maneesh99/signs-detection-dataset) is a collection of 6 signs representing numbers from 0 to 5."
   ]
  },
  {
   "cell_type": "code",
   "execution_count": 22,
   "id": "116c65de",
   "metadata": {},
   "outputs": [],
   "source": [
    "def load_signs_dataset():\n",
    "    train_dataset = h5py.File('data/train_signs.h5', \"r\")\n",
    "    train_set_x_orig = np.array(train_dataset[\"train_set_x\"][:])    # train set features\n",
    "    train_set_y_orig = np.array(train_dataset[\"train_set_y\"][:])    # train set labels\n",
    "\n",
    "    test_dataset = h5py.File('data/test_signs.h5', \"r\")\n",
    "    test_set_x_orig = np.array(test_dataset[\"test_set_x\"][:])       # test set features\n",
    "    test_set_y_orig = np.array(test_dataset[\"test_set_y\"][:])       # test set labels\n",
    "\n",
    "    classes = np.array(test_dataset[\"list_classes\"][:])             # the list of classes\n",
    "    \n",
    "    train_set_y_orig = train_set_y_orig.reshape((1, train_set_y_orig.shape[0]))\n",
    "    test_set_y_orig = test_set_y_orig.reshape((1, test_set_y_orig.shape[0]))\n",
    "    \n",
    "    return train_set_x_orig, train_set_y_orig, test_set_x_orig, test_set_y_orig, classes"
   ]
  },
  {
   "cell_type": "code",
   "execution_count": 23,
   "id": "f2a9dfcb",
   "metadata": {},
   "outputs": [],
   "source": [
    "X_train_orig, Y_train_orig, X_test_orig, Y_test_orig, classes = load_signs_dataset()"
   ]
  },
  {
   "cell_type": "markdown",
   "id": "978217c1",
   "metadata": {},
   "source": [
    "<img src=\"media/SIGNS.png\" style=\"width:800px;\">"
   ]
  },
  {
   "cell_type": "code",
   "execution_count": 24,
   "id": "ffabc802",
   "metadata": {},
   "outputs": [
    {
     "name": "stdout",
     "output_type": "stream",
     "text": [
      "y = 4\n"
     ]
    },
    {
     "data": {
      "image/png": "[encoded data removed]",
      "text/plain": [
       "<Figure size 640x480 with 1 Axes>"
      ]
     },
     "metadata": {},
     "output_type": "display_data"
    }
   ],
   "source": [
    "index = 9\n",
    "plt.imshow(X_train_orig[index])\n",
    "print (\"y = \" + str(np.squeeze(Y_train_orig[:, index])))"
   ]
  },
  {
   "cell_type": "code",
   "execution_count": 25,
   "id": "ee91f82d",
   "metadata": {},
   "outputs": [],
   "source": [
    "def convert_to_one_hot(Y, C):\n",
    "    Y = np.eye(C)[Y.reshape(-1)].T\n",
    "    return Y"
   ]
  },
  {
   "cell_type": "code",
   "execution_count": 26,
   "id": "5355b391",
   "metadata": {},
   "outputs": [
    {
     "name": "stdout",
     "output_type": "stream",
     "text": [
      "number of training examples = 1080\n",
      "number of test examples = 120\n",
      "X_train shape: (1080, 64, 64, 3)\n",
      "Y_train shape: (1080, 6)\n",
      "X_test shape: (120, 64, 64, 3)\n",
      "Y_test shape: (120, 6)\n"
     ]
    }
   ],
   "source": [
    "X_train = X_train_orig / 255.\n",
    "X_test = X_test_orig / 255.\n",
    "\n",
    "Y_train = convert_to_one_hot(Y_train_orig, 6).T\n",
    "Y_test = convert_to_one_hot(Y_test_orig, 6).T\n",
    "\n",
    "print (\"number of training examples = \" + str(X_train.shape[0]))\n",
    "print (\"number of test examples = \" + str(X_test.shape[0]))\n",
    "print (\"X_train shape: \" + str(X_train.shape))\n",
    "print (\"Y_train shape: \" + str(Y_train.shape))\n",
    "print (\"X_test shape: \" + str(X_test.shape))\n",
    "print (\"Y_test shape: \" + str(Y_test.shape))"
   ]
  },
  {
   "cell_type": "markdown",
   "id": "81da853a",
   "metadata": {},
   "source": [
    "### 3.2 - Forward Propagation\n",
    "\n",
    "Begin building a graph of layers by creating an input node that functions as a callable object:\n",
    "\n",
    "- **input_img = tf.keras.Input(shape=input_shape):** \n",
    "\n",
    "Then, create a new node in the graph of layers by calling a layer on the `input_img` object: \n",
    "\n",
    "- **tf.keras.layers.Conv2D(filters= ... , kernel_size= ... , padding='same')(input_img):** Read [Conv2D](https://www.tensorflow.org/api_docs/python/tf/keras/layers/Conv2D).\n",
    "\n",
    "- **tf.keras.layers.MaxPool2D(pool_size=(f, f), strides=(s, s), padding='same'):** `MaxPool2D()` downsamples the input using a window of size (f, f) and strides of size (s, s) to carry out max pooling over each window.  For max pooling, we usually operate on a single example at a time and a single channel at a time. Read [MaxPool2D](https://www.tensorflow.org/api_docs/python/tf/keras/layers/MaxPool2D).\n",
    "\n",
    "- **tf.keras.layers.ReLU():** computes the elementwise ReLU of Z (which can be any shape). Read [ReLU](https://www.tensorflow.org/api_docs/python/tf/keras/layers/ReLU).\n",
    "\n",
    "- **tf.keras.layers.Flatten()**: given a tensor \"P\", this function takes each training (or test) example in the batch and flattens it into a 1D vector.  \n",
    "\n",
    "    * If a tensor P has the shape (batch_size,h,w,c), it returns a flattened tensor with shape (batch_size, k), where $k=h \\times w \\times c$.  \"k\" equals the product of all the dimension sizes other than the first dimension.\n",
    "    \n",
    "    * For example, given a tensor with dimensions [100, 2, 3, 4], it flattens the tensor to be of shape [100, 24], where 24 = 2 * 3 * 4.  Read [Flatten](https://www.tensorflow.org/api_docs/python/tf/keras/layers/Flatten).\n",
    "\n",
    "- **tf.keras.layers.Dense(units= ... , activation='softmax')(F):** given the flattened input F, it returns the output computed using a fully connected layer. Read [Dense](https://www.tensorflow.org/api_docs/python/tf/keras/layers/Dense).\n",
    "\n",
    "In the last function above (`tf.keras.layers.Dense()`), the fully connected layer automatically initializes weights in the graph and keeps on training them as we train the model. Hence, we did not need to initialize those weights when initializing the parameters.\n",
    "\n",
    "Lastly, before creating the model, we'll need to define the output using the last of the function's compositions (in this example, a Dense layer): \n",
    "\n",
    "- **outputs = tf.keras.layers.Dense(units=6, activation='softmax')(F)**"
   ]
  },
  {
   "cell_type": "code",
   "execution_count": 27,
   "id": "1329c744",
   "metadata": {},
   "outputs": [],
   "source": [
    "def convolutional_model(input_shape):\n",
    "    \"\"\"Implements the forward propagation for the model:\n",
    "    CONV2D -> RELU -> MAXPOOL -> CONV2D -> RELU -> MAXPOOL -> FLATTEN -> DENSE\n",
    "        \n",
    "    Arguments:\n",
    "    input_img -- input dataset, of shape (input_shape)\n",
    "\n",
    "    Returns:\n",
    "    model -- TF Keras model (object containing the information for the entire training process) \n",
    "\n",
    "    -------------------\n",
    "    MODEL ARCHITECTURE:\n",
    "        * CONV2D: 8 filters 4x4, stride of 1, padding 'SAME'\n",
    "        * ReLU\n",
    "        * MAXPOOL: window 8x8, stride 8, padding 'SAME'\n",
    "        \n",
    "        * CONV2D: 16 filters 2x2, stride 1, padding 'SAME'\n",
    "        * ReLU\n",
    "        * MAXPOOL: window 4x4, stride 4, padding 'SAME'\n",
    "        \n",
    "        * FLATTEN\n",
    "        * Dense Layer (6 output neurons with softmax)\n",
    "    \"\"\"\n",
    "\n",
    "    input_img = tf.keras.Input(shape=input_shape)\n",
    "    Z1 = tfl.Conv2D(filters=8, kernel_size=4, padding='SAME')(input_img)\n",
    "    A1 = tfl.ReLU()(Z1)\n",
    "    P1 = tfl.MaxPooling2D(pool_size=(8, 8), strides=8, padding='SAME')(A1)\n",
    "\n",
    "    Z2 = tfl.Conv2D(filters=16, kernel_size=2, padding='SAME')(P1)\n",
    "    A2 = tfl.ReLU()(Z2)\n",
    "    P2 = tfl.MaxPooling2D(pool_size=(4, 4), strides=4, padding='SAME')(A2)\n",
    "    \n",
    "    F = tfl.Flatten()(P2)\n",
    "    outputs = tfl.Dense(units=6, activation=\"softmax\")(F)\n",
    "    \n",
    "    model = tf.keras.Model(inputs=input_img, outputs=outputs)\n",
    "    return model"
   ]
  },
  {
   "cell_type": "code",
   "execution_count": 28,
   "id": "b57a802e",
   "metadata": {},
   "outputs": [
    {
     "name": "stdout",
     "output_type": "stream",
     "text": [
      "Model: \"model\"\n",
      "_________________________________________________________________\n",
      " Layer (type)                Output Shape              Param #   \n",
      "=================================================================\n",
      " input_1 (InputLayer)        [(None, 64, 64, 3)]       0         \n",
      "                                                                 \n",
      " conv2d_2 (Conv2D)           (None, 64, 64, 8)         392       \n",
      "                                                                 \n",
      " re_lu_2 (ReLU)              (None, 64, 64, 8)         0         \n",
      "                                                                 \n",
      " max_pooling2d_2 (MaxPoolin  (None, 8, 8, 8)           0         \n",
      " g2D)                                                            \n",
      "                                                                 \n",
      " conv2d_3 (Conv2D)           (None, 8, 8, 16)          528       \n",
      "                                                                 \n",
      " re_lu_3 (ReLU)              (None, 8, 8, 16)          0         \n",
      "                                                                 \n",
      " max_pooling2d_3 (MaxPoolin  (None, 2, 2, 16)          0         \n",
      " g2D)                                                            \n",
      "                                                                 \n",
      " flatten_2 (Flatten)         (None, 64)                0         \n",
      "                                                                 \n",
      " dense_2 (Dense)             (None, 6)                 390       \n",
      "                                                                 \n",
      "=================================================================\n",
      "Total params: 1310 (5.12 KB)\n",
      "Trainable params: 1310 (5.12 KB)\n",
      "Non-trainable params: 0 (0.00 Byte)\n",
      "_________________________________________________________________\n"
     ]
    }
   ],
   "source": [
    "conv_model = convolutional_model((64, 64, 3))\n",
    "conv_model.compile(optimizer='adam',\n",
    "                  loss='categorical_crossentropy',\n",
    "                  metrics=['accuracy'])\n",
    "conv_model.summary()"
   ]
  },
  {
   "cell_type": "code",
   "execution_count": 29,
   "id": "cacc1834",
   "metadata": {},
   "outputs": [],
   "source": [
    "train_dataset = tf.data.Dataset.from_tensor_slices((X_train, Y_train)).batch(64)\n",
    "test_dataset = tf.data.Dataset.from_tensor_slices((X_test, Y_test)).batch(64)"
   ]
  },
  {
   "cell_type": "code",
   "execution_count": 30,
   "id": "1665200c",
   "metadata": {},
   "outputs": [],
   "source": [
    "history = conv_model.fit(train_dataset, epochs=100, validation_data=test_dataset, verbose=0)"
   ]
  },
  {
   "cell_type": "code",
   "execution_count": 31,
   "id": "b0f7602f",
   "metadata": {},
   "outputs": [
    {
     "data": {
      "text/plain": [
       "{'loss': [1.8147211074829102,\n",
       "  1.789671778678894,\n",
       "  1.7846516370773315,\n",
       "  1.7805933952331543,\n",
       "  1.7769083976745605,\n",
       "  1.7725597620010376,\n",
       "  1.76730215549469,\n",
       "  1.760392189025879,\n",
       "  1.7519018650054932,\n",
       "  1.7412971258163452,\n",
       "  1.7285187244415283,\n",
       "  1.7127206325531006,\n",
       "  1.6918550729751587,\n",
       "  1.66580331325531,\n",
       "  1.6353174448013306,\n",
       "  1.5977866649627686,\n",
       "  1.558398962020874,\n",
       "  1.5224937200546265,\n",
       "  1.4812568426132202,\n",
       "  1.4469587802886963,\n",
       "  1.4094620943069458,\n",
       "  1.3726166486740112,\n",
       "  1.3373210430145264,\n",
       "  1.300590991973877,\n",
       "  1.2713000774383545,\n",
       "  1.2455179691314697,\n",
       "  1.2194443941116333,\n",
       "  1.192753791809082,\n",
       "  1.167678713798523,\n",
       "  1.1450551748275757,\n",
       "  1.1229324340820312,\n",
       "  1.102942943572998,\n",
       "  1.082645058631897,\n",
       "  1.0640301704406738,\n",
       "  1.045249581336975,\n",
       "  1.0266189575195312,\n",
       "  1.0081127882003784,\n",
       "  0.9928673505783081,\n",
       "  0.9762894511222839,\n",
       "  0.9608367085456848,\n",
       "  0.9437295198440552,\n",
       "  0.9303188920021057,\n",
       "  0.9152828454971313,\n",
       "  0.9024571776390076,\n",
       "  0.8877279162406921,\n",
       "  0.8754704594612122,\n",
       "  0.8625040054321289,\n",
       "  0.8496506214141846,\n",
       "  0.8372615575790405,\n",
       "  0.8253647685050964,\n",
       "  0.8135327696800232,\n",
       "  0.801904022693634,\n",
       "  0.7909001111984253,\n",
       "  0.779159665107727,\n",
       "  0.7678000926971436,\n",
       "  0.7569627165794373,\n",
       "  0.746627688407898,\n",
       "  0.736214816570282,\n",
       "  0.7261192798614502,\n",
       "  0.7163427472114563,\n",
       "  0.7074546813964844,\n",
       "  0.6977431774139404,\n",
       "  0.6887232065200806,\n",
       "  0.6793965101242065,\n",
       "  0.6705069541931152,\n",
       "  0.661598265171051,\n",
       "  0.6528355479240417,\n",
       "  0.6440268158912659,\n",
       "  0.6355083584785461,\n",
       "  0.6272984147071838,\n",
       "  0.6192027926445007,\n",
       "  0.6109550595283508,\n",
       "  0.6031542420387268,\n",
       "  0.5952898859977722,\n",
       "  0.5869208574295044,\n",
       "  0.5789662599563599,\n",
       "  0.5713220834732056,\n",
       "  0.5641255974769592,\n",
       "  0.5568538904190063,\n",
       "  0.5497455596923828,\n",
       "  0.542846143245697,\n",
       "  0.5354134440422058,\n",
       "  0.5282884240150452,\n",
       "  0.5213674306869507,\n",
       "  0.514933168888092,\n",
       "  0.5085026621818542,\n",
       "  0.5015715956687927,\n",
       "  0.4954499304294586,\n",
       "  0.4899581968784332,\n",
       "  0.48291513323783875,\n",
       "  0.4771682322025299,\n",
       "  0.47136688232421875,\n",
       "  0.46487224102020264,\n",
       "  0.4598904848098755,\n",
       "  0.45355620980262756,\n",
       "  0.4479745328426361,\n",
       "  0.443220853805542,\n",
       "  0.43705201148986816,\n",
       "  0.4315433204174042,\n",
       "  0.4265984892845154],\n",
       " 'accuracy': [0.17685185372829437,\n",
       "  0.21203704178333282,\n",
       "  0.21759259700775146,\n",
       "  0.2527777850627899,\n",
       "  0.2657407522201538,\n",
       "  0.2944444417953491,\n",
       "  0.31111112236976624,\n",
       "  0.3351851999759674,\n",
       "  0.35277777910232544,\n",
       "  0.3620370328426361,\n",
       "  0.38333332538604736,\n",
       "  0.385185182094574,\n",
       "  0.4037036895751953,\n",
       "  0.3907407522201538,\n",
       "  0.41111111640930176,\n",
       "  0.42129629850387573,\n",
       "  0.44999998807907104,\n",
       "  0.4453703761100769,\n",
       "  0.46203702688217163,\n",
       "  0.4740740656852722,\n",
       "  0.48148149251937866,\n",
       "  0.49074074625968933,\n",
       "  0.5120370388031006,\n",
       "  0.5324074029922485,\n",
       "  0.539814829826355,\n",
       "  0.5425925850868225,\n",
       "  0.5453703999519348,\n",
       "  0.5583333373069763,\n",
       "  0.5657407641410828,\n",
       "  0.5666666626930237,\n",
       "  0.5768518447875977,\n",
       "  0.5796296000480652,\n",
       "  0.5879629850387573,\n",
       "  0.5944444537162781,\n",
       "  0.5981481671333313,\n",
       "  0.6074073910713196,\n",
       "  0.6185185313224792,\n",
       "  0.6268518567085266,\n",
       "  0.6370370388031006,\n",
       "  0.6425926089286804,\n",
       "  0.6481481194496155,\n",
       "  0.6537036895751953,\n",
       "  0.6583333611488342,\n",
       "  0.6629629731178284,\n",
       "  0.6712962985038757,\n",
       "  0.6805555820465088,\n",
       "  0.6851851940155029,\n",
       "  0.6907407641410828,\n",
       "  0.699999988079071,\n",
       "  0.7083333134651184,\n",
       "  0.7138888835906982,\n",
       "  0.7222222089767456,\n",
       "  0.7240740656852722,\n",
       "  0.7287036776542664,\n",
       "  0.7351852059364319,\n",
       "  0.7379629611968994,\n",
       "  0.7388888597488403,\n",
       "  0.7444444298744202,\n",
       "  0.7481481432914734,\n",
       "  0.7490741014480591,\n",
       "  0.7518518567085266,\n",
       "  0.7583333253860474,\n",
       "  0.7620370388031006,\n",
       "  0.7666666507720947,\n",
       "  0.7712963223457336,\n",
       "  0.7768518328666687,\n",
       "  0.7814815044403076,\n",
       "  0.7833333611488342,\n",
       "  0.7842592597007751,\n",
       "  0.7870370149612427,\n",
       "  0.7907407283782959,\n",
       "  0.7953703999519348,\n",
       "  0.800000011920929,\n",
       "  0.8046296238899231,\n",
       "  0.8101851940155029,\n",
       "  0.8101851940155029,\n",
       "  0.8148148059844971,\n",
       "  0.8175926208496094,\n",
       "  0.8166666626930237,\n",
       "  0.824999988079071,\n",
       "  0.8277778029441833,\n",
       "  0.8287037014961243,\n",
       "  0.8333333134651184,\n",
       "  0.8379629850387573,\n",
       "  0.8416666388511658,\n",
       "  0.8425925970077515,\n",
       "  0.8462963104248047,\n",
       "  0.845370352268219,\n",
       "  0.8490740656852722,\n",
       "  0.8490740656852722,\n",
       "  0.8509259223937988,\n",
       "  0.8537036776542664,\n",
       "  0.8518518805503845,\n",
       "  0.854629635810852,\n",
       "  0.8574073910713196,\n",
       "  0.8583333492279053,\n",
       "  0.8592592477798462,\n",
       "  0.8629629611968994,\n",
       "  0.8666666746139526,\n",
       "  0.8666666746139526],\n",
       " 'val_loss': [1.7873733043670654,\n",
       "  1.78231680393219,\n",
       "  1.7787201404571533,\n",
       "  1.775329828262329,\n",
       "  1.7717187404632568,\n",
       "  1.7666442394256592,\n",
       "  1.7607262134552002,\n",
       "  1.7526588439941406,\n",
       "  1.742651104927063,\n",
       "  1.7303379774093628,\n",
       "  1.7155818939208984,\n",
       "  1.6965550184249878,\n",
       "  1.6708544492721558,\n",
       "  1.64090895652771,\n",
       "  1.6027722358703613,\n",
       "  1.5651805400848389,\n",
       "  1.5312962532043457,\n",
       "  1.4958468675613403,\n",
       "  1.4637508392333984,\n",
       "  1.433430790901184,\n",
       "  1.4016162157058716,\n",
       "  1.375268578529358,\n",
       "  1.3453044891357422,\n",
       "  1.320776104927063,\n",
       "  1.2999649047851562,\n",
       "  1.2781367301940918,\n",
       "  1.257287859916687,\n",
       "  1.237036943435669,\n",
       "  1.2165542840957642,\n",
       "  1.2000283002853394,\n",
       "  1.1827198266983032,\n",
       "  1.1670069694519043,\n",
       "  1.1513882875442505,\n",
       "  1.1356921195983887,\n",
       "  1.1211450099945068,\n",
       "  1.104870319366455,\n",
       "  1.0915322303771973,\n",
       "  1.075848937034607,\n",
       "  1.0629477500915527,\n",
       "  1.0508540868759155,\n",
       "  1.0380529165267944,\n",
       "  1.0265345573425293,\n",
       "  1.0153045654296875,\n",
       "  1.0034679174423218,\n",
       "  0.9920940399169922,\n",
       "  0.980743944644928,\n",
       "  0.9698182940483093,\n",
       "  0.9586248993873596,\n",
       "  0.9486715793609619,\n",
       "  0.9377485513687134,\n",
       "  0.9274395704269409,\n",
       "  0.9187240600585938,\n",
       "  0.9087493419647217,\n",
       "  0.8992379903793335,\n",
       "  0.890487015247345,\n",
       "  0.8818635940551758,\n",
       "  0.8739107251167297,\n",
       "  0.8652305603027344,\n",
       "  0.8566887378692627,\n",
       "  0.8496732115745544,\n",
       "  0.8416970372200012,\n",
       "  0.834225594997406,\n",
       "  0.8273524641990662,\n",
       "  0.8208619356155396,\n",
       "  0.8128687739372253,\n",
       "  0.8058874011039734,\n",
       "  0.7997814416885376,\n",
       "  0.7936750054359436,\n",
       "  0.7882764339447021,\n",
       "  0.7828866839408875,\n",
       "  0.7771902680397034,\n",
       "  0.7710158824920654,\n",
       "  0.7648025751113892,\n",
       "  0.7604004144668579,\n",
       "  0.7521907687187195,\n",
       "  0.7481892108917236,\n",
       "  0.7417957186698914,\n",
       "  0.737848162651062,\n",
       "  0.7311983704566956,\n",
       "  0.7270417809486389,\n",
       "  0.7219799160957336,\n",
       "  0.7166895270347595,\n",
       "  0.7096859216690063,\n",
       "  0.7059469819068909,\n",
       "  0.7010953426361084,\n",
       "  0.6939905881881714,\n",
       "  0.690010666847229,\n",
       "  0.6842091679573059,\n",
       "  0.6806104183197021,\n",
       "  0.6758819818496704,\n",
       "  0.670854926109314,\n",
       "  0.6649522185325623,\n",
       "  0.6624169945716858,\n",
       "  0.6597180962562561,\n",
       "  0.6526326537132263,\n",
       "  0.6479647159576416,\n",
       "  0.644690215587616,\n",
       "  0.6367995142936707,\n",
       "  0.6326166391372681,\n",
       "  0.6276577711105347],\n",
       " 'val_accuracy': [0.21666666865348816,\n",
       "  0.3166666626930237,\n",
       "  0.25833332538604736,\n",
       "  0.3583333194255829,\n",
       "  0.3583333194255829,\n",
       "  0.34166666865348816,\n",
       "  0.34166666865348816,\n",
       "  0.3583333194255829,\n",
       "  0.38333332538604736,\n",
       "  0.36666667461395264,\n",
       "  0.375,\n",
       "  0.375,\n",
       "  0.4166666567325592,\n",
       "  0.42500001192092896,\n",
       "  0.4166666567325592,\n",
       "  0.4416666626930237,\n",
       "  0.44999998807907104,\n",
       "  0.4749999940395355,\n",
       "  0.4749999940395355,\n",
       "  0.4833333194255829,\n",
       "  0.5,\n",
       "  0.4833333194255829,\n",
       "  0.5083333253860474,\n",
       "  0.5249999761581421,\n",
       "  0.5,\n",
       "  0.49166667461395264,\n",
       "  0.5083333253860474,\n",
       "  0.5,\n",
       "  0.5249999761581421,\n",
       "  0.5333333611488342,\n",
       "  0.5333333611488342,\n",
       "  0.5416666865348816,\n",
       "  0.5416666865348816,\n",
       "  0.5416666865348816,\n",
       "  0.5416666865348816,\n",
       "  0.550000011920929,\n",
       "  0.5583333373069763,\n",
       "  0.5583333373069763,\n",
       "  0.550000011920929,\n",
       "  0.550000011920929,\n",
       "  0.5666666626930237,\n",
       "  0.5666666626930237,\n",
       "  0.5666666626930237,\n",
       "  0.5916666388511658,\n",
       "  0.5916666388511658,\n",
       "  0.6166666746139526,\n",
       "  0.625,\n",
       "  0.6333333253860474,\n",
       "  0.6416666507720947,\n",
       "  0.6416666507720947,\n",
       "  0.6416666507720947,\n",
       "  0.6416666507720947,\n",
       "  0.6499999761581421,\n",
       "  0.6499999761581421,\n",
       "  0.6499999761581421,\n",
       "  0.6499999761581421,\n",
       "  0.6499999761581421,\n",
       "  0.6583333611488342,\n",
       "  0.6583333611488342,\n",
       "  0.6583333611488342,\n",
       "  0.6583333611488342,\n",
       "  0.6583333611488342,\n",
       "  0.6666666865348816,\n",
       "  0.6666666865348816,\n",
       "  0.6666666865348816,\n",
       "  0.6666666865348816,\n",
       "  0.675000011920929,\n",
       "  0.675000011920929,\n",
       "  0.6916666626930237,\n",
       "  0.6916666626930237,\n",
       "  0.6916666626930237,\n",
       "  0.6916666626930237,\n",
       "  0.699999988079071,\n",
       "  0.699999988079071,\n",
       "  0.699999988079071,\n",
       "  0.7083333134651184,\n",
       "  0.7083333134651184,\n",
       "  0.7250000238418579,\n",
       "  0.7250000238418579,\n",
       "  0.7250000238418579,\n",
       "  0.7166666388511658,\n",
       "  0.7166666388511658,\n",
       "  0.7250000238418579,\n",
       "  0.7250000238418579,\n",
       "  0.7250000238418579,\n",
       "  0.7250000238418579,\n",
       "  0.7416666746139526,\n",
       "  0.7333333492279053,\n",
       "  0.7333333492279053,\n",
       "  0.7333333492279053,\n",
       "  0.75,\n",
       "  0.75,\n",
       "  0.75,\n",
       "  0.75,\n",
       "  0.7583333253860474,\n",
       "  0.7583333253860474,\n",
       "  0.7666666507720947,\n",
       "  0.7666666507720947,\n",
       "  0.7749999761581421,\n",
       "  0.7749999761581421]}"
      ]
     },
     "execution_count": 31,
     "metadata": {},
     "output_type": "execute_result"
    }
   ],
   "source": [
    "history.history"
   ]
  },
  {
   "cell_type": "code",
   "execution_count": 34,
   "id": "1790c5dd",
   "metadata": {
    "scrolled": false
   },
   "outputs": [
    {
     "name": "stderr",
     "output_type": "stream",
     "text": [
      "C:\\Users\\izhar\\AppData\\Local\\Temp\\ipykernel_8760\\811792313.py:5: SettingWithCopyWarning: \n",
      "A value is trying to be set on a copy of a slice from a DataFrame\n",
      "\n",
      "See the caveats in the documentation: https://pandas.pydata.org/pandas-docs/stable/user_guide/indexing.html#returning-a-view-versus-a-copy\n",
      "  df_loss.rename(columns={'loss': 'train', 'val_loss': 'validation'}, inplace=True)\n",
      "C:\\Users\\izhar\\AppData\\Local\\Temp\\ipykernel_8760\\811792313.py:9: SettingWithCopyWarning: \n",
      "A value is trying to be set on a copy of a slice from a DataFrame\n",
      "\n",
      "See the caveats in the documentation: https://pandas.pydata.org/pandas-docs/stable/user_guide/indexing.html#returning-a-view-versus-a-copy\n",
      "  df_acc.rename(columns={'accuracy': 'train', 'val_accuracy': 'validation'}, inplace=True)\n"
     ]
    },
    {
     "data": {
      "image/png": "[encoded data removed]",
      "text/plain": [
       "<Figure size 1600x500 with 2 Axes>"
      ]
     },
     "metadata": {},
     "output_type": "display_data"
    }
   ],
   "source": [
    "df_loss_acc = pd.DataFrame(history.history)\n",
    "\n",
    "# Prepare loss DataFrame\n",
    "df_loss = df_loss_acc[['loss', 'val_loss']]\n",
    "df_loss.rename(columns={'loss': 'train', 'val_loss': 'validation'}, inplace=True)\n",
    "\n",
    "# Prepare accuracy DataFrame\n",
    "df_acc = df_loss_acc[['accuracy', 'val_accuracy']]\n",
    "df_acc.rename(columns={'accuracy': 'train', 'val_accuracy': 'validation'}, inplace=True)\n",
    "\n",
    "# Create subplots\n",
    "fig, axes = plt.subplots(nrows=1, ncols=2, figsize=(16, 5))\n",
    "\n",
    "# Plot loss\n",
    "df_loss.plot(ax=axes[0], title='Model Loss')\n",
    "axes[0].set_xlabel('Epoch')\n",
    "axes[0].set_ylabel('Loss')\n",
    "\n",
    "# Plot accuracy\n",
    "df_acc.plot(ax=axes[1], title='Model Accuracy')\n",
    "axes[1].set_xlabel('Epoch')\n",
    "axes[1].set_ylabel('Accuracy')\n",
    "\n",
    "# Show the plot\n",
    "plt.show()"
   ]
  }
 ],
 "metadata": {
  "kernelspec": {
   "display_name": "Data Mining (venv)",
   "language": "python",
   "name": "venv"
  },
  "language_info": {
   "codemirror_mode": {
    "name": "ipython",
    "version": 3
   },
   "file_extension": ".py",
   "mimetype": "text/x-python",
   "name": "python",
   "nbconvert_exporter": "python",
   "pygments_lexer": "ipython3",
   "version": "3.11.0"
  }
 },
 "nbformat": 4,
 "nbformat_minor": 5
}
