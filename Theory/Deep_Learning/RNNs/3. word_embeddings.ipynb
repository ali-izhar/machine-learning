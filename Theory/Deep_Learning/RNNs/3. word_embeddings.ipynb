{
 "cells": [
  {
   "cell_type": "markdown",
   "id": "4db3a2bb",
   "metadata": {},
   "source": [
    "# Natural Language Processing\n",
    "<hr>\n",
    "\n",
    "In language modeling, we have seen that we can represent words from a dictionary as vectors using one-hot encoding where all components are zero except for one.\n",
    "\n",
    "<br>\n",
    "\n",
    "<div style=\"text-align:center\">\n",
    "    <img src=\"images/words-one-hot.png\" width=500>\n",
    "    <caption><center><font color=\"purple\">One-hot vectors</font></center></caption>\n",
    "</div>\n",
    "\n",
    "The advantage of such an encoding is that the calculation of a word vector and looking up a word given its vector is easy. On the other hand, this form of encoding does not contain any information about the relationships of words between each other. An alternative sort of word vectors are word embeddings. In such vectors, each component of a vector reflects a different feature of a word meaning (e.g. age, sex, food/non-food, word type, etc,.). Therefore the components can all have non-null values. Words that are semantically similar have similar values in the individual components. For visualization we could also reduce dimensionality to two (or three) dimensions, e.g. by applying the [t-SNE algorithm](https://jmlr.org/papers/volume9/vandermaaten08a/vandermaaten08a.pdf). By doing so, it turns out that words with similar meanings are in similar positions in vector space.\n",
    "\n",
    "<br>\n",
    "\n",
    "<div style=\"text-align:center\">\n",
    "    <img src=\"images/vector-space.png\" width=300>\n",
    "    <caption><center><font color=\"purple\">Words in a vector space</font></center></caption>\n",
    "</div>\n",
    "\n"
   ]
  },
  {
   "cell_type": "code",
   "execution_count": null,
   "id": "a3c0f8ee",
   "metadata": {},
   "outputs": [],
   "source": []
  },
  {
   "cell_type": "code",
   "execution_count": null,
   "id": "4f77f8dd",
   "metadata": {},
   "outputs": [],
   "source": []
  },
  {
   "cell_type": "code",
   "execution_count": null,
   "id": "f9e97a1a",
   "metadata": {},
   "outputs": [],
   "source": []
  },
  {
   "cell_type": "code",
   "execution_count": null,
   "id": "438d7095",
   "metadata": {},
   "outputs": [],
   "source": []
  }
 ],
 "metadata": {
  "kernelspec": {
   "display_name": "Data Mining (venv)",
   "language": "python",
   "name": "venv"
  },
  "language_info": {
   "codemirror_mode": {
    "name": "ipython",
    "version": 3
   },
   "file_extension": ".py",
   "mimetype": "text/x-python",
   "name": "python",
   "nbconvert_exporter": "python",
   "pygments_lexer": "ipython3",
   "version": "3.11.0"
  }
 },
 "nbformat": 4,
 "nbformat_minor": 5
}
