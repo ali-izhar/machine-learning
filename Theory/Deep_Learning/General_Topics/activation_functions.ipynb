{
 "cells": [
  {
   "cell_type": "markdown",
   "id": "576d32db",
   "metadata": {},
   "source": [
    "# Activation Function\n",
    "Activation functions introduce non-linearity into neural networks, transforming the weighted sum of inputs and bias. \n",
    "\n",
    "| Activation Function | Equation | Derivative | Keypoints |\n",
    "| --- | -- | --- | --- |\n",
    "| Sigmoid | $σ(x) = 1 / (1 + e^{-x})$ | $σ'(x) = σ(x)(1 - σ(x))$ | Saturated neurons \"kill\" the gradient; Sigmoid outputs are not zero-centered; Exponentials are computationally expensive |\n",
    "| ReLU | $f(x) = max(0,x)$ | $f'(x) = 1$ if $x \\geq 0$ and $f'(x) = 0$ if $x < 0$ | ReLU neurons can \"die\" during training; Does not saturate in the + region; ReLU outputs are zero-centered |\n",
    "| Leaky ReLU | $f(x) = max(0.01x,x)$ | $f'(x) = 1$ if $x \\geq 0$ and $f'(x) = 0.01$ if $x < 0$ | Leaky ReLU prevents neurons from dying; Leaky ReLU outputs are zero-centered |\n",
    "| PReLU | $f(x) = max(\\alpha x,x)$ | $f'(x) = 1$ if $x \\geq 0$ and $f'(x) = \\alpha$ if $x < 0$ | PReLU prevents neurons from dying; PReLU outputs are zero-centered |\n",
    "| ELU | $f(x) = max(\\alpha(e^x - 1),x)$ | $f'(x) = 1$ if $x \\geq 0$ and $f'(x) = f(x) + \\alpha$ if $x < 0$ | ELU (exponential linear units) prevents neurons from dying; ELU outputs are zero-centered |\n",
    "| TanH | $tanh(x) = \\frac{e^x - e^{-x}}{e^x + e^{-x}}$ | $tanh'(x) = 1 - tanh^2(x)$ | TanH is a scaled version of the sigmoid function; TanH outputs are zero-centered | Squishes outputs to the range (-1,1) |\n",
    "| Maxout | $f(x) = max(w_1^T x + b_1, w_2^T x + b_2)$ | $f'(x) = w_1$ if $w_1^T x + b_1 > w_2^T x + b_2$ and $f'(x) = w_2$ if $w_1^T x + b_1 < w_2^T x + b_2$ | Maxout is a generalization of ReLU and Leaky ReLU; Maxout doubles the number of parameters per neuron |\n",
    "\n",
    "\n",
    "## Choosing the Right Activation Function\n",
    "Selecting the appropriate activation function depends on the nature of the problem and the type of output you're predicting.\n",
    "\n",
    "For the **output layer:**\n",
    "\n",
    "- **Sigmoid** is best for binary classification tasks due to its probability interpretation.\n",
    "- **Linear activation** is suitable for tasks like predicting stock prices, which can take on any real number (positive or negative).\n",
    "- **ReLU** is ideal for predicting values that are always non-negative, such as house prices.\n",
    "- **TanH** is a good choice for multi-class classification tasks.\n",
    "\n",
    "For **hidden layers, ReLU** is the most commonly used due to its ability to speed up computation and learning by enabling sparse activation.\n",
    "\n",
    "## Need for Activation Functions\n",
    "Activation functions are crucial in neural networks to introduce non-linearity, enabling them to learn from complex data patterns. If every neuron in a neural network were to use a linear activation function, the network would function like linear regression. Regardless of the network's depth, it could only fit linear relationships in data, limiting its utility. \n",
    "\n",
    "Let's simplify this concept with a one-hidden-unit network example. If a linear function is used everywhere, the output becomes a linear function of the input, equivalent to using a simple linear regression model.\n",
    "\n",
    "This limitation arises from the fact that the composition of linear functions is also a linear function. Therefore, a multilayer neural network employing linear activation functions would equate to linear or logistic regression, depending on the output layer function. This would prevent the network from learning complex features and diminish the benefit of multiple layers. Therefore, it's advised not to use linear activation functions in hidden layers. The Rectified Linear Unit (ReLU) is a commonly recommended alternative for hidden layers. Activation functions other than linear ones enable neural networks to tackle a wider range of problems, including binary classification, regression, and multi-category classification."
   ]
  },
  {
   "cell_type": "code",
   "execution_count": null,
   "id": "8b7c548a",
   "metadata": {},
   "outputs": [],
   "source": []
  }
 ],
 "metadata": {
  "kernelspec": {
   "display_name": "Data Mining (venv)",
   "language": "python",
   "name": "venv"
  },
  "language_info": {
   "codemirror_mode": {
    "name": "ipython",
    "version": 3
   },
   "file_extension": ".py",
   "mimetype": "text/x-python",
   "name": "python",
   "nbconvert_exporter": "python",
   "pygments_lexer": "ipython3",
   "version": "3.11.0"
  }
 },
 "nbformat": 4,
 "nbformat_minor": 5
}
