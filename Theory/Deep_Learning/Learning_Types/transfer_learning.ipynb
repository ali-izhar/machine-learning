{
 "cells": [
  {
   "cell_type": "markdown",
   "id": "9ed0ba66",
   "metadata": {},
   "source": [
    "# 1 - Transfer Learning\n",
    "\n",
    "<hr>\n",
    "\n",
    "It can take weeks to train a neural network on large datasets. Luckily, this time can be shortened thanks to model weights from pre-trained models - in other words, applying **transfer learning.**\n",
    "\n",
    "## 1.1 - What is Transfer Learning?\n",
    "\n",
    "<font color=\"red\">Transfer learning is about leveraging feature representations from a pre-trained model, so you don't have to train a new model from scratch.</font>\n",
    "\n",
    "- The pre-trained models are usually trained on massive datasets that are a standard benchmark. The weights obtained from the models can be reused in other similar tasks. \n",
    "\n",
    "- These models can be used directly in making predictions on new tasks or integrated into the process of training a new model. Including the pre-trained models in a new model leads to lower training time and lower generalization error.  \n",
    "\n",
    "- Transfer learning is particularly very useful when you have a small training dataset. In this case, you can, for example, use the weights from the pre-trained models to initialize the weights of the new model.\n",
    "\n",
    "The advantage of pre-trained models is that they are generic enough for use in other real-world applications. For example:\n",
    "\n",
    "- **models trained on the ImageNet** can be used in real-world image classification problems. This is because the dataset contains over 1000 classes. Let's say you are an insect researcher. You can use these models and fine-tune them to classify insects. \n",
    "\n",
    "- **classifying text requires knowledge of word representations** in some vector space. You can train vector representations yourself. The challenge here is that you might not have enough data to train the embeddings. Furthermore, training will take a long time. In this case, you can use a pre-trained word embedding like `GloVe` to hasten your development process.\n",
    "\n",
    "## 1.2 - Why use transfer learning?\n",
    "\n",
    "Assuming you have 100 images of cats and 100 dogs and want to build a model to classify the images. How would you train a model using this small dataset? You can train your model from scratch, but it will most likely overfit horribly. Enter transfer learning. Generally speaking, there are two big reasons why you want to use transfer learning:\n",
    "\n",
    "- **training models with high accuracy requires a lot of data.** For example, the ImageNet dataset contains over 1 million images. In the real world, you are unlikely to have such a large dataset. \n",
    "\n",
    "- assuming that you had that kind of dataset, you might still **not have the resources required to train a model** on such a large dataset. Hence transfer learning makes a lot of sense if you don't have the compute resources needed to train models on huge datasets.\n",
    "\n",
    "- even if you had the compute resources at your disposal, you still have to **wait for days or weeks to train such a model.** Therefore using a pre-trained model will save you precious time.\n",
    "\n",
    "## 1.3 - When does transfer learning not work?\n",
    "\n",
    "Transfer learning will not work when the high-level features learned by the bottom layers are not sufficient to differentiate the classes in your problem. For example, a pre-trained model may be very good at identifying a door but not whether a door is closed or open. In this case, you can use the low-level features (of the pre-trained network) instead of the high-level features. In this case, you will have to retrain more layers of the model or use features from earlier layers. \n",
    "\n",
    "When datasets are not similar, features transfer poorly. This [paper](https://arxiv.org/pdf/1411.1792.pdf) investigates the similarity of datasets in more detail. That said, as shown in the paper, initializing the network with pre-trained weights results in better performance than using random weights. \n",
    "\n",
    "You might find yourself in a situation where you consider the removal of some layers from the pre-trained model. Transfer learning is unlikely to work in such an event. This is because removing layers reduces the number of trainable parameters, which can result in overfitting. Furthermore, determining the correct number of layers to remove without overfitting is a cumbersome and time-consuming process. \n",
    "\n",
    "## 1.4 - How to implement transfer learning?\n",
    "\n",
    "You can implement transfer learning in these six general steps.\n",
    "\n",
    "### 1.4.1 - Obtain the pre-trained model\n",
    "The first step is to get the pre-trained model that you would like to use for your problem.\n",
    "\n",
    "### 1.4.2 - Create a base model\n",
    "Usually, the first step is to instantiate the base model using one of the architectures such as `ResNet`. You can also optionally download the pre-trained weights. If you don't download the weights, you will have to use the architecture to train your model from scratch. Recall that the base model will usually have more units in the final output layer than you require. When creating the base model, you, therefore, have to remove the final output layer. Later on, you will add a final output layer that is compatible with your problem. \n",
    "\n",
    "### 1.4.3 - Freeze layers so they don't change during training\n",
    "Freezing the layers from the pre-trained model is vital. This is because you don't want the weights in those layers to be re-initialized. If they are, then you will lose all the learning that has already taken place. This will be no different from training the model from scratch.\n",
    "\n",
    "### 1.4.4 - Add new trainable layers \n",
    "The next step is to add new trainable layers that will turn old features into predictions on the new dataset. This is important because the pre-trained model is loaded without the final output layer. \n",
    "\n",
    "### 1.4.5 - Train the new layers on the dataset\n",
    "Remember that the pre-trained model's final output will most likely be different from the output that you want for your model. For example, pre-trained models trained on the ImageNet dataset will output 1000 classes. However, your model might just have two classes. In this case, you have to train the model with a new output layer in place. Therefore, you will add some new dense layers as you please, but most importantly, a final dense layer with units corresponding to the number of outputs expected by your model. \n",
    "\n",
    "### 1.4.6 - Improve the model via fine-tuning\n",
    "Once you have done the previous step, you will have a model that can make predictions on your dataset. Optionally, you can improve its performance through fine-tuning. Fine-tuning is done by unfreezing the base model or part of it and training the entire model again on the whole dataset at a very low learning rate. The low learning rate will increase the performance of the model on the new dataset while preventing overfitting. The learning rate has to be low because the model is quite large while the dataset is small. This is a recipe for overfitting, hence the low learning rate. Recompile the model once you have made these changes so that they can take effect. This is because the behavior of a model is frozen whenever you call the compile function. That means that you have to call the compile function again whenever you want to change the model's behavior. The next step will be to train the model again while monitoring it via callbacks to ensure it does not overfit."
   ]
  },
  {
   "cell_type": "markdown",
   "id": "cb9f4b1c",
   "metadata": {},
   "source": [
    "<font color=\"purple\">Below are 2 renditions of the same notebook to illustrate different factors that affect the learning. Explain where the differences are that make the loss plot different between the two.</font>\n",
    "\n",
    "[NEU Dataset](https://github.com/smahesh2694/NEU_XAI)"
   ]
  },
  {
   "cell_type": "code",
   "execution_count": 1,
   "id": "5dfe1dd3",
   "metadata": {},
   "outputs": [],
   "source": [
    "import os\n",
    "import copy\n",
    "import cv2\n",
    "import matplotlib.pyplot as plt\n",
    "import numpy as np\n",
    "from PIL import Image\n",
    "\n",
    "import torch\n",
    "import torch.nn as nn\n",
    "import torchvision.models as models\n",
    "\n",
    "from torchinfo import summary\n",
    "from torchvision import transforms\n",
    "from torch.utils.data import random_split, DataLoader\n",
    "from torchvision.datasets import DatasetFolder"
   ]
  },
  {
   "cell_type": "code",
   "execution_count": 2,
   "id": "643d5d5f",
   "metadata": {},
   "outputs": [],
   "source": [
    "def load_image(img_path):\n",
    "    np_img = cv2.imread(img_path)\n",
    "    return Image.fromarray(np_img)"
   ]
  },
  {
   "cell_type": "code",
   "execution_count": 3,
   "id": "cb5bf1f0",
   "metadata": {},
   "outputs": [],
   "source": [
    "# We need to write a transform to make dataset compatible with resnet18 (size 224x224x3, and type tensor)\n",
    "transform = transforms.Compose([\n",
    "    transforms.Resize(256),\n",
    "    transforms.CenterCrop(224),\n",
    "    transforms.ToTensor(),\n",
    "    transforms.Normalize(\n",
    "        mean=[0.485, 0.456, 0.406],\n",
    "        std=[0.229, 0.224, 0.225])\n",
    "])"
   ]
  },
  {
   "cell_type": "code",
   "execution_count": 4,
   "id": "0e87cf0e",
   "metadata": {},
   "outputs": [],
   "source": [
    "# NEUdata has 6 folders each containing 300 bmp files\n",
    "dset = DatasetFolder(root='NEUdata', loader=load_image, extensions=('.bmp',), transform=transform)"
   ]
  },
  {
   "cell_type": "code",
   "execution_count": 5,
   "id": "f767ff7e",
   "metadata": {},
   "outputs": [
    {
     "data": {
      "text/plain": [
       "1800"
      ]
     },
     "execution_count": 5,
     "metadata": {},
     "output_type": "execute_result"
    }
   ],
   "source": [
    "len(dset)"
   ]
  },
  {
   "cell_type": "code",
   "execution_count": 6,
   "id": "8294ee72",
   "metadata": {},
   "outputs": [],
   "source": [
    "train_set, val_set = random_split(dset, [1200, 600])\n",
    "\n",
    "trainloader = DataLoader(train_set, batch_size=16, shuffle=True)\n",
    "valloader = DataLoader(val_set, batch_size=16, shuffle=True)"
   ]
  },
  {
   "cell_type": "code",
   "execution_count": 7,
   "id": "ef72d0fb",
   "metadata": {},
   "outputs": [
    {
     "name": "stdout",
     "output_type": "stream",
     "text": [
      "75\n",
      "38\n"
     ]
    }
   ],
   "source": [
    "print(len(trainloader))\n",
    "# out: 1200 / 16 = 75\n",
    "\n",
    "print(len(valloader))\n",
    "# out: 600 / 16 = 37.5"
   ]
  },
  {
   "cell_type": "markdown",
   "id": "1001d525",
   "metadata": {},
   "source": [
    "# 2 - Transfer Learning with `resnet18`\n",
    "\n",
    "<hr>"
   ]
  },
  {
   "cell_type": "markdown",
   "id": "82954e24",
   "metadata": {},
   "source": [
    "### 2.1 - Approach 1\n",
    "\n",
    "- Utilizing ResNet-18 architecture **without pre-trained weights:**\n",
    "    - Training from scratch, no prior knowledge from pre-trained weights.\n",
    "    - Potentially higher initial error due to learning all features and weights without a starting base.\n",
    "\n",
    "- Employing a `LinearLR` scheduler for learning rate adjustment:\n",
    "    - Adjusts learning rate linearly from a start to an end factor over specified iterations.\n",
    "    - Aims for a balance between rapid learning and precise model convergence.\n",
    "    - Enhances training dynamics by initially capturing broad patterns then fine-tuning."
   ]
  },
  {
   "cell_type": "code",
   "execution_count": 8,
   "id": "4391a1f3",
   "metadata": {},
   "outputs": [
    {
     "data": {
      "text/plain": [
       "==========================================================================================\n",
       "Layer (type:depth-idx)                   Output Shape              Param #\n",
       "==========================================================================================\n",
       "ResNet                                   [16, 1000]                --\n",
       "+ Conv2d: 1-1                            [16, 64, 112, 112]        9,408\n",
       "+ BatchNorm2d: 1-2                       [16, 64, 112, 112]        128\n",
       "+ ReLU: 1-3                              [16, 64, 112, 112]        --\n",
       "+ MaxPool2d: 1-4                         [16, 64, 56, 56]          --\n",
       "+ Sequential: 1-5                        [16, 64, 56, 56]          --\n",
       "|    + BasicBlock: 2-1                   [16, 64, 56, 56]          --\n",
       "|    |    + Conv2d: 3-1                  [16, 64, 56, 56]          36,864\n",
       "|    |    + BatchNorm2d: 3-2             [16, 64, 56, 56]          128\n",
       "|    |    + ReLU: 3-3                    [16, 64, 56, 56]          --\n",
       "|    |    + Conv2d: 3-4                  [16, 64, 56, 56]          36,864\n",
       "|    |    + BatchNorm2d: 3-5             [16, 64, 56, 56]          128\n",
       "|    |    + ReLU: 3-6                    [16, 64, 56, 56]          --\n",
       "|    + BasicBlock: 2-2                   [16, 64, 56, 56]          --\n",
       "|    |    + Conv2d: 3-7                  [16, 64, 56, 56]          36,864\n",
       "|    |    + BatchNorm2d: 3-8             [16, 64, 56, 56]          128\n",
       "|    |    + ReLU: 3-9                    [16, 64, 56, 56]          --\n",
       "|    |    + Conv2d: 3-10                 [16, 64, 56, 56]          36,864\n",
       "|    |    + BatchNorm2d: 3-11            [16, 64, 56, 56]          128\n",
       "|    |    + ReLU: 3-12                   [16, 64, 56, 56]          --\n",
       "+ Sequential: 1-6                        [16, 128, 28, 28]         --\n",
       "|    + BasicBlock: 2-3                   [16, 128, 28, 28]         --\n",
       "|    |    + Conv2d: 3-13                 [16, 128, 28, 28]         73,728\n",
       "|    |    + BatchNorm2d: 3-14            [16, 128, 28, 28]         256\n",
       "|    |    + ReLU: 3-15                   [16, 128, 28, 28]         --\n",
       "|    |    + Conv2d: 3-16                 [16, 128, 28, 28]         147,456\n",
       "|    |    + BatchNorm2d: 3-17            [16, 128, 28, 28]         256\n",
       "|    |    + Sequential: 3-18             [16, 128, 28, 28]         8,448\n",
       "|    |    + ReLU: 3-19                   [16, 128, 28, 28]         --\n",
       "|    + BasicBlock: 2-4                   [16, 128, 28, 28]         --\n",
       "|    |    + Conv2d: 3-20                 [16, 128, 28, 28]         147,456\n",
       "|    |    + BatchNorm2d: 3-21            [16, 128, 28, 28]         256\n",
       "|    |    + ReLU: 3-22                   [16, 128, 28, 28]         --\n",
       "|    |    + Conv2d: 3-23                 [16, 128, 28, 28]         147,456\n",
       "|    |    + BatchNorm2d: 3-24            [16, 128, 28, 28]         256\n",
       "|    |    + ReLU: 3-25                   [16, 128, 28, 28]         --\n",
       "+ Sequential: 1-7                        [16, 256, 14, 14]         --\n",
       "|    + BasicBlock: 2-5                   [16, 256, 14, 14]         --\n",
       "|    |    + Conv2d: 3-26                 [16, 256, 14, 14]         294,912\n",
       "|    |    + BatchNorm2d: 3-27            [16, 256, 14, 14]         512\n",
       "|    |    + ReLU: 3-28                   [16, 256, 14, 14]         --\n",
       "|    |    + Conv2d: 3-29                 [16, 256, 14, 14]         589,824\n",
       "|    |    + BatchNorm2d: 3-30            [16, 256, 14, 14]         512\n",
       "|    |    + Sequential: 3-31             [16, 256, 14, 14]         33,280\n",
       "|    |    + ReLU: 3-32                   [16, 256, 14, 14]         --\n",
       "|    + BasicBlock: 2-6                   [16, 256, 14, 14]         --\n",
       "|    |    + Conv2d: 3-33                 [16, 256, 14, 14]         589,824\n",
       "|    |    + BatchNorm2d: 3-34            [16, 256, 14, 14]         512\n",
       "|    |    + ReLU: 3-35                   [16, 256, 14, 14]         --\n",
       "|    |    + Conv2d: 3-36                 [16, 256, 14, 14]         589,824\n",
       "|    |    + BatchNorm2d: 3-37            [16, 256, 14, 14]         512\n",
       "|    |    + ReLU: 3-38                   [16, 256, 14, 14]         --\n",
       "+ Sequential: 1-8                        [16, 512, 7, 7]           --\n",
       "|    + BasicBlock: 2-7                   [16, 512, 7, 7]           --\n",
       "|    |    + Conv2d: 3-39                 [16, 512, 7, 7]           1,179,648\n",
       "|    |    + BatchNorm2d: 3-40            [16, 512, 7, 7]           1,024\n",
       "|    |    + ReLU: 3-41                   [16, 512, 7, 7]           --\n",
       "|    |    + Conv2d: 3-42                 [16, 512, 7, 7]           2,359,296\n",
       "|    |    + BatchNorm2d: 3-43            [16, 512, 7, 7]           1,024\n",
       "|    |    + Sequential: 3-44             [16, 512, 7, 7]           132,096\n",
       "|    |    + ReLU: 3-45                   [16, 512, 7, 7]           --\n",
       "|    + BasicBlock: 2-8                   [16, 512, 7, 7]           --\n",
       "|    |    + Conv2d: 3-46                 [16, 512, 7, 7]           2,359,296\n",
       "|    |    + BatchNorm2d: 3-47            [16, 512, 7, 7]           1,024\n",
       "|    |    + ReLU: 3-48                   [16, 512, 7, 7]           --\n",
       "|    |    + Conv2d: 3-49                 [16, 512, 7, 7]           2,359,296\n",
       "|    |    + BatchNorm2d: 3-50            [16, 512, 7, 7]           1,024\n",
       "|    |    + ReLU: 3-51                   [16, 512, 7, 7]           --\n",
       "+ AdaptiveAvgPool2d: 1-9                 [16, 512, 1, 1]           --\n",
       "+ Linear: 1-10                           [16, 1000]                513,000\n",
       "==========================================================================================\n",
       "Total params: 11,689,512\n",
       "Trainable params: 11,689,512\n",
       "Non-trainable params: 0\n",
       "Total mult-adds (Units.GIGABYTES): 29.03\n",
       "==========================================================================================\n",
       "Input size (MB): 9.63\n",
       "Forward/backward pass size (MB): 635.96\n",
       "Params size (MB): 46.76\n",
       "Estimated Total Size (MB): 692.35\n",
       "=========================================================================================="
      ]
     },
     "execution_count": 8,
     "metadata": {},
     "output_type": "execute_result"
    }
   ],
   "source": [
    "orig_model = models.resnet18()\n",
    "summary(orig_model, input_size=(16, 3, 224, 224), row_settings=(\"depth\", \"ascii_only\"))"
   ]
  },
  {
   "cell_type": "code",
   "execution_count": 9,
   "id": "bb904046",
   "metadata": {},
   "outputs": [],
   "source": [
    "# Create a deepcopy of the original model replacing the final layer for 6-classes instead of 1000\n",
    "alt_model = copy.deepcopy(orig_model)\n",
    "alt_model.fc = nn.Linear(512,6)"
   ]
  },
  {
   "cell_type": "code",
   "execution_count": 9,
   "id": "a0df38c2",
   "metadata": {},
   "outputs": [],
   "source": [
    "from torch import optim\n",
    "import torch.optim.lr_scheduler as lr_scheduler"
   ]
  },
  {
   "cell_type": "code",
   "execution_count": 10,
   "id": "701531fd",
   "metadata": {},
   "outputs": [
    {
     "name": "stdout",
     "output_type": "stream",
     "text": [
      "cuda\n"
     ]
    }
   ],
   "source": [
    "device = \"cuda\" if torch.cuda.is_available() else \"cpu\"\n",
    "print(device)"
   ]
  },
  {
   "cell_type": "code",
   "execution_count": 12,
   "id": "2a654640",
   "metadata": {},
   "outputs": [],
   "source": [
    "model = alt_model.to(device)\n",
    "criterion = nn.CrossEntropyLoss()\n",
    "optimizer = optim.SGD(model.parameters(), lr=0.001, momentum=0.9)\n",
    "scheduler = lr_scheduler.LinearLR(optimizer, start_factor=1.0, end_factor=0.25, total_iters=10)"
   ]
  },
  {
   "cell_type": "code",
   "execution_count": 14,
   "id": "7286d191",
   "metadata": {},
   "outputs": [
    {
     "name": "stdout",
     "output_type": "stream",
     "text": [
      "Epoch: 0 Train Loss: 1.4032520373662314 Val Loss: 1.139041913183112\n",
      "Epoch: 1 Train Loss: 0.9973657417297364 Val Loss: 0.8539804455481077\n",
      "Epoch: 2 Train Loss: 0.7825747076670329 Val Loss: 0.8157813109849629\n",
      "Epoch: 3 Train Loss: 0.6795316521326701 Val Loss: 0.5726581396240937\n",
      "Epoch: 4 Train Loss: 0.553669634660085 Val Loss: 0.42009005342659195\n",
      "Epoch: 5 Train Loss: 0.5048777407407761 Val Loss: 0.3768265086569284\n",
      "Epoch: 6 Train Loss: 0.4532431485255559 Val Loss: 0.35899289658195094\n",
      "Epoch: 7 Train Loss: 0.4678095825513204 Val Loss: 0.6110310311380186\n",
      "Epoch: 8 Train Loss: 0.4698554102579753 Val Loss: 0.44336116686463356\n",
      "Epoch: 9 Train Loss: 0.3806593217452367 Val Loss: 0.32959917619040136\n",
      "Epoch: 10 Train Loss: 0.3747997867067655 Val Loss: 0.23254083253835378\n",
      "Epoch: 11 Train Loss: 0.38114170809586845 Val Loss: 0.2712462730705738\n",
      "Epoch: 12 Train Loss: 0.3439588265120983 Val Loss: 1.5639928963623548\n",
      "Epoch: 13 Train Loss: 0.35827225118875505 Val Loss: 0.7231420362858396\n",
      "Epoch: 14 Train Loss: 0.3198420829574267 Val Loss: 0.2598946882705939\n",
      "Epoch: 15 Train Loss: 0.29898664096991223 Val Loss: 0.24199199166737104\n",
      "Epoch: 16 Train Loss: 0.2829160918792089 Val Loss: 0.8798082831658816\n",
      "Epoch: 17 Train Loss: 0.25501982783277827 Val Loss: 0.1567014856754165\n",
      "Epoch: 18 Train Loss: 0.25415115828315415 Val Loss: 0.29990295526620586\n",
      "Epoch: 19 Train Loss: 0.255660643329223 Val Loss: 0.19980785084006034\n"
     ]
    }
   ],
   "source": [
    "N_EPOCHS = 20\n",
    "tr_loss_hist = []\n",
    "val_loss_hist = []\n",
    "\n",
    "for epoch in range(N_EPOCHS):\n",
    "    \n",
    "    # Training \n",
    "    train_loss = 0.0\n",
    "    model.train()\n",
    "    for inputs, labels in trainloader:\n",
    "        inputs, labels = inputs.to(device), labels.to(device)\n",
    "\n",
    "        optimizer.zero_grad()\n",
    "        outputs = model(inputs)\n",
    "        loss = criterion(outputs, labels)\n",
    "        loss.backward()\n",
    "        optimizer.step()\n",
    "        \n",
    "        # per step\n",
    "        scheduler.step()\n",
    "\n",
    "        train_loss += loss.item()\n",
    "\n",
    "    # Validation\n",
    "    val_loss = 0.0\n",
    "    model.eval()\n",
    "    with torch.no_grad():\n",
    "        for inputs, labels in valloader:\n",
    "            inputs, labels = inputs.to(device), labels.to(device)\n",
    "            outputs = model(inputs)\n",
    "            loss = criterion(outputs, labels)\n",
    "            val_loss += loss.item()\n",
    "        \n",
    "    print(\"Epoch: {} Train Loss: {} Val Loss: {}\".format(epoch, train_loss/len(trainloader), val_loss/len(valloader)))\n",
    "    tr_loss_hist.append(train_loss/len(trainloader))\n",
    "    val_loss_hist.append(val_loss/len(valloader))"
   ]
  },
  {
   "cell_type": "code",
   "execution_count": 15,
   "id": "52130e34",
   "metadata": {
    "scrolled": false
   },
   "outputs": [
    {
     "data": {
      "text/plain": [
       "Text(0.5, 1.0, 'Loss Curves')"
      ]
     },
     "execution_count": 15,
     "metadata": {},
     "output_type": "execute_result"
    },
    {
     "data": {
      "image/png": "[encoded data removed]",
      "text/plain": [
       "<Figure size 600x400 with 1 Axes>"
      ]
     },
     "metadata": {},
     "output_type": "display_data"
    }
   ],
   "source": [
    "plt.figure(figsize=[6, 4])\n",
    "plt.plot(tr_loss_hist, 'black', linewidth=2.0)\n",
    "plt.plot(val_loss_hist, 'blue', linewidth=2.0)\n",
    "plt.legend(['Training Loss', 'Validation Loss'], fontsize=10)\n",
    "plt.xlabel('Epochs', fontsize=10)\n",
    "plt.ylabel('Loss', fontsize=10)\n",
    "plt.title('Loss Curves', fontsize=12)"
   ]
  },
  {
   "cell_type": "markdown",
   "id": "be4bbe0d",
   "metadata": {},
   "source": [
    "### 2.2 - Approach 2\n",
    "\n",
    "We're still not using the pre-trained weights, however, in this approach, we're creating a feature extractor from the original ResNet-18 model.\n",
    "\n",
    "- Creating a feature extractor:\n",
    "    - We're keeping all layers of orig_model except the final classification layer. This is done by selecting all layers up to the last one and appending a Flatten layer to prepare the features for the linear layer.\n",
    "    - The `nn.Sequential(*layers)` construct creates a new model (vec_model) that acts as a feature extractor.\n",
    "\n",
    "- Freezing the parameters:\n",
    "    - By setting `param.requires_grad = False` for all parameters in vec_model, we're freezing the weights of these layers during training. This means that the pre-trained weights of these layers (if any were loaded) will not be updated, reducing the number of parameters that need to be trained.\n",
    "\n",
    "- Adding a new classification layer:\n",
    "    - We then add a new `nn.Linear(512, 6)` layer to vec_model, adapting it to classify images into 6 categories. This layer is the only part of the model with trainable parameters in this setup.\n",
    "\n",
    "- Effect on training:\n",
    "    - **Reduced training time and computational cost:** Since most of the model parameters are frozen, the optimizer only needs to update the weights of the new classification layer.\n",
    "    - **Leverages learned features:** The frozen layers act as a feature extractor, utilizing learned patterns from pre-existing tasks (if the original model was pre-trained). This can lead to faster convergence and potentially better performance on the new task, especially when the dataset is small or similar to the original task's dataset.\n",
    "    - **Flexibility and fine-tuning:** This approach allows for quick experimentation with different architectures for the new task by only modifying the final layer(s). It's also a step towards more sophisticated fine-tuning strategies, where some of the frozen layers could be gradually unfrozen and trained to further improve performance."
   ]
  },
  {
   "cell_type": "code",
   "execution_count": 16,
   "id": "5eba3eda",
   "metadata": {},
   "outputs": [],
   "source": [
    "# get all the layers except the last one\n",
    "layers = list(orig_model.children())[:-1]\n",
    "layers.append(nn.Flatten())\n",
    "\n",
    "vec_model = nn.Sequential(*layers)\n",
    "for param in vec_model.parameters():\n",
    "    param.requires_grad = False"
   ]
  },
  {
   "cell_type": "code",
   "execution_count": 17,
   "id": "9ff65a6d",
   "metadata": {},
   "outputs": [
    {
     "data": {
      "text/plain": [
       "==========================================================================================\n",
       "Layer (type:depth-idx)                   Output Shape              Param #\n",
       "==========================================================================================\n",
       "Sequential                               [16, 6]                   --\n",
       "+ Conv2d: 1-1                            [16, 64, 112, 112]        (9,408)\n",
       "+ BatchNorm2d: 1-2                       [16, 64, 112, 112]        (128)\n",
       "+ ReLU: 1-3                              [16, 64, 112, 112]        --\n",
       "+ MaxPool2d: 1-4                         [16, 64, 56, 56]          --\n",
       "+ Sequential: 1-5                        [16, 64, 56, 56]          --\n",
       "|    + BasicBlock: 2-1                   [16, 64, 56, 56]          --\n",
       "|    |    + Conv2d: 3-1                  [16, 64, 56, 56]          (36,864)\n",
       "|    |    + BatchNorm2d: 3-2             [16, 64, 56, 56]          (128)\n",
       "|    |    + ReLU: 3-3                    [16, 64, 56, 56]          --\n",
       "|    |    + Conv2d: 3-4                  [16, 64, 56, 56]          (36,864)\n",
       "|    |    + BatchNorm2d: 3-5             [16, 64, 56, 56]          (128)\n",
       "|    |    + ReLU: 3-6                    [16, 64, 56, 56]          --\n",
       "|    + BasicBlock: 2-2                   [16, 64, 56, 56]          --\n",
       "|    |    + Conv2d: 3-7                  [16, 64, 56, 56]          (36,864)\n",
       "|    |    + BatchNorm2d: 3-8             [16, 64, 56, 56]          (128)\n",
       "|    |    + ReLU: 3-9                    [16, 64, 56, 56]          --\n",
       "|    |    + Conv2d: 3-10                 [16, 64, 56, 56]          (36,864)\n",
       "|    |    + BatchNorm2d: 3-11            [16, 64, 56, 56]          (128)\n",
       "|    |    + ReLU: 3-12                   [16, 64, 56, 56]          --\n",
       "+ Sequential: 1-6                        [16, 128, 28, 28]         --\n",
       "|    + BasicBlock: 2-3                   [16, 128, 28, 28]         --\n",
       "|    |    + Conv2d: 3-13                 [16, 128, 28, 28]         (73,728)\n",
       "|    |    + BatchNorm2d: 3-14            [16, 128, 28, 28]         (256)\n",
       "|    |    + ReLU: 3-15                   [16, 128, 28, 28]         --\n",
       "|    |    + Conv2d: 3-16                 [16, 128, 28, 28]         (147,456)\n",
       "|    |    + BatchNorm2d: 3-17            [16, 128, 28, 28]         (256)\n",
       "|    |    + Sequential: 3-18             [16, 128, 28, 28]         (8,448)\n",
       "|    |    + ReLU: 3-19                   [16, 128, 28, 28]         --\n",
       "|    + BasicBlock: 2-4                   [16, 128, 28, 28]         --\n",
       "|    |    + Conv2d: 3-20                 [16, 128, 28, 28]         (147,456)\n",
       "|    |    + BatchNorm2d: 3-21            [16, 128, 28, 28]         (256)\n",
       "|    |    + ReLU: 3-22                   [16, 128, 28, 28]         --\n",
       "|    |    + Conv2d: 3-23                 [16, 128, 28, 28]         (147,456)\n",
       "|    |    + BatchNorm2d: 3-24            [16, 128, 28, 28]         (256)\n",
       "|    |    + ReLU: 3-25                   [16, 128, 28, 28]         --\n",
       "+ Sequential: 1-7                        [16, 256, 14, 14]         --\n",
       "|    + BasicBlock: 2-5                   [16, 256, 14, 14]         --\n",
       "|    |    + Conv2d: 3-26                 [16, 256, 14, 14]         (294,912)\n",
       "|    |    + BatchNorm2d: 3-27            [16, 256, 14, 14]         (512)\n",
       "|    |    + ReLU: 3-28                   [16, 256, 14, 14]         --\n",
       "|    |    + Conv2d: 3-29                 [16, 256, 14, 14]         (589,824)\n",
       "|    |    + BatchNorm2d: 3-30            [16, 256, 14, 14]         (512)\n",
       "|    |    + Sequential: 3-31             [16, 256, 14, 14]         (33,280)\n",
       "|    |    + ReLU: 3-32                   [16, 256, 14, 14]         --\n",
       "|    + BasicBlock: 2-6                   [16, 256, 14, 14]         --\n",
       "|    |    + Conv2d: 3-33                 [16, 256, 14, 14]         (589,824)\n",
       "|    |    + BatchNorm2d: 3-34            [16, 256, 14, 14]         (512)\n",
       "|    |    + ReLU: 3-35                   [16, 256, 14, 14]         --\n",
       "|    |    + Conv2d: 3-36                 [16, 256, 14, 14]         (589,824)\n",
       "|    |    + BatchNorm2d: 3-37            [16, 256, 14, 14]         (512)\n",
       "|    |    + ReLU: 3-38                   [16, 256, 14, 14]         --\n",
       "+ Sequential: 1-8                        [16, 512, 7, 7]           --\n",
       "|    + BasicBlock: 2-7                   [16, 512, 7, 7]           --\n",
       "|    |    + Conv2d: 3-39                 [16, 512, 7, 7]           (1,179,648)\n",
       "|    |    + BatchNorm2d: 3-40            [16, 512, 7, 7]           (1,024)\n",
       "|    |    + ReLU: 3-41                   [16, 512, 7, 7]           --\n",
       "|    |    + Conv2d: 3-42                 [16, 512, 7, 7]           (2,359,296)\n",
       "|    |    + BatchNorm2d: 3-43            [16, 512, 7, 7]           (1,024)\n",
       "|    |    + Sequential: 3-44             [16, 512, 7, 7]           (132,096)\n",
       "|    |    + ReLU: 3-45                   [16, 512, 7, 7]           --\n",
       "|    + BasicBlock: 2-8                   [16, 512, 7, 7]           --\n",
       "|    |    + Conv2d: 3-46                 [16, 512, 7, 7]           (2,359,296)\n",
       "|    |    + BatchNorm2d: 3-47            [16, 512, 7, 7]           (1,024)\n",
       "|    |    + ReLU: 3-48                   [16, 512, 7, 7]           --\n",
       "|    |    + Conv2d: 3-49                 [16, 512, 7, 7]           (2,359,296)\n",
       "|    |    + BatchNorm2d: 3-50            [16, 512, 7, 7]           (1,024)\n",
       "|    |    + ReLU: 3-51                   [16, 512, 7, 7]           --\n",
       "+ AdaptiveAvgPool2d: 1-9                 [16, 512, 1, 1]           --\n",
       "+ Flatten: 1-10                          [16, 512]                 --\n",
       "+ Linear: 1-11                           [16, 6]                   3,078\n",
       "==========================================================================================\n",
       "Total params: 11,179,590\n",
       "Trainable params: 3,078\n",
       "Non-trainable params: 11,176,512\n",
       "Total mult-adds (Units.GIGABYTES): 29.02\n",
       "==========================================================================================\n",
       "Input size (MB): 9.63\n",
       "Forward/backward pass size (MB): 635.83\n",
       "Params size (MB): 44.72\n",
       "Estimated Total Size (MB): 690.18\n",
       "=========================================================================================="
      ]
     },
     "execution_count": 17,
     "metadata": {},
     "output_type": "execute_result"
    }
   ],
   "source": [
    "# now get all the layers except the last one\n",
    "layers = list(vec_model.children())\n",
    "layers.append(nn.Linear(512, 6))\n",
    "\n",
    "vec_model = nn.Sequential(*layers)\n",
    "summary(vec_model, input_size=(16, 3, 224, 224), row_settings=(\"depth\", \"ascii_only\"))"
   ]
  },
  {
   "cell_type": "code",
   "execution_count": 18,
   "id": "f6b41f6c",
   "metadata": {},
   "outputs": [],
   "source": [
    "model = vec_model.to(device)\n",
    "criterion = nn.CrossEntropyLoss()\n",
    "optimizer = optim.SGD(model.parameters(), lr=0.001, momentum=0.9)\n",
    "scheduler = lr_scheduler.LinearLR(optimizer, start_factor=1.0, end_factor=0.25, total_iters=10)"
   ]
  },
  {
   "cell_type": "code",
   "execution_count": 19,
   "id": "ec4a873f",
   "metadata": {},
   "outputs": [
    {
     "name": "stdout",
     "output_type": "stream",
     "text": [
      "Epoch: 0 Train Loss: 1.6313178809483846 Val Loss: 1.5037292398904498\n",
      "Epoch: 1 Train Loss: 1.4307905292510987 Val Loss: 1.3401421841822172\n",
      "Epoch: 2 Train Loss: 1.3211739540100098 Val Loss: 1.2162592316928662\n",
      "Epoch: 3 Train Loss: 1.2487905788421632 Val Loss: 1.1384938108293634\n",
      "Epoch: 4 Train Loss: 1.1682857783635456 Val Loss: 1.0797595491534786\n",
      "Epoch: 5 Train Loss: 1.1292112747828165 Val Loss: 1.0512733773181313\n",
      "Epoch: 6 Train Loss: 1.083344625631968 Val Loss: 0.9959615563091478\n",
      "Epoch: 7 Train Loss: 1.040751150449117 Val Loss: 0.9694464724314841\n",
      "Epoch: 8 Train Loss: 1.0268239736557008 Val Loss: 0.917264638762725\n",
      "Epoch: 9 Train Loss: 0.9977773276964823 Val Loss: 0.8902059699359693\n",
      "Epoch: 10 Train Loss: 1.0032433517773947 Val Loss: 0.8685595612776907\n",
      "Epoch: 11 Train Loss: 0.9731196928024292 Val Loss: 0.8575963315210844\n",
      "Epoch: 12 Train Loss: 0.9443497165044149 Val Loss: 0.8225176930427551\n",
      "Epoch: 13 Train Loss: 0.9363376720746358 Val Loss: 0.8042649814957067\n",
      "Epoch: 14 Train Loss: 0.9272596804300944 Val Loss: 0.7989776965818907\n",
      "Epoch: 15 Train Loss: 0.9271219380696615 Val Loss: 0.7880120151921323\n",
      "Epoch: 16 Train Loss: 0.9119608441988627 Val Loss: 0.7603399471232766\n",
      "Epoch: 17 Train Loss: 0.9150763499736786 Val Loss: 0.7522551785958441\n",
      "Epoch: 18 Train Loss: 0.8683502101898193 Val Loss: 0.7433725022955945\n",
      "Epoch: 19 Train Loss: 0.8805219093958537 Val Loss: 0.7194453540601229\n"
     ]
    }
   ],
   "source": [
    "N_EPOCHS = 20\n",
    "tr_loss_hist = []\n",
    "val_loss_hist = []\n",
    "\n",
    "for epoch in range(N_EPOCHS):\n",
    "    # Training \n",
    "    train_loss = 0.0\n",
    "    model.train()\n",
    "    for inputs, labels in trainloader:\n",
    "        inputs, labels = inputs.to(device), labels.to(device)\n",
    "\n",
    "        optimizer.zero_grad()\n",
    "        outputs = model(inputs)\n",
    "        loss = criterion(outputs, labels)\n",
    "        loss.backward()\n",
    "        optimizer.step()\n",
    "        \n",
    "        # per step\n",
    "        scheduler.step()\n",
    "\n",
    "        train_loss += loss.item()\n",
    "\n",
    "    # Validation\n",
    "    val_loss = 0.0\n",
    "    model.eval()\n",
    "    with torch.no_grad():\n",
    "        for inputs, labels in valloader:\n",
    "            inputs, labels = inputs.to(device), labels.to(device)\n",
    "            outputs = model(inputs)\n",
    "            loss = criterion(outputs, labels)\n",
    "            val_loss += loss.item()\n",
    "\n",
    "    print(\"Epoch: {} Train Loss: {} Val Loss: {}\".format(epoch, train_loss/len(trainloader), val_loss/len(valloader)))\n",
    "    tr_loss_hist.append(train_loss/len(trainloader))\n",
    "    val_loss_hist.append(val_loss/len(valloader))"
   ]
  },
  {
   "cell_type": "code",
   "execution_count": 20,
   "id": "36b71d0e",
   "metadata": {},
   "outputs": [
    {
     "data": {
      "text/plain": [
       "Text(0.5, 1.0, 'Loss Curves')"
      ]
     },
     "execution_count": 20,
     "metadata": {},
     "output_type": "execute_result"
    },
    {
     "data": {
      "image/png": "[encoded data removed]",
      "text/plain": [
       "<Figure size 600x400 with 1 Axes>"
      ]
     },
     "metadata": {},
     "output_type": "display_data"
    }
   ],
   "source": [
    "plt.figure(figsize=[6, 4])\n",
    "plt.plot(tr_loss_hist, 'black', linewidth=2.0)\n",
    "plt.plot(val_loss_hist, 'blue', linewidth=2.0)\n",
    "plt.legend(['Training Loss', 'Validation Loss'], fontsize=10)\n",
    "plt.xlabel('Epochs', fontsize=10)\n",
    "plt.ylabel('Loss', fontsize=10)\n",
    "plt.title('Loss Curves', fontsize=12)"
   ]
  },
  {
   "cell_type": "markdown",
   "id": "0ef95624",
   "metadata": {},
   "source": [
    "### 2.3 - Approach 3\n",
    "\n",
    "In this third approach, we're implementing transfer learning with a twist by **utilizing the pre-trained weights of ResNet-18** and then adapting it for a new task with 6 classes.\n",
    "\n",
    "- Starting with a pre-trained model:\n",
    "    - The original ResNet-18 model is initialized with pre-trained weights from ImageNet (via `weights=models.ResNet18_Weights.IMAGENET1K_V1`). This provides the model with a strong knowledge base learned from a large and diverse dataset.\n",
    "\n",
    "- Creating a customized model:\n",
    "    - A fresh copy of the pre-trained ResNet-18 is made to preserve the original model's state. This ensures that any modifications are isolated to this new instance (alt_model).\n",
    "    - The final fully connected (fc) layer of alt_model is replaced with a new `nn.Linear(512, 6)` layer, adapting the model to output predictions for 6 classes instead of the original 1000 ImageNet classes.\n",
    "\n",
    "- Impact on training:\n",
    "    - **Accelerated learning and improved performance:** Leveraging pre-trained weights can significantly speed up the training process and improve the model's performance on the new task, especially when the new dataset is small or similar to ImageNet.\n",
    "    - **Fine-tuning for a new task:** This approach is essentially fine-tuning the pre-trained model for a new classification task. While the bulk of the model retains its learned features, the new final layer allows the model to learn how to classify inputs into the 6 new categories.\n",
    "    - **Balancing between generalization and specialization:** This strategy strikes a balance between leveraging the generalization capabilities of the pre-trained model and specializing it for the specific requirements of the new task."
   ]
  },
  {
   "cell_type": "code",
   "execution_count": 8,
   "id": "a59024c9",
   "metadata": {},
   "outputs": [],
   "source": [
    "# let's make a fresh copy of the original model\n",
    "orig_model = models.resnet18(weights=models.ResNet18_Weights.IMAGENET1K_V1)\n",
    "\n",
    "alt_model = copy.deepcopy(orig_model)\n",
    "alt_model.fc = nn.Linear(512, 6)"
   ]
  },
  {
   "cell_type": "code",
   "execution_count": 12,
   "id": "1892d849",
   "metadata": {},
   "outputs": [],
   "source": [
    "model = alt_model.to(device)\n",
    "criterion = nn.CrossEntropyLoss()\n",
    "optimizer = optim.SGD(model.parameters(), lr=0.001, momentum=0.9)\n",
    "scheduler = lr_scheduler.LinearLR(optimizer, start_factor=1.0, end_factor=0.25, total_iters=10)"
   ]
  },
  {
   "cell_type": "code",
   "execution_count": 13,
   "id": "4e349791",
   "metadata": {},
   "outputs": [
    {
     "name": "stdout",
     "output_type": "stream",
     "text": [
      "Epoch: 0 Train Loss: 0.8619259377320607 Val Loss: 0.27597695510638387\n",
      "Epoch: 1 Train Loss: 0.2624207325776418 Val Loss: 0.12434712807206731\n",
      "Epoch: 2 Train Loss: 0.15928233506778877 Val Loss: 0.0665921955124328\n",
      "Epoch: 3 Train Loss: 0.12252989222606023 Val Loss: 0.04524062169519694\n",
      "Epoch: 4 Train Loss: 0.08745300057033698 Val Loss: 0.029038519047102647\n",
      "Epoch: 5 Train Loss: 0.06225854141016801 Val Loss: 0.02398753403931072\n",
      "Epoch: 6 Train Loss: 0.053368848251799744 Val Loss: 0.023198301989683194\n",
      "Epoch: 7 Train Loss: 0.055177369775871433 Val Loss: 0.02223314695354355\n",
      "Epoch: 8 Train Loss: 0.047786024572948615 Val Loss: 0.014283408190270788\n",
      "Epoch: 9 Train Loss: 0.03667535645266374 Val Loss: 0.012109235670466564\n",
      "Epoch: 10 Train Loss: 0.04028480091442665 Val Loss: 0.01845565163162782\n",
      "Epoch: 11 Train Loss: 0.036192543506622314 Val Loss: 0.010525036707373434\n",
      "Epoch: 12 Train Loss: 0.04062361104724308 Val Loss: 0.008914102267130818\n",
      "Epoch: 13 Train Loss: 0.027668960988521576 Val Loss: 0.006333289208429817\n",
      "Epoch: 14 Train Loss: 0.0190637191105634 Val Loss: 0.007355816144569728\n",
      "Epoch: 15 Train Loss: 0.02246811277853946 Val Loss: 0.006385949611859887\n",
      "Epoch: 16 Train Loss: 0.022685086585891745 Val Loss: 0.005249103292283651\n",
      "Epoch: 17 Train Loss: 0.01739156317897141 Val Loss: 0.005006930577924083\n",
      "Epoch: 18 Train Loss: 0.03167261032698055 Val Loss: 0.011917988973436877\n",
      "Epoch: 19 Train Loss: 0.02317031632255142 Val Loss: 0.004695923332627372\n"
     ]
    }
   ],
   "source": [
    "N_EPOCHS = 20\n",
    "tr_loss_hist = []\n",
    "val_loss_hist = []\n",
    "\n",
    "for epoch in range(N_EPOCHS):\n",
    "    # Training \n",
    "    train_loss = 0.0\n",
    "    model.train()\n",
    "    for inputs, labels in trainloader:\n",
    "        inputs, labels = inputs.to(device), labels.to(device)\n",
    "\n",
    "        optimizer.zero_grad()\n",
    "        outputs = model(inputs)\n",
    "        loss = criterion(outputs, labels)\n",
    "        loss.backward()\n",
    "        optimizer.step()\n",
    "        \n",
    "        # per step\n",
    "        scheduler.step()\n",
    "\n",
    "        train_loss += loss.item()\n",
    "\n",
    "    # Validation\n",
    "    val_loss = 0.0\n",
    "    model.eval()\n",
    "    with torch.no_grad():\n",
    "        for inputs, labels in valloader:\n",
    "            inputs, labels = inputs.to(device), labels.to(device)\n",
    "            outputs = model(inputs)\n",
    "            loss = criterion(outputs, labels)\n",
    "            val_loss += loss.item()\n",
    "\n",
    "    print(\"Epoch: {} Train Loss: {} Val Loss: {}\".format(epoch, train_loss/len(trainloader), val_loss/len(valloader)))\n",
    "    tr_loss_hist.append(train_loss/len(trainloader))\n",
    "    val_loss_hist.append(val_loss/len(valloader))"
   ]
  },
  {
   "cell_type": "code",
   "execution_count": 14,
   "id": "4351cde9",
   "metadata": {},
   "outputs": [
    {
     "data": {
      "text/plain": [
       "Text(0.5, 1.0, 'Loss Curves')"
      ]
     },
     "execution_count": 14,
     "metadata": {},
     "output_type": "execute_result"
    },
    {
     "data": {
      "image/png": "[encoded data removed]",
      "text/plain": [
       "<Figure size 600x400 with 1 Axes>"
      ]
     },
     "metadata": {},
     "output_type": "display_data"
    }
   ],
   "source": [
    "plt.figure(figsize=[6, 4])\n",
    "plt.plot(tr_loss_hist, 'black', linewidth=2.0)\n",
    "plt.plot(val_loss_hist, 'blue', linewidth=2.0)\n",
    "plt.legend(['Training Loss', 'Validation Loss'], fontsize=10)\n",
    "plt.xlabel('Epochs', fontsize=10)\n",
    "plt.ylabel('Loss', fontsize=10)\n",
    "plt.title('Loss Curves', fontsize=12)"
   ]
  },
  {
   "cell_type": "markdown",
   "id": "f1dc276e",
   "metadata": {},
   "source": [
    "### 2.4 - Approach 4\n",
    "\n",
    "Using a pre-trained ResNet-18 model as a feature extractor for a new task with 6 classes, while keeping the pre-trained weights intact but not training them. This method combines the principles of transfer learning with the feature extraction approach.\n",
    "\n",
    "- Utilizing pre-trained ResNet-18 as a base:\n",
    "    - The model starts with layers from the pre-trained ResNet-18, excluding the final classification layer. This initial setup leverages the rich feature extraction capabilities learned from ImageNet.\n",
    "\n",
    "- Freezing the feature extractor layers:\n",
    "    - All parameters in the feature extraction part (vec_model) are frozen `(requires_grad = False)`. This ensures that the pre-trained weights are preserved and not updated during the training process, focusing the learning on the new classification layer.\n",
    "\n",
    "- Appending a new classification layer:\n",
    "    - A new fully connected layer `(nn.Linear(512, 6))` is added to classify the features extracted by the pre-trained model into 6 classes. This is the only part of the model with trainable parameters.\n",
    "\n",
    "- Effects on training and model performance:\n",
    "    - **Efficient use of computational resources:** Freezing the pre-trained layers reduces the number of trainable parameters, speeding up the training process and decreasing computational costs.\n",
    "    - **Quick adaptation to new tasks:** The model can quickly adapt to new classification tasks with minimal additional training, making it suitable for scenarios with limited data.\n",
    "    - **Leveraging pre-learned features:** By using a pre-trained model as a feature extractor, the method exploits the generalization ability of these features, potentially leading to better performance on the new task compared to training from scratch.\n",
    "    \n",
    "**Scheduler:**\n",
    "\n",
    "- Per Step (or Iteration):\n",
    "    - When `scheduler.step()` is called after each training step (or iteration), the learning rate is adjusted at a finer granularity. This means the learning rate can change after every batch of data is processed.\n",
    "    - This approach allows for more dynamic adjustments of the learning rate, potentially leading to faster convergence and better accommodation of the learning process nuances.\n",
    "    \n",
    "- Per Epoch:\n",
    "    - Calling `scheduler.step()` after each epoch means the learning rate is adjusted once all batches in the dataset have been processed. An epoch completes when the model has been trained on every sample in the training dataset once.\n",
    "    - This method is more coarse and applies more gradual changes to the learning rate."
   ]
  },
  {
   "cell_type": "code",
   "execution_count": 9,
   "id": "e2ec7b13",
   "metadata": {},
   "outputs": [],
   "source": [
    "# get all the layers except the last one\n",
    "layers = list(orig_model.children())[:-1]\n",
    "layers.append(nn.Flatten())\n",
    "\n",
    "vec_model = nn.Sequential(*layers)\n",
    "for param in vec_model.parameters():\n",
    "    param.requires_grad = False"
   ]
  },
  {
   "cell_type": "code",
   "execution_count": 10,
   "id": "6185611c",
   "metadata": {},
   "outputs": [
    {
     "data": {
      "text/plain": [
       "==========================================================================================\n",
       "Layer (type:depth-idx)                   Output Shape              Param #\n",
       "==========================================================================================\n",
       "Sequential                               [16, 6]                   --\n",
       "+ Conv2d: 1-1                            [16, 64, 112, 112]        (9,408)\n",
       "+ BatchNorm2d: 1-2                       [16, 64, 112, 112]        (128)\n",
       "+ ReLU: 1-3                              [16, 64, 112, 112]        --\n",
       "+ MaxPool2d: 1-4                         [16, 64, 56, 56]          --\n",
       "+ Sequential: 1-5                        [16, 64, 56, 56]          --\n",
       "|    + BasicBlock: 2-1                   [16, 64, 56, 56]          --\n",
       "|    |    + Conv2d: 3-1                  [16, 64, 56, 56]          (36,864)\n",
       "|    |    + BatchNorm2d: 3-2             [16, 64, 56, 56]          (128)\n",
       "|    |    + ReLU: 3-3                    [16, 64, 56, 56]          --\n",
       "|    |    + Conv2d: 3-4                  [16, 64, 56, 56]          (36,864)\n",
       "|    |    + BatchNorm2d: 3-5             [16, 64, 56, 56]          (128)\n",
       "|    |    + ReLU: 3-6                    [16, 64, 56, 56]          --\n",
       "|    + BasicBlock: 2-2                   [16, 64, 56, 56]          --\n",
       "|    |    + Conv2d: 3-7                  [16, 64, 56, 56]          (36,864)\n",
       "|    |    + BatchNorm2d: 3-8             [16, 64, 56, 56]          (128)\n",
       "|    |    + ReLU: 3-9                    [16, 64, 56, 56]          --\n",
       "|    |    + Conv2d: 3-10                 [16, 64, 56, 56]          (36,864)\n",
       "|    |    + BatchNorm2d: 3-11            [16, 64, 56, 56]          (128)\n",
       "|    |    + ReLU: 3-12                   [16, 64, 56, 56]          --\n",
       "+ Sequential: 1-6                        [16, 128, 28, 28]         --\n",
       "|    + BasicBlock: 2-3                   [16, 128, 28, 28]         --\n",
       "|    |    + Conv2d: 3-13                 [16, 128, 28, 28]         (73,728)\n",
       "|    |    + BatchNorm2d: 3-14            [16, 128, 28, 28]         (256)\n",
       "|    |    + ReLU: 3-15                   [16, 128, 28, 28]         --\n",
       "|    |    + Conv2d: 3-16                 [16, 128, 28, 28]         (147,456)\n",
       "|    |    + BatchNorm2d: 3-17            [16, 128, 28, 28]         (256)\n",
       "|    |    + Sequential: 3-18             [16, 128, 28, 28]         (8,448)\n",
       "|    |    + ReLU: 3-19                   [16, 128, 28, 28]         --\n",
       "|    + BasicBlock: 2-4                   [16, 128, 28, 28]         --\n",
       "|    |    + Conv2d: 3-20                 [16, 128, 28, 28]         (147,456)\n",
       "|    |    + BatchNorm2d: 3-21            [16, 128, 28, 28]         (256)\n",
       "|    |    + ReLU: 3-22                   [16, 128, 28, 28]         --\n",
       "|    |    + Conv2d: 3-23                 [16, 128, 28, 28]         (147,456)\n",
       "|    |    + BatchNorm2d: 3-24            [16, 128, 28, 28]         (256)\n",
       "|    |    + ReLU: 3-25                   [16, 128, 28, 28]         --\n",
       "+ Sequential: 1-7                        [16, 256, 14, 14]         --\n",
       "|    + BasicBlock: 2-5                   [16, 256, 14, 14]         --\n",
       "|    |    + Conv2d: 3-26                 [16, 256, 14, 14]         (294,912)\n",
       "|    |    + BatchNorm2d: 3-27            [16, 256, 14, 14]         (512)\n",
       "|    |    + ReLU: 3-28                   [16, 256, 14, 14]         --\n",
       "|    |    + Conv2d: 3-29                 [16, 256, 14, 14]         (589,824)\n",
       "|    |    + BatchNorm2d: 3-30            [16, 256, 14, 14]         (512)\n",
       "|    |    + Sequential: 3-31             [16, 256, 14, 14]         (33,280)\n",
       "|    |    + ReLU: 3-32                   [16, 256, 14, 14]         --\n",
       "|    + BasicBlock: 2-6                   [16, 256, 14, 14]         --\n",
       "|    |    + Conv2d: 3-33                 [16, 256, 14, 14]         (589,824)\n",
       "|    |    + BatchNorm2d: 3-34            [16, 256, 14, 14]         (512)\n",
       "|    |    + ReLU: 3-35                   [16, 256, 14, 14]         --\n",
       "|    |    + Conv2d: 3-36                 [16, 256, 14, 14]         (589,824)\n",
       "|    |    + BatchNorm2d: 3-37            [16, 256, 14, 14]         (512)\n",
       "|    |    + ReLU: 3-38                   [16, 256, 14, 14]         --\n",
       "+ Sequential: 1-8                        [16, 512, 7, 7]           --\n",
       "|    + BasicBlock: 2-7                   [16, 512, 7, 7]           --\n",
       "|    |    + Conv2d: 3-39                 [16, 512, 7, 7]           (1,179,648)\n",
       "|    |    + BatchNorm2d: 3-40            [16, 512, 7, 7]           (1,024)\n",
       "|    |    + ReLU: 3-41                   [16, 512, 7, 7]           --\n",
       "|    |    + Conv2d: 3-42                 [16, 512, 7, 7]           (2,359,296)\n",
       "|    |    + BatchNorm2d: 3-43            [16, 512, 7, 7]           (1,024)\n",
       "|    |    + Sequential: 3-44             [16, 512, 7, 7]           (132,096)\n",
       "|    |    + ReLU: 3-45                   [16, 512, 7, 7]           --\n",
       "|    + BasicBlock: 2-8                   [16, 512, 7, 7]           --\n",
       "|    |    + Conv2d: 3-46                 [16, 512, 7, 7]           (2,359,296)\n",
       "|    |    + BatchNorm2d: 3-47            [16, 512, 7, 7]           (1,024)\n",
       "|    |    + ReLU: 3-48                   [16, 512, 7, 7]           --\n",
       "|    |    + Conv2d: 3-49                 [16, 512, 7, 7]           (2,359,296)\n",
       "|    |    + BatchNorm2d: 3-50            [16, 512, 7, 7]           (1,024)\n",
       "|    |    + ReLU: 3-51                   [16, 512, 7, 7]           --\n",
       "+ AdaptiveAvgPool2d: 1-9                 [16, 512, 1, 1]           --\n",
       "+ Flatten: 1-10                          [16, 512]                 --\n",
       "+ Linear: 1-11                           [16, 6]                   3,078\n",
       "==========================================================================================\n",
       "Total params: 11,179,590\n",
       "Trainable params: 3,078\n",
       "Non-trainable params: 11,176,512\n",
       "Total mult-adds (Units.GIGABYTES): 29.02\n",
       "==========================================================================================\n",
       "Input size (MB): 9.63\n",
       "Forward/backward pass size (MB): 635.83\n",
       "Params size (MB): 44.72\n",
       "Estimated Total Size (MB): 690.18\n",
       "=========================================================================================="
      ]
     },
     "execution_count": 10,
     "metadata": {},
     "output_type": "execute_result"
    }
   ],
   "source": [
    "# get all the layers except the last one\n",
    "layers = list(vec_model.children())\n",
    "layers.append(nn.Linear(512,6))\n",
    "\n",
    "vec_model = nn.Sequential(*layers)\n",
    "summary(vec_model, input_size=(16, 3, 224, 224), row_settings=(\"depth\", \"ascii_only\"))"
   ]
  },
  {
   "cell_type": "code",
   "execution_count": 14,
   "id": "f4cf192c",
   "metadata": {},
   "outputs": [],
   "source": [
    "model = vec_model.to(device)\n",
    "criterion = nn.CrossEntropyLoss()\n",
    "optimizer = optim.SGD(model.parameters(), lr=0.001, momentum=0.9)\n",
    "scheduler = lr_scheduler.LinearLR(optimizer, start_factor=1.0, end_factor=0.25, total_iters=10)"
   ]
  },
  {
   "cell_type": "code",
   "execution_count": 15,
   "id": "315f1cb0",
   "metadata": {},
   "outputs": [
    {
     "name": "stdout",
     "output_type": "stream",
     "text": [
      "Epoch: 0 Train Loss: 0.8706312934557597 Val Loss: 0.2895471563464717\n",
      "Epoch: 1 Train Loss: 0.3173775056997935 Val Loss: 0.14799009283122264\n",
      "Epoch: 2 Train Loss: 0.2503130920728048 Val Loss: 0.12428985830200345\n",
      "Epoch: 3 Train Loss: 0.20123011688391368 Val Loss: 0.09814762843674735\n",
      "Epoch: 4 Train Loss: 0.1693988532324632 Val Loss: 0.09607138416092646\n",
      "Epoch: 5 Train Loss: 0.15563527531921864 Val Loss: 0.08245408873220808\n",
      "Epoch: 6 Train Loss: 0.1313462385038535 Val Loss: 0.070365754152207\n",
      "Epoch: 7 Train Loss: 0.13242210102578003 Val Loss: 0.07015010131228912\n",
      "Epoch: 8 Train Loss: 0.12988864928483962 Val Loss: 0.06491241084509775\n",
      "Epoch: 9 Train Loss: 0.13059402445952098 Val Loss: 0.06394948727010112\n",
      "Epoch: 10 Train Loss: 0.12142405825356642 Val Loss: 0.06367796345760948\n",
      "Epoch: 11 Train Loss: 0.11538417935371399 Val Loss: 0.06161455908103993\n",
      "Epoch: 12 Train Loss: 0.14151105135679246 Val Loss: 0.05916367662384322\n",
      "Epoch: 13 Train Loss: 0.1064505667736133 Val Loss: 0.05693798247528704\n",
      "Epoch: 14 Train Loss: 0.1250037697205941 Val Loss: 0.060439067108458595\n",
      "Epoch: 15 Train Loss: 0.10772641529639562 Val Loss: 0.056239993360481765\n",
      "Epoch: 16 Train Loss: 0.12242325653632481 Val Loss: 0.05600753911819897\n",
      "Epoch: 17 Train Loss: 0.11253693329791228 Val Loss: 0.05355109387126408\n",
      "Epoch: 18 Train Loss: 0.1156024761001269 Val Loss: 0.05344680713881787\n",
      "Epoch: 19 Train Loss: 0.09853251703083515 Val Loss: 0.05302318793378378\n"
     ]
    }
   ],
   "source": [
    "N_EPOCHS = 20\n",
    "tr_loss_hist = []\n",
    "val_loss_hist = []\n",
    "\n",
    "for epoch in range(N_EPOCHS):\n",
    "    # Training \n",
    "    train_loss = 0.0\n",
    "    model.train()\n",
    "    for inputs, labels in trainloader:\n",
    "        inputs, labels = inputs.to(device), labels.to(device)\n",
    "\n",
    "        optimizer.zero_grad()\n",
    "        outputs = model(inputs)\n",
    "        loss = criterion(outputs, labels)\n",
    "        loss.backward()\n",
    "        optimizer.step()\n",
    "        train_loss += loss.item()\n",
    "        \n",
    "    # per epoch\n",
    "    scheduler.step()\n",
    "    \n",
    "    # Validation\n",
    "    val_loss = 0.0\n",
    "    model.eval()\n",
    "    with torch.no_grad():\n",
    "        for inputs, labels in valloader:\n",
    "            inputs, labels = inputs.to(device), labels.to(device)\n",
    "            outputs = model(inputs)\n",
    "            loss = criterion(outputs, labels)\n",
    "            val_loss += loss.item()\n",
    "\n",
    "    print(\"Epoch: {} Train Loss: {} Val Loss: {}\".format(epoch, train_loss/len(trainloader), val_loss/len(valloader)))\n",
    "    tr_loss_hist.append(train_loss/len(trainloader))\n",
    "    val_loss_hist.append(val_loss/len(valloader))"
   ]
  },
  {
   "cell_type": "code",
   "execution_count": 16,
   "id": "353cbea2",
   "metadata": {},
   "outputs": [
    {
     "data": {
      "text/plain": [
       "Text(0.5, 1.0, 'Loss Curves')"
      ]
     },
     "execution_count": 16,
     "metadata": {},
     "output_type": "execute_result"
    },
    {
     "data": {
      "image/png": "[encoded data removed]",
      "text/plain": [
       "<Figure size 600x400 with 1 Axes>"
      ]
     },
     "metadata": {},
     "output_type": "display_data"
    }
   ],
   "source": [
    "plt.figure(figsize=[6, 4])\n",
    "plt.plot(tr_loss_hist, 'black', linewidth=2.0)\n",
    "plt.plot(val_loss_hist, 'blue', linewidth=2.0)\n",
    "plt.legend(['Training Loss', 'Validation Loss'], fontsize=10)\n",
    "plt.xlabel('Epochs', fontsize=10)\n",
    "plt.ylabel('Loss', fontsize=10)\n",
    "plt.title('Loss Curves', fontsize=12)"
   ]
  },
  {
   "cell_type": "code",
   "execution_count": 17,
   "id": "29ff5304",
   "metadata": {},
   "outputs": [],
   "source": [
    "torch.save(model.state_dict(), './models/tl_resnet.pth')"
   ]
  },
  {
   "cell_type": "markdown",
   "id": "fa510cf4",
   "metadata": {},
   "source": [
    "<font color=\"purple\">Now, replace `resnet18` with `alexnet` and repeat the training</font>"
   ]
  },
  {
   "cell_type": "code",
   "execution_count": 25,
   "id": "b92aefd9",
   "metadata": {},
   "outputs": [
    {
     "data": {
      "text/plain": [
       "==========================================================================================\n",
       "Layer (type:depth-idx)                   Output Shape              Param #\n",
       "==========================================================================================\n",
       "AlexNet                                  [16, 1000]                --\n",
       "+ Sequential: 1-1                        [16, 256, 6, 6]           --\n",
       "|    + Conv2d: 2-1                       [16, 64, 55, 55]          23,296\n",
       "|    + ReLU: 2-2                         [16, 64, 55, 55]          --\n",
       "|    + MaxPool2d: 2-3                    [16, 64, 27, 27]          --\n",
       "|    + Conv2d: 2-4                       [16, 192, 27, 27]         307,392\n",
       "|    + ReLU: 2-5                         [16, 192, 27, 27]         --\n",
       "|    + MaxPool2d: 2-6                    [16, 192, 13, 13]         --\n",
       "|    + Conv2d: 2-7                       [16, 384, 13, 13]         663,936\n",
       "|    + ReLU: 2-8                         [16, 384, 13, 13]         --\n",
       "|    + Conv2d: 2-9                       [16, 256, 13, 13]         884,992\n",
       "|    + ReLU: 2-10                        [16, 256, 13, 13]         --\n",
       "|    + Conv2d: 2-11                      [16, 256, 13, 13]         590,080\n",
       "|    + ReLU: 2-12                        [16, 256, 13, 13]         --\n",
       "|    + MaxPool2d: 2-13                   [16, 256, 6, 6]           --\n",
       "+ AdaptiveAvgPool2d: 1-2                 [16, 256, 6, 6]           --\n",
       "+ Sequential: 1-3                        [16, 1000]                --\n",
       "|    + Dropout: 2-14                     [16, 9216]                --\n",
       "|    + Linear: 2-15                      [16, 4096]                37,752,832\n",
       "|    + ReLU: 2-16                        [16, 4096]                --\n",
       "|    + Dropout: 2-17                     [16, 4096]                --\n",
       "|    + Linear: 2-18                      [16, 4096]                16,781,312\n",
       "|    + ReLU: 2-19                        [16, 4096]                --\n",
       "|    + Linear: 2-20                      [16, 1000]                4,097,000\n",
       "==========================================================================================\n",
       "Total params: 61,100,840\n",
       "Trainable params: 61,100,840\n",
       "Non-trainable params: 0\n",
       "Total mult-adds (Units.GIGABYTES): 11.43\n",
       "==========================================================================================\n",
       "Input size (MB): 9.63\n",
       "Forward/backward pass size (MB): 63.26\n",
       "Params size (MB): 244.40\n",
       "Estimated Total Size (MB): 317.29\n",
       "=========================================================================================="
      ]
     },
     "execution_count": 25,
     "metadata": {},
     "output_type": "execute_result"
    }
   ],
   "source": [
    "orig_model = models.alexnet(weights=models.AlexNet_Weights.IMAGENET1K_V1)\n",
    "summary(orig_model, input_size=(16, 3, 224, 224), row_settings=(\"depth\", \"ascii_only\"))"
   ]
  },
  {
   "cell_type": "markdown",
   "id": "27880cde",
   "metadata": {},
   "source": [
    "### Approach 1\n",
    "\n",
    "- use pre-trained weights \n",
    "- not using a feature"
   ]
  },
  {
   "cell_type": "code",
   "execution_count": 26,
   "id": "376746d4",
   "metadata": {},
   "outputs": [],
   "source": [
    "# Create a deepcopy of the original model replacing the final layer for 6-classes instead of 1000\n",
    "alt_model = copy.deepcopy(orig_model)\n",
    "alt_model.fc = nn.Linear(512,6)\n",
    "\n",
    "model = alt_model.to(device)\n",
    "criterion = nn.CrossEntropyLoss()\n",
    "optimizer = optim.SGD(model.parameters(), lr=0.001, momentum=0.9)\n",
    "scheduler = lr_scheduler.LinearLR(optimizer, start_factor=1.0, end_factor=0.25, total_iters=10)"
   ]
  },
  {
   "cell_type": "code",
   "execution_count": 27,
   "id": "cbd1f120",
   "metadata": {},
   "outputs": [
    {
     "name": "stdout",
     "output_type": "stream",
     "text": [
      "Epoch: 0 Train Loss: 1.0058143773302435 Val Loss: 0.10622034381192766\n",
      "Epoch: 1 Train Loss: 0.08766043577343226 Val Loss: 0.04872285422721976\n",
      "Epoch: 2 Train Loss: 0.08529014995321632 Val Loss: 0.07784946141213081\n",
      "Epoch: 3 Train Loss: 0.04686861799408992 Val Loss: 0.029312997122791496\n",
      "Epoch: 4 Train Loss: 0.02049825112645825 Val Loss: 0.044608854973902407\n",
      "Epoch: 5 Train Loss: 0.01515666080522351 Val Loss: 0.01632363009404894\n",
      "Epoch: 6 Train Loss: 0.009508194255953034 Val Loss: 0.017415325489549247\n",
      "Epoch: 7 Train Loss: 0.006025125132194565 Val Loss: 0.013781076720509813\n",
      "Epoch: 8 Train Loss: 0.0078194746763135 Val Loss: 0.02454400452973603\n",
      "Epoch: 9 Train Loss: 0.008805146805486098 Val Loss: 0.017077549688493537\n",
      "Epoch: 10 Train Loss: 0.015155909536406397 Val Loss: 0.04395016032829421\n",
      "Epoch: 11 Train Loss: 0.020594812176811198 Val Loss: 0.018513427802980386\n",
      "Epoch: 12 Train Loss: 0.003454488397789343 Val Loss: 0.011749398610510596\n",
      "Epoch: 13 Train Loss: 0.0021315930378235258 Val Loss: 0.016249788667281745\n",
      "Epoch: 14 Train Loss: 0.0020529044750340593 Val Loss: 0.011735857985226366\n",
      "Epoch: 15 Train Loss: 0.001899334048309053 Val Loss: 0.0119010740589051\n",
      "Epoch: 16 Train Loss: 0.005385140412060233 Val Loss: 0.01735708112674298\n",
      "Epoch: 17 Train Loss: 0.001026771652783888 Val Loss: 0.014104781572673107\n",
      "Epoch: 18 Train Loss: 0.0010550344109651632 Val Loss: 0.011421471684307585\n",
      "Epoch: 19 Train Loss: 0.000789854169136864 Val Loss: 0.014936702145728543\n"
     ]
    }
   ],
   "source": [
    "N_EPOCHS = 20\n",
    "tr_loss_hist = []\n",
    "val_loss_hist = []\n",
    "\n",
    "for epoch in range(N_EPOCHS):\n",
    "    \n",
    "    # Training \n",
    "    train_loss = 0.0\n",
    "    model.train()\n",
    "    for inputs, labels in trainloader:\n",
    "        inputs, labels = inputs.to(device), labels.to(device)\n",
    "\n",
    "        optimizer.zero_grad()\n",
    "        outputs = model(inputs)\n",
    "        loss = criterion(outputs, labels)\n",
    "        loss.backward()\n",
    "        optimizer.step()\n",
    "        \n",
    "        # per step\n",
    "        scheduler.step()\n",
    "\n",
    "        train_loss += loss.item()\n",
    "\n",
    "    # Validation\n",
    "    val_loss = 0.0\n",
    "    model.eval()\n",
    "    with torch.no_grad():\n",
    "        for inputs, labels in valloader:\n",
    "            inputs, labels = inputs.to(device), labels.to(device)\n",
    "            outputs = model(inputs)\n",
    "            loss = criterion(outputs, labels)\n",
    "            val_loss += loss.item()\n",
    "        \n",
    "    print(\"Epoch: {} Train Loss: {} Val Loss: {}\".format(epoch, train_loss/len(trainloader), val_loss/len(valloader)))\n",
    "    tr_loss_hist.append(train_loss/len(trainloader))\n",
    "    val_loss_hist.append(val_loss/len(valloader))"
   ]
  },
  {
   "cell_type": "code",
   "execution_count": 28,
   "id": "e5f1adea",
   "metadata": {},
   "outputs": [
    {
     "data": {
      "text/plain": [
       "Text(0.5, 1.0, 'Loss Curves')"
      ]
     },
     "execution_count": 28,
     "metadata": {},
     "output_type": "execute_result"
    },
    {
     "data": {
      "image/png": "[encoded data removed]",
      "text/plain": [
       "<Figure size 600x400 with 1 Axes>"
      ]
     },
     "metadata": {},
     "output_type": "display_data"
    }
   ],
   "source": [
    "plt.figure(figsize=[6, 4])\n",
    "plt.plot(tr_loss_hist, 'black', linewidth=2.0)\n",
    "plt.plot(val_loss_hist, 'blue', linewidth=2.0)\n",
    "plt.legend(['Training Loss', 'Validation Loss'], fontsize=10)\n",
    "plt.xlabel('Epochs', fontsize=10)\n",
    "plt.ylabel('Loss', fontsize=10)\n",
    "plt.title('Loss Curves', fontsize=12)"
   ]
  },
  {
   "cell_type": "markdown",
   "id": "f9a0f57b",
   "metadata": {},
   "source": [
    "### Approach 2\n",
    "- use pre-trained weights\n",
    "- create a feature extractor"
   ]
  },
  {
   "cell_type": "code",
   "execution_count": 31,
   "id": "4cf0d92a",
   "metadata": {},
   "outputs": [
    {
     "data": {
      "text/plain": [
       "==========================================================================================\n",
       "Layer (type:depth-idx)                   Output Shape              Param #\n",
       "==========================================================================================\n",
       "Sequential                               [16, 6]                   --\n",
       "+ Conv2d: 1-1                            [16, 64, 55, 55]          (23,296)\n",
       "+ ReLU: 1-2                              [16, 64, 55, 55]          --\n",
       "+ MaxPool2d: 1-3                         [16, 64, 27, 27]          --\n",
       "+ Conv2d: 1-4                            [16, 192, 27, 27]         (307,392)\n",
       "+ ReLU: 1-5                              [16, 192, 27, 27]         --\n",
       "+ MaxPool2d: 1-6                         [16, 192, 13, 13]         --\n",
       "+ Conv2d: 1-7                            [16, 384, 13, 13]         (663,936)\n",
       "+ ReLU: 1-8                              [16, 384, 13, 13]         --\n",
       "+ Conv2d: 1-9                            [16, 256, 13, 13]         (884,992)\n",
       "+ ReLU: 1-10                             [16, 256, 13, 13]         --\n",
       "+ Conv2d: 1-11                           [16, 256, 13, 13]         (590,080)\n",
       "+ ReLU: 1-12                             [16, 256, 13, 13]         --\n",
       "+ MaxPool2d: 1-13                        [16, 256, 6, 6]           --\n",
       "+ Flatten: 1-14                          [16, 9216]                --\n",
       "+ Linear: 1-15                           [16, 6]                   55,302\n",
       "==========================================================================================\n",
       "Total params: 2,524,998\n",
       "Trainable params: 55,302\n",
       "Non-trainable params: 2,469,696\n",
       "Total mult-adds (Units.GIGABYTES): 10.50\n",
       "==========================================================================================\n",
       "Input size (MB): 9.63\n",
       "Forward/backward pass size (MB): 62.08\n",
       "Params size (MB): 10.10\n",
       "Estimated Total Size (MB): 81.81\n",
       "=========================================================================================="
      ]
     },
     "execution_count": 31,
     "metadata": {},
     "output_type": "execute_result"
    }
   ],
   "source": [
    "# get all the layers except the classifier\n",
    "layers = list(orig_model.features)\n",
    "layers.append(nn.Flatten()) # flatten the output of the convolutional layers\n",
    "\n",
    "# freeze parameters in the feature extractor\n",
    "for param in orig_model.parameters():\n",
    "    param.requires_grad = False\n",
    "    \n",
    "# Note: AlexNet's feature vector size is 256*6*6 after flattening when the input is 224x224\n",
    "layers.append(nn.Linear(256*6*6, 6)) # append new classifier\n",
    "\n",
    "# Create the new model\n",
    "vec_model = nn.Sequential(*layers)\n",
    "model = vec_model.to(device)\n",
    "\n",
    "summary(vec_model, input_size=(16, 3, 224, 224), row_settings=(\"depth\", \"ascii_only\"))"
   ]
  },
  {
   "cell_type": "code",
   "execution_count": 32,
   "id": "588249b5",
   "metadata": {},
   "outputs": [],
   "source": [
    "criterion = nn.CrossEntropyLoss()\n",
    "optimizer = optim.SGD(model.parameters(), lr=0.001, momentum=0.9)\n",
    "scheduler = lr_scheduler.LinearLR(optimizer, start_factor=1.0, end_factor=0.25, total_iters=10)"
   ]
  },
  {
   "cell_type": "code",
   "execution_count": 33,
   "id": "ac74480e",
   "metadata": {},
   "outputs": [
    {
     "name": "stdout",
     "output_type": "stream",
     "text": [
      "Epoch: 0 Train Loss: 0.45278219431638717 Val Loss: 0.17827714028719224\n",
      "Epoch: 1 Train Loss: 0.13249883939822515 Val Loss: 0.11067480574312963\n",
      "Epoch: 2 Train Loss: 0.09186411122481028 Val Loss: 0.08981953811292585\n",
      "Epoch: 3 Train Loss: 0.07247208972771962 Val Loss: 0.07266771994335086\n",
      "Epoch: 4 Train Loss: 0.058772495624919735 Val Loss: 0.06333426582185846\n",
      "Epoch: 5 Train Loss: 0.05051117796450853 Val Loss: 0.059401900801611576\n",
      "Epoch: 6 Train Loss: 0.044622983150184155 Val Loss: 0.053538992902950236\n",
      "Epoch: 7 Train Loss: 0.039953430083890754 Val Loss: 0.049981442084045785\n",
      "Epoch: 8 Train Loss: 0.035761762969195844 Val Loss: 0.04692149784808096\n",
      "Epoch: 9 Train Loss: 0.032892584651708606 Val Loss: 0.04462025971396973\n",
      "Epoch: 10 Train Loss: 0.03055022389938434 Val Loss: 0.042590403782301826\n",
      "Epoch: 11 Train Loss: 0.028054327772309384 Val Loss: 0.041022573646746184\n",
      "Epoch: 12 Train Loss: 0.02612361258516709 Val Loss: 0.03883642425123406\n",
      "Epoch: 13 Train Loss: 0.0247371177872022 Val Loss: 0.03777446308614392\n",
      "Epoch: 14 Train Loss: 0.023418043423444033 Val Loss: 0.03607587429915408\n",
      "Epoch: 15 Train Loss: 0.02192045814047257 Val Loss: 0.03518581971232044\n",
      "Epoch: 16 Train Loss: 0.020879601649940013 Val Loss: 0.0342368970649611\n",
      "Epoch: 17 Train Loss: 0.01974522914116581 Val Loss: 0.03378779635960726\n",
      "Epoch: 18 Train Loss: 0.01897305426808695 Val Loss: 0.032538716521996414\n",
      "Epoch: 19 Train Loss: 0.018082468596597512 Val Loss: 0.0317091163811519\n"
     ]
    }
   ],
   "source": [
    "N_EPOCHS = 20\n",
    "tr_loss_hist = []\n",
    "val_loss_hist = []\n",
    "\n",
    "for epoch in range(N_EPOCHS):\n",
    "    \n",
    "    # Training \n",
    "    train_loss = 0.0\n",
    "    model.train()\n",
    "    for inputs, labels in trainloader:\n",
    "        inputs, labels = inputs.to(device), labels.to(device)\n",
    "\n",
    "        optimizer.zero_grad()\n",
    "        outputs = model(inputs)\n",
    "        loss = criterion(outputs, labels)\n",
    "        loss.backward()\n",
    "        optimizer.step()\n",
    "        \n",
    "        # per step\n",
    "        scheduler.step()\n",
    "\n",
    "        train_loss += loss.item()\n",
    "\n",
    "    # Validation\n",
    "    val_loss = 0.0\n",
    "    model.eval()\n",
    "    with torch.no_grad():\n",
    "        for inputs, labels in valloader:\n",
    "            inputs, labels = inputs.to(device), labels.to(device)\n",
    "            outputs = model(inputs)\n",
    "            loss = criterion(outputs, labels)\n",
    "            val_loss += loss.item()\n",
    "        \n",
    "    print(\"Epoch: {} Train Loss: {} Val Loss: {}\".format(epoch, train_loss/len(trainloader), val_loss/len(valloader)))\n",
    "    tr_loss_hist.append(train_loss/len(trainloader))\n",
    "    val_loss_hist.append(val_loss/len(valloader))"
   ]
  },
  {
   "cell_type": "code",
   "execution_count": 34,
   "id": "76c253ab",
   "metadata": {},
   "outputs": [
    {
     "data": {
      "text/plain": [
       "Text(0.5, 1.0, 'Loss Curves')"
      ]
     },
     "execution_count": 34,
     "metadata": {},
     "output_type": "execute_result"
    },
    {
     "data": {
      "image/png": "[encoded data removed]",
      "text/plain": [
       "<Figure size 600x400 with 1 Axes>"
      ]
     },
     "metadata": {},
     "output_type": "display_data"
    }
   ],
   "source": [
    "plt.figure(figsize=[6, 4])\n",
    "plt.plot(tr_loss_hist, 'black', linewidth=2.0)\n",
    "plt.plot(val_loss_hist, 'blue', linewidth=2.0)\n",
    "plt.legend(['Training Loss', 'Validation Loss'], fontsize=10)\n",
    "plt.xlabel('Epochs', fontsize=10)\n",
    "plt.ylabel('Loss', fontsize=10)\n",
    "plt.title('Loss Curves', fontsize=12)"
   ]
  },
  {
   "cell_type": "markdown",
   "id": "39e7c6dc",
   "metadata": {},
   "source": [
    "### References\n",
    "- [Nepture.ai](https://neptune.ai/blog/transfer-learning-guide-examples-for-images-and-text-in-keras)\n",
    "- [Towards Data Science](https://towardsdatascience.com/a-comprehensive-hands-on-guide-to-transfer-learning-with-real-world-applications-in-deep-learning-212bf3b2f27a)"
   ]
  }
 ],
 "metadata": {
  "kernelspec": {
   "display_name": "ml",
   "language": "python",
   "name": "ml"
  },
  "language_info": {
   "codemirror_mode": {
    "name": "ipython",
    "version": 3
   },
   "file_extension": ".py",
   "mimetype": "text/x-python",
   "name": "python",
   "nbconvert_exporter": "python",
   "pygments_lexer": "ipython3",
   "version": "3.11.0"
  }
 },
 "nbformat": 4,
 "nbformat_minor": 5
}
