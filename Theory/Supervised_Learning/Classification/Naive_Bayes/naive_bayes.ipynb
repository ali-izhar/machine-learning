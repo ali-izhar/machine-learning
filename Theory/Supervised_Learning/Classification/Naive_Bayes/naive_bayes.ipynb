{
 "cells": [
  {
   "cell_type": "markdown",
   "id": "e489ce31",
   "metadata": {},
   "source": [
    "# Naive Bayes Classifiers\n",
    "The Naive Bayes classifiers are a family of probabilistic classifiers that are based on applying Bayes' theorem with naive assumption on independence between the features.\n",
    "\n",
    "These classifiers are extremely fast both in training and prediction, and they are also highly scalable and interpretable. Despite their oversimplified assumptions, they often work well on complex real-world problems, especially in text classification tasks such as spam filtering and sentiment analysis, where their naive assumption largely holds."
   ]
  },
  {
   "cell_type": "markdown",
   "id": "cf42e07d",
   "metadata": {},
   "source": [
    "## Background: Bayes’ Theorem\n",
    "Bayes' theorem (or Bayes' rule) is an important theorem in probability that allows us to compute the conditional probability of an event, based on prior knowledge of conditions that are related to that event.\n",
    "\n",
    "Mathematically, the theorem states that for any events $A$ and $B$:\n",
    "\n",
    "$$P(A \\mid B) = \\frac{P(B \\mid A) P(A)}{P(B)}$$\n",
    "\n",
    "- $P(A \\mid B)$ is the **posterior probability of $A$ given $B$, i.e., the probability of event $A$ occurring given that $B$ has occurred.\n",
    "- $P(B \\mid A)$ is the likelihood of $B$ given $A$, i.e., the probability of event $B$ occurring given that $A$ has occurred.\n",
    "- $P(A)$ is the prior probability of $A$, i.e., the probability of $A$ without any prior conditions.\n",
    "- $P(B)$ is the marginal probability of $B$, i.e., the probability of $B$ without any prior conditions.\n",
    "\n",
    "Bayes’ theorem is particularly useful for inferring causes from their effects, since it is often easier to discern the probability of an effect given the presence or absence of its cause, rather than the other way around. For example, it is much easier to estimate the probability that a patient with meningitis will suffer from a headache, than the other way around (since many other diseases can cause an headache). In such cases, we can apply Bayes’ rule as follows:\n",
    "\n",
    "$$P(\\text{cause} \\mid \\text{effect}) = \\frac{P(\\text{effect} \\mid \\text{cause}) P(\\text{cause})}{P(\\text{effect})}$$"
   ]
  },
  {
   "cell_type": "code",
   "execution_count": null,
   "id": "93e7805b",
   "metadata": {},
   "outputs": [],
   "source": []
  },
  {
   "cell_type": "code",
   "execution_count": null,
   "id": "5f192fc0",
   "metadata": {},
   "outputs": [],
   "source": []
  },
  {
   "cell_type": "code",
   "execution_count": null,
   "id": "dff186a6",
   "metadata": {},
   "outputs": [],
   "source": []
  }
 ],
 "metadata": {
  "kernelspec": {
   "display_name": "Data Mining (venv)",
   "language": "python",
   "name": "venv"
  },
  "language_info": {
   "codemirror_mode": {
    "name": "ipython",
    "version": 3
   },
   "file_extension": ".py",
   "mimetype": "text/x-python",
   "name": "python",
   "nbconvert_exporter": "python",
   "pygments_lexer": "ipython3",
   "version": "3.11.0"
  }
 },
 "nbformat": 4,
 "nbformat_minor": 5
}
