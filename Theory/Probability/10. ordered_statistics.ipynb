{
 "cells": [
  {
   "cell_type": "markdown",
   "id": "8015a9ef",
   "metadata": {},
   "source": [
    "# 10. Ordered Statistics\n",
    "<hr>\n",
    "\n",
    "Let $Y_1,Y_2, \\cdots, Y_n$ denote independent continuous random variables with distribution function $F(y)$ and density function $f(y)$. We denote ordered random variables $Y_i$ by $Y_{(1)},Y_{(2)}, \\cdots ,Y_{(n)}$, where:\n",
    "\n",
    "$$Y_{(1)} \\leq Y_{(2)} \\leq \\cdots \\leq Y_{(n)}$$\n",
    "\n",
    "Using this notation:\n",
    "\n",
    "$$Y_{(1)} = \\min{(Y_1, Y_2, \\cdots, Y_n)}$$\n",
    "\n",
    "$$Y_{(n)} = \\max{(Y_1, Y_2, \\cdots, Y_n)}$$"
   ]
  },
  {
   "cell_type": "markdown",
   "id": "fd444138",
   "metadata": {},
   "source": [
    "## 10.1 Ordered Maximum Statistic\n",
    "<hr>\n",
    "\n",
    "Since all events, $Y_1,Y_2, \\cdots ,Y_n$ are randomly sampled and iid:\n",
    "\n",
    "$$F_{Y_{(n)}} = P\\left( Y_{(n)} \\leq y \\right) = P(Y_1 \\leq y, Y_2 \\leq y, \\cdots, Y_n \\leq y) = P(Y_1 \\leq y) P(Y_2 \\leq y) \\cdots P(Y_n \\leq y) = \\left[ F(y) \\right]^n$$\n",
    "\n",
    "<hr>\n",
    "\n",
    "$$f_{Y_{(n)}}(y) = \\frac{d}{dy} \\left[ F(y) \\right]^n = n\\left[ F(y) \\right]^{n-1} f(y)$$\n",
    "\n",
    "<hr>\n",
    "\n",
    "\n",
    "**Example:** Customers being served according to an exponential distribution with mean 2 mins. If we have 5 customers, what is the probability that the last customer to complete service is finished within 3.5 minutes?\n",
    "\n",
    "Intuitively, since the mean for the distribution is 2, and we're interested in finding the probability that a customer completes service in 3.5 - which is well above the average - the probability should be decent.\n",
    "\n",
    "$$P\\left( Y_{(5)} \\leq 3.5 \\right) = F_{(5)}(3.5) = \\left[ 1-e^{-\\frac{y}{\\beta}} \\right]^5 = \\left[ 1-e^{-\\frac{3.5}{2}} \\right]^5 = 0.3850$$"
   ]
  },
  {
   "cell_type": "markdown",
   "id": "190c886f",
   "metadata": {},
   "source": [
    "## 10.2 Ordered Minimum Statistic\n",
    "<hr>\n",
    "\n",
    "$$F_{Y_{(1)}} = P\\left( Y_{(1)} \\leq y \\right) = 1- P\\left( Y_{(1)} > y \\right) = 1 - [P(Y_1 > y) P(Y_2 > y) \\cdots P(Y_n > y)] = 1- \\left[ (1-F(y)) (1-F(y)) \\cdots (1-F(y)) \\right] = 1- \\left[ \\left(1-F(y) \\right) \\right]^n$$\n",
    "\n",
    "$$f_{Y_{(1)}} = \\frac{d}{dy} = 1- \\left[ \\left(1-F(y) \\right) \\right]^n = -n \\left[ 1- F(y)\\right]^{n-1} (-f(y)) = n\\left[1-F(y)\\right]^{n-1} f(y)$$\n",
    "\n",
    "<hr>\n",
    "\n",
    "$$f_{Y_{(1)}} =n\\left[1-F(y)\\right]^{n-1} f(y)$$\n",
    "\n",
    "<hr>\n",
    "\n",
    "**Example:** What is the probability that it takes more than 3.5 minutes for the first customer to complete service?\n",
    "Intuitively, it takes on average 2 minutes for a customer to complete service. Therefore, for the first customer to complete service in more than 3.5 minutes should not be very likely.\n",
    "\n",
    "$$P(Y_{(1)} > 3.5) = 1- P(Y_{(1)} \\leq 3.5) = 1-1-[1-F(y)]^n = - \\left[ 1-e^{- \\frac{y}{\\beta}} \\right]^n = -\\left[ 1-e^{-\\frac{(3.5)5}{2}} \\right] = 0.0016$$"
   ]
  },
  {
   "cell_type": "markdown",
   "id": "3c43cc26",
   "metadata": {},
   "source": [
    "## 10.3 Ordered In-Between Statistic\n",
    "<hr>\n",
    "\n",
    "$$P(y \\leq Y \\leq y + dy) \\approx f(y) dy$$\n",
    "\n",
    "If the $k$th largest value is near $y_k$, then $k-1$ of the $Y$'s must be less than $y_k$, one of the $Y$'s must be near $y_k$, and the remaining $n-k$ of the $Y$'s must be larger than $y_k$. Using the multinomial distribution, we have three classes of the values of $Y$:\n",
    "\n",
    "| classes | probabilities |\n",
    "| --- | --- |\n",
    "| $$y_k > k-1$$ | $$p_1 = P(Y<y_k) = F(y_k)$$ |\n",
    "| $$\\text{1 near} \\ y_k$$ | $$p_2 \\approx f(y_k) dy_k$$ |\n",
    "| $$y_k < n-k$$ | $$p_3 = P(Y > y_k) = 1-F(y_k)$$ |\n",
    "\n",
    "$$P(y_k \\leq Y_{(k)} \\leq y_k + dy_k) \\approx \\frac{n!}{(k-1)! 1! (n-k)!} \\times [F(y_k)]^{k-1} [f(y_k) dy_k]^1 [1-F(y_k)]^{n-k}$$\n",
    "\n",
    "$$g_{(k)} (y_k) dy_k \\approx \\frac{n!}{(k-1)! 1! (n-k)!} \\times [F(y_k)]^{k-1} [f(y_k) dy_k]^1 [1-F(y_k)]^{n-k}$$\n",
    "\n",
    "<hr>\n",
    "\n",
    "$$g_{(k)} (y_k) \\approx \\frac{n!}{(k-1)! 1! (n-k)!} \\times [F(y_k)]^{k-1} [f(y_k)]^1 [1-F(y_k)]^{n-k}$$\n",
    "\n",
    "<hr>"
   ]
  }
 ],
 "metadata": {
  "kernelspec": {
   "display_name": "Data Mining (venv)",
   "language": "python",
   "name": "venv"
  },
  "language_info": {
   "codemirror_mode": {
    "name": "ipython",
    "version": 3
   },
   "file_extension": ".py",
   "mimetype": "text/x-python",
   "name": "python",
   "nbconvert_exporter": "python",
   "pygments_lexer": "ipython3",
   "version": "3.11.0"
  }
 },
 "nbformat": 4,
 "nbformat_minor": 5
}
