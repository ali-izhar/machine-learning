{
 "cells": [
  {
   "cell_type": "markdown",
   "id": "08ed2b1f",
   "metadata": {},
   "source": [
    "# 2. Conditional Probability\n",
    "<hr>\n",
    "\n",
    "Conditional probability is adjusted probability based on some known information. The probability of an event $A$ conditioned on another event $B$ is given as:\n",
    "\n",
    "$$P(A \\mid B) = \\frac{P(A \\cap B)}{P(B)}$$\n",
    "\n",
    "OR...\n",
    "\n",
    "$$P(B \\mid A) = \\frac{P(A \\cap B)}{P(A)}$$\n",
    "\n",
    "**Question:** Given 2 events $A$ and $B$ such that $P(A \\cap B)=0.4$ and $P(B)=0.8$, find the probability $P(A \\mid B)$?\n",
    "\n",
    "$P(A \\mid B)$ means that \"how much is $A$ worth if we were to consider $B$ as our reduced sample space?\n",
    "\n",
    "$$P(B) = 0.8$$\n",
    "$$P(A \\cap B) = 0.4$$\n",
    "$$P(A \\mid B) = \\frac{P(A \\cap B)}{P(B)} = \\frac{0.4}{0.8} = \\frac{1}{2}$$\n",
    "\n",
    "**Question**: Celine is undecided as to whether to take a French course or a Chemistry course. She estimates that her probability of receiving an A grade would be 1/2 in a French course and 2/3 in a Chemistry course. If she decides to base her decision on the flip of a fair coin, what is the probability that she takes a chemistry course and receives and A?\n",
    "Solution. Given the following information:\n",
    "\n",
    "- Her probability of receiving an A would be 1/2 in a French course: $P(A \\mid F) = \\frac{1}{2}$\n",
    "- Her probability of receiving an A would be 2/3 in a Chemistry course: $P(A \\mid C) = \\frac{2}{3}$\n",
    "- She bases her decision on the flip of a fair coin: $P(F) = P(C) = \\frac{1}{2}$\n",
    "- What is $P(C \\cap A) = ?$\n",
    "\n",
    "$$P(C \\cap A) = P(A \\mid C) \\times P(C) \\tag{1}$$\n",
    "\n",
    "We could also use $P(C \\cap A)=P(C \\mid A) \\times P(A)$ but this equation has unknown information that is not provided in the problem statement.\n",
    "\n",
    "By equation $(1)$,\n",
    "\n",
    "$$P(C \\cap A) = \\frac{2}{3} \\times \\frac{1}{2} = \\frac{1}{3}$$"
   ]
  },
  {
   "cell_type": "markdown",
   "id": "daac7eed",
   "metadata": {},
   "source": [
    "## 2.1 Baye's Rule\n",
    "<hr>\n",
    "\n",
    "$$P(A \\mid B) = \\frac{P(A \\cap B)}{P(B)}$$\n",
    "\n",
    "The goal of Baye's formula is to write the right-hand side of the above equation in terms of conditional probability. To write the right-hand side in terms of conditional probability, we are going to condition $B$ on $A$ because $A \\mid B$ is the unknown on the left-hand side.\n",
    "\n",
    "$$P(A \\mid B) = \\frac{P(A \\cap B)}{P(B)} = \\frac{P(B \\mid A) P(A)}{P(B)} = \\frac{P(B \\mid A) P(A)}{P(B \\cap A^c) + P(B \\cap A)} = \\frac{P(B \\mid A) P(A)}{P(B \\mid A^c) P(A^c) + P(B \\mid A) P(A)}$$\n",
    "\n",
    "Therefore, the Baye's Theorem is:\n",
    "\n",
    "\\begin{align}\n",
    "P(A \\mid B) &= \\frac{P(B \\mid A) P(A)}{P(B \\mid A) P(A) + P(B \\mid A^c)P(A^c)} & \\hfill \\text{Bayes' Theorem}\n",
    "\\end{align}\n",
    "\n",
    "\n",
    "We call this the **Law of Total Probability**.\n",
    "\n",
    "**Question**. A lab blood test is 95% effective in detecting a certain disease when it is in fact present. However, the test yields a false positive for 1% of healthy persons tested. If 0.5% of the population actually has the disease, what's the probability that a person has the disease given that the test result is positive?\n",
    "\n",
    "Let $D$ be the event that a person has the disease. Then $D^c$ is the event where the person does not have the disease.\n",
    "\n",
    "<div style=\"align:center\">\n",
    "    <img src=\"media/bayes.png\" width=500>\n",
    "</div>\n",
    "\n",
    "$$P(D) = 0.005, P(D^c) = 0.995, P(+ \\mid D) = 0.95, P(- \\mid D) = 0.05, P(+ \\mid D^c) = 0.01, P(- \\mid D^c) = 0.99$$\n",
    "\n",
    "What is $P(D \\mid +) = ?$\n",
    "\n",
    "$$P(D \\mid +) = \\frac{P(+ \\mid D) P(D)}{P(+ \\mid D) P(D) + P(+ \\mid D^c) P(D^c)} = \\frac{(0.95) . (0.005)}{(0.95) . (0.005) + (0.01) . (0.995)} = 32\\%$$"
   ]
  },
  {
   "cell_type": "markdown",
   "id": "3fc36b75",
   "metadata": {},
   "source": [
    "## 2.2 Independent Events\n",
    "<hr>\n",
    "\n",
    "- If $P(A \\mid B) \\neq P(A)$, this means that the chance of $A$ happening depends on the event of $B$ being already happened. Therefore, $A$ and $B$ are dependent on each other.\n",
    "- If $P(A \\mid B) = P(A)$, then the events $A$ and $B$ are independent.\n",
    "\n",
    "\\begin{align}\n",
    "P(A \\mid B) = P(A) \\\\\n",
    "\\frac{P(A \\cap B)}{P(B)} = P(A) \\\\\n",
    "P(A \\cap B) = P(A) . P(B) && \\text{Probability Independence}\n",
    "\\end{align}"
   ]
  }
 ],
 "metadata": {
  "kernelspec": {
   "display_name": "Data Mining (venv)",
   "language": "python",
   "name": "venv"
  },
  "language_info": {
   "codemirror_mode": {
    "name": "ipython",
    "version": 3
   },
   "file_extension": ".py",
   "mimetype": "text/x-python",
   "name": "python",
   "nbconvert_exporter": "python",
   "pygments_lexer": "ipython3",
   "version": "3.11.0"
  }
 },
 "nbformat": 4,
 "nbformat_minor": 5
}
