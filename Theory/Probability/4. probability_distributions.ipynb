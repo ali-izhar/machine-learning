{
 "cells": [
  {
   "cell_type": "markdown",
   "id": "43d97c11",
   "metadata": {},
   "source": [
    "# Probability Models for a Discrete Random Variable\n",
    "<hr>\n",
    "\n",
    "1. Bernoulli random variable\n",
    "2. Binomial random variable\n",
    "3. Poisson random variable\n",
    "4. Geometric random variable\n",
    "5. Hyper geometric random variable\n",
    "6. The negative binomial random variable"
   ]
  },
  {
   "cell_type": "markdown",
   "id": "9f91db69",
   "metadata": {},
   "source": [
    "# Bernoulli Random Variable\n",
    "Suppose an experiment results into two outcomes that can be classified as success or failure.\n",
    "\n",
    "**Example:** In an experiment of tossing a coin, the Bernoulli variable $X$ is either 0 or 1.\n",
    "- Let $X=0$ when the outcome is a failure\n",
    "- Let $X=1$ when the outcome is a success."
   ]
  },
  {
   "cell_type": "code",
   "execution_count": null,
   "id": "dd7b8685",
   "metadata": {},
   "outputs": [],
   "source": []
  },
  {
   "cell_type": "code",
   "execution_count": null,
   "id": "25a92b26",
   "metadata": {},
   "outputs": [],
   "source": []
  }
 ],
 "metadata": {
  "kernelspec": {
   "display_name": "Data Mining (venv)",
   "language": "python",
   "name": "venv"
  },
  "language_info": {
   "codemirror_mode": {
    "name": "ipython",
    "version": 3
   },
   "file_extension": ".py",
   "mimetype": "text/x-python",
   "name": "python",
   "nbconvert_exporter": "python",
   "pygments_lexer": "ipython3",
   "version": "3.11.0"
  }
 },
 "nbformat": 4,
 "nbformat_minor": 5
}
