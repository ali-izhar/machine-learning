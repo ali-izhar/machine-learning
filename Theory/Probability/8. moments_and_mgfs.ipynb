{
 "cells": [
  {
   "cell_type": "markdown",
   "id": "e8927acf",
   "metadata": {},
   "source": [
    "# 8. Conditional Expectations, Moments, and Moment-Generating Functions (MGFs)\n",
    "\n",
    "<hr>\n",
    "\n",
    "Conditional expectation refers to the expected value of a random variable given that certain conditions are met or certain values are observed in another random variable.\n",
    "\n",
    "The conditional expectation of a random variable $X$ given $Y$ is denoted as $E(X \\mid Y)$. It represents the average or mean of $X$ when $Y$ is known.\n",
    "\n",
    "\\begin{align}\n",
    "E(X \\mid Y=y) &= \\sum_{\\forall{x}} x . P(X=x \\mid Y=y) & \\text{(discrete)} \\\\\n",
    "&= \\sum_{\\forall{x}} x \\frac{P(x,y)}{P_Y(y)} \\\\\n",
    "\\\\\n",
    "E(X \\mid Y=y) &= \\int_{\\forall{x}} x . f_{X \\mid Y} (x \\mid y) dx & \\text{(continuous)} \\\\\n",
    "&= \\int_{\\forall{x}} x \\frac{f(x,y)}{f_Y(y)} \\\\\n",
    "\\end{align}\n",
    "\n",
    "### 8.1 Computing Expectations using Conditioning\n",
    "\n",
    "$$E[X] = E_Y [E_X [X \\mid Y=y ]]$$\n",
    "\n",
    "*Proof.* \n",
    "\n",
    "\\begin{align}\n",
    "E_Y [ E_X [X \\mid Y-y ]] &= \\sum_{\\forall{y}} E[X \\mid Y=y] . P(Y=y) \\\\\n",
    "&= \\sum_{\\forall{y}} \\sum_{\\forall{x}} x P(X \\mid Y) . P(Y=y) \\\\\n",
    "&= \\sum_{\\forall{y}} \\sum_{\\forall{x}} x \\frac{P(x,y)}{P_Y(y)} P(Y=y) \\\\\n",
    "&= \\sum_{\\forall{y}} \\sum_{\\forall{x}} x P(x,y) \\\\\n",
    "&= \\sum_{\\forall{x}} x \\sum_{\\forall{y}} P(x,y) \\\\\n",
    "&= \\sum_{\\forall{y}} x P_X(x,y) \\\\\n",
    "&= E[X] \\\\\n",
    "\\end{align}\n",
    "\n",
    "If $X$ and $Y$ are independent, then:\n",
    "\n",
    "$$E[X \\mid Y] = E[X]$$"
   ]
  },
  {
   "cell_type": "markdown",
   "id": "768b50e9",
   "metadata": {},
   "source": [
    "## 8.2 Moments\n",
    "<hr>\n",
    "\n",
    "In statistics, moments are quantitative measures related to the shape of a distribution's graph. For each integer $n$, the $n$th moment of a random variable $X$ is defined as:\n",
    "\n",
    "$$\\mu'_{n} = E[X^n]$$\n",
    "\n",
    "The $n$th central moment of $X$ is defined as:\n",
    "\n",
    "$$\\mu_n = E[X-\\mu]^n$$\n",
    "\n",
    "- **First Moment (Mean):** The first moment is the expected value or the mean of the distribution.\n",
    "- **Second Moment (Variance):** The second central moment is the variance.\n",
    "- **Higher Moments:** The third moment is related to skewness (asymmetry) and the fourth moment to kurtosis (tailedness). Higher moments are used less frequently but can describe more complex aspects of the distribution's shape.\n",
    "\n",
    "$$E[X^n] = \\sum_{\\forall{x}} x^n p(x)$$"
   ]
  },
  {
   "cell_type": "markdown",
   "id": "6d80e5fd",
   "metadata": {},
   "source": [
    "# 8.3 Moment-Generating Functions (MGFs)\n",
    "<hr>\n",
    "\n",
    "Let $X$ be a random variable with density $f(x)$, then the moment generating function (mgf) is defined as the **Laplace transformation** of $f(x)$. \n",
    "\n",
    "Let the mgf of $X$ is denoted as $M_X (t)$.\n",
    "\n",
    "$$M_X(t) = E_X(e^{tx}) = \\sum_{\\forall{x}} e^{tx} f(x) = \\int_{\\forall{x}} f(x) dx $$\n",
    "\n",
    "**Theorem:** If $X$ is a random variable with MGF $M_X(t)$, then\n",
    "\n",
    "$$ E[X^n] = \\left. \\frac{d^n}{dt^n} M_X(t) \\right|_{t=0} $$\n",
    "\n",
    "*Proof.*\n",
    "\n",
    "$$\\frac{d}{dt} M_X(t) = \\frac{d}{dt} \\int_{-\\infty}^{\\infty} e^{tx} f(x) dx = \\int_{-\\infty}^{\\infty} xe^{tx} f(x) dx$$\n",
    "\n",
    "Evaluating at $t=0$:\n",
    "\n",
    "$$\\left. \\frac{d}{dt} M_X(t) \\right|_{t=0} = E[X]$$"
   ]
  },
  {
   "cell_type": "markdown",
   "id": "8a470739",
   "metadata": {},
   "source": [
    "# 8.4 MGFs of Random Variables\n",
    "<hr>\n",
    "\n",
    "## 8.4.1 MGF of Binomial\n",
    "If $X \\sim \\text{Binomial}(n,p)$, then $p(x) = \\binom{n}{x}p^x (1-p)^{n-x}$. Therefore,\n",
    "\n",
    "$$M_X(t) = E_X(e^{tx}) = \\sum_{x} e^{tx} p(x) = \\sum_{x=0}^n e^{tx} \\binom{n}{x}p^x (1-p)^{n-x} = \\sum_{x=0}^n \\binom{n}{x} (e^t p)^x (1-p)^{n-x}$$\n",
    "\n",
    "Since,\n",
    "\n",
    "$$(a+b)^n = \\sum_{i=1}^n \\binom{n}{i}a^i b^{n-i}$$\n",
    "\n",
    "<hr>\n",
    "$$M_X(t) = \\sum_{x=0}^n \\binom{n}{x} (e^t p)^x (1-p)^{n-x} = (e^t p + 1-p)^n) = (pe^t + q)^n$$\n",
    "<hr>\n",
    "\n",
    "**Verify** that $E(X)=np$ and $\\text{Var}(X)=np(1-p)$.\n",
    "\n",
    "By definition, the first moment of $X$ is the $E[X]$ and the second central moment is $Var(X)$.\n",
    "\n",
    "$$E[X] = \\left. \\frac{d}{dt} (pe^t + q)^n \\right|_{t=0} = np$$\n",
    "\n",
    "$$E[X^2] = \\left. \\frac{d^2}{dt^2} (pe^t + q)^n \\right|_{t=0} = np(np+q)$$\n",
    "\n",
    "Therefore,\n",
    "\n",
    "$$\\text{Var}(X) = E[X^2] - \\mu^2 = np(np+q) - (np)^2 = npq$$"
   ]
  },
  {
   "cell_type": "markdown",
   "id": "73f153d5",
   "metadata": {},
   "source": [
    "## 8.4.2 MGF of Geometric\n",
    "$$X \\sim \\text{Geometric}(p)$$"
   ]
  },
  {
   "cell_type": "markdown",
   "id": "1986d0ab",
   "metadata": {},
   "source": [
    "## 8.4.3 MGF of Poisson\n",
    "If $X \\sim \\text{Poisson}(\\lambda)$, then $p(x) = e^{-\\lambda} \\frac{\\lambda^x}{x!}$. Therefore,\n",
    "\n",
    "$$M_X(t) = E_X(e^{tx}) = \\sum_{x} e^{tx} p(x) = \\sum_{x} e^{tx} e^{-\\lambda} \\frac{\\lambda^x}{x!} = e^{-\\lambda} \\sum_{x} e^{tx} \\frac{\\lambda^x}{x!} = e^{-\\lambda} \\sum_{x} \\frac{(e^t\\lambda)^x}{x!}$$\n",
    "\n",
    "Since,\n",
    "\n",
    "$$\\sum_{x=0}^\\infty \\frac{x^n}{n!} = e^x$$\n",
    "\n",
    "<hr>\n",
    "\n",
    "$$M_X(t) = e^{-\\lambda} \\sum_{x} \\frac{(e^t \\lambda)^x}{x!} = e^{-\\lambda} e^{e^t \\lambda} = e^{\\lambda(e^t-1)}$$\n",
    "\n",
    "<hr>\n",
    "\n",
    "**Verify** that $E(X)=\\lambda$ and $\\text{Var}(X)=\\lambda$.\n",
    "\n",
    "By definition, the first moment of $X$ is the $E[X]$ and the second central moment is $Var(X)$.\n",
    "\n",
    "$$E[X] = \\left. \\frac{d}{dt} e^{\\lambda(e^t-1)} \\right|_{t=0} = \\lambda$$\n",
    "\n",
    "$$E[X^2] = \\left. \\frac{d^2}{dt^2} e^{\\lambda(e^t-1)} \\right|_{t=0} = \\lambda^2 + \\lambda$$\n",
    "\n",
    "Therefore,\n",
    "\n",
    "$$\\text{Var}(X) = E[X^2] - \\mu^2 = \\lambda^2 + \\lambda - \\lambda^2 = \\lambda$$"
   ]
  },
  {
   "cell_type": "markdown",
   "id": "e89cd9d9",
   "metadata": {},
   "source": [
    "## 8.4.4 MGF of Uniform\n",
    "$$X \\sim \\text{Uniform}(a, b)$$"
   ]
  },
  {
   "cell_type": "markdown",
   "id": "2d305668",
   "metadata": {},
   "source": [
    "## 8.4.5 MGF of Normal\n",
    "$$X \\sim \\text{Normal}(\\mu, \\sigma^2)$$"
   ]
  },
  {
   "cell_type": "markdown",
   "id": "11bdffbe",
   "metadata": {},
   "source": [
    "## 8.4.6 MGF of Exponential\n",
    "$$X \\sim \\text{exp}(\\lambda)$$"
   ]
  },
  {
   "cell_type": "markdown",
   "id": "f83873af",
   "metadata": {},
   "source": [
    "## 8.4.7 MGF of Gamma\n",
    "$$X \\sim \\text{Gamma}(\\lambda)$$"
   ]
  },
  {
   "cell_type": "markdown",
   "id": "1e55106b",
   "metadata": {},
   "source": [
    "## 8.4.8 MGF of Chi-Square\n",
    "$$X \\sim \\text{\\chi^2}(\\nu)$$"
   ]
  },
  {
   "cell_type": "markdown",
   "id": "c0426b02",
   "metadata": {},
   "source": [
    "## 8.4.9 MGF of Beta\n",
    "**Does not exist in closed-form.**"
   ]
  },
  {
   "cell_type": "code",
   "execution_count": null,
   "id": "56b90a53",
   "metadata": {},
   "outputs": [],
   "source": []
  }
 ],
 "metadata": {
  "kernelspec": {
   "display_name": "Data Mining (venv)",
   "language": "python",
   "name": "venv"
  },
  "language_info": {
   "codemirror_mode": {
    "name": "ipython",
    "version": 3
   },
   "file_extension": ".py",
   "mimetype": "text/x-python",
   "name": "python",
   "nbconvert_exporter": "python",
   "pygments_lexer": "ipython3",
   "version": "3.11.0"
  }
 },
 "nbformat": 4,
 "nbformat_minor": 5
}
