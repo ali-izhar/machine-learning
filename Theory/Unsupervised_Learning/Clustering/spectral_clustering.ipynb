{
 "cells": [
  {
   "cell_type": "markdown",
   "id": "eb50211f",
   "metadata": {},
   "source": [
    "# Spectral Clustering\n",
    "Spectral clustering is a powerful and versatile clustering method that is based on the principles of graph theory and linear algebra. Instead of directly clustering the data in the input space, it constructs a similarity graph where data points are nodes and edges represents similarities between the points.\n",
    "\n",
    "The algorithm then leverages the spectral properties of the graph (i.e., the eigenvalues and eigenvectors of the graph’s Laplacian matrix) to project the data into a lower-dimensional space. In the transformed space, traditional clustering techniques, such as k-means, can be applied more effectively, even when the data has complex, non-linear boundaries in the original space."
   ]
  },
  {
   "cell_type": "markdown",
   "id": "080e0ba3",
   "metadata": {},
   "source": [
    "## Similarity Graph\n",
    "The first step in spectral clustering is to represent the data as a graph, where each node corresponds to a data point, and edges connect nodes based on the distance (or similarity) between the points.\n",
    "\n",
    "There are three common ways to construct the similarity graph:\n",
    "\n",
    "1. **Fully connected:** Every node is connected to every other node, and the edges of the graph are weighted by the similarity of their endpoints.\n",
    "2. **k-nearest neighbors:** Each node is connected only to its k nearest nodes.\n",
    "3. **$\\epsilon$-neighborhood:** Nodes are connected only if their distance is less than $\\epsilon$.\n",
    "\n",
    "In the case of a fully connected graph, the weighted adjacency matrix (or adjacency matrix, for short) $W$ of the graph is defined as follows:\n",
    "\n",
    "$$W_{ij} = \\begin{cases}\n",
    "    s(x_i, x_j), \\quad i \\neq j \\\\\n",
    "    0, \\quad\\quad i = j\n",
    "    \\end{cases}\n",
    "$$\n",
    "\n",
    "where $s(x_i, x_j)$ is the the similarity between data points $x_i$ and $x_j$. A commonly used similarity function is the Gaussian radial basis function (RBF):\n",
    "\n",
    "$$s(x_i, x_j) = e^{- \\frac{|| x_i - x_j ||^2}{2 \\sigma^2}}$$\n",
    "\n",
    "where $\\sigma$ is a parameter that controls the width of the neighborhood around each point.\n",
    "\n",
    "For k-nearest neighbors and $\\epsilon$-neighborhood graphs, the adjacency matrix is usually binary, i.e., $W_{ij} = 1$ if nodes $i$ and $j$ are connected, and 0 otherwise."
   ]
  },
  {
   "cell_type": "code",
   "execution_count": null,
   "id": "464b3850",
   "metadata": {},
   "outputs": [],
   "source": [
    "For example, assume that we have the following dataset of 10 two-dimensional points:"
   ]
  },
  {
   "cell_type": "code",
   "execution_count": null,
   "id": "e323d5da",
   "metadata": {},
   "outputs": [],
   "source": []
  },
  {
   "cell_type": "code",
   "execution_count": null,
   "id": "8244223e",
   "metadata": {},
   "outputs": [],
   "source": []
  },
  {
   "cell_type": "code",
   "execution_count": null,
   "id": "2c145261",
   "metadata": {},
   "outputs": [],
   "source": []
  },
  {
   "cell_type": "code",
   "execution_count": null,
   "id": "37624e04",
   "metadata": {},
   "outputs": [],
   "source": []
  },
  {
   "cell_type": "code",
   "execution_count": null,
   "id": "f7515991",
   "metadata": {},
   "outputs": [],
   "source": []
  },
  {
   "cell_type": "code",
   "execution_count": null,
   "id": "fd0e4206",
   "metadata": {},
   "outputs": [],
   "source": []
  },
  {
   "cell_type": "code",
   "execution_count": null,
   "id": "fca830a7",
   "metadata": {},
   "outputs": [],
   "source": []
  }
 ],
 "metadata": {
  "kernelspec": {
   "display_name": "Data Mining (venv)",
   "language": "python",
   "name": "venv"
  },
  "language_info": {
   "codemirror_mode": {
    "name": "ipython",
    "version": 3
   },
   "file_extension": ".py",
   "mimetype": "text/x-python",
   "name": "python",
   "nbconvert_exporter": "python",
   "pygments_lexer": "ipython3",
   "version": "3.11.0"
  }
 },
 "nbformat": 4,
 "nbformat_minor": 5
}
