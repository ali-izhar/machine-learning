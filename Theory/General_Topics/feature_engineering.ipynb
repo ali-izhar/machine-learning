{
 "cells": [
  {
   "cell_type": "markdown",
   "id": "85037e6d",
   "metadata": {},
   "source": [
    "# Feature Engineering\n",
    "Feature engineering is a process in which we create new features from the existing features in our data set. The new features are often more relevant to the prediction task than the original set of features, and thus can help the machine learning model achieve better results.\n",
    "\n",
    "Sometimes the new features are created by applying simple arithmetic operations, such as calculating ratios or sums from the original features. In other cases, more specific domain-knowledge on the data set is required in order to come up with good indicative features.\n",
    "\n",
    "To demonstrate feature engineering, we will use the California housing dataset available at Scikit-Learn. The objective in this data set is to predict the median house value of a given district in California, given different features of that district, such as the median income or the average number of rooms per household."
   ]
  },
  {
   "cell_type": "code",
   "execution_count": 4,
   "id": "8777869b",
   "metadata": {},
   "outputs": [],
   "source": [
    "import numpy as np\n",
    "import matplotlib.pyplot as plt\n",
    "import pandas as pd\n",
    "import seaborn as sns\n",
    "\n",
    "from sklearn.datasets import fetch_california_housing\n",
    "from sklearn.model_selection import train_test_split\n",
    "from sklearn.linear_model import LinearRegression"
   ]
  },
  {
   "cell_type": "code",
   "execution_count": 5,
   "id": "2dbe8d1e",
   "metadata": {},
   "outputs": [],
   "source": [
    "data = fetch_california_housing()\n",
    "X, y = data.data, data.target\n",
    "feature_names = data.feature_names"
   ]
  },
  {
   "cell_type": "code",
   "execution_count": 7,
   "id": "f50af75f",
   "metadata": {},
   "outputs": [
    {
     "data": {
      "text/plain": [
       "['MedInc',\n",
       " 'HouseAge',\n",
       " 'AveRooms',\n",
       " 'AveBedrms',\n",
       " 'Population',\n",
       " 'AveOccup',\n",
       " 'Latitude',\n",
       " 'Longitude']"
      ]
     },
     "execution_count": 7,
     "metadata": {},
     "output_type": "execute_result"
    }
   ],
   "source": [
    "feature_names"
   ]
  },
  {
   "cell_type": "code",
   "execution_count": 6,
   "id": "505f6733",
   "metadata": {},
   "outputs": [
    {
     "data": {
      "text/html": [
       "<div>\n",
       "<style scoped>\n",
       "    .dataframe tbody tr th:only-of-type {\n",
       "        vertical-align: middle;\n",
       "    }\n",
       "\n",
       "    .dataframe tbody tr th {\n",
       "        vertical-align: top;\n",
       "    }\n",
       "\n",
       "    .dataframe thead th {\n",
       "        text-align: right;\n",
       "    }\n",
       "</style>\n",
       "<table border=\"1\" class=\"dataframe\">\n",
       "  <thead>\n",
       "    <tr style=\"text-align: right;\">\n",
       "      <th></th>\n",
       "      <th>MedInc</th>\n",
       "      <th>HouseAge</th>\n",
       "      <th>AveRooms</th>\n",
       "      <th>AveBedrms</th>\n",
       "      <th>Population</th>\n",
       "      <th>AveOccup</th>\n",
       "      <th>Latitude</th>\n",
       "      <th>Longitude</th>\n",
       "      <th>MedianValue</th>\n",
       "    </tr>\n",
       "  </thead>\n",
       "  <tbody>\n",
       "    <tr>\n",
       "      <th>0</th>\n",
       "      <td>8.3252</td>\n",
       "      <td>41.0</td>\n",
       "      <td>6.984127</td>\n",
       "      <td>1.023810</td>\n",
       "      <td>322.0</td>\n",
       "      <td>2.555556</td>\n",
       "      <td>37.88</td>\n",
       "      <td>-122.23</td>\n",
       "      <td>4.526</td>\n",
       "    </tr>\n",
       "    <tr>\n",
       "      <th>1</th>\n",
       "      <td>8.3014</td>\n",
       "      <td>21.0</td>\n",
       "      <td>6.238137</td>\n",
       "      <td>0.971880</td>\n",
       "      <td>2401.0</td>\n",
       "      <td>2.109842</td>\n",
       "      <td>37.86</td>\n",
       "      <td>-122.22</td>\n",
       "      <td>3.585</td>\n",
       "    </tr>\n",
       "    <tr>\n",
       "      <th>2</th>\n",
       "      <td>7.2574</td>\n",
       "      <td>52.0</td>\n",
       "      <td>8.288136</td>\n",
       "      <td>1.073446</td>\n",
       "      <td>496.0</td>\n",
       "      <td>2.802260</td>\n",
       "      <td>37.85</td>\n",
       "      <td>-122.24</td>\n",
       "      <td>3.521</td>\n",
       "    </tr>\n",
       "    <tr>\n",
       "      <th>3</th>\n",
       "      <td>5.6431</td>\n",
       "      <td>52.0</td>\n",
       "      <td>5.817352</td>\n",
       "      <td>1.073059</td>\n",
       "      <td>558.0</td>\n",
       "      <td>2.547945</td>\n",
       "      <td>37.85</td>\n",
       "      <td>-122.25</td>\n",
       "      <td>3.413</td>\n",
       "    </tr>\n",
       "    <tr>\n",
       "      <th>4</th>\n",
       "      <td>3.8462</td>\n",
       "      <td>52.0</td>\n",
       "      <td>6.281853</td>\n",
       "      <td>1.081081</td>\n",
       "      <td>565.0</td>\n",
       "      <td>2.181467</td>\n",
       "      <td>37.85</td>\n",
       "      <td>-122.25</td>\n",
       "      <td>3.422</td>\n",
       "    </tr>\n",
       "  </tbody>\n",
       "</table>\n",
       "</div>"
      ],
      "text/plain": [
       "   MedInc  HouseAge  AveRooms  AveBedrms  Population  AveOccup  Latitude  \\\n",
       "0  8.3252      41.0  6.984127   1.023810       322.0  2.555556     37.88   \n",
       "1  8.3014      21.0  6.238137   0.971880      2401.0  2.109842     37.86   \n",
       "2  7.2574      52.0  8.288136   1.073446       496.0  2.802260     37.85   \n",
       "3  5.6431      52.0  5.817352   1.073059       558.0  2.547945     37.85   \n",
       "4  3.8462      52.0  6.281853   1.081081       565.0  2.181467     37.85   \n",
       "\n",
       "   Longitude  MedianValue  \n",
       "0    -122.23        4.526  \n",
       "1    -122.22        3.585  \n",
       "2    -122.24        3.521  \n",
       "3    -122.25        3.413  \n",
       "4    -122.25        3.422  "
      ]
     },
     "execution_count": 6,
     "metadata": {},
     "output_type": "execute_result"
    }
   ],
   "source": [
    "mat = np.column_stack((X, y))\n",
    "df = pd.DataFrame(mat, columns=np.append(feature_names, 'MedianValue'))\n",
    "df.head()"
   ]
  },
  {
   "cell_type": "markdown",
   "id": "59081db1",
   "metadata": {},
   "source": [
    "## Baseline Model\n",
    "Before we add any new feature, let's find out what is the performance of a simple linear regression model on this data set."
   ]
  },
  {
   "cell_type": "code",
   "execution_count": 10,
   "id": "421d1619",
   "metadata": {},
   "outputs": [],
   "source": [
    "X_train, X_test, y_train, y_test = train_test_split(X, y, test_size=0.2, random_state=0)"
   ]
  },
  {
   "cell_type": "code",
   "execution_count": 11,
   "id": "5c56406b",
   "metadata": {},
   "outputs": [
    {
     "name": "stdout",
     "output_type": "stream",
     "text": [
      "R2 score on the training set: 0.6089\n",
      "R2 score on the test set: 0.59432\n"
     ]
    }
   ],
   "source": [
    "reg = LinearRegression()\n",
    "reg.fit(X_train, y_train)\n",
    "\n",
    "train_score = reg.score(X_train, y_train)\n",
    "print('R2 score on the training set:', np.round(train_score, 5))\n",
    "\n",
    "test_score = reg.score(X_test, y_test)\n",
    "print('R2 score on the test set:', np.round(test_score, 5))"
   ]
  },
  {
   "cell_type": "markdown",
   "id": "c5d39d8c",
   "metadata": {},
   "source": [
    "## Constructing a New Feature\n",
    "Now let’s examine our set of features and think if we can come up with new features that might be more indicative to our target (the median house price). For example, let's consider the feature average number of rooms. The feature by itself may not be so indicative of the house price, since there might be districts that contain larger families with lower income, therefore the median house price will be lower than in districts with smaller families but with much higher income. The same reasoning goes for the feature average number of bedrooms.\n",
    "\n",
    "Instead of using each of these two features by itself, what about using the ratio between these two features? Surely, houses with a higher ratio of rooms per bedroom imply a more luxury way of living and could be indicative of a higher median house price.\n",
    "\n",
    "Let's test our hypothesis. First, we add the new feature to our DateFrame:"
   ]
  },
  {
   "cell_type": "code",
   "execution_count": 12,
   "id": "fb46824d",
   "metadata": {},
   "outputs": [],
   "source": [
    "df['RoomsPerBedroom'] = df['AveRooms'] / df['AveBedrms']"
   ]
  },
  {
   "cell_type": "markdown",
   "id": "68e03283",
   "metadata": {},
   "source": [
    "Now, let's examine the correlation between our features and the target label (the MedianValue column). To that end, we will use the DataFrame's `corrwith()` method, which computes the Pearson correlation coefficient between all the columns and the target column:"
   ]
  },
  {
   "cell_type": "code",
   "execution_count": 13,
   "id": "b39cc717",
   "metadata": {},
   "outputs": [
    {
     "data": {
      "text/plain": [
       "MedianValue        1.000000\n",
       "MedInc             0.688075\n",
       "RoomsPerBedroom    0.383672\n",
       "AveRooms           0.151948\n",
       "HouseAge           0.105623\n",
       "AveOccup          -0.023737\n",
       "Population        -0.024650\n",
       "Longitude         -0.045967\n",
       "AveBedrms         -0.046701\n",
       "Latitude          -0.144160\n",
       "dtype: float64"
      ]
     },
     "execution_count": 13,
     "metadata": {},
     "output_type": "execute_result"
    }
   ],
   "source": [
    "df.corrwith(df['MedianValue']).sort_values(ascending=False)"
   ]
  },
  {
   "cell_type": "markdown",
   "id": "7a6fc443",
   "metadata": {},
   "source": [
    "Our new RoomsPerBedroom feature has a much higher correlation with the label than the two original features!\n",
    "\n",
    "## Performance of the Model with the New Feature\n",
    "Let’s examine how adding the new feature affects the performance of our linear regression model.\n",
    "\n",
    "We first need to extract the features $(X)$ and labels $(y)$ from the new DataFrame:"
   ]
  },
  {
   "cell_type": "code",
   "execution_count": 14,
   "id": "45db591d",
   "metadata": {},
   "outputs": [],
   "source": [
    "X = df.drop(['MedianValue'], axis=1)\n",
    "y = df['MedianValue']"
   ]
  },
  {
   "cell_type": "code",
   "execution_count": 15,
   "id": "ad6d016c",
   "metadata": {},
   "outputs": [],
   "source": [
    "X_train, X_test, y_train, y_test = train_test_split(X, y, test_size=0.2, random_state=0)"
   ]
  },
  {
   "cell_type": "code",
   "execution_count": 16,
   "id": "b8f0190e",
   "metadata": {},
   "outputs": [
    {
     "name": "stdout",
     "output_type": "stream",
     "text": [
      "R2 score on the training set: 0.61645\n",
      "R2 score on the test set: 0.60117\n"
     ]
    }
   ],
   "source": [
    "reg.fit(X_train, y_train)\n",
    "\n",
    "train_score = reg.score(X_train, y_train)\n",
    "print('R2 score on the training set:', np.round(train_score, 5))\n",
    "\n",
    "test_score = reg.score(X_test, y_test)\n",
    "print('R2 score on the test set:', np.round(test_score, 5))"
   ]
  }
 ],
 "metadata": {
  "kernelspec": {
   "display_name": "Data Mining (venv)",
   "language": "python",
   "name": "venv"
  },
  "language_info": {
   "codemirror_mode": {
    "name": "ipython",
    "version": 3
   },
   "file_extension": ".py",
   "mimetype": "text/x-python",
   "name": "python",
   "nbconvert_exporter": "python",
   "pygments_lexer": "ipython3",
   "version": "3.11.0"
  }
 },
 "nbformat": 4,
 "nbformat_minor": 5
}
