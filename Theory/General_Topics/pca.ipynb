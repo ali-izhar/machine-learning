{
 "cells": [
  {
   "cell_type": "markdown",
   "id": "a6858d32",
   "metadata": {},
   "source": [
    "# The Curse of Dimensionality\n",
    "The curse of dimensionality refers to various problems that arise when working with high-dimensional data.\n",
    "\n",
    "## Living in a High-Dimensional Space\n",
    "We are so used to living in three dimensions that our intuition fails when we try to imagine things in high-dimensional spaces. Many things behave very differently in high-dimensional spaces.\n",
    "\n",
    "For example, if we pick a random point in a unit square (a square whose side length is 1), its probability of being located less than $0.01$ from the border of the square is less than $2\\%$. This is because the area of the unit square is 1, whereas the area of the inner square with side length $0.99$ is $0.99 \\times 0.99 = 0.9801$. Therefore, the probability that the point falls inside the area between the inner square and the unit square is $1 - 0.9801 = 0.0199$.\n",
    "\n",
    "On the other hand, if we pick a random point in a unit hypercube with 1000 dimensions, its probability of being located less than 0.01 from the border of the hypercube is greater than $99.99\\%$! The reason is that the volume of the unit hypercube is $1^{1000} = 1$, while the volume of the inner hypercube with side length of $0.99$ is $0.99^{1000} = 0.00004317$. Therefore, the probability that the point falls inside the volume between the inner hypercube and the unit hypercube is $1 - 0.00004317 = 0.99995683$.\n",
    "\n",
    "This means that high-dimensional spaces are very sparse, i.e., most of the data points lie very close to the border of the surface, and thus are very far from each other.\n",
    "\n",
    "## Nearest Neighbor Search\n",
    "This effect complicates nearest neighbor search in high-dimensional spaces, since the nearest neighbors in these spaces are not very near!\n",
    "\n",
    "Consider $k$-nearest neighbors in a data set of $n$ points that are uniformly distributed inside a $d$-dimensional unit hypercube. Let the $k$-neighborhood of a point be the smallest hypercube that contains its $k$-nearest neighbors, and let $l$ be the average side length of such a neighborhood. Then the volume of the neighborhood (that contains $k$ points) is $l^d$, while the volume of the unit hypercube (that contains $n$ points) is 1. Therefore, on average $l^d = \\frac{k}{n}$, or:\n",
    "\n",
    "$$l = \\left(\\frac{k}{n}\\right)^{\\frac{1}{d}}$$\n",
    "\n",
    "In other words, the average side length of a $k$-neighborhood increases exponentially as the number of dimensions grows (note that the number in the brackets is smaller than 1). The following graph shows the length of the average neighborhood for 10-nearest neighbors in a unit hypercube with $1,000,000$ points, as a function of the number of dimensions:\n",
    "\n",
    "<div style=\"align:center\">\n",
    "    <img src=\"media/pca_dims.png\" width=500>\n",
    "</div>\n",
    "\n",
    "In three dimensions, the average neighborhood has $l = 0.021$ (only a small fraction of the unit cube), while in 500 dimensions, it is $97.7\\%$!\n",
    "\n",
    "Similarly, when a distance measure such as Euclidean distance is used in a high-dimensional space, there is little difference in the distances between different pairs of points. This is because the ratio between the nearest and farthest points approaches 1, i.e., the points essentially become uniformly distant from each other.\n",
    "\n",
    "## How does it Affect Machine Learning?\n",
    "Machine learning algorithms that are based on nearest neighbor search (such as KNN) or on distance measures (such as K-means) suffer from the curse of dimensionality due to the effects mentioned above.\n",
    "\n",
    "Moreover, as the number of dimensions increases, the amount of data we need to generalize accurately grows exponentially. With a fixed number of training samples, the predictive power of the model first increases as the number of features (dimensions) goes up, but beyond a certain of number of features it starts to deteriorate.\n",
    "\n",
    "Other issues related to high-dimensionality data are:\n",
    "- Training the model takes more time.\n",
    "- The data requires more storage space.\n",
    "- Interpretation and visualization become much harder in high-dimensional spaces.\n",
    "\n",
    "## Solution: Dimensionality Reduction\n",
    "In order to deal with the curse of dimensionality, we need to reduce the number of dimensions. There are two main methods to do so:\n",
    "1. **Feature selection,** i.e., select only a subset of the original features to build the model. Feature selection methods are less effective in data sets with a large number of features (such as images).\n",
    "2. Use a **dimensionality reduction** technique such as Principal Component Analysis (PCA). PCA projects the data into a lower-dimensional space that captures the largest amount of variation in the data (i.e., preserves as much information as possible).\n",
    "\n",
    "<div style=\"align:center\">\n",
    "    <img src=\"media/pca_shift.png\" width=800>\n",
    "</div>"
   ]
  },
  {
   "cell_type": "markdown",
   "id": "b78e2ec8",
   "metadata": {},
   "source": [
    "# Principal Component Analysis (PCA)\n",
    "<hr>\n",
    "\n",
    "Principal Component Analysis (PCA) is a powerful unsupervised learning algorithm used primarily for dimensionality reduction and visualization. In scenarios where datasets contain many features (dimensions) that make visualization challenging, PCA assists by compressing these features into fewer dimensions, ensuring the original data's essence remains intact.\n",
    "\n",
    "## Why PCA?\n",
    "- **Visualizing High-dimensional Data:** If your dataset comprises numerous features, such as 10, 50, or even thousands, visualizing it becomes a formidable task. PCA provides an elegant solution by reducing these features to just two or three, enabling easy plotting and visualization. PCA is often used to visualize high-dimensional data in 2D or 3D. For instance, PCA is used to visualize the MNIST dataset, which comprises 784 features (dimensions), in 2D or 3D.\n",
    "- **Understanding Data Structure:** By projecting the data into a lower-dimensional space, PCA can often reveal hidden structures or patterns that might be harder to discern in the higher-dimensional space.\n",
    "\n",
    "> **Less Frequently Used Applications**\n",
    "> - PCA is often used to speed up machine learning algorithms by reducing the number of features. For instance, PCA is used to reduce the number of features in the MNIST dataset from 784 to 154 while preserving 95% of the variance.\n",
    "> - PCA can be used to filter out noise from datasets. For instance, PCA is used to remove noise from images.\n",
    "\n",
    "<div style=\"align:center\">\n",
    "    <img src=\"media/2to1.png\" width=\"700\">\n",
    "</div>\n",
    "\n",
    "\n",
    "## PCA Algorithm\n",
    "PCA is a linear dimensionality reduction technique that seeks to maximize the variance of the projected data. The algorithm works by identifying the hyperplane that lies closest to the data and then projecting the data onto it.\n",
    "\n",
    "\n",
    "## Choosing the Hyperplane (Axis of Projection or Principal Component)\n",
    "Consider the following data points in 2D space that we wish to project onto a single dimension. The red line represents the hyperplane that lies closest to the data.\n",
    "\n",
    "<div style=\"align:center\">\n",
    "    <img src=\"media/axis1.png\" width=\"700\">\n",
    "</div>\n",
    "\n",
    "> This is not a bad choice, but it is not the best choice either. The hyperplane should be chosen such that it preserves the maximum amount of variance.\n",
    "\n",
    "In this case, the `hyperplane` or `principal component` is the line that passes through the origin and bisects the data, maximizing the variance of the projected data. The `principal component` is the direction along which the data varies the most. The `second principal component` is the direction orthogonal to the first principal component that accounts for the next highest variance, and so on.\n",
    "\n",
    "<div style=\"align:center\">\n",
    "    <img src=\"media/axis2.png\" width=\"500\">\n",
    "</div>\n",
    "\n",
    "> This is the worst choice of hyperplane as it squishes the data points together, resulting in a loss of variance.\n",
    "\n",
    "<div style=\"align:center\">\n",
    "    <img src=\"media/axis3.png\" width=\"600\">\n",
    "</div>\n",
    "\n",
    "> This is the best choice of hyperplane as it preserves the maximum amount of variance.\n",
    "\n",
    "## Projection onto the Hyperplane\n",
    "Once the hyperplane is chosen, the data is projected onto it. The distance of each data point from the hyperplane is called the `projection` or `loading` of the data point onto the hyperplane. The projection is the dot product of the data point and the unit vector along the hyperplane. The unit vector is the vector that has a magnitude of 1 and points in the direction of the hyperplane. For instance, $(x_1, x_2) = (2, 3)$ and the hyperplane $y = x$, the projection is the dot product of the data point and the unit vector (0.707, 0.707) along the hyperplane.\n",
    "\n",
    "$$ \\text{Projection} = (2, 3) \\cdot (0.707, 0.707) = 3.535 $$\n",
    "\n",
    "\n",
    "## Reconstruction of the Data\n",
    "The projected data can be reconstructed by reversing the process. The projected data is multiplied by the unit vector along the hyperplane and added to the mean of the original data. The result is the reconstructed data point. Notice that the reconstructed data point is not the same as the original data point but a close approximation.\n",
    "\n",
    "$$ \\text{Reconstruction} = \\text{Projection} \\cdot \\text{Unit Vector} + \\text{Mean} $$\n",
    "\n",
    "$$ (2, 3) \\approx 3.535 \\cdot (0.707, 0.707) + (0, 0) = (2.52, 2.52) $$\n",
    "\n",
    "## PCA is not Linear Regression\n",
    "PCA is often confused with linear regression. However, the two are very different. Linear regression is a supervised learning algorithm that seeks to minimize the error between the predicted and actual values. PCA is an unsupervised learning algorithm that seeks to maximize the variance of the projected data. PCA is not used for prediction but for visualization and dimensionality reduction.\n",
    "\n",
    "<div style=\"align:center\">\n",
    "    <img src=\"media/PCA.vs.LR.png\" width=\"700\">\n",
    "</div>\n",
    "\n",
    "\n",
    "## PCA in Scikit-learn\n",
    "1. Optional pre-processing: Perform feature scaling to standardize the dataset's features onto unit scale (mean = 0 and variance = 1) to ensure the PCA algorithm's effectiveness.\n",
    "2. \"fit\" the PCA algorithm to the data to obtain 2 (or 3) new axes (principal components) that maximize the variance of the projected data.\n",
    "3. Optionally examine how much variance (information) each principal component captures. This is often referred to as the explained variance ratio.\n",
    "4. Transform the original data onto the new axes.\n",
    "\n",
    "To demonstrate the curse of dimensionality, we will run a $K$-nearest neighbor search to classify 1000 random images from the MNIST data set. This data set contains 70,000 images of handwritten digits, and the goal is to classify these images into one of the ten digits (0 - 9). Each image is $28 \\times 28$ pixels in size, i.e., the number of dimensions is 784.\n",
    "\n",
    "We will first use all the features (pixels in this case), and then we will see whether we can improve the results by reducing the number of dimensions."
   ]
  },
  {
   "cell_type": "code",
   "execution_count": 1,
   "id": "062dc8c7",
   "metadata": {},
   "outputs": [],
   "source": [
    "import numpy as np\n",
    "import matplotlib.pyplot as plt\n",
    "\n",
    "from sklearn.datasets import fetch_openml\n",
    "from sklearn.model_selection import train_test_split\n",
    "from sklearn.neighbors import KNeighborsClassifier\n",
    "from sklearn.decomposition import PCA"
   ]
  },
  {
   "cell_type": "code",
   "execution_count": 3,
   "id": "9f6d7c06",
   "metadata": {},
   "outputs": [],
   "source": [
    "X, y = fetch_openml('mnist_784', return_X_y=True, as_frame=False, parser='auto')"
   ]
  },
  {
   "cell_type": "code",
   "execution_count": 4,
   "id": "8a502ead",
   "metadata": {},
   "outputs": [],
   "source": [
    "# scale inputs to range [0, 1] instead of [0, 255]\n",
    "X = X / 255"
   ]
  },
  {
   "cell_type": "code",
   "execution_count": 5,
   "id": "c44faf05",
   "metadata": {},
   "outputs": [],
   "source": [
    "# pick a random subset of 1,000 samples from the data set\n",
    "random_subset = np.random.choice(range(len(X)), size=1000)\n",
    "X_sample = X[random_subset]\n",
    "y_sample = y[random_subset]"
   ]
  },
  {
   "cell_type": "code",
   "execution_count": 6,
   "id": "6aafb3d7",
   "metadata": {},
   "outputs": [],
   "source": [
    "# split these samples into 80% training and 20% test\n",
    "X_train, X_test, y_train, y_test = train_test_split(X_sample, y_sample, test_size=0.2, random_state=0)"
   ]
  },
  {
   "cell_type": "code",
   "execution_count": 7,
   "id": "cb9a9731",
   "metadata": {},
   "outputs": [
    {
     "data": {
      "text/html": [
       "<style>#sk-container-id-1 {color: black;}#sk-container-id-1 pre{padding: 0;}#sk-container-id-1 div.sk-toggleable {background-color: white;}#sk-container-id-1 label.sk-toggleable__label {cursor: pointer;display: block;width: 100%;margin-bottom: 0;padding: 0.3em;box-sizing: border-box;text-align: center;}#sk-container-id-1 label.sk-toggleable__label-arrow:before {content: \"▸\";float: left;margin-right: 0.25em;color: #696969;}#sk-container-id-1 label.sk-toggleable__label-arrow:hover:before {color: black;}#sk-container-id-1 div.sk-estimator:hover label.sk-toggleable__label-arrow:before {color: black;}#sk-container-id-1 div.sk-toggleable__content {max-height: 0;max-width: 0;overflow: hidden;text-align: left;background-color: #f0f8ff;}#sk-container-id-1 div.sk-toggleable__content pre {margin: 0.2em;color: black;border-radius: 0.25em;background-color: #f0f8ff;}#sk-container-id-1 input.sk-toggleable__control:checked~div.sk-toggleable__content {max-height: 200px;max-width: 100%;overflow: auto;}#sk-container-id-1 input.sk-toggleable__control:checked~label.sk-toggleable__label-arrow:before {content: \"▾\";}#sk-container-id-1 div.sk-estimator input.sk-toggleable__control:checked~label.sk-toggleable__label {background-color: #d4ebff;}#sk-container-id-1 div.sk-label input.sk-toggleable__control:checked~label.sk-toggleable__label {background-color: #d4ebff;}#sk-container-id-1 input.sk-hidden--visually {border: 0;clip: rect(1px 1px 1px 1px);clip: rect(1px, 1px, 1px, 1px);height: 1px;margin: -1px;overflow: hidden;padding: 0;position: absolute;width: 1px;}#sk-container-id-1 div.sk-estimator {font-family: monospace;background-color: #f0f8ff;border: 1px dotted black;border-radius: 0.25em;box-sizing: border-box;margin-bottom: 0.5em;}#sk-container-id-1 div.sk-estimator:hover {background-color: #d4ebff;}#sk-container-id-1 div.sk-parallel-item::after {content: \"\";width: 100%;border-bottom: 1px solid gray;flex-grow: 1;}#sk-container-id-1 div.sk-label:hover label.sk-toggleable__label {background-color: #d4ebff;}#sk-container-id-1 div.sk-serial::before {content: \"\";position: absolute;border-left: 1px solid gray;box-sizing: border-box;top: 0;bottom: 0;left: 50%;z-index: 0;}#sk-container-id-1 div.sk-serial {display: flex;flex-direction: column;align-items: center;background-color: white;padding-right: 0.2em;padding-left: 0.2em;position: relative;}#sk-container-id-1 div.sk-item {position: relative;z-index: 1;}#sk-container-id-1 div.sk-parallel {display: flex;align-items: stretch;justify-content: center;background-color: white;position: relative;}#sk-container-id-1 div.sk-item::before, #sk-container-id-1 div.sk-parallel-item::before {content: \"\";position: absolute;border-left: 1px solid gray;box-sizing: border-box;top: 0;bottom: 0;left: 50%;z-index: -1;}#sk-container-id-1 div.sk-parallel-item {display: flex;flex-direction: column;z-index: 1;position: relative;background-color: white;}#sk-container-id-1 div.sk-parallel-item:first-child::after {align-self: flex-end;width: 50%;}#sk-container-id-1 div.sk-parallel-item:last-child::after {align-self: flex-start;width: 50%;}#sk-container-id-1 div.sk-parallel-item:only-child::after {width: 0;}#sk-container-id-1 div.sk-dashed-wrapped {border: 1px dashed gray;margin: 0 0.4em 0.5em 0.4em;box-sizing: border-box;padding-bottom: 0.4em;background-color: white;}#sk-container-id-1 div.sk-label label {font-family: monospace;font-weight: bold;display: inline-block;line-height: 1.2em;}#sk-container-id-1 div.sk-label-container {text-align: center;}#sk-container-id-1 div.sk-container {/* jupyter's `normalize.less` sets `[hidden] { display: none; }` but bootstrap.min.css set `[hidden] { display: none !important; }` so we also need the `!important` here to be able to override the default hidden behavior on the sphinx rendered scikit-learn.org. See: https://github.com/scikit-learn/scikit-learn/issues/21755 */display: inline-block !important;position: relative;}#sk-container-id-1 div.sk-text-repr-fallback {display: none;}</style><div id=\"sk-container-id-1\" class=\"sk-top-container\"><div class=\"sk-text-repr-fallback\"><pre>KNeighborsClassifier()</pre><b>In a Jupyter environment, please rerun this cell to show the HTML representation or trust the notebook. <br />On GitHub, the HTML representation is unable to render, please try loading this page with nbviewer.org.</b></div><div class=\"sk-container\" hidden><div class=\"sk-item\"><div class=\"sk-estimator sk-toggleable\"><input class=\"sk-toggleable__control sk-hidden--visually\" id=\"sk-estimator-id-1\" type=\"checkbox\" checked><label for=\"sk-estimator-id-1\" class=\"sk-toggleable__label sk-toggleable__label-arrow\">KNeighborsClassifier</label><div class=\"sk-toggleable__content\"><pre>KNeighborsClassifier()</pre></div></div></div></div></div>"
      ],
      "text/plain": [
       "KNeighborsClassifier()"
      ]
     },
     "execution_count": 7,
     "metadata": {},
     "output_type": "execute_result"
    }
   ],
   "source": [
    "# default n_neighbors=5\n",
    "knn = KNeighborsClassifier()\n",
    "knn.fit(X_train, y_train)"
   ]
  },
  {
   "cell_type": "code",
   "execution_count": 8,
   "id": "15e486f5",
   "metadata": {},
   "outputs": [
    {
     "name": "stdout",
     "output_type": "stream",
     "text": [
      "Accuracy on training set: 0.91125\n",
      "Accuracy on test set: 0.89\n"
     ]
    }
   ],
   "source": [
    "print('Accuracy on training set:', knn.score(X_train, y_train))\n",
    "print('Accuracy on test set:', knn.score(X_test, y_test))"
   ]
  },
  {
   "cell_type": "markdown",
   "id": "ca99a19f",
   "metadata": {},
   "source": [
    "Let's now use PCA from Scikit-Learn to reduce the number of dimensions from 784 down to 50."
   ]
  },
  {
   "cell_type": "code",
   "execution_count": 9,
   "id": "54818330",
   "metadata": {},
   "outputs": [],
   "source": [
    "pca = PCA(n_components=50)"
   ]
  },
  {
   "cell_type": "code",
   "execution_count": 10,
   "id": "e3c7309c",
   "metadata": {},
   "outputs": [],
   "source": [
    "X_train_reduced = pca.fit_transform(X_train)\n",
    "X_test_reduced = pca.transform(X_test)"
   ]
  },
  {
   "cell_type": "code",
   "execution_count": 11,
   "id": "c475e66f",
   "metadata": {},
   "outputs": [
    {
     "data": {
      "text/html": [
       "<style>#sk-container-id-2 {color: black;}#sk-container-id-2 pre{padding: 0;}#sk-container-id-2 div.sk-toggleable {background-color: white;}#sk-container-id-2 label.sk-toggleable__label {cursor: pointer;display: block;width: 100%;margin-bottom: 0;padding: 0.3em;box-sizing: border-box;text-align: center;}#sk-container-id-2 label.sk-toggleable__label-arrow:before {content: \"▸\";float: left;margin-right: 0.25em;color: #696969;}#sk-container-id-2 label.sk-toggleable__label-arrow:hover:before {color: black;}#sk-container-id-2 div.sk-estimator:hover label.sk-toggleable__label-arrow:before {color: black;}#sk-container-id-2 div.sk-toggleable__content {max-height: 0;max-width: 0;overflow: hidden;text-align: left;background-color: #f0f8ff;}#sk-container-id-2 div.sk-toggleable__content pre {margin: 0.2em;color: black;border-radius: 0.25em;background-color: #f0f8ff;}#sk-container-id-2 input.sk-toggleable__control:checked~div.sk-toggleable__content {max-height: 200px;max-width: 100%;overflow: auto;}#sk-container-id-2 input.sk-toggleable__control:checked~label.sk-toggleable__label-arrow:before {content: \"▾\";}#sk-container-id-2 div.sk-estimator input.sk-toggleable__control:checked~label.sk-toggleable__label {background-color: #d4ebff;}#sk-container-id-2 div.sk-label input.sk-toggleable__control:checked~label.sk-toggleable__label {background-color: #d4ebff;}#sk-container-id-2 input.sk-hidden--visually {border: 0;clip: rect(1px 1px 1px 1px);clip: rect(1px, 1px, 1px, 1px);height: 1px;margin: -1px;overflow: hidden;padding: 0;position: absolute;width: 1px;}#sk-container-id-2 div.sk-estimator {font-family: monospace;background-color: #f0f8ff;border: 1px dotted black;border-radius: 0.25em;box-sizing: border-box;margin-bottom: 0.5em;}#sk-container-id-2 div.sk-estimator:hover {background-color: #d4ebff;}#sk-container-id-2 div.sk-parallel-item::after {content: \"\";width: 100%;border-bottom: 1px solid gray;flex-grow: 1;}#sk-container-id-2 div.sk-label:hover label.sk-toggleable__label {background-color: #d4ebff;}#sk-container-id-2 div.sk-serial::before {content: \"\";position: absolute;border-left: 1px solid gray;box-sizing: border-box;top: 0;bottom: 0;left: 50%;z-index: 0;}#sk-container-id-2 div.sk-serial {display: flex;flex-direction: column;align-items: center;background-color: white;padding-right: 0.2em;padding-left: 0.2em;position: relative;}#sk-container-id-2 div.sk-item {position: relative;z-index: 1;}#sk-container-id-2 div.sk-parallel {display: flex;align-items: stretch;justify-content: center;background-color: white;position: relative;}#sk-container-id-2 div.sk-item::before, #sk-container-id-2 div.sk-parallel-item::before {content: \"\";position: absolute;border-left: 1px solid gray;box-sizing: border-box;top: 0;bottom: 0;left: 50%;z-index: -1;}#sk-container-id-2 div.sk-parallel-item {display: flex;flex-direction: column;z-index: 1;position: relative;background-color: white;}#sk-container-id-2 div.sk-parallel-item:first-child::after {align-self: flex-end;width: 50%;}#sk-container-id-2 div.sk-parallel-item:last-child::after {align-self: flex-start;width: 50%;}#sk-container-id-2 div.sk-parallel-item:only-child::after {width: 0;}#sk-container-id-2 div.sk-dashed-wrapped {border: 1px dashed gray;margin: 0 0.4em 0.5em 0.4em;box-sizing: border-box;padding-bottom: 0.4em;background-color: white;}#sk-container-id-2 div.sk-label label {font-family: monospace;font-weight: bold;display: inline-block;line-height: 1.2em;}#sk-container-id-2 div.sk-label-container {text-align: center;}#sk-container-id-2 div.sk-container {/* jupyter's `normalize.less` sets `[hidden] { display: none; }` but bootstrap.min.css set `[hidden] { display: none !important; }` so we also need the `!important` here to be able to override the default hidden behavior on the sphinx rendered scikit-learn.org. See: https://github.com/scikit-learn/scikit-learn/issues/21755 */display: inline-block !important;position: relative;}#sk-container-id-2 div.sk-text-repr-fallback {display: none;}</style><div id=\"sk-container-id-2\" class=\"sk-top-container\"><div class=\"sk-text-repr-fallback\"><pre>KNeighborsClassifier()</pre><b>In a Jupyter environment, please rerun this cell to show the HTML representation or trust the notebook. <br />On GitHub, the HTML representation is unable to render, please try loading this page with nbviewer.org.</b></div><div class=\"sk-container\" hidden><div class=\"sk-item\"><div class=\"sk-estimator sk-toggleable\"><input class=\"sk-toggleable__control sk-hidden--visually\" id=\"sk-estimator-id-2\" type=\"checkbox\" checked><label for=\"sk-estimator-id-2\" class=\"sk-toggleable__label sk-toggleable__label-arrow\">KNeighborsClassifier</label><div class=\"sk-toggleable__content\"><pre>KNeighborsClassifier()</pre></div></div></div></div></div>"
      ],
      "text/plain": [
       "KNeighborsClassifier()"
      ]
     },
     "execution_count": 11,
     "metadata": {},
     "output_type": "execute_result"
    }
   ],
   "source": [
    "knn.fit(X_train_reduced, y_train)"
   ]
  },
  {
   "cell_type": "code",
   "execution_count": 12,
   "id": "14482168",
   "metadata": {},
   "outputs": [
    {
     "name": "stdout",
     "output_type": "stream",
     "text": [
      "Accuracy on training set: 0.91375\n",
      "Accuracy on test set: 0.9\n"
     ]
    }
   ],
   "source": [
    "print('Accuracy on training set:', knn.score(X_train_reduced, y_train))\n",
    "print('Accuracy on test set:', knn.score(X_test_reduced, y_test))"
   ]
  },
  {
   "cell_type": "code",
   "execution_count": 13,
   "id": "3c2af225",
   "metadata": {},
   "outputs": [],
   "source": [
    "# dimensions from 10 to 700 in intervals of 10\n",
    "dimensions = range(10, 701, 10)\n",
    "scores = []\n",
    "\n",
    "for n_dimensions in dimensions:\n",
    "    pca = PCA(n_components=n_dimensions)\n",
    "    X_train_reduced = pca.fit_transform(X_train)\n",
    "    X_test_reduced = pca.transform(X_test)\n",
    "    knn.fit(X_train_reduced, y_train)\n",
    "    score = knn.score(X_test_reduced, y_test)\n",
    "    scores.append(score)"
   ]
  },
  {
   "cell_type": "code",
   "execution_count": 14,
   "id": "c8b7ef7d",
   "metadata": {},
   "outputs": [
    {
     "data": {
      "text/plain": [
       "Text(0, 0.5, 'Test accuracy')"
      ]
     },
     "execution_count": 14,
     "metadata": {},
     "output_type": "execute_result"
    },
    {
     "data": {
      "image/png": "[encoded data removed]",
      "text/plain": [
       "<Figure size 640x480 with 1 Axes>"
      ]
     },
     "metadata": {},
     "output_type": "display_data"
    }
   ],
   "source": [
    "plt.plot(dimensions, scores)\n",
    "plt.xlabel('Dimensions')\n",
    "plt.ylabel('Test accuracy')"
   ]
  }
 ],
 "metadata": {
  "kernelspec": {
   "display_name": "Data Mining (venv)",
   "language": "python",
   "name": "venv"
  },
  "language_info": {
   "codemirror_mode": {
    "name": "ipython",
    "version": 3
   },
   "file_extension": ".py",
   "mimetype": "text/x-python",
   "name": "python",
   "nbconvert_exporter": "python",
   "pygments_lexer": "ipython3",
   "version": "3.11.0"
  }
 },
 "nbformat": 4,
 "nbformat_minor": 5
}
