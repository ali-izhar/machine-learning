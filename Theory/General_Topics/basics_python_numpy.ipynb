{
 "cells": [
  {
   "cell_type": "markdown",
   "metadata": {
    "id": "-sUjXNQy5Rho"
   },
   "source": [
    "# **ECE 455/555**\n",
    "## Primer - Introduction to Python\n",
    "---\n",
    "\n",
    "In this notebook, we cover the following:\n",
    "\n",
    "*   Basics of Python\n",
    "*   Interactive notebooks (Colab and Jupyter)\n",
    "*   Useful packages like `random`, `numpy` and `sklearn`, along with exercises\n",
    "\n",
    "\n",
    "\n"
   ]
  },
  {
   "cell_type": "markdown",
   "metadata": {
    "id": "5H9Ufiyi5Rhs"
   },
   "source": [
    "# **About Python**\n",
    "Python is a programming language that is very popular among the machine learning research community.\n",
    "It is a higher-level programming language than Java, and has an extensive collection of libraries that can be easily installed.\n",
    "We require that you use python for this class, so it is important to be familiar with it.\n",
    "\n",
    "### Python vs Java\n",
    "- Java is compiled, but Python is not: you directly run the Python file\n",
    "- Java is statically typed (the types of the variables cannot change), and you do not declare types in Python\n",
    "```\n",
    "# This works in python\n",
    "x = 3\n",
    "x = \"python\"\n",
    "```\n",
    "- Instantiating a class in Python does not use `new`\n",
    "```\n",
    "# Assume there is a class called `Person`\n",
    "p = Person('Emily', 25)\n",
    "```\n",
    "- Python does not use parentheses, like Java. Instead, it uses whitespace to infer the scope of methods, for loops, etc.\n",
    "```\n",
    "for i in range(10):\n",
    "      print(i * 2)      # Indent by 4 spaces\n",
    "      print(i * 4)\n",
    "print('Done')       # No indent, runs after for loop\n",
    "```\n",
    "- Functions cannot be overloaded, instead use optional arguments\n",
    "```\n",
    "def f(x, y=0.0):\n",
    "      ....\n",
    "f(8)\n",
    "f(8, 2)\n",
    "```\n",
    "- Boolean values are now `True` and `False`\n",
    "\n",
    "### Python vs Matlab\n",
    "- Python uses hard brackets `[]` for indexing arrays and matrices instead of `()` in Matlab\n",
    "- Python is 0-indexed, so the first item in a list is at index 0, not 1\n",
    "- Python doesn't come by default with a full development tool, like Matlab\n",
    "- The `numpy` library in Python implements many of the same matrix functionality that Matlab has\n",
    "\n",
    "### Development Environments\n",
    "- In this class we will use Jupyter Notebooks (local software) or Google Colaboratory (online platform).  \n",
    ">- Jupyter Notebooks: http://jupyter.org/install, and https://www.anaconda.com/download/ for the popular Anaconda distribution\n",
    ">- Google Colab is useful as an easy way to write interactive Python without having to install anything on your machine. Watch <a href=\"https://www.youtube.com/watch?v=inN8seMm7UI\">Introduction to Colab</a> for more details. \n",
    "  - Text editors: Atom, Sublime\n",
    "  - PyCharm: https://www.jetbrains.com/pycharm/\n",
    "\n",
    "While most of what we will do in class can be done in Colab, there may be advanced use cases where it useful to have one of these other options installed on your machine. So while we don't want you getting bogged down in installations right off the bat, it's a good idea to keep these in mind (we will go over Jupyter installation shortly).\n",
    "\n"
   ]
  },
  {
   "cell_type": "markdown",
   "metadata": {
    "id": "GJBs_flRovLc"
   },
   "source": [
    "## <strong>Getting started</strong>\n",
    "\n",
    "The document that you are reading is not a static web page, but an interactive environment called a <strong> notebook</strong> that lets you write and execute code.\n",
    "\n",
    "For example, here is a <strong>code cell</strong> with a short Python script that computes a value, stores it in a variable and prints the result.  Note that you can import many common packages, including some packages that would otherwise have to be pip-installed directly."
   ]
  },
  {
   "cell_type": "code",
   "execution_count": null,
   "metadata": {
    "id": "gJr_9dXGpJ05"
   },
   "outputs": [],
   "source": [
    "import numpy as np\n",
    "\n",
    "xs = range(10)\n",
    "std_val = np.std(xs)\n",
    "std_val"
   ]
  },
  {
   "cell_type": "markdown",
   "metadata": {
    "id": "2fhs6GZ4qFMx"
   },
   "source": [
    "To execute the code in the above cell, select it with a click and then either press the play button to the left of the code, or use the keyboard shortcut 'Command/Ctrl+Enter'. To edit the code, just click the cell and start editing.\n",
    "\n",
    "Variables that you define in one cell can later be used in other cells:"
   ]
  },
  {
   "cell_type": "code",
   "execution_count": null,
   "metadata": {
    "id": "y7pvlMJ2ns8j"
   },
   "outputs": [],
   "source": [
    "seconds_in_a_day = 86400"
   ]
  },
  {
   "cell_type": "code",
   "execution_count": null,
   "metadata": {
    "id": "-gE-Ez1qtyIA"
   },
   "outputs": [],
   "source": [
    "seconds_in_a_week = 7 * seconds_in_a_day\n",
    "seconds_in_a_week"
   ]
  },
  {
   "cell_type": "markdown",
   "metadata": {
    "id": "lSrWNr3MuFUS"
   },
   "source": [
    "This notebooks allow you to combine <strong>executable code</strong> and <strong>rich text</strong> in a single document, along with <strong>images</strong>, <strong>HTML</strong>, <strong>LaTeX</strong> and more. When you create your own notebooks, they are stored in your Google Drive account. You can easily share your notebooks with co-workers or friends, allowing them to comment on your notebooks or even edit them. To find out more, see <a href=\"/notebooks/basic_features_overview.ipynb\">Overview of Colab</a>. To create a new notebook you can use the File menu above, or use the following link: <a href=\"http://colab.research.google.com#create=true\">Create a new notebook</a>.\n",
    "\n",
    "Colab notebooks are Jupyter notebooks that are hosted by Colab. To find out more about the Jupyter project, see <a href=\"https://www.jupyter.org\">jupyter.org</a>."
   ]
  },
  {
   "cell_type": "markdown",
   "metadata": {
    "id": "UdRyKR44dcNI"
   },
   "source": [
    "## Data science\n",
    "\n",
    "You can harness the full power of popular Python libraries to analyse and visualise data. The code cell below uses <strong>numpy</strong> to generate some random data, and uses <strong>matplotlib</strong> to visualise it. To edit the code, just click the cell and start editing."
   ]
  },
  {
   "cell_type": "code",
   "execution_count": null,
   "metadata": {
    "id": "C4HZx7Gndbrh"
   },
   "outputs": [],
   "source": [
    "import numpy as np\n",
    "from matplotlib import pyplot as plt\n",
    "\n",
    "ys = 200 + np.random.randn(100)\n",
    "x = [x for x in range(len(ys))]\n",
    "\n",
    "plt.plot(x, ys, '-')\n",
    "plt.fill_between(x, ys, 195, where=(ys > 195), facecolor='g', alpha=0.6)\n",
    "\n",
    "plt.title(\"Sample Visualization\")\n",
    "plt.show()"
   ]
  },
  {
   "cell_type": "markdown",
   "metadata": {
    "id": "OwuxHmxllTwN"
   },
   "source": [
    "## Machine learning\n",
    "\n",
    "You can import an image dataset, train an image classifier on it, and evaluate the model, all in just <a href=\"https://colab.research.google.com/github/tensorflow/docs/blob/master/site/en/tutorials/quickstart/beginner.ipynb\">a few lines of code</a>. Colab notebooks execute code on Google's cloud servers, meaning you can leverage the power of Google hardware, including <a href=\"#using-accelerated-hardware\">GPUs and TPUs</a>, regardless of the power of your machine. All you need is a browser."
   ]
  },
  {
   "cell_type": "markdown",
   "metadata": {
    "id": "ufxBm1yRnruN"
   },
   "source": [
    "Colab is used extensively in the machine learning community with applications including:\n",
    "- Getting started with TensorFlow\n",
    "- Developing and training neural networks\n",
    "- Experimenting with TPUs\n",
    "- Disseminating AI research\n",
    "- Creating tutorials\n",
    "\n",
    "To see sample Colab notebooks that demonstrate machine learning applications, see the <a href=\"#machine-learning-examples\">machine learning examples</a> below."
   ]
  },
  {
   "cell_type": "markdown",
   "metadata": {
    "id": "40miZa2I2bxM"
   },
   "source": [
    "# **Jupyter**"
   ]
  },
  {
   "cell_type": "markdown",
   "metadata": {
    "id": "FYAuhATVqz8y"
   },
   "source": [
    "### Python/Jupyter Installation Instructions\n",
    "First, make sure you have python3 (version 3.9.5 is the latest stable version) installed on your local machine.\n",
    "We recommend managing your python installation with Anaconda.\n",
    "The Anaconda website has instructions for how to install python based on your operating system:\n",
    "- https://www.anaconda.com/download/\n",
    "\n",
    "Second, make sure that you have Jupyter notebooks installed.\n",
    "It may have already come with your Anaconda installation.\n",
    "If not, the Jupyter website has installation instructions:\n",
    "- http://jupyter.org/install\n",
    "\n",
    "If you have never used python or Jupyter notebooks before, we recommend bookmarking these resources:\n",
    "- Python: https://developers.google.com/edu/python/\n",
    "- Jupyter: https://www.datacamp.com/community/tutorials/tutorial-jupyter-notebook\n",
    "\n",
    "Be aware that the Google tutorial uses python2, so some of their example code may not directly work in python3:\n",
    "- Print statements now require parentheses: `print x` now becomes `print(x)`\n",
    "- No longer need to specify file encoding: `open('file.txt', 'r')` works\n",
    "- The division operator `/` no longer does integer divison: `5 / 2` is `2.5`\n",
    "- The `xrange` operator is now only `range`\n",
    "\n",
    "Other differences can be found on the web: https://www.geeksforgeeks.org/important-differences-between-python-2-x-and-python-3-x-with-examples/"
   ]
  },
  {
   "cell_type": "markdown",
   "metadata": {
    "id": "MFCHtVH35Rht"
   },
   "source": [
    "## Jupyter Notebooks\n",
    "When you start a Jupyter Notebook, you are starting a server on your local machine that hosts the notebooks.\n",
    "```\n",
    "> jupyter notebook\n",
    "```\n",
    "Once the server has started, open up a web browser and go to http://localhost:8888.\n",
    "You should see a file tree, which you can use to navigate to where you want to save your Jupyter Notebook.\n",
    "\n",
    "Jupyter Notebooks allow you to interactively develop python code.\n",
    "Cells have types, either markdown (https://github.com/adam-p/markdown-here/wiki/Markdown-Cheatsheet) or python code.\n",
    "You can write as much code in a cell as you need.\n",
    "When you want to execute it, enter shift+enter.\n",
    "Anything displayed by your program will be written below the cell.\n",
    "Variables that are defined within an executed cell are saved in memory and can be used later (similar behavior in Matlab).\n",
    "It's similar to if you could pause the program execution.\n",
    "Code within other cells can reference any cell _which has already been executed_.\n",
    "If you have already run a cell and you edit its code, the cell needs to be rerun in order for your changes to take effect.\n",
    "\n",
    "If you close the Jupyter Notebook, you will need to rerun all of the cells from scratch so the variables and methods will be redefined. **Make sure you save before you close the notebook!**\n",
    "\n",
    "### Submitting assignments\n",
    "Just like in Colab, your Jupyter Notebook can be downloaded as a notebook under File -> Download as -> Notebook (.ipynb), as well as a variety of other file types, such as a straight Python (.py) file."
   ]
  },
  {
   "cell_type": "markdown",
   "metadata": {
    "id": "BjmXtB6-3vxQ"
   },
   "source": [
    "# **Coding in Python**"
   ]
  },
  {
   "cell_type": "markdown",
   "metadata": {
    "id": "wtmBPJKe5Rhu"
   },
   "source": [
    "### Basics"
   ]
  },
  {
   "cell_type": "code",
   "execution_count": null,
   "metadata": {
    "id": "Ay_9b2Lq5Rhu"
   },
   "outputs": [],
   "source": [
    "# Assigning variables\n",
    "x = 4.2\n",
    "y = 8\n",
    "s = 'hello'\n",
    "\n",
    "# The types of variables can change without a problem\n",
    "y = 'abc'\n",
    "\n",
    "# To display variables, use the print function\n",
    "print(y)\n",
    "\n",
    "# The \"null\" type is called `None`\n",
    "z = None\n",
    "print(z)\n",
    "\n",
    "print(z == None)\n",
    "\n",
    "# Casting\n",
    "s = '140'\n",
    "print(int(s))\n",
    "s = '140.243'\n",
    "print(float(s))\n",
    "x = 123\n",
    "print(str(x))"
   ]
  },
  {
   "cell_type": "markdown",
   "metadata": {
    "id": "bxfiAvCO5Rhv"
   },
   "source": [
    "### String Manipulation"
   ]
  },
  {
   "cell_type": "code",
   "execution_count": null,
   "metadata": {
    "id": "nPlNYAhk5Rhv"
   },
   "outputs": [],
   "source": [
    "s = \"ABCdef\"\n",
    "s = 'ABCdef'\n",
    "\n",
    "# Length\n",
    "print(len(s))  # 6\n",
    "\n",
    "# Standard Indexing: Notice hard brackets and 0-indexing\n",
    "print(s[0])      # 'A'\n",
    "print(s[1])      # 'B'\n",
    "print(s[5])      # 'f'\n",
    "# print(s[100])  # Error\n",
    "\n",
    "# Range Indexing\n",
    "print(s[1:4])    # 'BCd'\n",
    "print(s[2:])     # 'Cdef'\n",
    "print(s[:2])     # 'AB'\n",
    "print(s[1:100])  # 'BCdef'\n",
    "\n",
    "# Negative Indexing\n",
    "print(s[-1])    # 'f'\n",
    "print(s[-2])    # 'e'\n",
    "print(s[:-1])   # 'ABCde'\n",
    "print(s[:-3])   # 'ABC'\n",
    "print(s[::-1])  # 'fedCBA'\n",
    "\n",
    "# Concatenation\n",
    "print(s + 'xyz')     # 'ABCdefxyz'\n",
    "# print(s + 123)     # Error\n",
    "print(s + str(123))  # 'ABCdef123'\n",
    "\n",
    "# Splitting\n",
    "print(s.split('C'))  # ['AB', 'def']"
   ]
  },
  {
   "cell_type": "markdown",
   "metadata": {
    "id": "KOgvCRsQ5Rhw"
   },
   "source": [
    "### Lists"
   ]
  },
  {
   "cell_type": "code",
   "execution_count": null,
   "metadata": {
    "id": "sbvPeBcJ5Rhw"
   },
   "outputs": [],
   "source": [
    "a = [0, 4, 2, 8, 9]  # Create a list with initial items\n",
    "b = []  # Create an empty list\n",
    "\n",
    "# Length\n",
    "print(len(a))  # 5\n",
    "\n",
    "# The same indexing operations on strings work for lists\n",
    "print(a[1])    # 4\n",
    "print(a[2:4])  # [2, 8]\n",
    "print(a[-2])   # 8\n",
    "\n",
    "# Sort the list\n",
    "print(sorted(a))                # [0, 2, 4, 8, 9] Creates a copy, does not modify the original list\n",
    "print(sorted(a, reverse=True))  # [9, 8, 4, 2, 0] Also a copy\n",
    "\n",
    "# Add items to the end of the list\n",
    "a.append(10)  # Returns nothing\n",
    "print(a)      # [0, 4, 2, 8, 9, 10] \n",
    "a += [1, 12]  # Returns nothing\n",
    "print(a)      # [0, 4, 2, 8, 9, 10, 1, 12]\n",
    "\n",
    "# Lists don't have to be the same type in python\n",
    "a.append('machine learning')\n",
    "print(a)            # [0, 4, 2, 8, 9, 10, 1, 12, 'machine learning']\n",
    "# print(sorted(a))  # Causes an error\n",
    "\n",
    "# Searching\n",
    "print(8 in a)    # True\n",
    "print(100 in a)  # False"
   ]
  },
  {
   "cell_type": "markdown",
   "metadata": {
    "id": "sy_7zIdh5Rhx"
   },
   "source": [
    "## Dictionaries\n",
    "https://developers.google.com/edu/python/dict-files"
   ]
  },
  {
   "cell_type": "code",
   "execution_count": null,
   "metadata": {
    "id": "LuIaOXtz5Rhx"
   },
   "outputs": [],
   "source": [
    "d = {}       # Create an empty dictionary, which is a key-value map\n",
    "d['a'] = 97  # Add an item to the dictionary\n",
    "print(d)     # {'a': 97}\n",
    "print(d['a'])\n",
    "\n",
    "d['c'] = 99\n",
    "d[0] = [0, 1, 2]  # Keys and values don't need to be the same type\n",
    "print(d)          # {'a': 97, 'c': 99, 0: [0, 1, 2]}\n",
    "\n",
    "# Retrieve the keys and values of the dictionary.\n",
    "# These are not actually lists, but look like it. Call list(d.keys()) to actually convert it to a list\n",
    "keys = d.keys()      # Retrieve a list of the keys of the dictionary, not necessarily in any order\n",
    "values = d.values()  # Retrieve a list of the values of the dictionary, not necessarily in any order\n",
    "print(keys)          # ['a', 'c', 0]\n",
    "print(values)        # [97, 99, [0, 1, 2]]\n",
    "\n",
    "# Check to see if items are in the dictionary (checks keys)\n",
    "print('a' in d)  # True\n",
    "print('x' in d)  # False\n",
    "\n",
    "# Remove an item from the list\n",
    "del d['a']    # Returns nothing, modifies inplace\n",
    "# del d['y']  # Error"
   ]
  },
  {
   "cell_type": "markdown",
   "metadata": {
    "id": "P-5PaQUH5Rhy"
   },
   "source": [
    "## If Statements\n",
    "Covered in the strings section: https://developers.google.com/edu/python/strings"
   ]
  },
  {
   "cell_type": "code",
   "execution_count": null,
   "metadata": {
    "id": "eX4rD_9D5Rhy"
   },
   "outputs": [],
   "source": [
    "# Python doesn't require parenthese\n",
    "a, b = 7, 10\n",
    "\n",
    "# equality\n",
    "if a == 7:\n",
    "    print('yes')\n",
    "else:\n",
    "    print('no')\n",
    "    \n",
    "# not equal\n",
    "if a != 8:\n",
    "    print('neq')\n",
    "    \n",
    "# and\n",
    "if a > 5 and b <= 10:\n",
    "    print('1')\n",
    "elif a > 10:\n",
    "    print('2')\n",
    "else:\n",
    "    print('3')\n",
    "\n",
    "# or\n",
    "if a < 10 or b > 100:\n",
    "    print('yes')\n",
    "    \n",
    "# Strings also use '=='\n",
    "s = 'abc'\n",
    "if s == 'abc':\n",
    "    print('here')"
   ]
  },
  {
   "cell_type": "markdown",
   "metadata": {
    "id": "TTK1JCR_5Rhy"
   },
   "source": [
    "## For Loops\n",
    "Covered under lists: https://developers.google.com/edu/python/lists"
   ]
  },
  {
   "cell_type": "code",
   "execution_count": null,
   "metadata": {
    "id": "2bmH3pQm5Rhz"
   },
   "outputs": [],
   "source": [
    "a = [0, 8, 3, 5, 1]\n",
    "\n",
    "range(5)     # Dynamically generates 0, 1, 2, 3, 4\n",
    "range(1, 5)  # 1, 2, 3, 4\n",
    "\n",
    "# \"Standard\" for loop from Java\n",
    "for i in range(len(a)):\n",
    "    print(a[i])\n",
    "\n",
    "# Iterate over each element in the list\n",
    "for x in a:\n",
    "    print(x)\n",
    "    \n",
    "# Iterating through dictionaries\n",
    "d = {0: 'a', 1: 'b', 2: 'c'}\n",
    "for key, value in d.items():\n",
    "    print(str(key) + ' -> ' + value)\n",
    "    \n",
    "    \n",
    "# Loop over items in an array and get the index at the same time\n",
    "for index, item in enumerate(a):\n",
    "  print(index, item)"
   ]
  },
  {
   "cell_type": "markdown",
   "metadata": {
    "id": "Ruo9xRq75Rhz"
   },
   "source": [
    "## Methods"
   ]
  },
  {
   "cell_type": "code",
   "execution_count": null,
   "metadata": {
    "id": "hcVr7wLj5Rhz"
   },
   "outputs": [],
   "source": [
    "# No return type specification necessary\n",
    "def add(x, y):\n",
    "    return x + y\n",
    "\n",
    "def concat(list_1, list_2):\n",
    "    list_1 += list_2\n",
    "\n",
    "print(add(3, 4))        # 7\n",
    "# print(add(4, 8, 10))  # Error\n",
    "\n",
    "# Arguments can be passed by name\n",
    "print(add(y=8, x=2))  # 10\n",
    "\n",
    "a1 = [0, 1]\n",
    "a2 = [3, 5]\n",
    "concat(a1, a2)  # Returns nothing\n",
    "print(a1)       # [0, 1, 3, 5]\n",
    "\n",
    "# Methods can return more than one thing\n",
    "def two(a):\n",
    "  return a + 1, a + 2\n",
    "\n",
    "a3, a4 = two(1)\n",
    "print(a3)  # 2\n",
    "print(a4)  # 3\n",
    "\n",
    "t = two(1)\n",
    "print(t[0])\n",
    "print(t[1])"
   ]
  },
  {
   "cell_type": "markdown",
   "metadata": {
    "id": "z6ZtNRHO5Rh0"
   },
   "source": [
    "## List and Dictionary Comprehension"
   ]
  },
  {
   "cell_type": "code",
   "execution_count": null,
   "metadata": {
    "id": "RadNS7m75Rh0"
   },
   "outputs": [],
   "source": [
    "# Sometimes code can be simplified using list/dictionary comprehensions\n",
    "def add_one(x):\n",
    "  return x + 1\n",
    "\n",
    "# The standard way to apply a function to every element and save in y\n",
    "x = [0, 1, 2, 3]\n",
    "y = []\n",
    "for i in range(len(x)):\n",
    "  y.append(add_one(x[i]))\n",
    "\n",
    "# This is equivalent to the above\n",
    "y = [add_one(x_i) for x_i in x]\n",
    "\n",
    "# Add conditionals\n",
    "y2 = [add_one(x_i) for x_i in x if x_i > 1]\n",
    "\n",
    "# Dictionary comprehensions can be used to create dictionaries easily.\n",
    "# This creates a mapping from x_i -> x_i * 4\n",
    "d = {x_i : x_i * 4 for x_i in x}\n",
    "print(d)\n",
    "print(d[2])  # 8"
   ]
  },
  {
   "cell_type": "markdown",
   "metadata": {
    "id": "vDAIm0Um5Rh1"
   },
   "source": [
    "## Files "
   ]
  },
  {
   "cell_type": "markdown",
   "metadata": {
    "id": "VSZKl7ym9ljx"
   },
   "source": [
    "Note that:\n",
    "If you are using Jupyter Notebook, please skip this cell.\n",
    "\n",
    "In order to use the files in this section, we will need to upload them since Google Colab does not persist files unless they are linked to Google Drive. The following cell will allow you to upload the files from Canvas. The files are located in Canvas, under Files/PDF Primer and Datasets/Datasets for Python Primer/ . Upload all the files in that folder to this Colab session to use them in the following cells."
   ]
  },
  {
   "cell_type": "code",
   "execution_count": null,
   "metadata": {
    "id": "8bYLLzXZ9msT"
   },
   "outputs": [],
   "source": [
    "#If you are using Jupyter Notebook, please skip this cell. Make sure train.csv under the same folder of this notebook.\n",
    "#If you are using Google Colab, please choose and upload train.csv in this cell. \n",
    "from google.colab import files\n",
    "\n",
    "uploaded = files.upload()"
   ]
  },
  {
   "cell_type": "markdown",
   "metadata": {
    "id": "JCJYG1h55Rh2"
   },
   "source": [
    "### Classes"
   ]
  },
  {
   "cell_type": "code",
   "execution_count": null,
   "metadata": {
    "id": "gXnDgtWq5Rh2"
   },
   "outputs": [],
   "source": [
    "class Person(object):\n",
    "    # This is the constructor. All instance methods of a class\n",
    "    # must accept `self` as the first parameter\n",
    "    # The self parameter is a reference to the current instance of the class, and is used to access variables that belongs to the class\n",
    "    # You use `self` to access data members and methods of the class,\n",
    "    # similar to `this` in Java\n",
    "    def __init__(self, name, age):\n",
    "        # This will call the super class's constructor; Optional if you inherit from `object`\n",
    "        super().__init__()\n",
    "        \n",
    "        # Assign data members\n",
    "        self.name = name\n",
    "        self.age = age\n",
    "        \n",
    "    def is_adult(self):\n",
    "        return self.age >= 18\n",
    "    \n",
    "    def is_child(self):\n",
    "        # Other instance methods are called with the `self` keyword.\n",
    "        return not self.is_adult()\n",
    "    \n",
    "    def increment_age(self, amount):\n",
    "        self.age += amount\n",
    "        \n",
    "    # Test to see if two `Person` objects are equal\n",
    "    def __eq__(self, other):\n",
    "        return self.name == other.name and self.age == other.age"
   ]
  },
  {
   "cell_type": "code",
   "execution_count": null,
   "metadata": {
    "id": "eyov6YVZ5Rh3"
   },
   "outputs": [],
   "source": [
    "p = Person('Bob', 19)\n",
    "\n",
    "# Data members can be accessed directly\n",
    "print(p.name)  # 'Bob'\n",
    "print(p.age)   # 19\n",
    "\n",
    "# Even though all of the methods require a `self` argument, you ignore that argument\n",
    "# when calling the method\n",
    "print(p.is_adult())  # True \n",
    "\n",
    "p.increment_age(1)  # Returns nothing\n",
    "print(p.age)        # 20\n",
    "\n",
    "p2 = Person('Mary', 30)\n",
    "print(p == p2)  # False\n",
    "\n",
    "p3 = Person('Mary', 30)\n",
    "print(p2 == p3)  # True"
   ]
  },
  {
   "cell_type": "markdown",
   "metadata": {
    "id": "Pf7jlRTn5Rh4"
   },
   "source": [
    "# **Useful Packages**\n",
    "There are many packages that come with your python installation as well as many which can be downloaded easily for free.\n",
    "Importing a package requires the `import` command.\n",
    "Most packages can be installed using the `pip` command (which is run on the command line, not within a python environment), that is included with the python installation.\n",
    "\n",
    "```\n",
    "> pip install numpy\n",
    "> pip install scikit-learn\n",
    "```\n"
   ]
  },
  {
   "cell_type": "markdown",
   "metadata": {
    "id": "s7MNALHP5Rh4"
   },
   "source": [
    "### **random**\n",
    "The `random` package provides tools for generating random numbers."
   ]
  },
  {
   "cell_type": "code",
   "execution_count": null,
   "metadata": {
    "id": "5sxiY5a75Rh4"
   },
   "outputs": [],
   "source": [
    "import random\n",
    "\n",
    "random.seed(4)\n",
    "\n",
    "print(random.randint(1, 5))  # A random integer in (1, 5)\n",
    "\n",
    "print(random.random())  # A random number in (0, 1.0]\n",
    "\n",
    "# Randomly shuffle a list\n",
    "a = [0, 1, 2, 3, 4, 5]\n",
    "random.shuffle(a)  # Shuffles in place - does not return a copy\n",
    "print(a)"
   ]
  },
  {
   "cell_type": "markdown",
   "metadata": {
    "id": "S7F6krwQ5Rh5"
   },
   "source": [
    "### **numpy**\n",
    "`numpy` is a very useful matrix library for Python.\n",
    "It is used very frequently in machine learning, so it is good to be familiar with it.\n",
    "If your program crashes with an import error when you import numpy, you need to install it with\n",
    "```\n",
    "> pip install numpy\n",
    "```"
   ]
  },
  {
   "cell_type": "code",
   "execution_count": null,
   "metadata": {
    "id": "paud9WX_5Rh5"
   },
   "outputs": [],
   "source": [
    "# Imports can be aliased to simplify code\n",
    "import numpy as np  # The numpy library is now referenced with np\n",
    "\n",
    "# Create a vector of length 5 of all 0s\n",
    "v = np.zeros(5)\n",
    "print(v)\n",
    "\n",
    "print(v.shape)     # Returns a tuple of the dimensions: (5,)\n",
    "print(v.shape[0])  # Returns the size of the 0th dimension, 5\n",
    "\n",
    "# You can assign specific entries by their index into the vector\n",
    "v[0] = 1\n",
    "v[1] = 4\n",
    "\n",
    "# You can assign ranges of values\n",
    "v[2:5] = [5, 3, 6]\n",
    "print(v)\n",
    "\n",
    "# Create a random vector of values between 0 and 1\n",
    "np.random.seed(1)\n",
    "v1 = np.random.rand(5)\n",
    "print(v1)\n",
    "\n",
    "# Compute the dot product\n",
    "print(np.dot(v, v1))\n",
    "\n",
    "# Element-wise multiplication\n",
    "print(v * v1)\n",
    "print(np.multiply(v, v1))  # equivalent\n",
    "\n",
    "# Multiply the whole vector by a scalar, add a constant\n",
    "print(v * 5)\n",
    "print(v + 3)"
   ]
  },
  {
   "cell_type": "code",
   "execution_count": null,
   "metadata": {
    "id": "aNprz_H85Rh5"
   },
   "outputs": [],
   "source": [
    "# Matrices work much the same way (vectors are just matrices with 1 dimension)\n",
    "# `np.ones` creates a matrix of the given input size\n",
    "t = (3, 4)\n",
    "X = np.ones(t)\n",
    "print(X)\n",
    "print(X.shape)     # (3, 4)\n",
    "print(X.shape[0])  # 3\n",
    "print(X.shape[1])  # 4\n",
    "\n",
    "# Assigning specific entries requires 2 indices\n",
    "# The first is the row index, the second is the column index\n",
    "X[1, 3] = 8\n",
    "print(X)\n",
    "\n",
    "# The `:` selects the entire row or column\n",
    "row1 = X[1, :]\n",
    "print(row1)\n",
    "print(X[:, 2])\n",
    "\n",
    "# It can also be used to assign values\n",
    "X[1, :] = [1, 2, 3, 4]\n",
    "print(X)\n",
    "\n",
    "# Matrix multiplication\n",
    "Y = np.random.rand(4, 5)\n",
    "print(np.matmul(X, Y))  # A matrix of size (3, 5)\n",
    "\n",
    "# Transpose\n",
    "print(X.transpose())\n",
    "print(X.T)  # equivalent\n",
    "\n",
    "# You can create a matrix from a list (of lists)\n",
    "Z = np.asarray(\n",
    "    [\n",
    "        [0, 1, 2], \n",
    "        [3, 4, 5]\n",
    "    ])\n",
    "print(Z)"
   ]
  },
  {
   "cell_type": "code",
   "execution_count": null,
   "metadata": {
    "id": "5JrcDJlL5Rh5"
   },
   "outputs": [],
   "source": [
    "# Useful ways to initialize matrices\n",
    "A = np.zeros((5, 3))  # A 5x5 matrix of all 0s\n",
    "print(A)\n",
    "\n",
    "A = np.ones((5, 3))  # A 5x3 matrix of all 1s\n",
    "print(A)\n",
    "\n",
    "A = np.eye(5)  # I matrix of size 5x5\n",
    "print(A)\n",
    "\n",
    "A = np.random.rand(5, 3)  # A random matrix of size 5x3 with numbers between 0 and 1\n",
    "print(A)\n",
    "\n",
    "A = np.random.randint(1, 4, (5, 3)) # A random matrix of integers in (0, 4] of size 5x3\n",
    "print(A)\n"
   ]
  },
  {
   "cell_type": "markdown",
   "metadata": {
    "id": "uzAsDeSC6RIZ"
   },
   "source": [
    "### More information on `numpy`\n",
    "To know more about the methods and functions in `numpy`, visit the `numpy` User Guide: https://numpy.org/doc/stable/user/"
   ]
  },
  {
   "cell_type": "markdown",
   "metadata": {
    "id": "0kUKV9HP5Rh6"
   },
   "source": [
    "### **sklearn**\n",
    "`sklearn` is a useful machine learning library. It can be installed with\n",
    "```\n",
    "> pip install scikit-learn\n",
    "```"
   ]
  },
  {
   "cell_type": "code",
   "execution_count": null,
   "metadata": {
    "id": "2O3tfzwT5Rh6"
   },
   "outputs": [],
   "source": [
    "# An example learning problem. You may use this as a template for homework\n",
    "from sklearn.linear_model import SGDClassifier\n",
    "\n",
    "# This is the feature matrix. There are 7 rows (7 training examples) with\n",
    "# 4 columns (4 features).\n",
    "X = np.asarray(\n",
    "[\n",
    "    [0, 0, 1, 0],\n",
    "    [0, 1, 0, 0],\n",
    "    [0, 0, 1, 1],\n",
    "    [1, 0, 0, 1],\n",
    "    [0, 1, 1, 0],\n",
    "    [1, 1, 0, 0],\n",
    "    [0, 1, 0, 1]\n",
    "])\n",
    "\n",
    "# These are the binary class labels for all 7 instances\n",
    "y = np.asarray([0, 0, 1, 1, 0, 0, 0])\n",
    "\n",
    "# Create the classifier\n",
    "clf = SGDClassifier(loss=\"hinge\", penalty=\"l2\")\n",
    "\n",
    "# Train the classifier on our labeled data\n",
    "clf.fit(X, y)\n",
    "\n",
    "# Use our trained classifier to predict labels for new input data\n",
    "X_test = np.asarray(\n",
    "[\n",
    "    [1, 0, 0, 0],\n",
    "    [0, 1, 1, 1],\n",
    "    [0, 0, 0, 1]\n",
    "])\n",
    "y_pred = clf.predict(X_test)\n",
    "\n",
    "# Let's assume we know the actual labels of `X_test` are this\n",
    "y_test = np.asarray([0, 1, 1])\n",
    "\n",
    "# We can compute the total number of correct classifications:\n",
    "num_correct = sum(y_pred == y_test)\n",
    "total = y_pred.shape[0]\n",
    "print('Accuracy: ' + str(num_correct / total * 100))"
   ]
  },
  {
   "cell_type": "markdown",
   "metadata": {
    "id": "zvcrBsoBbak-"
   },
   "source": [
    "A key function of sklearn is the ability to split datasets. For supervised machine learning, we need to split our data into sets on which we train our models, validate how well different iterations of our models perform (which we can use to tune and improve the model), and finally evaluate how the final model performs. Sklearn allows us to split the data easily using the train_test_split function. The function is quite well documented, so we encourage you to check out how it works for the specifics, but will run an example here."
   ]
  },
  {
   "cell_type": "code",
   "execution_count": null,
   "metadata": {
    "id": "0f2iC21jcG5H"
   },
   "outputs": [],
   "source": [
    "# import train_test_split\n",
    "from sklearn.model_selection import train_test_split\n",
    "\n",
    "# Let's practice using a random array with ints ranging from 0-3\n",
    "X = np.random.randint(4, size= (6,5))\n",
    "\n",
    "#Let's view the transpose of each array to make the labels line up more clearly on the screen\n",
    "print(f'X:\\n {X}')\n",
    "\n",
    "# We'll also say we have a corresponding array of class labels. \n",
    "# Often, this will be in the same dataset, and you will have to split it into its own array\n",
    "y = np.random.randint(2, size = (6, 1))\n",
    "print(f'y:\\n {y}')\n",
    "\n",
    "# Now we can split the data using train_test_split. Note that the class labels stay with their corresponding rows.\n",
    "# We are setting a test size of .3, meaning 30% of our data will be used as a test set, and the rest for training.\n",
    "X_train, X_test, y_train, y_test = train_test_split(X, y, test_size = .3)\n",
    "print(f'X_train:\\n {X_train}')\n",
    "print(f'y_train:\\n {y_train}')\n",
    "print(f'X_test:\\n {X_test}')\n",
    "print(f'y_test:\\n {y_test}')"
   ]
  },
  {
   "cell_type": "markdown",
   "metadata": {
    "id": "NYv4GFT2crPQ"
   },
   "source": [
    "Sklearn also contains other ways to split data other than just randomly, such as a stratified sample which tries to retain the same proportions of classes in each split. We encourage you to look through the documentation to learn about other sampling methods!"
   ]
  },
  {
   "cell_type": "markdown",
   "metadata": {
    "id": "nnydi9lg6yyO"
   },
   "source": [
    "### More information on `sklearn`\n",
    "To know more about the methods and functions supported in `sklearn`, visit `sklearn` user guide: https://scikit-learn.org/stable/user_guide.html"
   ]
  },
  {
   "cell_type": "markdown",
   "metadata": {
    "id": "0FiAL5If3Wtx"
   },
   "source": [
    "### **pandas**"
   ]
  },
  {
   "cell_type": "code",
   "execution_count": null,
   "metadata": {
    "id": "PdCUq_st5Rh7"
   },
   "outputs": [],
   "source": [
    "import pandas as pd\n",
    "import numpy as np\n",
    "\n",
    "# !pip install jupyter_contib_nbextensions"
   ]
  },
  {
   "cell_type": "markdown",
   "metadata": {
    "id": "uQUIxvJb3Wty"
   },
   "source": [
    "#### Series & DataFrames"
   ]
  },
  {
   "cell_type": "code",
   "execution_count": null,
   "metadata": {
    "id": "fSm28tZ03Wty"
   },
   "outputs": [],
   "source": [
    "sports = pd.Series(['football', 'basketball',' volleyball','tennis'])\n",
    "\n",
    "population = pd.Series({'Germany': 81.3, 'Belgium': 11.3, 'France': 64.3, \n",
    "                        'United Kingdom': 64.9, 'Netherlands': 16.9})\n",
    "\n",
    "countries = pd.DataFrame({'country': ['Belgium', 'France', 'Germany', 'Netherlands', 'United Kingdom'],\n",
    "        'population': [11.3, 64.3, 81.3, 16.9, 64.9],\n",
    "        'area': [30510, 671308, 357050, 41526, 244820],\n",
    "        'capital': ['Brussels', 'Paris', 'Berlin', 'Amsterdam', 'London']})"
   ]
  },
  {
   "cell_type": "code",
   "execution_count": null,
   "metadata": {
    "id": "NMUmGqKg3Wt1"
   },
   "outputs": [],
   "source": [
    "sports"
   ]
  },
  {
   "cell_type": "code",
   "execution_count": null,
   "metadata": {
    "id": "g5gvsCGH3Wt5"
   },
   "outputs": [],
   "source": [
    "population"
   ]
  },
  {
   "cell_type": "code",
   "execution_count": null,
   "metadata": {
    "id": "50d4u6So3Wt8"
   },
   "outputs": [],
   "source": [
    "countries"
   ]
  },
  {
   "cell_type": "code",
   "execution_count": null,
   "metadata": {
    "id": "feapzLyS3Wt_"
   },
   "outputs": [],
   "source": [
    "type(population)"
   ]
  },
  {
   "cell_type": "code",
   "execution_count": null,
   "metadata": {
    "id": "GHp3RKmv3WuD"
   },
   "outputs": [],
   "source": [
    "sports.index"
   ]
  },
  {
   "cell_type": "code",
   "execution_count": null,
   "metadata": {
    "id": "gD3-CxRF3WuG"
   },
   "outputs": [],
   "source": [
    "population.index"
   ]
  },
  {
   "cell_type": "code",
   "execution_count": null,
   "metadata": {
    "id": "lrz-rSxe3WuJ"
   },
   "outputs": [],
   "source": [
    "population['Belgium']"
   ]
  },
  {
   "cell_type": "code",
   "execution_count": null,
   "metadata": {
    "id": "IaUPxsis3WuL"
   },
   "outputs": [],
   "source": [
    "population.values"
   ]
  },
  {
   "cell_type": "code",
   "execution_count": null,
   "metadata": {
    "id": "RSo2vGIX3WuO"
   },
   "outputs": [],
   "source": [
    "population/100"
   ]
  },
  {
   "cell_type": "code",
   "execution_count": null,
   "metadata": {
    "id": "vxDliCc73WuR"
   },
   "outputs": [],
   "source": [
    "type(population.values)"
   ]
  },
  {
   "cell_type": "markdown",
   "metadata": {
    "id": "kv3mfF6j3Wub"
   },
   "source": [
    "Accessing dataframe variables using the '.' operator"
   ]
  },
  {
   "cell_type": "code",
   "execution_count": null,
   "metadata": {
    "id": "J2ddwUeq3Wuc"
   },
   "outputs": [],
   "source": [
    "type(countries.area)"
   ]
  },
  {
   "cell_type": "code",
   "execution_count": null,
   "metadata": {
    "id": "weQFlPmm3Wue"
   },
   "outputs": [],
   "source": [
    "countries.area.values"
   ]
  },
  {
   "cell_type": "code",
   "execution_count": null,
   "metadata": {
    "id": "yYnI9rSX3Wug"
   },
   "outputs": [],
   "source": [
    "type(countries.capital.values)"
   ]
  },
  {
   "cell_type": "markdown",
   "metadata": {
    "id": "wUU-zkPu3Wuk"
   },
   "source": [
    "#### Basic Methods"
   ]
  },
  {
   "cell_type": "code",
   "execution_count": null,
   "metadata": {
    "id": "d0Y5pQ5J3Wul"
   },
   "outputs": [],
   "source": [
    "countries.columns"
   ]
  },
  {
   "cell_type": "code",
   "execution_count": null,
   "metadata": {
    "id": "kGGfvAgu3Wun"
   },
   "outputs": [],
   "source": [
    "countries.dtypes"
   ]
  },
  {
   "cell_type": "code",
   "execution_count": null,
   "metadata": {
    "id": "FyV8QA-O3Wuq"
   },
   "outputs": [],
   "source": [
    "countries.head(3)"
   ]
  },
  {
   "cell_type": "code",
   "execution_count": null,
   "metadata": {
    "id": "ejcGv2n63Wus"
   },
   "outputs": [],
   "source": [
    "countries.describe()"
   ]
  },
  {
   "cell_type": "code",
   "execution_count": null,
   "metadata": {
    "id": "mVPAG1LI3Wuu"
   },
   "outputs": [],
   "source": [
    "countries.values"
   ]
  },
  {
   "cell_type": "code",
   "execution_count": null,
   "metadata": {
    "id": "SnsatRQE3Wuw"
   },
   "outputs": [],
   "source": [
    "countries.info()"
   ]
  },
  {
   "cell_type": "code",
   "execution_count": null,
   "metadata": {
    "id": "vXfYKm2h3Wu0"
   },
   "outputs": [],
   "source": [
    "countries.capital.value_counts()"
   ]
  },
  {
   "cell_type": "code",
   "execution_count": null,
   "metadata": {
    "id": "7cyRKUsw3Wu3"
   },
   "outputs": [],
   "source": [
    "population"
   ]
  },
  {
   "cell_type": "code",
   "execution_count": null,
   "metadata": {
    "id": "IOHFtPdB3Wu5"
   },
   "outputs": [],
   "source": [
    "population.reset_index()"
   ]
  },
  {
   "cell_type": "code",
   "execution_count": null,
   "metadata": {
    "id": "WBxDA9M43Wu9"
   },
   "outputs": [],
   "source": [
    "type(population.reset_index())"
   ]
  },
  {
   "cell_type": "code",
   "execution_count": null,
   "metadata": {
    "id": "yvHc1RIU3WvA"
   },
   "outputs": [],
   "source": [
    "countries.capital.value_counts().reset_index()"
   ]
  },
  {
   "cell_type": "markdown",
   "metadata": {
    "id": "y6B6PGPK3WvD"
   },
   "source": [
    "#### Selecting and Filtering Data"
   ]
  },
  {
   "cell_type": "markdown",
   "metadata": {
    "id": "VNh4awSB3WvD"
   },
   "source": [
    "<div class=\"alert alert-warning\">\n",
    "<b>ATTENTION!</b>: <br><br>\n",
    "\n",
    "One of pandas' basic features is the labeling of rows and columns, but this makes indexing also a bit more complex compared to numpy. <br><br> We now have to distuinguish between:\n",
    "\n",
    " <ul>\n",
    "  <li>selection by **label**</li>\n",
    "  <li>selection by **position**</li>\n",
    "</ul>\n",
    "</div>"
   ]
  },
  {
   "cell_type": "code",
   "execution_count": null,
   "metadata": {
    "id": "M2wtkhQv3WvE"
   },
   "outputs": [],
   "source": [
    "df = pd.read_csv(\"train.csv\")"
   ]
  },
  {
   "cell_type": "code",
   "execution_count": null,
   "metadata": {
    "id": "ur7YYnvj3WvH"
   },
   "outputs": [],
   "source": [
    "df.head()"
   ]
  },
  {
   "cell_type": "markdown",
   "metadata": {
    "id": "OLEPQnnC3WvJ"
   },
   "source": [
    "##### `data[]` provides some convenience shortcuts "
   ]
  },
  {
   "cell_type": "markdown",
   "metadata": {
    "id": "ZdJVL8N33WvK"
   },
   "source": [
    "Selecting a single column"
   ]
  },
  {
   "cell_type": "code",
   "execution_count": null,
   "metadata": {
    "id": "er7PHioh3WvK",
    "scrolled": true
   },
   "outputs": [],
   "source": [
    "df['Pclass']  # Can also use df.Pclass"
   ]
  },
  {
   "cell_type": "markdown",
   "metadata": {
    "id": "Kpw283_s3WvM"
   },
   "source": [
    "Selecting multiple columns"
   ]
  },
  {
   "cell_type": "code",
   "execution_count": null,
   "metadata": {
    "id": "Hl-8W-5k3WvO",
    "scrolled": true
   },
   "outputs": [],
   "source": [
    "df[  ['Pclass','Sex']   ]"
   ]
  },
  {
   "cell_type": "markdown",
   "metadata": {
    "id": "02qDfxdx3WvQ"
   },
   "source": [
    "Keep in mind that when we select more than one column, the output is DataFrame and not a series. Hence the difference in formatting of the two outputs above\n",
    "\n",
    "\n",
    "\n",
    "\n",
    "\n",
    "We can also use this syntax to select specific rows"
   ]
  },
  {
   "cell_type": "code",
   "execution_count": null,
   "metadata": {
    "id": "nINwoPkU3WvS"
   },
   "outputs": [],
   "source": [
    "df[3:5]"
   ]
  },
  {
   "cell_type": "markdown",
   "metadata": {
    "id": "Fh7Flpcx3WvU"
   },
   "source": [
    "#### Systematic indexing with `loc` and `iloc`"
   ]
  },
  {
   "cell_type": "markdown",
   "metadata": {
    "id": "059P_5z63WvV"
   },
   "source": [
    "When using `[]` like above, you can only select from one axis at once (rows or columns, not both). For more advanced indexing, you have some extra attributes:\n",
    "    \n",
    "* `loc`: selection by label\n",
    "* `iloc`: selection by position\n",
    "\n",
    "These methods index the different dimensions of the frame:\n",
    "\n",
    "* `df.loc[row_indexer, column_indexer]`\n",
    "* `df.iloc[row_indexer, column_indexer]`\n",
    "\n",
    "**As long as the dataframe has no defined indices, loc can do the job of iloc**"
   ]
  },
  {
   "cell_type": "code",
   "execution_count": null,
   "metadata": {
    "id": "xQdXtta-3WvW"
   },
   "outputs": [],
   "source": [
    "df.loc[4,'Fare']"
   ]
  },
  {
   "cell_type": "code",
   "execution_count": null,
   "metadata": {
    "id": "htvmMpsi3WvY"
   },
   "outputs": [],
   "source": [
    "df.loc[df.Sex=='female']"
   ]
  },
  {
   "cell_type": "code",
   "execution_count": null,
   "metadata": {
    "id": "ND0E_1qG3Wvc",
    "scrolled": true
   },
   "outputs": [],
   "source": [
    "df.loc[df.Sex=='female','Fare']"
   ]
  },
  {
   "cell_type": "code",
   "execution_count": null,
   "metadata": {
    "id": "H3dvUMgU3Wvf",
    "scrolled": true
   },
   "outputs": [],
   "source": [
    "df.loc[df.Sex=='female',['Fare','Name','Sex']]"
   ]
  },
  {
   "cell_type": "code",
   "execution_count": null,
   "metadata": {
    "id": "9eG_FdqP3Wvj"
   },
   "outputs": [],
   "source": [
    "df.loc[df.Sex=='female'][['Fare','Name','Sex']]"
   ]
  },
  {
   "cell_type": "markdown",
   "metadata": {
    "id": "B_H6xsS23Wvl"
   },
   "source": [
    "iloc is based on the position of the elements"
   ]
  },
  {
   "cell_type": "code",
   "execution_count": null,
   "metadata": {
    "id": "mzSCKKG03Wvl"
   },
   "outputs": [],
   "source": [
    "df.iloc[4]"
   ]
  },
  {
   "cell_type": "code",
   "execution_count": null,
   "metadata": {
    "id": "soLRbg2O3Wvp"
   },
   "outputs": [],
   "source": [
    "df.iloc[5:7]"
   ]
  },
  {
   "cell_type": "code",
   "execution_count": null,
   "metadata": {
    "id": "DbklMIL53Wvw"
   },
   "outputs": [],
   "source": [
    "df.iloc[5:7]['Fare']"
   ]
  },
  {
   "cell_type": "code",
   "execution_count": null,
   "metadata": {
    "id": "k5I87UDz3Wvy"
   },
   "outputs": [],
   "source": [
    "df.iloc[[1,2,3,8]]"
   ]
  },
  {
   "cell_type": "code",
   "execution_count": null,
   "metadata": {
    "id": "Dx59kaUz5RiG"
   },
   "outputs": [],
   "source": [
    "df.loc[[1,2,3,8]]"
   ]
  },
  {
   "cell_type": "code",
   "execution_count": null,
   "metadata": {
    "id": "PpgjYWcA5RiG"
   },
   "outputs": [],
   "source": [
    "population"
   ]
  },
  {
   "cell_type": "code",
   "execution_count": null,
   "metadata": {
    "id": "mQQnoavG5RiG"
   },
   "outputs": [],
   "source": [
    "population.iloc[0]"
   ]
  },
  {
   "cell_type": "code",
   "execution_count": null,
   "metadata": {
    "id": "BibCgAOk51hU"
   },
   "outputs": [],
   "source": [
    "population.loc['Germany']"
   ]
  },
  {
   "cell_type": "markdown",
   "metadata": {
    "id": "DPmh7P0U3Wv0"
   },
   "source": [
    "The different indexing methods can also be used to assign data:"
   ]
  },
  {
   "cell_type": "code",
   "execution_count": null,
   "metadata": {
    "id": "RdZEXCWa3Wv2"
   },
   "outputs": [],
   "source": [
    "df2 = df.copy()\n",
    "\n",
    "df2.loc[0,'Fare'] = -100.0"
   ]
  },
  {
   "cell_type": "code",
   "execution_count": null,
   "metadata": {
    "id": "BD32H7E33Wv3"
   },
   "outputs": [],
   "source": [
    "df2.head()"
   ]
  },
  {
   "cell_type": "markdown",
   "metadata": {
    "id": "r8Hutjj33Wv7"
   },
   "source": [
    "#### Creating New Variables"
   ]
  },
  {
   "cell_type": "code",
   "execution_count": null,
   "metadata": {
    "id": "GLX0JKmh3Wv8"
   },
   "outputs": [],
   "source": [
    "countries['newVar'] = [1,2,3,4,5]                   #Basic assignment\n",
    "countries"
   ]
  },
  {
   "cell_type": "code",
   "execution_count": null,
   "metadata": {
    "id": "-bSg2OEw3Wv-"
   },
   "outputs": [],
   "source": [
    "countries['newVar'] = countries.population * 2  + countries.area**0.5   #Using existing columns\n",
    "countries"
   ]
  },
  {
   "cell_type": "markdown",
   "metadata": {
    "id": "DJQGn_eV3WwA"
   },
   "source": [
    "##### Using apply\n",
    "\n",
    "Apply is a very powerful method which can be used for making major data manipulation tasks"
   ]
  },
  {
   "cell_type": "code",
   "execution_count": null,
   "metadata": {
    "id": "QlU1Z6_D3WwA"
   },
   "outputs": [],
   "source": [
    "countries['capital_upper'] = countries['capital'].apply(lambda x : x.upper())\n",
    "countries"
   ]
  },
  {
   "cell_type": "code",
   "execution_count": null,
   "metadata": {
    "id": "hgdsJygi3WwC"
   },
   "outputs": [],
   "source": [
    "def ageBucket(x):\n",
    "    if x<18:\n",
    "        return \"A. <18\"\n",
    "    elif x<25:\n",
    "        return \"B. 18-25\"\n",
    "    elif x<45:\n",
    "        return \"C. 25-45\"\n",
    "    else:\n",
    "        return \"D. >45\"\n",
    "        "
   ]
  },
  {
   "cell_type": "markdown",
   "metadata": {
    "id": "_7N8t6Au3WwD"
   },
   "source": [
    "Apply can be used on a single column (Series object)"
   ]
  },
  {
   "cell_type": "code",
   "execution_count": null,
   "metadata": {
    "id": "JPubA06U3WwD"
   },
   "outputs": [],
   "source": [
    "df['AgeBucket'] = df['Age'].apply(lambda x : ageBucket(x))\n",
    "df.head()"
   ]
  },
  {
   "cell_type": "markdown",
   "metadata": {
    "id": "Stcvjvwf3WwG"
   },
   "source": [
    "It can also be used on an entire dataframe"
   ]
  },
  {
   "cell_type": "code",
   "execution_count": null,
   "metadata": {
    "id": "iP5xHhod3WwH"
   },
   "outputs": [],
   "source": [
    "df['AgeBucket2'] = df.apply(lambda x : ageBucket(x['Age']),axis=1)\n",
    "df.head()"
   ]
  },
  {
   "cell_type": "markdown",
   "metadata": {
    "id": "sgR92Mms3WwI"
   },
   "source": [
    "Other derivative methods that you can look into : `map` and `applymap`"
   ]
  },
  {
   "cell_type": "markdown",
   "metadata": {
    "id": "rHZN9Wj63WwJ"
   },
   "source": [
    "#### Groupby Operations"
   ]
  },
  {
   "cell_type": "markdown",
   "metadata": {
    "id": "CFo0Wrqm3WwJ"
   },
   "source": [
    "\n",
    "The \"group by\" concept: we want to **apply the same function on subsets of your dataframe, based on some key to split the dataframe in subsets**\n",
    "\n",
    "This operation is also referred to as the \"split-apply-combine\" operation, involving the following steps:\n",
    "\n",
    "* **Splitting** the data into groups based on some criteria\n",
    "* **Applying** a function to each group independently\n",
    "* **Combining** the results into a data structure\n",
    "\n"
   ]
  },
  {
   "cell_type": "code",
   "execution_count": null,
   "metadata": {
    "id": "FAj20Vve3WwK"
   },
   "outputs": [],
   "source": [
    "df.groupby('Sex')"
   ]
  },
  {
   "cell_type": "code",
   "execution_count": null,
   "metadata": {
    "id": "0pwARtVh3WwO"
   },
   "outputs": [],
   "source": [
    "def getRange(x):\n",
    "    \n",
    "    minVal = np.min(x.Fare)\n",
    "    maxVal = np.max(x.Fare)\n",
    "    \n",
    "    return maxVal - minVal\n",
    "\n",
    "\n",
    "df.groupby('Pclass').apply(lambda x : getRange(x))"
   ]
  },
  {
   "cell_type": "markdown",
   "metadata": {
    "id": "AGu1111T3WwQ"
   },
   "source": [
    "Grouping on multiple columns"
   ]
  },
  {
   "cell_type": "code",
   "execution_count": null,
   "metadata": {
    "id": "JE8wmhMq3WwS"
   },
   "outputs": [],
   "source": [
    "df.groupby(['Sex','Pclass'])['Age'].mean()"
   ]
  },
  {
   "cell_type": "code",
   "execution_count": null,
   "metadata": {
    "id": "yapH_edp3WwY"
   },
   "outputs": [],
   "source": [
    "df.groupby('Sex').agg({'PassengerId':'min', 'Age':'max','Fare':'sum'})"
   ]
  },
  {
   "cell_type": "markdown",
   "metadata": {
    "id": "WpyIS_Bn3Wwb"
   },
   "source": [
    "#### Merge Operations"
   ]
  },
  {
   "cell_type": "markdown",
   "metadata": {
    "id": "IPGG_g1H3Wwb"
   },
   "source": [
    "Merging with Pandas works pretty much the same as SQL. There are four merge methods:\n",
    "1. Left\n",
    "2. Right\n",
    "3. Inner \n",
    "4. Outer\n",
    "\n",
    "Basic syntax : pd.merge(left_dataframe, right_dataframe, left_on=\"some_column\", right_on=\"some_column\", how=\"left|right|inner|outer)`"
   ]
  },
  {
   "cell_type": "code",
   "execution_count": null,
   "metadata": {
    "id": "mzFKDI6I3Wwb"
   },
   "outputs": [],
   "source": [
    "population = pd.DataFrame({'country': ['Germany', 'Belgium', 'France', \n",
    "                        'United Kingdom', 'United States'],'population': [81.3, 11.3, 64.3, 64.9, 65.9]})\n",
    "\n",
    "countries = pd.DataFrame({'country': ['Belgium', 'France', 'Germany', 'Netherlands', 'United Kingdom'],\n",
    "        'population': [11.3, 64.3, 81.3, 16.9, 64.9],\n",
    "        'area': [30510, 671308, 357050, 41526, 244820],\n",
    "        'capital': ['Brussels', 'Paris', 'Berlin', 'Amsterdam', 'London']})"
   ]
  },
  {
   "cell_type": "code",
   "execution_count": null,
   "metadata": {
    "id": "ntbRi4xh3Wwd"
   },
   "outputs": [],
   "source": [
    "population"
   ]
  },
  {
   "cell_type": "code",
   "execution_count": null,
   "metadata": {
    "id": "ec1g-uJw3Wwf"
   },
   "outputs": [],
   "source": [
    "countries"
   ]
  },
  {
   "cell_type": "markdown",
   "metadata": {
    "id": "gaU4-kzk3Wwi"
   },
   "source": [
    "In a Left Merge we are mostly concerned with data on the LEFT side but we would like to add data from \n",
    "the RIGHT side if it has some of the same countries in this case."
   ]
  },
  {
   "cell_type": "code",
   "execution_count": null,
   "metadata": {
    "id": "Ffn5Rf3V3Wwj"
   },
   "outputs": [],
   "source": [
    "pd.merge(left=population, right=countries, on=\"country\", how=\"left\")"
   ]
  },
  {
   "cell_type": "markdown",
   "metadata": {
    "id": "lRHV_k3Q3Wwl"
   },
   "source": [
    "In a Right Merge we are mostly concerned with data on the RIGHT side but we would like to add data from \n",
    "the LEFT side if it has some of the same countries in this case."
   ]
  },
  {
   "cell_type": "code",
   "execution_count": null,
   "metadata": {
    "id": "rEAd4weA3Wwn"
   },
   "outputs": [],
   "source": [
    "pd.merge(left=population, right=countries, on=\"country\", how=\"right\")"
   ]
  },
  {
   "cell_type": "markdown",
   "metadata": {
    "id": "sGVgL1O73Wwp"
   },
   "source": [
    "With an Inner Merge, we chop up both dataframes and only glue the stuff that matches. If a country isn't in both \n",
    "dataframes, we don't keep it and we don't add NaN's. If no type of join is mentioned, then inner join is the \n",
    "default join. "
   ]
  },
  {
   "cell_type": "code",
   "execution_count": null,
   "metadata": {
    "id": "cumuNz1-3Wwp"
   },
   "outputs": [],
   "source": [
    "pd.merge(left=population, right=countries,on ='country')"
   ]
  },
  {
   "cell_type": "code",
   "execution_count": null,
   "metadata": {
    "id": "ZwK5dcNV3Wwq"
   },
   "outputs": [],
   "source": [
    "pd.merge(left=population, right=countries,on ='country', how = \"inner\")"
   ]
  },
  {
   "cell_type": "markdown",
   "metadata": {
    "id": "xbnDLQwd3Wws"
   },
   "source": [
    "With an Outer Merge, we chop up both dataframes and keep everything from both sides. Then we toss in NaN's to fill\n",
    "any blanks."
   ]
  },
  {
   "cell_type": "code",
   "execution_count": null,
   "metadata": {
    "id": "uwv0vZka3Wws"
   },
   "outputs": [],
   "source": [
    "pd.merge(left=population, right=countries,on ='country', how = \"outer\")"
   ]
  },
  {
   "cell_type": "markdown",
   "metadata": {
    "heading_collapsed": true,
    "id": "8lxbwUHH3WxX"
   },
   "source": [
    "#### Missing Data\n",
    "How to handle missing data (NaN's)? Most common commands used are fillna and dropna. "
   ]
  },
  {
   "cell_type": "code",
   "execution_count": null,
   "metadata": {
    "hidden": true,
    "id": "Z4sbjPoR3WxX"
   },
   "outputs": [],
   "source": [
    "missing_df = pd.DataFrame(np.random.randn(5, 3), index=['a', 'c', 'e', 'f', 'h'],columns=['one', 'two', 'three'])\n",
    "missing_df['four'] = 'bar'\n",
    "missing_df['five'] = missing_df['one'] > 0\n",
    "missing_df.loc[['a','c','h'],['one','four']] = np.nan\n",
    "missing_df"
   ]
  },
  {
   "cell_type": "code",
   "execution_count": null,
   "metadata": {
    "hidden": true,
    "id": "cOAic3gb3WxZ"
   },
   "outputs": [],
   "source": [
    "# fillna replaces NA/NAN values with the given value in the command.\n",
    "missing_df.fillna(0)"
   ]
  },
  {
   "cell_type": "code",
   "execution_count": null,
   "metadata": {
    "hidden": true,
    "id": "UcJud3dn3Wxf"
   },
   "outputs": [],
   "source": [
    "missing_df['one'].fillna('missing')"
   ]
  },
  {
   "cell_type": "markdown",
   "metadata": {
    "hidden": true,
    "id": "L4dr81_h3Wxh"
   },
   "source": [
    "Dropna is used to drop the rows or columns with NA/NAN values.\n",
    "<br>\n",
    "'axis' argument determines if rows or columns which contain missing values are removed.\n",
    "<br>\n",
    "'axis =0': Drop rows which contain missing values. \n",
    "<br>\n",
    "'axis =1': Drop columns which contain missing value.\n",
    "<br>\n",
    "\n",
    "\n",
    "'how' argument determines if row or column is removed from DataFrame, when we have at least one NA or all NA.\n",
    "<br>\n",
    "‘how = any’ : If any NA values are present, drop that row or column. (default)\n",
    "<br>\n",
    "‘how = all’ : If all values are NA, drop that row or column.\n",
    "<br>"
   ]
  },
  {
   "cell_type": "code",
   "execution_count": null,
   "metadata": {
    "hidden": true,
    "id": "LDrcfuDH3Wxi"
   },
   "outputs": [],
   "source": [
    "missing_df.dropna(axis=0)"
   ]
  },
  {
   "cell_type": "code",
   "execution_count": null,
   "metadata": {
    "hidden": true,
    "id": "eRLSnqGz3Wxk"
   },
   "outputs": [],
   "source": [
    "missing_df.dropna(axis=1)"
   ]
  },
  {
   "cell_type": "code",
   "execution_count": null,
   "metadata": {
    "hidden": true,
    "id": "t875iBcc3Wxo"
   },
   "outputs": [],
   "source": [
    "missing_df['six'] = np.nan\n",
    "missing_df"
   ]
  },
  {
   "cell_type": "code",
   "execution_count": null,
   "metadata": {
    "hidden": true,
    "id": "OG27aNrA3Wxq"
   },
   "outputs": [],
   "source": [
    "missing_df.dropna(axis=1, how = 'all')"
   ]
  },
  {
   "cell_type": "code",
   "execution_count": null,
   "metadata": {
    "hidden": true,
    "id": "v-MB5Pl73Wxr"
   },
   "outputs": [],
   "source": [
    "#dropping rows only where some columns are missing\n",
    "missing_df.dropna(subset = ['one', 'two', 'four'])"
   ]
  },
  {
   "cell_type": "code",
   "execution_count": null,
   "metadata": {
    "hidden": true,
    "id": "u4WwTo6S3Wxx"
   },
   "outputs": [],
   "source": [
    "df.head()"
   ]
  },
  {
   "cell_type": "markdown",
   "metadata": {
    "id": "Ghfu4Sbc9zeB"
   },
   "source": [
    "### More information on `pandas`\n",
    "To know more about the methods and functions in `pandas`, visit the `pandas` User Guide: https://pandas.pydata.org/pandas-docs/stable/user_guide/index.html"
   ]
  },
  {
   "cell_type": "markdown",
   "metadata": {
    "heading_collapsed": true,
    "id": "tT4ZKgxm3Wx0"
   },
   "source": [
    "# Exercises"
   ]
  },
  {
   "cell_type": "markdown",
   "metadata": {
    "hidden": true,
    "id": "HiQmv6HV3Wx0"
   },
   "source": [
    "## Titanic"
   ]
  },
  {
   "cell_type": "code",
   "execution_count": null,
   "metadata": {
    "hidden": true,
    "id": "BE99grfO3Wx1"
   },
   "outputs": [],
   "source": [
    "df.head()"
   ]
  },
  {
   "cell_type": "markdown",
   "metadata": {
    "hidden": true,
    "id": "6XBMUadX3Wx5"
   },
   "source": [
    "Calculate the number of passengers with Pclass = 3"
   ]
  },
  {
   "cell_type": "code",
   "execution_count": null,
   "metadata": {
    "hidden": true,
    "id": "rXr_SK_c3Wx7"
   },
   "outputs": [],
   "source": []
  },
  {
   "cell_type": "markdown",
   "metadata": {
    "hidden": true,
    "id": "GFA7Yn-H3Wx8"
   },
   "source": [
    "Compute the percentage of passengers that survived"
   ]
  },
  {
   "cell_type": "code",
   "execution_count": null,
   "metadata": {
    "hidden": true,
    "id": "IRkoto_v3Wx8"
   },
   "outputs": [],
   "source": []
  },
  {
   "cell_type": "markdown",
   "metadata": {
    "hidden": true,
    "id": "Ej80X4cl3Wx9"
   },
   "source": [
    "How many children below the age of 18?"
   ]
  },
  {
   "cell_type": "code",
   "execution_count": null,
   "metadata": {
    "hidden": true,
    "id": "C1ezst8B3Wx-"
   },
   "outputs": [],
   "source": []
  },
  {
   "cell_type": "markdown",
   "metadata": {
    "hidden": true,
    "id": "SvEOxQ9a3Wx_"
   },
   "source": [
    "Whats the ratio of male and female passengers?"
   ]
  },
  {
   "cell_type": "code",
   "execution_count": null,
   "metadata": {
    "hidden": true,
    "id": "y1L20dpS3WyA"
   },
   "outputs": [],
   "source": []
  },
  {
   "cell_type": "markdown",
   "metadata": {
    "hidden": true,
    "id": "G4vqjRwT3WyE"
   },
   "source": [
    "Between the two genders, whats the ratio of passengers that survived?"
   ]
  },
  {
   "cell_type": "code",
   "execution_count": null,
   "metadata": {
    "hidden": true,
    "id": "JR1WrisY3WyE"
   },
   "outputs": [],
   "source": []
  },
  {
   "cell_type": "markdown",
   "metadata": {
    "hidden": true,
    "id": "q6JcJaQN3WyF"
   },
   "source": [
    "Create a new variable which has 0 for male and 1 for female. Name this variable **LabelEncode_Sex**"
   ]
  },
  {
   "cell_type": "code",
   "execution_count": null,
   "metadata": {
    "hidden": true,
    "id": "nyfw6dyY3WyG"
   },
   "outputs": [],
   "source": []
  },
  {
   "cell_type": "markdown",
   "metadata": {
    "hidden": true,
    "id": "2sIdQgEw3WyH"
   },
   "source": [
    "Create a variable that takes the value of 1 when Pclass is 1 and 0 otherwise. Create similar variables for when Pclass has a value of 2 and 3.\n",
    "\n",
    "Name these variables **OHE_PClass1, OHE_PClass2, OHE_PClass3** respectively "
   ]
  },
  {
   "cell_type": "code",
   "execution_count": null,
   "metadata": {
    "hidden": true,
    "id": "J9BFY3Ja3WyI"
   },
   "outputs": [],
   "source": [
    "\n"
   ]
  },
  {
   "cell_type": "markdown",
   "metadata": {
    "hidden": true,
    "id": "hM3jPG4s3WyK"
   },
   "source": [
    "Calculate the mean fare for all samples with an odd index"
   ]
  },
  {
   "cell_type": "code",
   "execution_count": null,
   "metadata": {
    "hidden": true,
    "id": "xqia6PYr3WyM"
   },
   "outputs": [],
   "source": []
  },
  {
   "cell_type": "markdown",
   "metadata": {
    "hidden": true,
    "id": "OUT8jkNh3WyO"
   },
   "source": [
    "Create a new variable which stores the last name of passengers"
   ]
  },
  {
   "cell_type": "code",
   "execution_count": null,
   "metadata": {
    "hidden": true,
    "id": "3DpxXxMR3WyO"
   },
   "outputs": [],
   "source": []
  },
  {
   "cell_type": "markdown",
   "metadata": {
    "hidden": true,
    "id": "Atr4PLVj3WyR"
   },
   "source": [
    "Calculate the number of unique families ( based on last names)"
   ]
  },
  {
   "cell_type": "code",
   "execution_count": null,
   "metadata": {
    "hidden": true,
    "id": "ntu_MpxC3WyR"
   },
   "outputs": [],
   "source": []
  },
  {
   "cell_type": "markdown",
   "metadata": {
    "hidden": true,
    "id": "ev08MwE13WyW"
   },
   "source": [
    "Create a variable that indicates the **size of the family** for each passenger. *Family size is the number of passengers with the same family name*"
   ]
  },
  {
   "cell_type": "code",
   "execution_count": null,
   "metadata": {
    "hidden": true,
    "id": "ZmxAUjkq3WyZ"
   },
   "outputs": [],
   "source": []
  },
  {
   "cell_type": "markdown",
   "metadata": {
    "hidden": true,
    "id": "pCaIJQ6R3Wyc"
   },
   "source": [
    "#### Fare by Cabin Index\n",
    "\n",
    "All cabin numbers begin with a letter. We hypothesize that this first letter actually has a significance. So create a new variable that stores the first letter of the cabin variable. Call this **CabinIndex**.\n",
    "\n",
    "NOTE : The cabin variable has missing values. Also check for the data type of the Cabin variable.\n",
    "\n",
    "Once you have created the CabinIndex variable, calculate the mean value of fare for different levels of CabinIndex"
   ]
  },
  {
   "cell_type": "code",
   "execution_count": null,
   "metadata": {
    "hidden": true,
    "id": "qxo2LVAx3Wyd"
   },
   "outputs": [],
   "source": []
  },
  {
   "cell_type": "markdown",
   "metadata": {
    "hidden": true,
    "id": "MVdzrRVE3Wy4"
   },
   "source": [
    "## Iris Dataset"
   ]
  },
  {
   "cell_type": "code",
   "execution_count": null,
   "metadata": {
    "hidden": true,
    "id": "ZH-70CeB3Wy5"
   },
   "outputs": [],
   "source": [
    "## Loading the dataset\n",
    "\n",
    "from sklearn.datasets import load_iris\n",
    "data = load_iris()"
   ]
  },
  {
   "cell_type": "code",
   "execution_count": null,
   "metadata": {
    "hidden": true,
    "id": "SZBSysRj3WzI"
   },
   "outputs": [],
   "source": [
    "data.data"
   ]
  },
  {
   "cell_type": "code",
   "execution_count": null,
   "metadata": {
    "hidden": true,
    "id": "zUyOE2KH3WzJ"
   },
   "outputs": [],
   "source": [
    "data.target"
   ]
  },
  {
   "cell_type": "code",
   "execution_count": null,
   "metadata": {
    "hidden": true,
    "id": "KcnI3iE_3WzL"
   },
   "outputs": [],
   "source": [
    "data.feature_names"
   ]
  },
  {
   "cell_type": "code",
   "execution_count": null,
   "metadata": {
    "hidden": true,
    "id": "TWx6wsU-3WzO"
   },
   "outputs": [],
   "source": [
    "data.target_names"
   ]
  },
  {
   "cell_type": "markdown",
   "metadata": {
    "hidden": true,
    "id": "JyjbJwKl3WzP"
   },
   "source": [
    "### Exercises"
   ]
  },
  {
   "cell_type": "markdown",
   "metadata": {
    "hidden": true,
    "id": "Yt7Dii2O3WzP"
   },
   "source": [
    "Put together all the components of the data variable into a Pandas DataFrame. *This means putting together the feature and target variables, and adding their names as column names*"
   ]
  },
  {
   "cell_type": "code",
   "execution_count": null,
   "metadata": {
    "hidden": true,
    "id": "QMrYo5U63WzP"
   },
   "outputs": [],
   "source": [
    "df = pd.DataFrame(data.data, columns = data.feature_names)\n",
    "\n",
    "df['target'] = data.target\n",
    "\n",
    "df.head()"
   ]
  },
  {
   "cell_type": "markdown",
   "metadata": {
    "hidden": true,
    "id": "5vkzjRZA3WzR"
   },
   "source": [
    "Find number of observations in the dataset which belong to class setosa and have a petal length > 3"
   ]
  },
  {
   "cell_type": "code",
   "execution_count": null,
   "metadata": {
    "hidden": true,
    "id": "BEHGFSQu3WzV"
   },
   "outputs": [],
   "source": []
  },
  {
   "cell_type": "markdown",
   "metadata": {
    "hidden": true,
    "id": "Oj1DDSyl3WzV"
   },
   "source": [
    "Find the maximum and minimum values of each of features."
   ]
  },
  {
   "cell_type": "code",
   "execution_count": null,
   "metadata": {
    "hidden": true,
    "id": "drH9aURJ3WzV"
   },
   "outputs": [],
   "source": []
  },
  {
   "cell_type": "markdown",
   "metadata": {
    "hidden": true,
    "id": "sJpCfA3M3WzW"
   },
   "source": [
    "Find the range of value for each of the features"
   ]
  },
  {
   "cell_type": "code",
   "execution_count": null,
   "metadata": {
    "id": "ANLkRajjum9y"
   },
   "outputs": [],
   "source": []
  },
  {
   "cell_type": "code",
   "execution_count": null,
   "metadata": {
    "hidden": true,
    "id": "7GK3MHcL3WzW"
   },
   "outputs": [],
   "source": []
  },
  {
   "cell_type": "markdown",
   "metadata": {
    "hidden": true,
    "id": "myT3HQQF3WzY"
   },
   "source": [
    "For each of the target classes, find the mean value of each of the independent variables. The mean values should be represented in a table.\n",
    "\n",
    "**Do not** use for loops. This should be doable in a single line of code"
   ]
  },
  {
   "cell_type": "code",
   "execution_count": null,
   "metadata": {
    "hidden": true,
    "id": "kY7xLTWi3WzZ"
   },
   "outputs": [],
   "source": []
  },
  {
   "cell_type": "markdown",
   "metadata": {
    "id": "-Rh3-Vt9Nev9"
   },
   "source": [
    "## More resources\n",
    "\n",
    "### Primary resources\n",
    "Resources that are particularly useful are:\n",
    "\n",
    "*   [Overview of Colaboratory](/notebooks/basic_features_overview.ipynb)\n",
    "*   [Guide to markdown](/notebooks/markdown_guide.ipynb)\n",
    "*   [Importing libraries and installing dependencies](/notebooks/snippets/importing_libraries.ipynb)\n",
    "*   [Saving and loading notebooks in GitHub](https://colab.research.google.com/github/googlecolab/colabtools/blob/master/notebooks/colab-github-demo.ipynb)\n",
    "*   [Loading data: Drive, Sheets and Google Cloud Storage](/notebooks/io.ipynb) \n",
    "\n",
    "### Other resources\n",
    "- [Interactive forms](/notebooks/forms.ipynb)\n",
    "- [Interactive widgets](/notebooks/widgets.ipynb)\n",
    "- <img src=\"/img/new.png\" height=\"20px\" align=\"left\" hspace=\"4px\" alt=\"New\"></img>\n",
    " [TensorFlow 2 in Colab](/notebooks/tensorflow_version.ipynb) \n",
    "- [Charts: visualising data](/notebooks/charts.ipynb)\n",
    "- [Getting started with BigQuery](/notebooks/bigquery.ipynb)\n",
    "\n",
    "### Machine learning crash course\n",
    "These are a few of the notebooks from Google's online machine learning course. See the <a href=\"https://developers.google.com/machine-learning/crash-course/\">full course website</a> for more.\n",
    "- [Intro to Pandas](/notebooks/mlcc/intro_to_pandas.ipynb)\n",
    "- [TensorFlow concepts](/notebooks/mlcc/tensorflow_programming_concepts.ipynb)\n",
    "- [First steps with TensorFlow](/notebooks/mlcc/first_steps_with_tensor_flow.ipynb)\n",
    "- [Intro to neural nets](/notebooks/mlcc/intro_to_neural_nets.ipynb)\n",
    "- [Intro to sparse data and embeddings](/notebooks/mlcc/intro_to_sparse_data_and_embeddings.ipynb)\n",
    "\n",
    "<a name=\"using-accelerated-hardware\"></a>\n",
    "### Using accelerated hardware\n",
    "- [TensorFlow with GPUs](/notebooks/gpu.ipynb)\n",
    "- [TensorFlow with TPUs](/notebooks/tpu.ipynb)"
   ]
  },
  {
   "cell_type": "markdown",
   "metadata": {
    "id": "P-H6Lw1vyNNd"
   },
   "source": [
    "<a name=\"machine-learning-examples\"></a>\n",
    "\n",
    "## Machine learning examples\n",
    "\n",
    "To see end-to-end examples of the interactive machine-learning analyses that Colaboratory makes possible, take a look at these tutorials using models from <a href=\"https://tfhub.dev\">TensorFlow Hub</a>.\n",
    "\n",
    "A few featured examples:\n",
    "\n",
    "- <a href=\"https://tensorflow.org/hub/tutorials/tf2_image_retraining\">Retraining an Image Classifier</a>: Build a Keras model on top of a pre-trained image classifier to distinguish flowers.\n",
    "- <a href=\"https://tensorflow.org/hub/tutorials/tf2_text_classification\">Text Classification</a>: Classify IMDB film reviews as either <em>positive</em> or <em>negative</em>.\n",
    "- <a href=\"https://tensorflow.org/hub/tutorials/tf2_arbitrary_image_stylization\">Style Transfer</a>: Use deep learning to transfer style between images.\n",
    "- <a href=\"https://tensorflow.org/hub/tutorials/retrieval_with_tf_hub_universal_encoder_qa\">Multilingual Universal Sentence Encoder Q&amp;A</a>: Use a machine-learning model to answer questions from the SQuAD dataset.\n",
    "- <a href=\"https://tensorflow.org/hub/tutorials/tweening_conv3d\">Video Interpolation</a>: Predict what happened in a video between the first and the last frame.\n"
   ]
  }
 ],
 "metadata": {
  "colab": {
   "collapsed_sections": [
    "wtmBPJKe5Rhu",
    "bxfiAvCO5Rhv",
    "KOgvCRsQ5Rhw",
    "P-5PaQUH5Rhy",
    "TTK1JCR_5Rhy",
    "Ruo9xRq75Rhz",
    "z6ZtNRHO5Rh0",
    "JCJYG1h55Rh2",
    "s7MNALHP5Rh4",
    "S7F6krwQ5Rh5",
    "0kUKV9HP5Rh6",
    "wUU-zkPu3Wuk",
    "y6B6PGPK3WvD",
    "OLEPQnnC3WvJ",
    "r8Hutjj33Wv7",
    "DJQGn_eV3WwA",
    "WpyIS_Bn3Wwb",
    "8lxbwUHH3WxX",
    "pCaIJQ6R3Wyc"
   ],
   "name": "Basics Of Python, Numpy, Pandas, Scikit-Learn.ipynb",
   "provenance": []
  },
  "kernelspec": {
   "display_name": "Python 3 (ipykernel)",
   "language": "python",
   "name": "python3"
  },
  "language_info": {
   "codemirror_mode": {
    "name": "ipython",
    "version": 3
   },
   "file_extension": ".py",
   "mimetype": "text/x-python",
   "name": "python",
   "nbconvert_exporter": "python",
   "pygments_lexer": "ipython3",
   "version": "3.12.4"
  }
 },
 "nbformat": 4,
 "nbformat_minor": 4
}
