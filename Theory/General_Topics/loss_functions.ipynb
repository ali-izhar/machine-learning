{
 "cells": [
  {
   "cell_type": "markdown",
   "id": "a6dd798f",
   "metadata": {},
   "source": [
    "# Loss Functions\n",
    "<hr>\n",
    "\n",
    "Loss functions have an important role in machine learning as they guide the learning process of the model and define its objective.\n",
    "\n",
    "There is a large number of loss functions available and choosing the proper one is crucial for training an accurate model. Different choices of a loss function can lead to different classification or regression models.\n",
    "\n",
    "## What is a Loss Function?\n",
    "Recall that in supervised machine learning problems, we are given a training set of $n$ labeled samples: $D = \\{(x_1, y_1), (x_2, y_2), \\cdots , (x_n, y_n)\\}$, where $x_i$ represents the features of sample $i$ and $y_i$ represents the label of that sample. Our goal is to build a model whose predictions are as close as possible to the true labels.\n",
    "\n",
    "A **loss function** measures the model's prediction error for a given sample, i.e., the difference between the model's predicted value and the true value for that sample. It takes two parameters: the true label of the sample y and the model's prediction $\\hat{y}$:\n",
    "\n",
    "$$ L(y, \\hat{y})$$\n",
    "\n",
    "During the training of the model, we tune its parameters so as to minimize the loss function on the given training samples.\n",
    "\n",
    "*Note that a loss function calculates the error per sample, while a cost function calculates the error over the whole data set (although these two terms are sometimes used interchangeably).*\n",
    "\n",
    "## Desired Properties of a Loss Function\n",
    "Ideally, we would like the loss function to have the following properties:\n",
    "\n",
    "- The loss function should reflect the objective the model is trying to achieve. For example, in regression problems our goal is to minimize the differences between the predictions and the target values, while in classification our goal is to minimize the number of misclassification errors.\n",
    "- **Continuous and differentiable** everywhere. Most optimization algorithms, such as gradient descent, require the loss function to be differentiable.\n",
    "- A **convex** loss function has only one global minimum point, thus optimization methods like gradient descent are guaranteed to return the globally optimal solution. In practice, this property is hard to achieve, and most loss functions are non-convex (i.e., they have multiple local minima).\n",
    "- **Symmetric**, i.e., the error above the target should cause the same loss as the error below the target.\n",
    "- Fast to compute\n",
    "\n",
    "## Loss Functions and Maximum Likelihood\n",
    "Many of the loss functions used in machine learning can be derived from the maximum likelihood principle. In **maximum likelihood estimation (MLE)**, we are trying to find a model with parameters $\\theta$ that maximizes the probability of the observed data given the model: $P(D \\mid \\theta)$. To simplify the likelihood function, we typically take its logarithm, and then we try to maximize the log likelihood: $log P(D \\mid \\theta)$.\n",
    "\n",
    "Therefore, we can define a loss function for a given sample $(x, y)$ as the negative log likelihood of observing its true label given the prediction of our model:\n",
    "\n",
    "$$L(y, \\hat{y}) = - \\log P(y \\mid \\hat{y})$$\n",
    "\n",
    "- Because negative logarithm is a monotonically decreasing function, maximizing the likelihood is equivalent to minimizing the loss.\n",
    "- Note that to use this technique to define loss functions, we need to assume that the data set is generated from some known probability distribution."
   ]
  },
  {
   "cell_type": "markdown",
   "id": "4c5225f0",
   "metadata": {},
   "source": [
    "## Regression Problems\n",
    "<hr>\n",
    "\n",
    "In regression problems, both the target label and the model's prediction take continuous values. The three most commonly used loss functions in regression problems are: \n",
    "1. Squared loss\n",
    "2. Absolute loss\n",
    "3. Huber loss\n",
    "\n",
    "### Squared Loss\n",
    "Squared loss is defined as the squared difference between the target label and its predicted value:\n",
    "\n",
    "$$L_\\text{squared}(y, \\hat{y}) = (y - \\hat{y})^2 $$\n",
    "\n",
    "**Pros:**\n",
    "- Continuous and differentiable everywhere\n",
    "- Convex (has only one global minimum)\n",
    "- Easy to compute\n",
    "- Under the assumption that the labels have a Gaussian noise, squared loss is the negative maximum likelihood of the model given the data\n",
    "\n",
    "**Cons:**\n",
    "- Sensitive to outliers due to the squaring of the errors. A small number of samples that are distant from the other samples can cause a large change in the model (as will be demonstrated later)\n",
    "\n",
    "### Absolute Loss\n",
    "The absolute loss is defined as the absolute difference between the true label and the model's prediction:\n",
    "\n",
    "$$L_\\text{abs}(y, \\hat{y}) = |y - \\hat{y}|$$\n",
    "\n",
    "**Pros:**\n",
    "- Not overly affected by outliers\n",
    "- Easy to compute\n",
    "\n",
    "**Cons:**\n",
    "- Non-differentiable at 0, which makes it hard use it in optimization methods such as gradient descent\n",
    "- Does not have a maximum likelihood interpretation\n",
    "\n",
    "### Huber Loss\n",
    "Huber loss is a combination of squared loss and absolute loss. For loss values that are less than a predefined parameter called $\\delta$, it uses the squared error, and for values greater than $\\delta$ it uses the absolute error.\n",
    "\n",
    "The mathematical definition of Huber loss is:\n",
    "\n",
    "$$L_\\text{huber}(y, \\hat{y}) = \\begin{cases}\n",
    "\\frac{1}{2} (y - \\hat{y})^2 & |y - \\hat{y}| \\leq \\delta \\\\\n",
    "\\delta |y - \\hat{y}| - \\frac{1}{2} \\delta^2 & |y - \\hat{y}| > \\delta \\\\\n",
    "\\end{cases}\n",
    "$$\n",
    "\n",
    "$\\delta$ is typically set to 1.\n",
    "\n",
    "Huber loss is commonly used in deep learning where it helps to avoid the exploding gradient problem due to its insensitivity to large errors.\n",
    "\n",
    "**Pros:**\n",
    "- Continuous and differentiable everywhere\n",
    "- Less sensitive to outliers than squared loss\n",
    "\n",
    "**Cons:**\n",
    "- Slower to compute\n",
    "- Requires tuning of the hyperparameter $\\delta$\n",
    "- Does not have a maximum likelihood interpretation\n",
    "\n",
    "The following graph shows the three regression loss functions:\n",
    "\n",
    "<div style=\"align:center\">\n",
    "    <img src=\"media/regression_losses.png\" width=600>\n",
    "</div>"
   ]
  },
  {
   "cell_type": "markdown",
   "id": "6b684c3d",
   "metadata": {},
   "source": [
    "## Scikit-Learn Example\n",
    "The `SGDRegressor` class fits a linear regression model to a given data set using stochastic gradient descent (SGD). Its loss parameter can be used to choose the loss function for the optimization. The options of this parameter are:\n",
    "- `squared_error` (squared loss). This is the default option.\n",
    "- `huber` (Huber loss)\n",
    "- `epsilon_intensive` (the loss function used in Support Vector Regression)"
   ]
  },
  {
   "cell_type": "code",
   "execution_count": 1,
   "id": "9119283c",
   "metadata": {},
   "outputs": [],
   "source": [
    "import numpy as np\n",
    "import matplotlib.pyplot as plt"
   ]
  },
  {
   "cell_type": "code",
   "execution_count": 2,
   "id": "5b1bfdb1",
   "metadata": {},
   "outputs": [],
   "source": [
    "x = np.array([0.5, 1.8, 2.4, 3.5, 4.2, 4.8, 5.8, 6.1, 7.2, 8.7, 10])\n",
    "y = np.array([0.1, 0.2, 0.3, 0.4, 0.7, 1, 0.9, 1.2, 1.4, 1.8, 10])"
   ]
  },
  {
   "cell_type": "code",
   "execution_count": 3,
   "id": "7858a703",
   "metadata": {},
   "outputs": [
    {
     "data": {
      "image/png": "[encoded data removed]",
      "text/plain": [
       "<Figure size 640x480 with 1 Axes>"
      ]
     },
     "metadata": {},
     "output_type": "display_data"
    }
   ],
   "source": [
    "def plot_data(x, y):\n",
    "    plt.scatter(x, y)\n",
    "    plt.xlabel('$x$')\n",
    "    plt.ylabel('$y$')\n",
    "    plt.grid()\n",
    "    \n",
    "plot_data(x, y)"
   ]
  },
  {
   "cell_type": "markdown",
   "id": "87148813",
   "metadata": {},
   "source": [
    "Clearly the point (10, 10) is an outlier.\n",
    "\n",
    "Next, we fit two `SGDRegressor` models to this data set: one with a squared loss function and another with a Huber loss."
   ]
  },
  {
   "cell_type": "code",
   "execution_count": 4,
   "id": "26c0c11f",
   "metadata": {},
   "outputs": [
    {
     "data": {
      "text/html": [
       "<style>#sk-container-id-1 {color: black;}#sk-container-id-1 pre{padding: 0;}#sk-container-id-1 div.sk-toggleable {background-color: white;}#sk-container-id-1 label.sk-toggleable__label {cursor: pointer;display: block;width: 100%;margin-bottom: 0;padding: 0.3em;box-sizing: border-box;text-align: center;}#sk-container-id-1 label.sk-toggleable__label-arrow:before {content: \"▸\";float: left;margin-right: 0.25em;color: #696969;}#sk-container-id-1 label.sk-toggleable__label-arrow:hover:before {color: black;}#sk-container-id-1 div.sk-estimator:hover label.sk-toggleable__label-arrow:before {color: black;}#sk-container-id-1 div.sk-toggleable__content {max-height: 0;max-width: 0;overflow: hidden;text-align: left;background-color: #f0f8ff;}#sk-container-id-1 div.sk-toggleable__content pre {margin: 0.2em;color: black;border-radius: 0.25em;background-color: #f0f8ff;}#sk-container-id-1 input.sk-toggleable__control:checked~div.sk-toggleable__content {max-height: 200px;max-width: 100%;overflow: auto;}#sk-container-id-1 input.sk-toggleable__control:checked~label.sk-toggleable__label-arrow:before {content: \"▾\";}#sk-container-id-1 div.sk-estimator input.sk-toggleable__control:checked~label.sk-toggleable__label {background-color: #d4ebff;}#sk-container-id-1 div.sk-label input.sk-toggleable__control:checked~label.sk-toggleable__label {background-color: #d4ebff;}#sk-container-id-1 input.sk-hidden--visually {border: 0;clip: rect(1px 1px 1px 1px);clip: rect(1px, 1px, 1px, 1px);height: 1px;margin: -1px;overflow: hidden;padding: 0;position: absolute;width: 1px;}#sk-container-id-1 div.sk-estimator {font-family: monospace;background-color: #f0f8ff;border: 1px dotted black;border-radius: 0.25em;box-sizing: border-box;margin-bottom: 0.5em;}#sk-container-id-1 div.sk-estimator:hover {background-color: #d4ebff;}#sk-container-id-1 div.sk-parallel-item::after {content: \"\";width: 100%;border-bottom: 1px solid gray;flex-grow: 1;}#sk-container-id-1 div.sk-label:hover label.sk-toggleable__label {background-color: #d4ebff;}#sk-container-id-1 div.sk-serial::before {content: \"\";position: absolute;border-left: 1px solid gray;box-sizing: border-box;top: 0;bottom: 0;left: 50%;z-index: 0;}#sk-container-id-1 div.sk-serial {display: flex;flex-direction: column;align-items: center;background-color: white;padding-right: 0.2em;padding-left: 0.2em;position: relative;}#sk-container-id-1 div.sk-item {position: relative;z-index: 1;}#sk-container-id-1 div.sk-parallel {display: flex;align-items: stretch;justify-content: center;background-color: white;position: relative;}#sk-container-id-1 div.sk-item::before, #sk-container-id-1 div.sk-parallel-item::before {content: \"\";position: absolute;border-left: 1px solid gray;box-sizing: border-box;top: 0;bottom: 0;left: 50%;z-index: -1;}#sk-container-id-1 div.sk-parallel-item {display: flex;flex-direction: column;z-index: 1;position: relative;background-color: white;}#sk-container-id-1 div.sk-parallel-item:first-child::after {align-self: flex-end;width: 50%;}#sk-container-id-1 div.sk-parallel-item:last-child::after {align-self: flex-start;width: 50%;}#sk-container-id-1 div.sk-parallel-item:only-child::after {width: 0;}#sk-container-id-1 div.sk-dashed-wrapped {border: 1px dashed gray;margin: 0 0.4em 0.5em 0.4em;box-sizing: border-box;padding-bottom: 0.4em;background-color: white;}#sk-container-id-1 div.sk-label label {font-family: monospace;font-weight: bold;display: inline-block;line-height: 1.2em;}#sk-container-id-1 div.sk-label-container {text-align: center;}#sk-container-id-1 div.sk-container {/* jupyter's `normalize.less` sets `[hidden] { display: none; }` but bootstrap.min.css set `[hidden] { display: none !important; }` so we also need the `!important` here to be able to override the default hidden behavior on the sphinx rendered scikit-learn.org. See: https://github.com/scikit-learn/scikit-learn/issues/21755 */display: inline-block !important;position: relative;}#sk-container-id-1 div.sk-text-repr-fallback {display: none;}</style><div id=\"sk-container-id-1\" class=\"sk-top-container\"><div class=\"sk-text-repr-fallback\"><pre>SGDRegressor(loss=&#x27;huber&#x27;)</pre><b>In a Jupyter environment, please rerun this cell to show the HTML representation or trust the notebook. <br />On GitHub, the HTML representation is unable to render, please try loading this page with nbviewer.org.</b></div><div class=\"sk-container\" hidden><div class=\"sk-item\"><div class=\"sk-estimator sk-toggleable\"><input class=\"sk-toggleable__control sk-hidden--visually\" id=\"sk-estimator-id-1\" type=\"checkbox\" checked><label for=\"sk-estimator-id-1\" class=\"sk-toggleable__label sk-toggleable__label-arrow\">SGDRegressor</label><div class=\"sk-toggleable__content\"><pre>SGDRegressor(loss=&#x27;huber&#x27;)</pre></div></div></div></div></div>"
      ],
      "text/plain": [
       "SGDRegressor(loss='huber')"
      ]
     },
     "execution_count": 4,
     "metadata": {},
     "output_type": "execute_result"
    }
   ],
   "source": [
    "from sklearn.linear_model import SGDRegressor\n",
    "\n",
    "# Convert x to a column matrix\n",
    "X = x.reshape(-1, 1)\n",
    "\n",
    "reg = SGDRegressor(loss='squared_error')\n",
    "reg.fit(X, y)\n",
    "\n",
    "reg2 = SGDRegressor(loss='huber')\n",
    "reg2.fit(X, y)"
   ]
  },
  {
   "cell_type": "code",
   "execution_count": 5,
   "id": "2ca04c63",
   "metadata": {},
   "outputs": [],
   "source": [
    "def plot_regression_line(x, y, w0, w1, color, label):\n",
    "    p_x = np.array([x.min(), x.max()])\n",
    "    p_y = w0 + w1 * p_x\n",
    "    plt.plot(p_x, p_y, color, label=label)"
   ]
  },
  {
   "cell_type": "code",
   "execution_count": 6,
   "id": "d6fc4d9b",
   "metadata": {},
   "outputs": [
    {
     "data": {
      "text/plain": [
       "<matplotlib.legend.Legend at 0x1975268f3d0>"
      ]
     },
     "execution_count": 6,
     "metadata": {},
     "output_type": "execute_result"
    },
    {
     "data": {
      "image/png": "[encoded data removed]",
      "text/plain": [
       "<Figure size 640x480 with 1 Axes>"
      ]
     },
     "metadata": {},
     "output_type": "display_data"
    }
   ],
   "source": [
    "plot_data(x, y)\n",
    "plot_regression_line(x, y, reg.intercept_, reg.coef_[0], 'r', label='Squared loss')\n",
    "plot_regression_line(x, y, reg2.intercept_, reg2.coef_[0], 'm', label='Huber loss')\n",
    "plt.legend()"
   ]
  },
  {
   "cell_type": "markdown",
   "id": "a2387be1",
   "metadata": {},
   "source": [
    "It is clearly evident that the model trained with squared loss was much more affected by the outlier than the model trained with Huber loss."
   ]
  },
  {
   "cell_type": "markdown",
   "id": "e05e6fd8",
   "metadata": {},
   "source": [
    "## Binary Classification Problems\n",
    "<hr>\n",
    "\n",
    "In binary classification problems, the ground truth labels are binary (1/0 or 1/-1). The predicted value of the model can be either binary (a hard label) or a probability estimate that the given sample belongs to the positive class (a soft label).\n",
    "\n",
    "Examples for classification models that provide only hard labels include support vector machines (SVMs) and K-nearest neighbors (KNNs), while models such as logistic regression and neural networks (with a sigmoid output) also provide a probability estimate.\n",
    "\n",
    "### 0-1 Loss\n",
    "The simplest loss function is the zero-one loss function (also called **misclassification error**):\n",
    "\n",
    "$$L_{01}(y, \\hat{y}) = I(y \\neq \\hat{y})$$\n",
    "\n",
    "$I$ is the indicator function that returns 1 if its input is true, and 0 otherwise.\n",
    "\n",
    "For every sample that the classifier gets wrong (misclassifies) a loss of 1 is incurred, whereas correctly classified samples lead to 0 loss. The 0-1 loss function is often used to evaluate classifiers, but is not useful in guiding optimization since it is non-differentiable and non-continuous.\n",
    "\n",
    "### Log Loss\n",
    "Log loss (also called **logistic loss** or **binary cross-entropy loss**) is used to train models that provide class probability estimates such as logistic regression.\n",
    "\n",
    "Let us denote the probability estimate given by the model that the sample belongs to the positive class by $p$:\n",
    "\n",
    "$$p = P(y=1)$$\n",
    "\n",
    "Then, the log loss is defined as:\n",
    "\n",
    "$$L_\\text{log}(y, p) = -y \\log{p} - (1-y) \\log{(1-p)}$$\n",
    "\n",
    "How did we get to this loss function? Again we are going to use the maximum likelihood principle. More specifically, we will show that log loss is the negative log likelihood under the assumption that the labels have a Bernoulli distribution (a probability distribution of a binary random variable that takes 1 with probability p and 0 with probability 1 − p). Mathematically, this can be written as follows:\n",
    "\n",
    "$$L_\\text{log}(y, p) = -\\log{P(y \\mid p)}$$\n",
    "\n",
    "**Proof:** Given a model of the data (the labels) as a Bernoulli distribution with parameter $p$, the probability that a sample belongs to the positive class is simply $p$, i.e., $P(y=1 \\mid p) = p$. Similarly, the probability that the sample belongs to the negative class is $P(y = 0 \\mid p) = 1-p$. We can write these two equations more compactly as follows:\n",
    "\n",
    "$$P(y \\mid p) = p^y (1-p)^{1-y}$$\n",
    "\n",
    "Therefore the log likelihood of the data is:\n",
    "\n",
    "$$\\log{P(y \\mid p)} = y \\log{p} + (1-y) \\log{(1-p)}$$\n",
    "\n",
    "The log loss is exactly the negative of this function!\n",
    "\n",
    "### Hinge Loss\n",
    "Hinge loss is used for training support vector machines (SVMs), where the goal is to maximize the margin of the area that separates the two classes while minimizing the margin violations.\n",
    "\n",
    "<div style=\"align:center\">\n",
    "    <img src=\"media/hinge.png\" width=600>\n",
    "</div>\n",
    "\n",
    "The hinge loss is defined as follows:\n",
    "\n",
    "$$L_\\text{hinge}(y, \\hat{y}) = \\max{(0, 1- y\\hat{y})}$$\n",
    "\n",
    "Note that $\\hat{y}$ here is the raw output of the classifier's decision function, i.e., $\\hat{y} = w^t x$ (SVM does not provide probability estimates).\n",
    "\n",
    "When $y$ and $\\hat{y}$ have the same sign (i.e., the model predicts the correct class) and $|\\hat{y}| >= 1$, the hinge loss is 0. This means that correctly classified samples that are outside the margin do not contribute to the loss (the solution will be the same with these samples removed). However, for samples that are inside the margins $(|\\hat{y}| < 1)$, even if the model's prediction is correct, there will still be a small loss. When $y$ and $\\hat{y}$ have opposite signs, the hinge loss grows linearly with $\\hat{y}$.\n",
    "\n",
    "<div style=\"align:center\">\n",
    "    <img src=\"media/classification_losses.png\" width=600>\n",
    "</div>\n",
    "\n",
    "Both log loss and hinge loss can be seen as continuous approximations to the 0-1 loss."
   ]
  },
  {
   "cell_type": "markdown",
   "id": "6dc5e367",
   "metadata": {},
   "source": [
    "## Multi-Class Classification Problems\n",
    "<hr>\n",
    "\n",
    "In multi-class classification problems, the target label is 1 out of $k$ classes. The label is usually encoded using one-hot encoding, i.e., as a binary $k$-dimensional vector $y = (y_1, \\cdots, y_k)^t$, where $y_i = 1$ for the true class $i$ and 0 elsewhere.\n",
    "\n",
    "A probabilistic classifier outputs for each sample a $k$-dimensional vector with probability estimates of each class: $p = (p_1, \\cdots, p_k)^t$. These probabilities sum to 1, i.e., $p_1 + \\cdots + p_k = 1$.\n",
    "\n",
    "### Cross-Entropy Loss\n",
    "The loss function used to train such a classifier is called cross-entropy loss, which is an extension of log loss to the multi-class case. It is defined as follows:\n",
    "\n",
    "$$L_\\text{CE}(y, p) = - \\sum_{i=1}^k y_i log(p_i)$$\n",
    "\n",
    "For example, assume that we have a three-class problem, the true class of our sample is class 2 (i.e., $y = [0, 1, 0]$), and the prediction of our model is $p = [0.3, 0.6, 0.1]$. Then the cross-entropy loss induced by this sample is:\n",
    "\n",
    "$$L_\\text{CE} = -(0 . \\log{(0.3)} + 1 . \\log{(0.6)} + 0 . \\log{(0.1)} = 0.5108$$\n",
    "\n",
    "Similar to log loss, we can show that cross-entropy loss is the negative of the log-likelihood of the model, under the assumption that the labels are sampled from a categorical distribution (a generalization of Bernoulli distribution to $k$ possible outcomes).\n",
    "\n",
    "**Proof:** Given a model of the data (the labels) as a categorical distribution with probabilities $p = (p_1, \\cdots, p_k)$, the probability that a given sample belongs to class $i$ is $p_i$:\n",
    "\n",
    "$$P(y = i \\mid p) = p_i$$\n",
    "\n",
    "Therefore, the probability that the true label of the sample is $y$ is:\n",
    "\n",
    "$$P(y \\mid p) = p_1^{y_1} . p_2^{y_2} \\cdots p_k^{y_k} = \\prod_{i=1}^k p_i^{y_i}$$\n",
    "\n",
    "> Explanation: if the correct class of the given sample is $i$, then $y_i = 1$, and for all $j \\neq i$, $y_j = 0$. Hence, $P(y \\mid p) = p_i$, which is the probability that the sample belongs to class $i$.\n",
    "\n",
    "Therefore, the log likelihood of our model is:\n",
    "\n",
    "$$\\log{P(y \\mid p)} = \\sum_{i=1}^k y_i \\log{p_i}$$\n",
    "\n",
    "The cross-entropy loss is exactly the negative of this function!"
   ]
  }
 ],
 "metadata": {
  "kernelspec": {
   "display_name": "Data Mining (venv)",
   "language": "python",
   "name": "venv"
  },
  "language_info": {
   "codemirror_mode": {
    "name": "ipython",
    "version": 3
   },
   "file_extension": ".py",
   "mimetype": "text/x-python",
   "name": "python",
   "nbconvert_exporter": "python",
   "pygments_lexer": "ipython3",
   "version": "3.11.0"
  }
 },
 "nbformat": 4,
 "nbformat_minor": 5
}
