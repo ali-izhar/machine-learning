{
 "cells": [
  {
   "cell_type": "markdown",
   "id": "18adffbf",
   "metadata": {},
   "source": [
    "# DeepLearning Frameworks\n",
    "<hr>\n",
    "\n",
    "It's not practical to implement everything from scratch. Deep learning is now in the phase of doing something with the frameworks and not from scratch to keep on going. Here are some of the leading deep learning frameworks:\n",
    "- Caffe / Caffe2\n",
    "- CNTK\n",
    "- DL4j\n",
    "- Keras\n",
    "- Lasagne\n",
    "- mxnet\n",
    "- PaddlePaddle\n",
    "- TensorFlow\n",
    "- Theano\n",
    "- Torch/Pytorch\n",
    "\n",
    "How to choose deep learning framework:\n",
    "- Ease of programming (development and deployment)\n",
    "- Running speed\n",
    "- Truly open (open source with good governance)\n",
    "\n",
    "In this notebook, we'll explore TensorFlow.\n",
    "\n",
    "***In TensorFlow you implement only the forward propagation and TensorFlow will do the backpropagation by itself.***"
   ]
  },
  {
   "cell_type": "code",
   "execution_count": 5,
   "id": "49f210fc",
   "metadata": {},
   "outputs": [],
   "source": [
    "import numpy as np\n",
    "import tensorflow as tf"
   ]
  },
  {
   "cell_type": "markdown",
   "id": "b065857d",
   "metadata": {},
   "source": [
    "## Cost Function Minimization in TensorFlow\n",
    "<hr>\n",
    "\n",
    "Consider the following cost function:\n",
    "\n",
    "$$J(w) = w^2 -10w + 25$$\n",
    "\n",
    "Since $w^2 -10w + 25 = (w-5)^2$, the value that minimizes $J(w)$ is $w=5$."
   ]
  },
  {
   "cell_type": "code",
   "execution_count": 6,
   "id": "c76312c3",
   "metadata": {},
   "outputs": [
    {
     "name": "stdout",
     "output_type": "stream",
     "text": [
      "Initial value of w before training\n",
      "<tf.Variable 'Variable:0' shape=() dtype=float32, numpy=0.0>\n",
      "\n",
      "Value of w after 1 training step\n",
      "<tf.Variable 'Variable:0' shape=() dtype=float32, numpy=0.09999931>\n",
      "\n",
      "Value of w after 1000 training steps\n",
      "<tf.Variable 'Variable:0' shape=() dtype=float32, numpy=5.000001>\n"
     ]
    }
   ],
   "source": [
    "## MINIMIZATION V.1\n",
    "\n",
    "w = tf.Variable(0, dtype=tf.float32)    # creating a variable in tensorflow, w = 0.0\n",
    "optimizer = tf.keras.optimizers.Adam(learning_rate=0.1)\n",
    "\n",
    "def train_step():\n",
    "    with tf.GradientTape() as tape:\n",
    "        cost = w**2 -10*w + 25\n",
    "        \n",
    "    trainable_variables = [w]\n",
    "    grads = tape.gradient(cost, trainable_variables)\n",
    "    optimizer.apply_gradients(zip(grads, trainable_variables))\n",
    "\n",
    "print(\"Initial value of w before training\")\n",
    "print(w)\n",
    "\n",
    "train_step()\n",
    "print(\"\\nValue of w after 1 training step\")\n",
    "print(w)\n",
    "\n",
    "for i in range(1000):\n",
    "    train_step()\n",
    "print(\"\\nValue of w after 1000 training steps\")\n",
    "print(w)"
   ]
  },
  {
   "cell_type": "code",
   "execution_count": 7,
   "id": "85b8c4cc",
   "metadata": {},
   "outputs": [
    {
     "name": "stdout",
     "output_type": "stream",
     "text": [
      "<tf.Variable 'Variable:0' shape=() dtype=float32, numpy=5.000001>\n"
     ]
    }
   ],
   "source": [
    "## MINIMIZATION V.2\n",
    "\n",
    "w = tf.Variable(0, dtype=tf.float32)\n",
    "x = np.array([1.0, -10.0, 25.0], dtype=np.float32)    # controlling the cost function using an array\n",
    "optimizer = tf.keras.optimizers.Adam(learning_rate=0.1)\n",
    "\n",
    "def training(x, w, optimizer):\n",
    "    def cost_fn():\n",
    "        return x[0] * w ** 2 + x[1] * w + x[2]\n",
    "    \n",
    "    for i in range(1000):\n",
    "        optimizer.minimize(cost_fn, [w])    # the minimize function replaces the tape.gradient functionality\n",
    "        \n",
    "    return w\n",
    "\n",
    "w = training(x, w, optimizer)\n",
    "print(w)"
   ]
  },
  {
   "cell_type": "code",
   "execution_count": null,
   "id": "7568a772",
   "metadata": {},
   "outputs": [],
   "source": []
  },
  {
   "cell_type": "code",
   "execution_count": null,
   "id": "90b61891",
   "metadata": {},
   "outputs": [],
   "source": []
  },
  {
   "cell_type": "code",
   "execution_count": null,
   "id": "9794daa5",
   "metadata": {},
   "outputs": [],
   "source": []
  }
 ],
 "metadata": {
  "kernelspec": {
   "display_name": "Data Mining (venv)",
   "language": "python",
   "name": "venv"
  },
  "language_info": {
   "codemirror_mode": {
    "name": "ipython",
    "version": 3
   },
   "file_extension": ".py",
   "mimetype": "text/x-python",
   "name": "python",
   "nbconvert_exporter": "python",
   "pygments_lexer": "ipython3",
   "version": "3.11.0"
  }
 },
 "nbformat": 4,
 "nbformat_minor": 5
}
