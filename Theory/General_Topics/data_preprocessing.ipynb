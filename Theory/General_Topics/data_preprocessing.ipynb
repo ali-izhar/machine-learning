{
 "cells": [
  {
   "cell_type": "markdown",
   "id": "c34761b0",
   "metadata": {},
   "source": [
    "# Data Preprocessing\n",
    "Data preprocessing is the process of cleaning, transforming, and organizing a dataset in order to prepare it for data analysis and modeling. It aims to improve the quality, integrity, and reliability of the data, and addresses issues such as missing values, noisy data, outliers, and incompatible data formats.\n",
    "\n",
    "\"Garbage in, garbage out\" is a known phrase in data science, which expresses the idea that the quality of the results of a model is determined by the quality of its inputs. The more informative and less noisy the data is, the better the model will be able to learn the underlying patterns or relationships in the data and generalize to new unseen data.\n",
    "\n",
    "## Data Preprocessing Tasks\n",
    "The main tasks involved in data preprocessing are:\n",
    "- Data cleaning\n",
    "- Handling missing data\n",
    "- Encoding categorical data\n",
    "- Detecting and handling outliers\n",
    "- Handling skewed data\n",
    "- Discretization\n",
    "- Scaling and normalization\n",
    "\n",
    "Feature selection and extraction are considered separate steps from data preprocessing, although there can be some overlap between them.\n",
    "\n",
    "The main modules in Scikit-Learn that are used for data preprocessing are:\n",
    "- `sklearn.preprocessing` provides various transformers for scaling, normalization, encoding features, and discretization.\n",
    "- `sklearn.impute` provides transformers for imputing missing values."
   ]
  },
  {
   "cell_type": "markdown",
   "id": "ed20f0e4",
   "metadata": {},
   "source": [
    "## Data Cleaning\n",
    "Data cleaning (or cleansing) involves correcting or removing incorrect, inaccurate, inconsistent, irrelevant, or duplicate data from the data set. These issues can arise from various sources, such as:\n",
    "\n",
    "- Data entry errors (e.g., an invalid postal code, typographical errors)\n",
    "- Out-of-range values (e.g., a negative product price)\n",
    "- Corruption in transmitting or storage of the data\n",
    "- Merging ambiguous data from different sources (e.g., the same customer was stored in two systems with two different addresses)\n",
    "- Using inconsistent formats for dates, phone numbers, names of states, etc.\n",
    "- Using inconsistent unit measures (e.g., using both centimeters and feet to measure length)\n",
    "- Including features that are irrelevant to the analysis, such as user id\n",
    "\n",
    "Data cleaning is performed using a combination of manual correction operations with automatic processing tools, and often requires domain expertise in order to identify and resolve the inaccuracies and inconsistencies in the data."
   ]
  },
  {
   "cell_type": "markdown",
   "id": "e76c024c",
   "metadata": {},
   "source": [
    "## Handling Missing Values\n",
    "Missing data is one of the most common issues in real-world data sets. It can occur due to various reasons, such as data entry errors, null values in a database, private information, etc. In Python, missing values are typically represented by `NaN` (Not a Number) or None values.\n",
    "\n",
    "Many machine learning algorithms cannot deal with missing values (exceptions include KNN, Naive Bayes, and decision trees), thus this issue needs to be resolved during the data preparation phase.\n",
    "\n",
    "Common approaches for dealing with missing data include:\n",
    "- Remove the samples with missing values. This option is recommended only if there is a small number of such samples.\n",
    "- Remove features that have a high percentage of missing values.\n",
    "- Impute the missing values, i.e., replace them with some appropriate fill value, such as the mean or median of the corresponding feature.\n",
    "\n",
    "Scikit-Learn provides three types of imputers:\n",
    "\n",
    "1. `SimpleImputer` imputes the missing values using the statistics (e.g., mean, median, or mode) of the feature with the missing values or using a constant value. Its important parameters are:\n",
    "- `missing_values:` which values are considered to be missing values (defaults to `np.nan`).\n",
    "- `strategy:` the statistic to use for the imputation. The options are 'mean' (the default), 'median', 'most_frequent' and 'constant'. For categorical features, only the options 'most_frequent' and 'constant' can be used.\n",
    "- `fill_value:` which constant to use for replacing the missing values (when the chosen strategy is 'constant')."
   ]
  },
  {
   "cell_type": "code",
   "execution_count": 3,
   "id": "b21b0e15",
   "metadata": {},
   "outputs": [
    {
     "data": {
      "text/plain": [
       "[[nan, 5, nan], [2, 4, 10], [3, nan, 5]]"
      ]
     },
     "execution_count": 3,
     "metadata": {},
     "output_type": "execute_result"
    }
   ],
   "source": [
    "import numpy as np\n",
    "from sklearn.impute import SimpleImputer\n",
    "\n",
    "# imputing missing values with the mean of each feature\n",
    "imputer = SimpleImputer(strategy='mean')\n",
    "\n",
    "X = [[np.nan, 5, np.nan], [2, 4, 10], [3, np.nan, 5]]\n",
    "X"
   ]
  },
  {
   "cell_type": "code",
   "execution_count": 4,
   "id": "5ba9c68b",
   "metadata": {},
   "outputs": [
    {
     "data": {
      "text/plain": [
       "array([[ 2.5,  5. ,  7.5],\n",
       "       [ 2. ,  4. , 10. ],\n",
       "       [ 3. ,  4.5,  5. ]])"
      ]
     },
     "execution_count": 4,
     "metadata": {},
     "output_type": "execute_result"
    }
   ],
   "source": [
    "imputer.fit_transform(X)"
   ]
  },
  {
   "cell_type": "markdown",
   "id": "31b182e2",
   "metadata": {},
   "source": [
    "2. `IterativeImputer` models each feature with missing values as a function of the other features, in a round-robin fashion. In each iteration, one of the features with missing values is designated as the output $y$, and the other features are treated as the inputs $X$. Then, a regression model is trained on $(X, y)$, and used to predict the missing values of $y$. This process is repeated for `max_iter` imputation rounds.\n",
    "\n",
    "Important parameters of this transformer:\n",
    "\n",
    "- `estimator:` the estimator to use for the imputation (the default is BayesianRidge).\n",
    "- `max_iter:` maximum number of imputation rounds (defaults to 10).\n",
    "- `initial_strategy:` which strategy to use to initialize the missing values (same as the strategy parameter in SimpleImputer).\n",
    "- `imputation_order:` the order in which the features will be imputed. Defaults to 'ascending', i.e., from features with the fewest missing values to the most."
   ]
  },
  {
   "cell_type": "code",
   "execution_count": 5,
   "id": "7844e5b8",
   "metadata": {},
   "outputs": [
    {
     "data": {
      "text/plain": [
       "[[1, 2], [2, 4], [4, 8], [nan, 3], [5, nan]]"
      ]
     },
     "execution_count": 5,
     "metadata": {},
     "output_type": "execute_result"
    }
   ],
   "source": [
    "from sklearn.experimental import enable_iterative_imputer\n",
    "from sklearn.impute import IterativeImputer\n",
    "\n",
    "imputer = IterativeImputer(max_iter=10)\n",
    "\n",
    "X = [[1, 2], [2, 4], [4, 8], [np.nan, 3], [5, np.nan]]\n",
    "X"
   ]
  },
  {
   "cell_type": "code",
   "execution_count": 6,
   "id": "3d03b815",
   "metadata": {},
   "outputs": [
    {
     "data": {
      "text/plain": [
       "array([[ 1.        ,  2.        ],\n",
       "       [ 2.        ,  4.        ],\n",
       "       [ 4.        ,  8.        ],\n",
       "       [ 1.50000846,  3.        ],\n",
       "       [ 5.        , 10.00000145]])"
      ]
     },
     "execution_count": 6,
     "metadata": {},
     "output_type": "execute_result"
    }
   ],
   "source": [
    "imputer.fit_transform(X)"
   ]
  },
  {
   "cell_type": "markdown",
   "id": "822702e0",
   "metadata": {},
   "source": [
    "We can see that the imputer has learned that the second feature is equal to twice of the first one."
   ]
  },
  {
   "cell_type": "markdown",
   "id": "4758abf5",
   "metadata": {},
   "source": [
    "3. `KNNImputer` imputes the missing values by using the mean value of the k-nearest neighbors that have a value for the missing feature.\n",
    "\n",
    "Important parameters of this transformer:\n",
    "\n",
    "- `n_neighbors:` the number of neighbors to use for the imputation (defaults to 5)\n",
    "- `weights:` whether to weight the neighbors uniformly (the default) or by the inverse of their distance.\n",
    "- `metric:` the metric to use for computing the distances. Possible values are 'nan_euclidean' (an Euclidean distance metric that supports missing values) or a custom function.\n",
    "\n",
    "The following example replaces the missing values with the mean feature value of the two nearest neighbors:"
   ]
  },
  {
   "cell_type": "code",
   "execution_count": 7,
   "id": "f2d1c79a",
   "metadata": {},
   "outputs": [
    {
     "data": {
      "text/plain": [
       "[[1, 2, nan], [3, 2, 3], [6, nan, 5], [7, 8, 10]]"
      ]
     },
     "execution_count": 7,
     "metadata": {},
     "output_type": "execute_result"
    }
   ],
   "source": [
    "from sklearn.impute import KNNImputer\n",
    "\n",
    "imputer = KNNImputer(n_neighbors=2)\n",
    "\n",
    "X = [[1, 2, np.nan], [3, 2, 3], [6, np.nan, 5], [7, 8, 10]]\n",
    "X"
   ]
  },
  {
   "cell_type": "code",
   "execution_count": 8,
   "id": "350b6ec9",
   "metadata": {},
   "outputs": [
    {
     "data": {
      "text/plain": [
       "array([[ 1.,  2.,  4.],\n",
       "       [ 3.,  2.,  3.],\n",
       "       [ 6.,  5.,  5.],\n",
       "       [ 7.,  8., 10.]])"
      ]
     },
     "execution_count": 8,
     "metadata": {},
     "output_type": "execute_result"
    }
   ],
   "source": [
    "imputer.fit_transform(X)"
   ]
  },
  {
   "cell_type": "markdown",
   "id": "47aa4ba7",
   "metadata": {},
   "source": [
    "## Encoding Categorical Data\n",
    "Most machine learning models cannot handle categorical features directly, thus these features need to be converted into a numerical format. There are three main approaches for encoding categorical data:\n",
    "\n",
    "1. **Ordinal encoding** assigns a unique integer value to each category based on the order or ranking of the categories. For example, a categorical feature of `IncomeLevel` with three categories: `Low, Medium` and `High,` could be encoded as 0, 1, and 2, respectively.\n",
    "2. **One-hot encoding** converts a categorical variable with $n$ categories into $n$ binary features, with one of them 1, and all the others 0. For example, one-hot encoding of the `IncomeLevel` variable would create three binary features: `LowIncome, MediumIncome,` and `HighIncome.` For a sample that belongs to the `HighIncome` category, the `HighIncome` feature would be 1, and the other features would be 0.\n",
    "3. **Hash encoding** applies a hash function to the categories and converts them into a fixed number of dimensions. It is more memory efficient than one-hot encoding, but different categories may be mapped to the same hash value."
   ]
  },
  {
   "cell_type": "code",
   "execution_count": 9,
   "id": "a83f7115",
   "metadata": {},
   "outputs": [
    {
     "data": {
      "text/plain": [
       "[['LowIncome', 'BA'], ['HighIncome', 'PhD'], ['MediumIncome', 'BA']]"
      ]
     },
     "execution_count": 9,
     "metadata": {},
     "output_type": "execute_result"
    }
   ],
   "source": [
    "from sklearn.preprocessing import OrdinalEncoder\n",
    "\n",
    "encoder = OrdinalEncoder()\n",
    "\n",
    "X = [['LowIncome', 'BA'], ['HighIncome', 'PhD'], ['MediumIncome', 'BA']]\n",
    "X"
   ]
  },
  {
   "cell_type": "code",
   "execution_count": 10,
   "id": "4be73a23",
   "metadata": {},
   "outputs": [
    {
     "data": {
      "text/plain": [
       "array([[1., 0.],\n",
       "       [0., 1.],\n",
       "       [2., 0.]])"
      ]
     },
     "execution_count": 10,
     "metadata": {},
     "output_type": "execute_result"
    }
   ],
   "source": [
    "encoder.fit_transform(X)"
   ]
  },
  {
   "cell_type": "code",
   "execution_count": 11,
   "id": "4c4d3d2f",
   "metadata": {},
   "outputs": [
    {
     "data": {
      "text/plain": [
       "[['LowIncome', 'BA'], ['HighIncome', 'PhD'], ['MediumIncome', 'BA']]"
      ]
     },
     "execution_count": 11,
     "metadata": {},
     "output_type": "execute_result"
    }
   ],
   "source": [
    "from sklearn.preprocessing import OneHotEncoder\n",
    "\n",
    "encoder = OneHotEncoder()\n",
    "\n",
    "X = [['LowIncome', 'BA'], ['HighIncome', 'PhD'], ['MediumIncome', 'BA']]\n",
    "X"
   ]
  },
  {
   "cell_type": "code",
   "execution_count": 12,
   "id": "aa9f4d31",
   "metadata": {},
   "outputs": [
    {
     "data": {
      "text/plain": [
       "array([[0., 1., 0., 1., 0.],\n",
       "       [1., 0., 0., 0., 1.],\n",
       "       [0., 0., 1., 1., 0.]])"
      ]
     },
     "execution_count": 12,
     "metadata": {},
     "output_type": "execute_result"
    }
   ],
   "source": [
    "encoder.fit_transform(X).toarray()"
   ]
  },
  {
   "cell_type": "markdown",
   "id": "0cbb1cb4",
   "metadata": {},
   "source": [
    "## Detecting and Handling Outliers\n",
    "Outliers are data points that significantly deviate from the majority of the data. They can be caused by data entry errors or measurement errors, but they can also represent real anomalous observations.\n",
    "\n",
    "There are various methods to detect outliers, such as:\n",
    "\n",
    "1. Using statistical measures such as z-score, which represents the number of standard deviations away from the mean:\n",
    "\n",
    "$$z = \\frac{x - \\mu}{\\sigma}$$\n",
    "\n",
    "2. Using plots such as percentile or box-plot. A box-plot visually displays the quartiles and any data points outside a specified range (e.g., 1.5 times the IQR above the upper quartile or below the lower quartile) are considered outliers.\n",
    "\n",
    "<div style=\"align:center\">\n",
    "    <img src=\"media/boxplot.png\" width=400>\n",
    "</div>\n",
    "\n",
    "3. Density-based clustering methods, such as DBSCAN, can identify outliers based on the density of the data points.\n",
    "4. Isolation forest is an ensemble-based approach for anomaly detection.\n",
    "\n",
    "There are also different ways to handle outliers, depending on the nature and extent of the outliers:\n",
    "\n",
    "- Remove the outliers. This is the simplest approach, but it should be done judiciously, as it can potentially lead to information loss.\n",
    "- Treat the outliers as missing values and then use one of the aforementioned imputation methods to replace them.\n",
    "- Capping sets a predefined threshold for extreme values. Any data point that exceeds the threshold is replaced with the threshold value.\n",
    "- Winsorization sets all the outliers to a specified percentile of the data. For example, a 90% winsorization replaces all the data points above the 95th percentile with the 95th percentile, and all the points below the 5th percentile with the 5th percentile. This approach limits the impact of outliers without completely removing them.\n",
    "- Use discretization to group the data points into bins, and assign the outliers to a separate bin or to the nearest bin."
   ]
  },
  {
   "cell_type": "markdown",
   "id": "0c3dacde",
   "metadata": {},
   "source": [
    "## Handling Skewed Data\n",
    "Skewed data is data that is not symmetrically distributed around the mean and has a long tail toward one direction. Skewness can impact the performance of some machine learning models, which assume a symmetric or even normal distribution of the data (e.g., Gaussian Naive Bayes assumes that the features are normally distributed).\n",
    "\n",
    "There are several methods to deal with skewed data:\n",
    "\n",
    "1. Logarithmic transformation: taking the logarithm can help reduce right skewness since it compresses larger values while maintaining the order of the data.\n",
    "2. Exponential transformation: taking the reciprocal of the data $(y = x^{-1})$ can help reduce left skewness and make the distribution more symmetric.\n",
    "3. Winsorization: as in outlier handling, winsorization can handle skewness by replacing extreme values with values at a specified percentile.\n",
    "4. Power transformations involve raising the data to a power, which is determined through maximum likelihood estimation. They can transform the data to a more symmetric and approximately normal distribution.\n",
    "\n",
    "- Box-Cox transform, which works only with strictly positive values:\n",
    "\n",
    "$$ x' = \\begin{cases}\n",
    "    \\frac{x^{\\lambda} - 1}{\\lambda} & \\lambda \\neq 0 \\\\\n",
    "    \\ln{(x)} & \\lambda =0 \\\\\n",
    "\\end{cases}\n",
    "$$\n",
    "\n",
    "- Yeo-Johnson transform, which works with any real value:\n",
    "\n",
    "$$ x'  \\begin{cases}\n",
    "    \\frac{(x+1)^{\\lambda} - 1}{\\lambda} & \\lambda \\neq 0, x \\ge 0 \\\\\n",
    "    \\ln{(x+1)} & \\lambda = 0, x \\ge 0 \\\\\n",
    "    - \\frac{(x+1)^{2-\\lambda} - 1}{2-\\lambda} & \\lambda \\neq 2, x \\lt 0 \\\\\n",
    "    - \\ln{(-x+1)} & \\lambda = 2, x \\lt 0 \\\\\n",
    "\\end{cases}\n",
    "$$"
   ]
  },
  {
   "cell_type": "code",
   "execution_count": 13,
   "id": "8d2930d7",
   "metadata": {},
   "outputs": [
    {
     "data": {
      "text/plain": [
       "(array([80., 96., 72., 51., 43., 22., 24., 25., 17.,  8.,  9.,  4.,  5.,\n",
       "         1.,  7.,  5.,  0.,  3.,  3.,  3.,  0.,  3.,  4.,  4.,  0.,  1.,\n",
       "         1.,  0.,  0.,  1.,  0.,  1.,  3.,  1.,  0.,  0.,  1.,  1.,  0.,\n",
       "         0.,  0.,  0.,  0.,  0.,  0.,  0.,  0.,  0.,  0.,  1.]),\n",
       " array([ 0.06249975,  0.3577228 ,  0.65294586,  0.94816892,  1.24339197,\n",
       "         1.53861503,  1.83383809,  2.12906114,  2.4242842 ,  2.71950726,\n",
       "         3.01473031,  3.30995337,  3.60517643,  3.90039948,  4.19562254,\n",
       "         4.4908456 ,  4.78606865,  5.08129171,  5.37651477,  5.67173783,\n",
       "         5.96696088,  6.26218394,  6.557407  ,  6.85263005,  7.14785311,\n",
       "         7.44307617,  7.73829922,  8.03352228,  8.32874534,  8.62396839,\n",
       "         8.91919145,  9.21441451,  9.50963756,  9.80486062, 10.10008368,\n",
       "        10.39530673, 10.69052979, 10.98575285, 11.2809759 , 11.57619896,\n",
       "        11.87142202, 12.16664507, 12.46186813, 12.75709119, 13.05231424,\n",
       "        13.3475373 , 13.64276036, 13.93798341, 14.23320647, 14.52842953,\n",
       "        14.82365258]),\n",
       " <BarContainer object of 50 artists>)"
      ]
     },
     "execution_count": 13,
     "metadata": {},
     "output_type": "execute_result"
    },
    {
     "data": {
      "image/png": "[encoded data removed]",
      "text/plain": [
       "<Figure size 640x480 with 1 Axes>"
      ]
     },
     "metadata": {},
     "output_type": "display_data"
    }
   ],
   "source": [
    "import matplotlib.pyplot as plt\n",
    "\n",
    "X = np.random.RandomState(0).lognormal(size=500)\n",
    "plt.hist(X, bins=50)"
   ]
  },
  {
   "cell_type": "code",
   "execution_count": 14,
   "id": "c408d8f1",
   "metadata": {},
   "outputs": [
    {
     "data": {
      "text/plain": [
       "(array([ 2.,  2.,  1.,  0.,  2.,  2.,  3.,  3.,  1.,  4.,  8.,  6.,  9.,\n",
       "         7., 12., 13., 16., 11., 17., 24., 11., 25., 26., 17., 23., 18.,\n",
       "        22., 17., 22., 25., 13., 20., 17., 17., 15., 10., 10.,  5.,  3.,\n",
       "        10.,  3.,  6.,  6.,  6.,  1.,  2.,  4.,  2.,  0.,  1.]),\n",
       " array([-2.78605849, -2.67644406, -2.56682963, -2.4572152 , -2.34760077,\n",
       "        -2.23798634, -2.12837191, -2.01875748, -1.90914305, -1.79952861,\n",
       "        -1.68991418, -1.58029975, -1.47068532, -1.36107089, -1.25145646,\n",
       "        -1.14184203, -1.0322276 , -0.92261317, -0.81299874, -0.70338431,\n",
       "        -0.59376988, -0.48415545, -0.37454102, -0.26492659, -0.15531216,\n",
       "        -0.04569773,  0.0639167 ,  0.17353113,  0.28314556,  0.39275999,\n",
       "         0.50237442,  0.61198885,  0.72160328,  0.83121771,  0.94083215,\n",
       "         1.05044658,  1.16006101,  1.26967544,  1.37928987,  1.4889043 ,\n",
       "         1.59851873,  1.70813316,  1.81774759,  1.92736202,  2.03697645,\n",
       "         2.14659088,  2.25620531,  2.36581974,  2.47543417,  2.5850486 ,\n",
       "         2.69466303]),\n",
       " <BarContainer object of 50 artists>)"
      ]
     },
     "execution_count": 14,
     "metadata": {},
     "output_type": "execute_result"
    },
    {
     "data": {
      "image/png": "[encoded data removed]",
      "text/plain": [
       "<Figure size 640x480 with 1 Axes>"
      ]
     },
     "metadata": {},
     "output_type": "display_data"
    }
   ],
   "source": [
    "from sklearn.preprocessing import PowerTransformer\n",
    "\n",
    "pt = PowerTransformer('box-cox')\n",
    "\n",
    "X_new = pt.fit_transform(X.reshape(-1, 1))\n",
    "plt.hist(X_new, bins=50)"
   ]
  },
  {
   "cell_type": "markdown",
   "id": "3c744146",
   "metadata": {},
   "source": [
    "## Discretization\n",
    "Discretization transforms a continuous-valued feature into a discrete one by partitioning the range of its values into a set of intervals or bins. The two main methods for discretization are:\n",
    "\n",
    "1. Equal width/binning: the range of the variable is divided into equal-width bins. For example, if the range of the variable is 0–20 and we want 5 bins, then each bin will cover a range of 4 units (0–4,4–8,8–12,12–16,16–20).\n",
    "2. Equal frequency: each bin contains the same number of data points.\n",
    "\n",
    "The discretized values are usually one-hot encoded. For example, if the number of bins is 5, the result of the discretization will be 5 new binary features, where each feature indicates whether the given sample belongs to the corresponding bin.\n",
    "\n",
    "Use cases for discretization:\n",
    "\n",
    "- Some machine learning algorithms cannot handle continuous values directly, such as some variants of Naive Bayes and the Apriori algorithm for association rule mining.\n",
    "- Discretization can make the model more expressive since it allows the model to find a mapping between each interval and the target label. For example, imagine that we need to predict the price of a house given its location, represented by its latitude and longitude. If we use a linear regression model, it can only find a linear correlation between the exact location of the house and its price. However, if we discretize the latitude and longitude into 10 bins each, the model can find a linear correlation between each one of the 100 areas and the price of the house.\n",
    "- Handle outliers or extreme values by placing them in their own category.\n",
    "\n",
    "The drawback of discretization is that it can lead to a loss of information, and may introduce bias if the number of bins is too small or their edges are not properly chosen."
   ]
  },
  {
   "cell_type": "markdown",
   "id": "a568c557",
   "metadata": {},
   "source": [
    "## Scaling and Normalization\n",
    "Many machine learning algorithms do not perform well when the features have different scales. These include distance-based algorithms such as KNN and k-means (since the distances are dominated by features with larger ranges), and algorithms that use gradient descent for optimization, such as neural networks (as different ranges induce different step sizes for each feature).\n",
    "\n",
    "The goal of feature scaling is to bring all the features to a common scale or range. The most common approaches for feature scaling are:\n",
    "\n",
    "**Min-max scaling** scales all the features to the same range [min, max], where the typical range is [0, 1]. Mathematically, this transformation can be expressed as:\n",
    "\n",
    "$$x' = \\frac{x - x_{min}}{x_{max} - x_{min}}$$\n",
    "\n",
    "**Pros:**\n",
    "- Brings all the features to the same range.\n",
    "\n",
    "**Cons:**\n",
    "- Sensitive to outliers. Since the range of the data is determined by the minimum and the maximum, outliers can cause the scaling to compress the majority of the data into a small range."
   ]
  },
  {
   "cell_type": "code",
   "execution_count": 15,
   "id": "e0aed328",
   "metadata": {},
   "outputs": [
    {
     "data": {
      "text/plain": [
       "[[-1, 2, 3], [0.5, 6, 10], [0, 1, 8]]"
      ]
     },
     "execution_count": 15,
     "metadata": {},
     "output_type": "execute_result"
    }
   ],
   "source": [
    "from sklearn.preprocessing import MinMaxScaler\n",
    "\n",
    "scaler = MinMaxScaler()\n",
    "X = [[-1, 2, 3], [0.5, 6, 10], [0, 1, 8]]\n",
    "X"
   ]
  },
  {
   "cell_type": "code",
   "execution_count": 16,
   "id": "d120652e",
   "metadata": {},
   "outputs": [
    {
     "data": {
      "text/plain": [
       "array([[0.        , 0.2       , 0.        ],\n",
       "       [1.        , 1.        , 1.        ],\n",
       "       [0.66666667, 0.        , 0.71428571]])"
      ]
     },
     "execution_count": 16,
     "metadata": {},
     "output_type": "execute_result"
    }
   ],
   "source": [
    "scaler.fit_transform(X)"
   ]
  },
  {
   "cell_type": "markdown",
   "id": "bff03885",
   "metadata": {},
   "source": [
    "**Standardization** (also known as z-score normalization) subtracts from each feature its mean and scales it to unit variance. The z-score of a sample $x$ is calculated as:\n",
    "\n",
    "$$x' = \\frac{x - \\mu}{\\sigma}$$\n",
    "\n",
    "where $\\mu$ is the mean of the data points and $\\sigma$ is their standard deviation.\n",
    "\n",
    "**Pros:**\n",
    "- Transforms the features to have 0 mean and unit variance, which is useful for algorithms that assume standardized features (e.g., PCA assumes that the features are centered around 0).\n",
    "\n",
    "**Cons:**\n",
    "- The transformed features may have different ranges.\n",
    "- Sensitive to outliers, since these can significantly impact the mean and standard deviation (but it is less sensitive to outliers than min-max scaling)."
   ]
  },
  {
   "cell_type": "code",
   "execution_count": 17,
   "id": "603f8ffc",
   "metadata": {},
   "outputs": [
    {
     "data": {
      "text/plain": [
       "[[-1, 2, 3], [0.5, 6, 10], [0, 1, 8]]"
      ]
     },
     "execution_count": 17,
     "metadata": {},
     "output_type": "execute_result"
    }
   ],
   "source": [
    "from sklearn.preprocessing import StandardScaler\n",
    "\n",
    "scaler = StandardScaler()\n",
    "X = [[-1, 2, 3], [0.5, 6, 10], [0, 1, 8]]\n",
    "X"
   ]
  },
  {
   "cell_type": "code",
   "execution_count": 18,
   "id": "89cf1e57",
   "metadata": {},
   "outputs": [
    {
     "data": {
      "text/plain": [
       "array([[-1.33630621, -0.46291005, -1.35873244],\n",
       "       [ 1.06904497,  1.38873015,  1.01904933],\n",
       "       [ 0.26726124, -0.9258201 ,  0.33968311]])"
      ]
     },
     "execution_count": 18,
     "metadata": {},
     "output_type": "execute_result"
    }
   ],
   "source": [
    "scaler.fit_transform(X)"
   ]
  },
  {
   "cell_type": "markdown",
   "id": "a715bdc8",
   "metadata": {},
   "source": [
    "**Robust scaling** — similar to standard scaling, but uses statistics that are more robust to outliers: from each feature, it subtracts its median and divides it by its inter-quantile range (IQR, the range between the first quartile and the third quartile).\n",
    "\n",
    "Mathematically, the transformation can be written as follows:\n",
    "\n",
    "$$x' = \\frac{x - x_{median}}{\\text{IQR}}$$\n",
    "\n",
    "**Pros:**\n",
    "- Less affected by outliers than standard scaling.\n",
    "\n",
    "**Cons:**\n",
    "- Does not normalize the data to have 0 mean and unit variance.\n",
    "- The transformed features may not have an intuitive interpretation."
   ]
  },
  {
   "cell_type": "code",
   "execution_count": 19,
   "id": "17baef6a",
   "metadata": {},
   "outputs": [],
   "source": [
    "from sklearn.preprocessing import RobustScaler\n",
    "\n",
    "scaler = RobustScaler()\n",
    "X = [[-1, 2, 3], [0.5, 6, 10], [0, 1, 8]]"
   ]
  },
  {
   "cell_type": "code",
   "execution_count": 20,
   "id": "bb84bc10",
   "metadata": {},
   "outputs": [
    {
     "data": {
      "text/plain": [
       "array([[-1.33333333,  0.        , -1.42857143],\n",
       "       [ 0.66666667,  1.6       ,  0.57142857],\n",
       "       [ 0.        , -0.4       ,  0.        ]])"
      ]
     },
     "execution_count": 20,
     "metadata": {},
     "output_type": "execute_result"
    }
   ],
   "source": [
    "scaler.fit_transform(X)"
   ]
  },
  {
   "cell_type": "markdown",
   "id": "fb7c4265",
   "metadata": {},
   "source": [
    "## Example: The Titanic Data Set\n",
    "We will now demonstrate the entire data preprocessing process on the titanic data set, available from Scikit-Learn. This data set describes the survival status of passengers on the Titanic. It contains 1,309 rows and has the following 14 features (including the label):\n",
    "\n",
    "- `pclass:` the passenger class (1 = 1st, 2 = 2nd, 3 = 3rd), indicates a socio-economic status (1st ~ Upper, 2nd ~ Middle, 3rd ~ Lower)\n",
    "- `name:` name of the passenger\n",
    "- `sex:` male or female\n",
    "- `age:` age in years (can be a fraction if age is less than 1)\n",
    "- `sibsp:` number of siblings/spouses aboard\n",
    "- `parch:` number of parents/children aboard\n",
    "- `ticket:` ticket number\n",
    "- `fare:` passenger's fare (in British pounds)\n",
    "- `cabin:` cabin number\n",
    "- `embarked:` port of embarkation (C = Cherbourg, Q = Queenstown, S = Southampton)\n",
    "- `boat:` the number of lifeboat (if survived)\n",
    "- `body:` body identification number (if did not survive and body was recovered)\n",
    "- `home.dest:` home/destination address\n",
    "- `survival:` the target label (0 = No, 1 = Yes)"
   ]
  },
  {
   "cell_type": "code",
   "execution_count": 22,
   "id": "06842773",
   "metadata": {},
   "outputs": [],
   "source": [
    "import numpy as np\n",
    "import pandas as pd\n",
    "import matplotlib.pyplot as plt\n",
    "import seaborn as sns\n",
    "\n",
    "from sklearn.datasets import fetch_openml\n",
    "from sklearn.pipeline import Pipeline\n",
    "from sklearn.impute import SimpleImputer, KNNImputer\n",
    "from sklearn.preprocessing import OneHotEncoder, RobustScaler\n",
    "from sklearn.compose import ColumnTransformer\n",
    "from sklearn.model_selection import train_test_split\n",
    "from sklearn.ensemble import RandomForestClassifier\n",
    "\n",
    "np.random.seed(0)"
   ]
  },
  {
   "cell_type": "code",
   "execution_count": 24,
   "id": "9037dd5d",
   "metadata": {},
   "outputs": [],
   "source": [
    "X, y = fetch_openml('titanic', version=1, return_X_y=True, as_frame=True, parser='auto')"
   ]
  },
  {
   "cell_type": "code",
   "execution_count": 25,
   "id": "fcf8f1ac",
   "metadata": {},
   "outputs": [
    {
     "data": {
      "text/html": [
       "<div>\n",
       "<style scoped>\n",
       "    .dataframe tbody tr th:only-of-type {\n",
       "        vertical-align: middle;\n",
       "    }\n",
       "\n",
       "    .dataframe tbody tr th {\n",
       "        vertical-align: top;\n",
       "    }\n",
       "\n",
       "    .dataframe thead th {\n",
       "        text-align: right;\n",
       "    }\n",
       "</style>\n",
       "<table border=\"1\" class=\"dataframe\">\n",
       "  <thead>\n",
       "    <tr style=\"text-align: right;\">\n",
       "      <th></th>\n",
       "      <th>pclass</th>\n",
       "      <th>name</th>\n",
       "      <th>sex</th>\n",
       "      <th>age</th>\n",
       "      <th>sibsp</th>\n",
       "      <th>parch</th>\n",
       "      <th>ticket</th>\n",
       "      <th>fare</th>\n",
       "      <th>cabin</th>\n",
       "      <th>embarked</th>\n",
       "      <th>boat</th>\n",
       "      <th>body</th>\n",
       "      <th>home.dest</th>\n",
       "    </tr>\n",
       "  </thead>\n",
       "  <tbody>\n",
       "    <tr>\n",
       "      <th>0</th>\n",
       "      <td>1</td>\n",
       "      <td>Allen, Miss. Elisabeth Walton</td>\n",
       "      <td>female</td>\n",
       "      <td>29.0000</td>\n",
       "      <td>0</td>\n",
       "      <td>0</td>\n",
       "      <td>24160</td>\n",
       "      <td>211.3375</td>\n",
       "      <td>B5</td>\n",
       "      <td>S</td>\n",
       "      <td>2</td>\n",
       "      <td>NaN</td>\n",
       "      <td>St Louis, MO</td>\n",
       "    </tr>\n",
       "    <tr>\n",
       "      <th>1</th>\n",
       "      <td>1</td>\n",
       "      <td>Allison, Master. Hudson Trevor</td>\n",
       "      <td>male</td>\n",
       "      <td>0.9167</td>\n",
       "      <td>1</td>\n",
       "      <td>2</td>\n",
       "      <td>113781</td>\n",
       "      <td>151.5500</td>\n",
       "      <td>C22 C26</td>\n",
       "      <td>S</td>\n",
       "      <td>11</td>\n",
       "      <td>NaN</td>\n",
       "      <td>Montreal, PQ / Chesterville, ON</td>\n",
       "    </tr>\n",
       "    <tr>\n",
       "      <th>2</th>\n",
       "      <td>1</td>\n",
       "      <td>Allison, Miss. Helen Loraine</td>\n",
       "      <td>female</td>\n",
       "      <td>2.0000</td>\n",
       "      <td>1</td>\n",
       "      <td>2</td>\n",
       "      <td>113781</td>\n",
       "      <td>151.5500</td>\n",
       "      <td>C22 C26</td>\n",
       "      <td>S</td>\n",
       "      <td>NaN</td>\n",
       "      <td>NaN</td>\n",
       "      <td>Montreal, PQ / Chesterville, ON</td>\n",
       "    </tr>\n",
       "    <tr>\n",
       "      <th>3</th>\n",
       "      <td>1</td>\n",
       "      <td>Allison, Mr. Hudson Joshua Creighton</td>\n",
       "      <td>male</td>\n",
       "      <td>30.0000</td>\n",
       "      <td>1</td>\n",
       "      <td>2</td>\n",
       "      <td>113781</td>\n",
       "      <td>151.5500</td>\n",
       "      <td>C22 C26</td>\n",
       "      <td>S</td>\n",
       "      <td>NaN</td>\n",
       "      <td>135.0</td>\n",
       "      <td>Montreal, PQ / Chesterville, ON</td>\n",
       "    </tr>\n",
       "    <tr>\n",
       "      <th>4</th>\n",
       "      <td>1</td>\n",
       "      <td>Allison, Mrs. Hudson J C (Bessie Waldo Daniels)</td>\n",
       "      <td>female</td>\n",
       "      <td>25.0000</td>\n",
       "      <td>1</td>\n",
       "      <td>2</td>\n",
       "      <td>113781</td>\n",
       "      <td>151.5500</td>\n",
       "      <td>C22 C26</td>\n",
       "      <td>S</td>\n",
       "      <td>NaN</td>\n",
       "      <td>NaN</td>\n",
       "      <td>Montreal, PQ / Chesterville, ON</td>\n",
       "    </tr>\n",
       "  </tbody>\n",
       "</table>\n",
       "</div>"
      ],
      "text/plain": [
       "   pclass                                             name     sex      age  \\\n",
       "0       1                    Allen, Miss. Elisabeth Walton  female  29.0000   \n",
       "1       1                   Allison, Master. Hudson Trevor    male   0.9167   \n",
       "2       1                     Allison, Miss. Helen Loraine  female   2.0000   \n",
       "3       1             Allison, Mr. Hudson Joshua Creighton    male  30.0000   \n",
       "4       1  Allison, Mrs. Hudson J C (Bessie Waldo Daniels)  female  25.0000   \n",
       "\n",
       "   sibsp  parch  ticket      fare    cabin embarked boat   body  \\\n",
       "0      0      0   24160  211.3375       B5        S    2    NaN   \n",
       "1      1      2  113781  151.5500  C22 C26        S   11    NaN   \n",
       "2      1      2  113781  151.5500  C22 C26        S  NaN    NaN   \n",
       "3      1      2  113781  151.5500  C22 C26        S  NaN  135.0   \n",
       "4      1      2  113781  151.5500  C22 C26        S  NaN    NaN   \n",
       "\n",
       "                         home.dest  \n",
       "0                     St Louis, MO  \n",
       "1  Montreal, PQ / Chesterville, ON  \n",
       "2  Montreal, PQ / Chesterville, ON  \n",
       "3  Montreal, PQ / Chesterville, ON  \n",
       "4  Montreal, PQ / Chesterville, ON  "
      ]
     },
     "execution_count": 25,
     "metadata": {},
     "output_type": "execute_result"
    }
   ],
   "source": [
    "X.head()"
   ]
  },
  {
   "cell_type": "code",
   "execution_count": 26,
   "id": "be0df50c",
   "metadata": {},
   "outputs": [
    {
     "name": "stdout",
     "output_type": "stream",
     "text": [
      "<class 'pandas.core.frame.DataFrame'>\n",
      "RangeIndex: 1309 entries, 0 to 1308\n",
      "Data columns (total 13 columns):\n",
      " #   Column     Non-Null Count  Dtype   \n",
      "---  ------     --------------  -----   \n",
      " 0   pclass     1309 non-null   int64   \n",
      " 1   name       1309 non-null   object  \n",
      " 2   sex        1309 non-null   category\n",
      " 3   age        1046 non-null   float64 \n",
      " 4   sibsp      1309 non-null   int64   \n",
      " 5   parch      1309 non-null   int64   \n",
      " 6   ticket     1309 non-null   object  \n",
      " 7   fare       1308 non-null   float64 \n",
      " 8   cabin      295 non-null    object  \n",
      " 9   embarked   1307 non-null   category\n",
      " 10  boat       486 non-null    object  \n",
      " 11  body       121 non-null    float64 \n",
      " 12  home.dest  745 non-null    object  \n",
      "dtypes: category(2), float64(3), int64(3), object(5)\n",
      "memory usage: 115.4+ KB\n"
     ]
    }
   ],
   "source": [
    "X.info()"
   ]
  },
  {
   "cell_type": "markdown",
   "id": "3c46611a",
   "metadata": {},
   "source": [
    "Before we move to more advanced data exploration, let’s remove the following features, which are not relevant to the prediction task:\n",
    "\n",
    "- `name` and `ticket` are unique per passenger.\n",
    "- `cabin`, `boat`, and `body` contain a high percentage of missing values. In addition, 'boat' and 'body' are really part of the target, since we know that any passenger with a lifeboat number survived and any passenger with a body identification number did not survive.\n",
    "- `home.dest` contains a high percentage of unique values and does not seem to be relevant to the survival of the passenger."
   ]
  },
  {
   "cell_type": "code",
   "execution_count": 27,
   "id": "f1b6f06b",
   "metadata": {},
   "outputs": [],
   "source": [
    "X.drop(['name', 'ticket', 'boat', 'body', 'home.dest'], axis=1, inplace=True)"
   ]
  },
  {
   "cell_type": "code",
   "execution_count": 28,
   "id": "51b3a9ee",
   "metadata": {},
   "outputs": [
    {
     "data": {
      "text/html": [
       "<div>\n",
       "<style scoped>\n",
       "    .dataframe tbody tr th:only-of-type {\n",
       "        vertical-align: middle;\n",
       "    }\n",
       "\n",
       "    .dataframe tbody tr th {\n",
       "        vertical-align: top;\n",
       "    }\n",
       "\n",
       "    .dataframe thead th {\n",
       "        text-align: right;\n",
       "    }\n",
       "</style>\n",
       "<table border=\"1\" class=\"dataframe\">\n",
       "  <thead>\n",
       "    <tr style=\"text-align: right;\">\n",
       "      <th></th>\n",
       "      <th>pclass</th>\n",
       "      <th>sex</th>\n",
       "      <th>age</th>\n",
       "      <th>sibsp</th>\n",
       "      <th>parch</th>\n",
       "      <th>fare</th>\n",
       "      <th>cabin</th>\n",
       "      <th>embarked</th>\n",
       "    </tr>\n",
       "  </thead>\n",
       "  <tbody>\n",
       "    <tr>\n",
       "      <th>0</th>\n",
       "      <td>1</td>\n",
       "      <td>female</td>\n",
       "      <td>29.0000</td>\n",
       "      <td>0</td>\n",
       "      <td>0</td>\n",
       "      <td>211.3375</td>\n",
       "      <td>B5</td>\n",
       "      <td>S</td>\n",
       "    </tr>\n",
       "    <tr>\n",
       "      <th>1</th>\n",
       "      <td>1</td>\n",
       "      <td>male</td>\n",
       "      <td>0.9167</td>\n",
       "      <td>1</td>\n",
       "      <td>2</td>\n",
       "      <td>151.5500</td>\n",
       "      <td>C22 C26</td>\n",
       "      <td>S</td>\n",
       "    </tr>\n",
       "    <tr>\n",
       "      <th>2</th>\n",
       "      <td>1</td>\n",
       "      <td>female</td>\n",
       "      <td>2.0000</td>\n",
       "      <td>1</td>\n",
       "      <td>2</td>\n",
       "      <td>151.5500</td>\n",
       "      <td>C22 C26</td>\n",
       "      <td>S</td>\n",
       "    </tr>\n",
       "    <tr>\n",
       "      <th>3</th>\n",
       "      <td>1</td>\n",
       "      <td>male</td>\n",
       "      <td>30.0000</td>\n",
       "      <td>1</td>\n",
       "      <td>2</td>\n",
       "      <td>151.5500</td>\n",
       "      <td>C22 C26</td>\n",
       "      <td>S</td>\n",
       "    </tr>\n",
       "    <tr>\n",
       "      <th>4</th>\n",
       "      <td>1</td>\n",
       "      <td>female</td>\n",
       "      <td>25.0000</td>\n",
       "      <td>1</td>\n",
       "      <td>2</td>\n",
       "      <td>151.5500</td>\n",
       "      <td>C22 C26</td>\n",
       "      <td>S</td>\n",
       "    </tr>\n",
       "  </tbody>\n",
       "</table>\n",
       "</div>"
      ],
      "text/plain": [
       "   pclass     sex      age  sibsp  parch      fare    cabin embarked\n",
       "0       1  female  29.0000      0      0  211.3375       B5        S\n",
       "1       1    male   0.9167      1      2  151.5500  C22 C26        S\n",
       "2       1  female   2.0000      1      2  151.5500  C22 C26        S\n",
       "3       1    male  30.0000      1      2  151.5500  C22 C26        S\n",
       "4       1  female  25.0000      1      2  151.5500  C22 C26        S"
      ]
     },
     "execution_count": 28,
     "metadata": {},
     "output_type": "execute_result"
    }
   ],
   "source": [
    "X.head()"
   ]
  },
  {
   "cell_type": "code",
   "execution_count": 30,
   "id": "8ce03229",
   "metadata": {},
   "outputs": [
    {
     "data": {
      "text/plain": [
       "<Axes: >"
      ]
     },
     "execution_count": 30,
     "metadata": {},
     "output_type": "execute_result"
    },
    {
     "data": {
      "image/png": "[encoded data removed]",
      "text/plain": [
       "<Figure size 640x480 with 1 Axes>"
      ]
     },
     "metadata": {},
     "output_type": "display_data"
    }
   ],
   "source": [
    "sns.boxplot(data=X)"
   ]
  },
  {
   "cell_type": "markdown",
   "id": "fd468d7b",
   "metadata": {},
   "source": [
    "We can see that there are many outliers in the 'fare' column. This suggests that using a robust scaler to normalize the data would be a better choice than a standard scaler.\n",
    "\n",
    "Finally, since this is a classification problem, let’s check if it is balanced in terms of the class distribution:"
   ]
  },
  {
   "cell_type": "code",
   "execution_count": 31,
   "id": "5573b211",
   "metadata": {},
   "outputs": [
    {
     "data": {
      "text/plain": [
       "survived\n",
       "0    0.618029\n",
       "1    0.381971\n",
       "Name: count, dtype: float64"
      ]
     },
     "execution_count": 31,
     "metadata": {},
     "output_type": "execute_result"
    }
   ],
   "source": [
    "y.value_counts() / y.value_counts().sum()"
   ]
  },
  {
   "cell_type": "markdown",
   "id": "4385500f",
   "metadata": {},
   "source": [
    "The classes are fairly balanced (61.8% of the passengers did not survive, and 38.2% survived)."
   ]
  },
  {
   "cell_type": "markdown",
   "id": "1342dcbb",
   "metadata": {},
   "source": [
    "Let's identify the tasks we need to perform in order to prepare the data set for modeling:\n",
    "\n",
    "1. Impute the missing values in the columns 'age' (263 missing values), 'fare' (one missing value), and 'embarked' (two missing values). Note that 'embarked' is a categorical variable, therefore it requires a different imputation strategy. We will use a SimpleImputer with strategy='most_frequent' for the categorical feature, and a KNNImputer (with k = 5) for the numerical features.\n",
    "2. Encode the categorical features 'pclass', 'sex' and 'embarked' using one-hot encoding.\n",
    "3. Scale the numerical features 'age', 'sibsp', 'parch' and 'fare' using a robust scaler.\n",
    "\n",
    "Notice that we need to apply different transformations on the categorical and the numerical features. The basic pipeline in Scikit-Learn does not allow to apply a transformer to only a subset of the features. However, we can combine it with another class called `ColumnTransformer,` which allows different subsets of features to be transformed separately, and then it concatenates them to form a single feature set."
   ]
  },
  {
   "cell_type": "code",
   "execution_count": 32,
   "id": "fdbd8fdd",
   "metadata": {},
   "outputs": [],
   "source": [
    "# We first define a pipeline to transform the categorical features:\n",
    "cat_features = ['pclass', 'sex', 'embarked']\n",
    "\n",
    "cat_transformer = Pipeline([\n",
    "    ('imputer', SimpleImputer(strategy='most_frequent')),\n",
    "    ('onehot', OneHotEncoder(handle_unknown='ignore'))\n",
    "])"
   ]
  },
  {
   "cell_type": "code",
   "execution_count": 33,
   "id": "561c1728",
   "metadata": {},
   "outputs": [],
   "source": [
    "# Next, we define a pipeline to transform the numerical features:\n",
    "num_features = ['age', 'sibsp', 'parch', 'fare']\n",
    "\n",
    "num_transformer = Pipeline([\n",
    "    ('imputer', KNNImputer(n_neighbors=5)),\n",
    "    ('scaler', RobustScaler()) \n",
    "])"
   ]
  },
  {
   "cell_type": "code",
   "execution_count": 34,
   "id": "06a6c9fd",
   "metadata": {},
   "outputs": [],
   "source": [
    "# Now combine the two pipelines using a ColumnTransformer, which associates each pipeline with its corresponding\n",
    "# set of features\n",
    "\n",
    "preprocessor = ColumnTransformer([\n",
    "    ('num', num_transformer, num_features),\n",
    "    ('cat', cat_transformer, cat_features)\n",
    "])"
   ]
  },
  {
   "cell_type": "markdown",
   "id": "55abf658",
   "metadata": {},
   "source": [
    "Lastly, we build a pipeline that combines the column transformer and our classification model. In this example, we will use a random forest classifier with its default settings:"
   ]
  },
  {
   "cell_type": "code",
   "execution_count": 35,
   "id": "b881a0ac",
   "metadata": {},
   "outputs": [],
   "source": [
    "model = Pipeline([\n",
    "    ('pre', preprocessor),\n",
    "    ('clf', RandomForestClassifier())\n",
    "])"
   ]
  },
  {
   "cell_type": "markdown",
   "id": "afed3635",
   "metadata": {},
   "source": [
    "### Train-Test Split\n",
    "Before training the model, we split the data set into 80% training and 20% test sets:"
   ]
  },
  {
   "cell_type": "code",
   "execution_count": 36,
   "id": "1c945c0d",
   "metadata": {},
   "outputs": [],
   "source": [
    "X_train, X_test, y_train, y_test = train_test_split(X, y, test_size=0.2, random_state=0)"
   ]
  },
  {
   "cell_type": "code",
   "execution_count": 37,
   "id": "8c70adc5",
   "metadata": {},
   "outputs": [
    {
     "data": {
      "text/html": [
       "<style>#sk-container-id-1 {color: black;}#sk-container-id-1 pre{padding: 0;}#sk-container-id-1 div.sk-toggleable {background-color: white;}#sk-container-id-1 label.sk-toggleable__label {cursor: pointer;display: block;width: 100%;margin-bottom: 0;padding: 0.3em;box-sizing: border-box;text-align: center;}#sk-container-id-1 label.sk-toggleable__label-arrow:before {content: \"▸\";float: left;margin-right: 0.25em;color: #696969;}#sk-container-id-1 label.sk-toggleable__label-arrow:hover:before {color: black;}#sk-container-id-1 div.sk-estimator:hover label.sk-toggleable__label-arrow:before {color: black;}#sk-container-id-1 div.sk-toggleable__content {max-height: 0;max-width: 0;overflow: hidden;text-align: left;background-color: #f0f8ff;}#sk-container-id-1 div.sk-toggleable__content pre {margin: 0.2em;color: black;border-radius: 0.25em;background-color: #f0f8ff;}#sk-container-id-1 input.sk-toggleable__control:checked~div.sk-toggleable__content {max-height: 200px;max-width: 100%;overflow: auto;}#sk-container-id-1 input.sk-toggleable__control:checked~label.sk-toggleable__label-arrow:before {content: \"▾\";}#sk-container-id-1 div.sk-estimator input.sk-toggleable__control:checked~label.sk-toggleable__label {background-color: #d4ebff;}#sk-container-id-1 div.sk-label input.sk-toggleable__control:checked~label.sk-toggleable__label {background-color: #d4ebff;}#sk-container-id-1 input.sk-hidden--visually {border: 0;clip: rect(1px 1px 1px 1px);clip: rect(1px, 1px, 1px, 1px);height: 1px;margin: -1px;overflow: hidden;padding: 0;position: absolute;width: 1px;}#sk-container-id-1 div.sk-estimator {font-family: monospace;background-color: #f0f8ff;border: 1px dotted black;border-radius: 0.25em;box-sizing: border-box;margin-bottom: 0.5em;}#sk-container-id-1 div.sk-estimator:hover {background-color: #d4ebff;}#sk-container-id-1 div.sk-parallel-item::after {content: \"\";width: 100%;border-bottom: 1px solid gray;flex-grow: 1;}#sk-container-id-1 div.sk-label:hover label.sk-toggleable__label {background-color: #d4ebff;}#sk-container-id-1 div.sk-serial::before {content: \"\";position: absolute;border-left: 1px solid gray;box-sizing: border-box;top: 0;bottom: 0;left: 50%;z-index: 0;}#sk-container-id-1 div.sk-serial {display: flex;flex-direction: column;align-items: center;background-color: white;padding-right: 0.2em;padding-left: 0.2em;position: relative;}#sk-container-id-1 div.sk-item {position: relative;z-index: 1;}#sk-container-id-1 div.sk-parallel {display: flex;align-items: stretch;justify-content: center;background-color: white;position: relative;}#sk-container-id-1 div.sk-item::before, #sk-container-id-1 div.sk-parallel-item::before {content: \"\";position: absolute;border-left: 1px solid gray;box-sizing: border-box;top: 0;bottom: 0;left: 50%;z-index: -1;}#sk-container-id-1 div.sk-parallel-item {display: flex;flex-direction: column;z-index: 1;position: relative;background-color: white;}#sk-container-id-1 div.sk-parallel-item:first-child::after {align-self: flex-end;width: 50%;}#sk-container-id-1 div.sk-parallel-item:last-child::after {align-self: flex-start;width: 50%;}#sk-container-id-1 div.sk-parallel-item:only-child::after {width: 0;}#sk-container-id-1 div.sk-dashed-wrapped {border: 1px dashed gray;margin: 0 0.4em 0.5em 0.4em;box-sizing: border-box;padding-bottom: 0.4em;background-color: white;}#sk-container-id-1 div.sk-label label {font-family: monospace;font-weight: bold;display: inline-block;line-height: 1.2em;}#sk-container-id-1 div.sk-label-container {text-align: center;}#sk-container-id-1 div.sk-container {/* jupyter's `normalize.less` sets `[hidden] { display: none; }` but bootstrap.min.css set `[hidden] { display: none !important; }` so we also need the `!important` here to be able to override the default hidden behavior on the sphinx rendered scikit-learn.org. See: https://github.com/scikit-learn/scikit-learn/issues/21755 */display: inline-block !important;position: relative;}#sk-container-id-1 div.sk-text-repr-fallback {display: none;}</style><div id=\"sk-container-id-1\" class=\"sk-top-container\"><div class=\"sk-text-repr-fallback\"><pre>Pipeline(steps=[(&#x27;pre&#x27;,\n",
       "                 ColumnTransformer(transformers=[(&#x27;num&#x27;,\n",
       "                                                  Pipeline(steps=[(&#x27;imputer&#x27;,\n",
       "                                                                   KNNImputer()),\n",
       "                                                                  (&#x27;scaler&#x27;,\n",
       "                                                                   RobustScaler())]),\n",
       "                                                  [&#x27;age&#x27;, &#x27;sibsp&#x27;, &#x27;parch&#x27;,\n",
       "                                                   &#x27;fare&#x27;]),\n",
       "                                                 (&#x27;cat&#x27;,\n",
       "                                                  Pipeline(steps=[(&#x27;imputer&#x27;,\n",
       "                                                                   SimpleImputer(strategy=&#x27;most_frequent&#x27;)),\n",
       "                                                                  (&#x27;onehot&#x27;,\n",
       "                                                                   OneHotEncoder(handle_unknown=&#x27;ignore&#x27;))]),\n",
       "                                                  [&#x27;pclass&#x27;, &#x27;sex&#x27;,\n",
       "                                                   &#x27;embarked&#x27;])])),\n",
       "                (&#x27;clf&#x27;, RandomForestClassifier())])</pre><b>In a Jupyter environment, please rerun this cell to show the HTML representation or trust the notebook. <br />On GitHub, the HTML representation is unable to render, please try loading this page with nbviewer.org.</b></div><div class=\"sk-container\" hidden><div class=\"sk-item sk-dashed-wrapped\"><div class=\"sk-label-container\"><div class=\"sk-label sk-toggleable\"><input class=\"sk-toggleable__control sk-hidden--visually\" id=\"sk-estimator-id-1\" type=\"checkbox\" ><label for=\"sk-estimator-id-1\" class=\"sk-toggleable__label sk-toggleable__label-arrow\">Pipeline</label><div class=\"sk-toggleable__content\"><pre>Pipeline(steps=[(&#x27;pre&#x27;,\n",
       "                 ColumnTransformer(transformers=[(&#x27;num&#x27;,\n",
       "                                                  Pipeline(steps=[(&#x27;imputer&#x27;,\n",
       "                                                                   KNNImputer()),\n",
       "                                                                  (&#x27;scaler&#x27;,\n",
       "                                                                   RobustScaler())]),\n",
       "                                                  [&#x27;age&#x27;, &#x27;sibsp&#x27;, &#x27;parch&#x27;,\n",
       "                                                   &#x27;fare&#x27;]),\n",
       "                                                 (&#x27;cat&#x27;,\n",
       "                                                  Pipeline(steps=[(&#x27;imputer&#x27;,\n",
       "                                                                   SimpleImputer(strategy=&#x27;most_frequent&#x27;)),\n",
       "                                                                  (&#x27;onehot&#x27;,\n",
       "                                                                   OneHotEncoder(handle_unknown=&#x27;ignore&#x27;))]),\n",
       "                                                  [&#x27;pclass&#x27;, &#x27;sex&#x27;,\n",
       "                                                   &#x27;embarked&#x27;])])),\n",
       "                (&#x27;clf&#x27;, RandomForestClassifier())])</pre></div></div></div><div class=\"sk-serial\"><div class=\"sk-item sk-dashed-wrapped\"><div class=\"sk-label-container\"><div class=\"sk-label sk-toggleable\"><input class=\"sk-toggleable__control sk-hidden--visually\" id=\"sk-estimator-id-2\" type=\"checkbox\" ><label for=\"sk-estimator-id-2\" class=\"sk-toggleable__label sk-toggleable__label-arrow\">pre: ColumnTransformer</label><div class=\"sk-toggleable__content\"><pre>ColumnTransformer(transformers=[(&#x27;num&#x27;,\n",
       "                                 Pipeline(steps=[(&#x27;imputer&#x27;, KNNImputer()),\n",
       "                                                 (&#x27;scaler&#x27;, RobustScaler())]),\n",
       "                                 [&#x27;age&#x27;, &#x27;sibsp&#x27;, &#x27;parch&#x27;, &#x27;fare&#x27;]),\n",
       "                                (&#x27;cat&#x27;,\n",
       "                                 Pipeline(steps=[(&#x27;imputer&#x27;,\n",
       "                                                  SimpleImputer(strategy=&#x27;most_frequent&#x27;)),\n",
       "                                                 (&#x27;onehot&#x27;,\n",
       "                                                  OneHotEncoder(handle_unknown=&#x27;ignore&#x27;))]),\n",
       "                                 [&#x27;pclass&#x27;, &#x27;sex&#x27;, &#x27;embarked&#x27;])])</pre></div></div></div><div class=\"sk-parallel\"><div class=\"sk-parallel-item\"><div class=\"sk-item\"><div class=\"sk-label-container\"><div class=\"sk-label sk-toggleable\"><input class=\"sk-toggleable__control sk-hidden--visually\" id=\"sk-estimator-id-3\" type=\"checkbox\" ><label for=\"sk-estimator-id-3\" class=\"sk-toggleable__label sk-toggleable__label-arrow\">num</label><div class=\"sk-toggleable__content\"><pre>[&#x27;age&#x27;, &#x27;sibsp&#x27;, &#x27;parch&#x27;, &#x27;fare&#x27;]</pre></div></div></div><div class=\"sk-serial\"><div class=\"sk-item\"><div class=\"sk-serial\"><div class=\"sk-item\"><div class=\"sk-estimator sk-toggleable\"><input class=\"sk-toggleable__control sk-hidden--visually\" id=\"sk-estimator-id-4\" type=\"checkbox\" ><label for=\"sk-estimator-id-4\" class=\"sk-toggleable__label sk-toggleable__label-arrow\">KNNImputer</label><div class=\"sk-toggleable__content\"><pre>KNNImputer()</pre></div></div></div><div class=\"sk-item\"><div class=\"sk-estimator sk-toggleable\"><input class=\"sk-toggleable__control sk-hidden--visually\" id=\"sk-estimator-id-5\" type=\"checkbox\" ><label for=\"sk-estimator-id-5\" class=\"sk-toggleable__label sk-toggleable__label-arrow\">RobustScaler</label><div class=\"sk-toggleable__content\"><pre>RobustScaler()</pre></div></div></div></div></div></div></div></div><div class=\"sk-parallel-item\"><div class=\"sk-item\"><div class=\"sk-label-container\"><div class=\"sk-label sk-toggleable\"><input class=\"sk-toggleable__control sk-hidden--visually\" id=\"sk-estimator-id-6\" type=\"checkbox\" ><label for=\"sk-estimator-id-6\" class=\"sk-toggleable__label sk-toggleable__label-arrow\">cat</label><div class=\"sk-toggleable__content\"><pre>[&#x27;pclass&#x27;, &#x27;sex&#x27;, &#x27;embarked&#x27;]</pre></div></div></div><div class=\"sk-serial\"><div class=\"sk-item\"><div class=\"sk-serial\"><div class=\"sk-item\"><div class=\"sk-estimator sk-toggleable\"><input class=\"sk-toggleable__control sk-hidden--visually\" id=\"sk-estimator-id-7\" type=\"checkbox\" ><label for=\"sk-estimator-id-7\" class=\"sk-toggleable__label sk-toggleable__label-arrow\">SimpleImputer</label><div class=\"sk-toggleable__content\"><pre>SimpleImputer(strategy=&#x27;most_frequent&#x27;)</pre></div></div></div><div class=\"sk-item\"><div class=\"sk-estimator sk-toggleable\"><input class=\"sk-toggleable__control sk-hidden--visually\" id=\"sk-estimator-id-8\" type=\"checkbox\" ><label for=\"sk-estimator-id-8\" class=\"sk-toggleable__label sk-toggleable__label-arrow\">OneHotEncoder</label><div class=\"sk-toggleable__content\"><pre>OneHotEncoder(handle_unknown=&#x27;ignore&#x27;)</pre></div></div></div></div></div></div></div></div></div></div><div class=\"sk-item\"><div class=\"sk-estimator sk-toggleable\"><input class=\"sk-toggleable__control sk-hidden--visually\" id=\"sk-estimator-id-9\" type=\"checkbox\" ><label for=\"sk-estimator-id-9\" class=\"sk-toggleable__label sk-toggleable__label-arrow\">RandomForestClassifier</label><div class=\"sk-toggleable__content\"><pre>RandomForestClassifier()</pre></div></div></div></div></div></div></div>"
      ],
      "text/plain": [
       "Pipeline(steps=[('pre',\n",
       "                 ColumnTransformer(transformers=[('num',\n",
       "                                                  Pipeline(steps=[('imputer',\n",
       "                                                                   KNNImputer()),\n",
       "                                                                  ('scaler',\n",
       "                                                                   RobustScaler())]),\n",
       "                                                  ['age', 'sibsp', 'parch',\n",
       "                                                   'fare']),\n",
       "                                                 ('cat',\n",
       "                                                  Pipeline(steps=[('imputer',\n",
       "                                                                   SimpleImputer(strategy='most_frequent')),\n",
       "                                                                  ('onehot',\n",
       "                                                                   OneHotEncoder(handle_unknown='ignore'))]),\n",
       "                                                  ['pclass', 'sex',\n",
       "                                                   'embarked'])])),\n",
       "                ('clf', RandomForestClassifier())])"
      ]
     },
     "execution_count": 37,
     "metadata": {},
     "output_type": "execute_result"
    }
   ],
   "source": [
    "model.fit(X_train, y_train)"
   ]
  },
  {
   "cell_type": "code",
   "execution_count": 38,
   "id": "daa5722e",
   "metadata": {},
   "outputs": [
    {
     "name": "stdout",
     "output_type": "stream",
     "text": [
      "Train accuracy: 0.9713\n",
      "Test accuracy: 0.7977\n"
     ]
    }
   ],
   "source": [
    "train_acc = model.score(X_train, y_train)\n",
    "print(f'Train accuracy: {train_acc:.4f}')\n",
    "\n",
    "test_acc = model.score(X_test, y_test)\n",
    "print(f'Test accuracy: {test_acc:.4f}')"
   ]
  },
  {
   "cell_type": "markdown",
   "id": "62bda283",
   "metadata": {},
   "source": [
    "It seems that the model is overfitting the training set to some degree. At this point, we might want to experiment with different transformers and imputers, try to extract new features from the data, and tune the hyperparameters of the model."
   ]
  }
 ],
 "metadata": {
  "kernelspec": {
   "display_name": "Data Mining (venv)",
   "language": "python",
   "name": "venv"
  },
  "language_info": {
   "codemirror_mode": {
    "name": "ipython",
    "version": 3
   },
   "file_extension": ".py",
   "mimetype": "text/x-python",
   "name": "python",
   "nbconvert_exporter": "python",
   "pygments_lexer": "ipython3",
   "version": "3.11.0"
  }
 },
 "nbformat": 4,
 "nbformat_minor": 5
}
