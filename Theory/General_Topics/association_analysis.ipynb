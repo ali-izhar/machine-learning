{
 "cells": [
  {
   "cell_type": "markdown",
   "id": "83839991",
   "metadata": {},
   "source": [
    "# Association Analysis and Deep Learning\n",
    "\n",
    "- For the association analysis task, use [Mlxtend](http://rasbt.github.io/mlxtend/)\n",
    "- For the deep learning task, use [Tensorflow](https://www.tensorflow.org/) via [Keras](https://keras.io/) or [PyTorch](https://pytorch.org/)"
   ]
  },
  {
   "cell_type": "markdown",
   "id": "00f684b1",
   "metadata": {},
   "source": [
    "### Support\n",
    "- Support is used to measure the abundance or frequency (often interpreted as significance or importance) of an itemset in a database.\n",
    "- An itemset is considered a `frequent itemset` if its support is larger than a specified `minsup` threshold.\n",
    "- All subsets of a frequent itemset are also frequent.\n",
    "$$\\text{support}(A \\rightarrow C) = \\text{support}(A \\cup C), \\text{ range: } [0, 1]$$\n",
    "\n",
    "### Confidence\n",
    "- Confidence measures the probability of seeing the consequent in a transaction given that it also contains the antecedent. Note that confidence is not symmetric.\n",
    "$$\\text{confidence}(A \\rightarrow C) = \\frac{\\text{support}(A \\rightarrow C)}{\\text{support}(A)}, \\text{ range: } [0, 1]$$\n",
    "\n",
    "### Lift\n",
    "- Lift is commonly used to measure how much more often the antecedent and consequent of a rule $A \\rightarrow C$ occur together than we would expect if they were statistically independent.\n",
    "- If $A$ and $C$ are independent, the lift score will be exactly 1.\n",
    "$$\\text{lift}(A \\rightarrow C) = \\frac{\\text{confidence}(A \\rightarrow C)}{\\text{support}(C)}, \\text{ range: } [0, \\infty]$$\n",
    "\n",
    "[Source](http://rasbt.github.io/mlxtend/user_guide/frequent_patterns/association_rules/)"
   ]
  },
  {
   "cell_type": "code",
   "execution_count": 1,
   "id": "1734ffa5",
   "metadata": {},
   "outputs": [],
   "source": [
    "import os\n",
    "import numpy as np\n",
    "import pandas as pd\n",
    "import matplotlib.pyplot as plt\n",
    "import seaborn as sns\n",
    "\n",
    "# !pip install mlxtend\n",
    "from mlxtend.preprocessing import TransactionEncoder\n",
    "from mlxtend.frequent_patterns import apriori, association_rules"
   ]
  },
  {
   "cell_type": "markdown",
   "id": "3345a152",
   "metadata": {},
   "source": [
    "## 1. Association Rule Generation from Transaction Data\n",
    "\n",
    "Utilize the transaction dataset located at `data/Grocery_Items_3.csv`.\n",
    "\n",
    "With `minimum support = 0.01` and `minimum confidence threshold = 0.1`, identify the association rules that can be derived from the dataset. A reference for generating association rules can be found in this [GitHub Source Code](http://rasbt.github.io/mlxtend/user_guide/frequent_patterns/association_rules/).\n",
    "\n",
    "Employ the following parameters:\n",
    "- Minimum Support Values (MSV): `0.001, 0.005, 0.01, 0.05`\n",
    "- Minimum Confidence Threshold (MCT): `0.05, 0.075, 0.1`\n",
    "\n",
    "For each combination of MSV and MCT, determine the count of association rules extracted from the dataset. Visualize the count results using a heatmap with [Seaborn](https://seaborn.pydata.org/generated/seaborn.heatmap.html), where the $x$-axis represents MSV and the $y$-axis represents MCT."
   ]
  },
  {
   "cell_type": "code",
   "execution_count": 2,
   "id": "23e17b9e",
   "metadata": {},
   "outputs": [],
   "source": [
    "data = pd.read_csv('data/Grocery_Items_3.csv')"
   ]
  },
  {
   "cell_type": "code",
   "execution_count": 3,
   "id": "3508a555",
   "metadata": {},
   "outputs": [],
   "source": [
    "# The below functions are based on the GitHub docs:\n",
    "# http://rasbt.github.io/mlxtend/user_guide/frequent_patterns/association_rules/\n",
    "\n",
    "def format_transactions(data):\n",
    "    \"\"\"Format data into a list of lists (for matrix manipulation). Remove NaN values.\"\"\"\n",
    "    transactions = data.map(lambda x: str(x) if pd.notna(x) else None).values.tolist()\n",
    "    transactions = [[item for item in transaction if item is not None] for transaction in transactions]\n",
    "    return transactions\n",
    "\n",
    "def encode_transactions(transactions):\n",
    "    \"\"\"Encode transactions into a matrix format suitable for mlxtend.\"\"\"\n",
    "    encoder = TransactionEncoder()\n",
    "    encoded_data = encoder.fit_transform(transactions)\n",
    "    encoded_df = pd.DataFrame(encoded_data, columns=encoder.columns_)\n",
    "    return encoded_df\n",
    "\n",
    "def get_frequent_itemsets(df, min_support):\n",
    "    \"\"\"Using the apriori principle, get frequent itemsets using the min_support threshold.\"\"\"\n",
    "    return apriori(df, min_support=min_support, use_colnames=True)\n",
    "\n",
    "def get_association_rules(frequent_itemsets, min_confidence):\n",
    "    \"\"\"Extract association rules using the min_confidence threshold.\"\"\"\n",
    "    return association_rules(frequent_itemsets, metric='confidence', min_threshold=min_confidence)\n",
    "\n",
    "def plot_heatmap(counts, msv_values, mct_values):\n",
    "    \"\"\"Note: the 'g' format code works with both floats and integers\"\"\"\n",
    "    sns.heatmap(counts, xticklabels=msv_values, yticklabels=mct_values, annot=True, fmt='g')\n",
    "    plt.xlabel('Minimum Support Values')\n",
    "    plt.ylabel('Minimum Confidence Threshold')\n",
    "    plt.show()"
   ]
  },
  {
   "cell_type": "code",
   "execution_count": 4,
   "id": "4e1a39cf",
   "metadata": {},
   "outputs": [],
   "source": [
    "transactions = format_transactions(data)\n",
    "encoded_df = encode_transactions(transactions)\n",
    "frequent_itemsets = get_frequent_itemsets(encoded_df, min_support=0.01)\n",
    "rules = get_association_rules(frequent_itemsets, min_confidence=0.1)"
   ]
  },
  {
   "cell_type": "code",
   "execution_count": 5,
   "id": "6b8c7a2e",
   "metadata": {},
   "outputs": [
    {
     "data": {
      "text/html": [
       "<div>\n",
       "<style scoped>\n",
       "    .dataframe tbody tr th:only-of-type {\n",
       "        vertical-align: middle;\n",
       "    }\n",
       "\n",
       "    .dataframe tbody tr th {\n",
       "        vertical-align: top;\n",
       "    }\n",
       "\n",
       "    .dataframe thead th {\n",
       "        text-align: right;\n",
       "    }\n",
       "</style>\n",
       "<table border=\"1\" class=\"dataframe\">\n",
       "  <thead>\n",
       "    <tr style=\"text-align: right;\">\n",
       "      <th></th>\n",
       "      <th>antecedents</th>\n",
       "      <th>consequents</th>\n",
       "      <th>antecedent support</th>\n",
       "      <th>consequent support</th>\n",
       "      <th>support</th>\n",
       "      <th>confidence</th>\n",
       "      <th>lift</th>\n",
       "      <th>leverage</th>\n",
       "      <th>conviction</th>\n",
       "      <th>zhangs_metric</th>\n",
       "    </tr>\n",
       "  </thead>\n",
       "  <tbody>\n",
       "    <tr>\n",
       "      <th>0</th>\n",
       "      <td>(other vegetables)</td>\n",
       "      <td>(whole milk)</td>\n",
       "      <td>0.121875</td>\n",
       "      <td>0.160375</td>\n",
       "      <td>0.015500</td>\n",
       "      <td>0.127179</td>\n",
       "      <td>0.793013</td>\n",
       "      <td>-0.004046</td>\n",
       "      <td>0.961968</td>\n",
       "      <td>-0.229132</td>\n",
       "    </tr>\n",
       "    <tr>\n",
       "      <th>1</th>\n",
       "      <td>(rolls/buns)</td>\n",
       "      <td>(whole milk)</td>\n",
       "      <td>0.113625</td>\n",
       "      <td>0.160375</td>\n",
       "      <td>0.015250</td>\n",
       "      <td>0.134213</td>\n",
       "      <td>0.836872</td>\n",
       "      <td>-0.002973</td>\n",
       "      <td>0.969783</td>\n",
       "      <td>-0.180269</td>\n",
       "    </tr>\n",
       "    <tr>\n",
       "      <th>2</th>\n",
       "      <td>(sausage)</td>\n",
       "      <td>(whole milk)</td>\n",
       "      <td>0.061500</td>\n",
       "      <td>0.160375</td>\n",
       "      <td>0.010000</td>\n",
       "      <td>0.162602</td>\n",
       "      <td>1.013884</td>\n",
       "      <td>0.000137</td>\n",
       "      <td>1.002659</td>\n",
       "      <td>0.014591</td>\n",
       "    </tr>\n",
       "    <tr>\n",
       "      <th>3</th>\n",
       "      <td>(soda)</td>\n",
       "      <td>(whole milk)</td>\n",
       "      <td>0.097000</td>\n",
       "      <td>0.160375</td>\n",
       "      <td>0.011125</td>\n",
       "      <td>0.114691</td>\n",
       "      <td>0.715141</td>\n",
       "      <td>-0.004431</td>\n",
       "      <td>0.948397</td>\n",
       "      <td>-0.306092</td>\n",
       "    </tr>\n",
       "    <tr>\n",
       "      <th>4</th>\n",
       "      <td>(yogurt)</td>\n",
       "      <td>(whole milk)</td>\n",
       "      <td>0.079250</td>\n",
       "      <td>0.160375</td>\n",
       "      <td>0.010875</td>\n",
       "      <td>0.137224</td>\n",
       "      <td>0.855644</td>\n",
       "      <td>-0.001835</td>\n",
       "      <td>0.973167</td>\n",
       "      <td>-0.154856</td>\n",
       "    </tr>\n",
       "  </tbody>\n",
       "</table>\n",
       "</div>"
      ],
      "text/plain": [
       "          antecedents   consequents  antecedent support  consequent support  \\\n",
       "0  (other vegetables)  (whole milk)            0.121875            0.160375   \n",
       "1        (rolls/buns)  (whole milk)            0.113625            0.160375   \n",
       "2           (sausage)  (whole milk)            0.061500            0.160375   \n",
       "3              (soda)  (whole milk)            0.097000            0.160375   \n",
       "4            (yogurt)  (whole milk)            0.079250            0.160375   \n",
       "\n",
       "    support  confidence      lift  leverage  conviction  zhangs_metric  \n",
       "0  0.015500    0.127179  0.793013 -0.004046    0.961968      -0.229132  \n",
       "1  0.015250    0.134213  0.836872 -0.002973    0.969783      -0.180269  \n",
       "2  0.010000    0.162602  1.013884  0.000137    1.002659       0.014591  \n",
       "3  0.011125    0.114691  0.715141 -0.004431    0.948397      -0.306092  \n",
       "4  0.010875    0.137224  0.855644 -0.001835    0.973167      -0.154856  "
      ]
     },
     "execution_count": 5,
     "metadata": {},
     "output_type": "execute_result"
    }
   ],
   "source": [
    "rules"
   ]
  },
  {
   "cell_type": "code",
   "execution_count": 6,
   "id": "a9c0cbe4",
   "metadata": {},
   "outputs": [],
   "source": [
    "msv_values = [0.001, 0.005, 0.01, 0.05]\n",
    "mct_values = [0.05, 0.075, 0.1]\n",
    "\n",
    "# initialize an empty matrix to hold the counts\n",
    "counts = np.zeros((len(mct_values), len(msv_values)))\n",
    "\n",
    "prev_msv = None\n",
    "for i, mct in enumerate(mct_values):\n",
    "    for j, msv in enumerate(msv_values):\n",
    "        if msv != prev_msv:\n",
    "            # avoid recomputing the `frequent_itemsets` when `min_support` value is the same\n",
    "            frequent_itemsets = get_frequent_itemsets(encoded_df, msv)\n",
    "            prev_msv = msv\n",
    "        rules = get_association_rules(frequent_itemsets, mct)\n",
    "        counts[i, j] = len(rules)"
   ]
  },
  {
   "cell_type": "code",
   "execution_count": 7,
   "id": "e2d97da8",
   "metadata": {},
   "outputs": [
    {
     "data": {
      "image/png": "[encoded data removed]",
      "text/plain": [
       "<Figure size 640x480 with 2 Axes>"
      ]
     },
     "metadata": {},
     "output_type": "display_data"
    }
   ],
   "source": [
    "plot_heatmap(counts, msv_values, mct_values)"
   ]
  },
  {
   "cell_type": "markdown",
   "id": "c5e9c57b",
   "metadata": {},
   "source": [
    "List the association rule(s) (i.e., one or more rules depending on dataset) that have the highest\n",
    "confidence for minimum support = 0.005. What is that confidence value?"
   ]
  },
  {
   "cell_type": "code",
   "execution_count": 52,
   "id": "fb53f2d1",
   "metadata": {},
   "outputs": [],
   "source": [
    "frequent_itemsets = get_frequent_itemsets(encoded_df, min_support=0.005)\n",
    "\n",
    "#  using default min_confidence=0.1 from the cells above; this does not matter in this case however.\n",
    "rules = get_association_rules(frequent_itemsets, min_confidence=0.1)"
   ]
  },
  {
   "cell_type": "code",
   "execution_count": 50,
   "id": "25b90f73",
   "metadata": {},
   "outputs": [],
   "source": [
    "# sort the rules by confidence\n",
    "sorted_rules = rules.sort_values(by='confidence', ascending=False)"
   ]
  },
  {
   "cell_type": "code",
   "execution_count": 51,
   "id": "212297b0",
   "metadata": {},
   "outputs": [
    {
     "data": {
      "text/html": [
       "<div>\n",
       "<style scoped>\n",
       "    .dataframe tbody tr th:only-of-type {\n",
       "        vertical-align: middle;\n",
       "    }\n",
       "\n",
       "    .dataframe tbody tr th {\n",
       "        vertical-align: top;\n",
       "    }\n",
       "\n",
       "    .dataframe thead th {\n",
       "        text-align: right;\n",
       "    }\n",
       "</style>\n",
       "<table border=\"1\" class=\"dataframe\">\n",
       "  <thead>\n",
       "    <tr style=\"text-align: right;\">\n",
       "      <th></th>\n",
       "      <th>antecedents</th>\n",
       "      <th>consequents</th>\n",
       "      <th>antecedent support</th>\n",
       "      <th>consequent support</th>\n",
       "      <th>support</th>\n",
       "      <th>confidence</th>\n",
       "      <th>lift</th>\n",
       "      <th>leverage</th>\n",
       "      <th>conviction</th>\n",
       "      <th>zhangs_metric</th>\n",
       "    </tr>\n",
       "  </thead>\n",
       "  <tbody>\n",
       "    <tr>\n",
       "      <th>0</th>\n",
       "      <td>(bottled beer)</td>\n",
       "      <td>(whole milk)</td>\n",
       "      <td>0.045625</td>\n",
       "      <td>0.160375</td>\n",
       "      <td>0.007500</td>\n",
       "      <td>0.164384</td>\n",
       "      <td>1.024995</td>\n",
       "      <td>0.000183</td>\n",
       "      <td>1.004797</td>\n",
       "      <td>0.025551</td>\n",
       "    </tr>\n",
       "    <tr>\n",
       "      <th>18</th>\n",
       "      <td>(sausage)</td>\n",
       "      <td>(whole milk)</td>\n",
       "      <td>0.061500</td>\n",
       "      <td>0.160375</td>\n",
       "      <td>0.010000</td>\n",
       "      <td>0.162602</td>\n",
       "      <td>1.013884</td>\n",
       "      <td>0.000137</td>\n",
       "      <td>1.002659</td>\n",
       "      <td>0.014591</td>\n",
       "    </tr>\n",
       "    <tr>\n",
       "      <th>5</th>\n",
       "      <td>(curd)</td>\n",
       "      <td>(whole milk)</td>\n",
       "      <td>0.033125</td>\n",
       "      <td>0.160375</td>\n",
       "      <td>0.005250</td>\n",
       "      <td>0.158491</td>\n",
       "      <td>0.988250</td>\n",
       "      <td>-0.000062</td>\n",
       "      <td>0.997761</td>\n",
       "      <td>-0.012148</td>\n",
       "    </tr>\n",
       "    <tr>\n",
       "      <th>8</th>\n",
       "      <td>(newspapers)</td>\n",
       "      <td>(whole milk)</td>\n",
       "      <td>0.038250</td>\n",
       "      <td>0.160375</td>\n",
       "      <td>0.006000</td>\n",
       "      <td>0.156863</td>\n",
       "      <td>0.978100</td>\n",
       "      <td>-0.000134</td>\n",
       "      <td>0.995834</td>\n",
       "      <td>-0.022751</td>\n",
       "    </tr>\n",
       "    <tr>\n",
       "      <th>6</th>\n",
       "      <td>(domestic eggs)</td>\n",
       "      <td>(whole milk)</td>\n",
       "      <td>0.039125</td>\n",
       "      <td>0.160375</td>\n",
       "      <td>0.006000</td>\n",
       "      <td>0.153355</td>\n",
       "      <td>0.956225</td>\n",
       "      <td>-0.000275</td>\n",
       "      <td>0.991708</td>\n",
       "      <td>-0.045476</td>\n",
       "    </tr>\n",
       "    <tr>\n",
       "      <th>7</th>\n",
       "      <td>(frankfurter)</td>\n",
       "      <td>(whole milk)</td>\n",
       "      <td>0.036750</td>\n",
       "      <td>0.160375</td>\n",
       "      <td>0.005250</td>\n",
       "      <td>0.142857</td>\n",
       "      <td>0.890769</td>\n",
       "      <td>-0.000644</td>\n",
       "      <td>0.979563</td>\n",
       "      <td>-0.112927</td>\n",
       "    </tr>\n",
       "    <tr>\n",
       "      <th>12</th>\n",
       "      <td>(pip fruit)</td>\n",
       "      <td>(whole milk)</td>\n",
       "      <td>0.047250</td>\n",
       "      <td>0.160375</td>\n",
       "      <td>0.006500</td>\n",
       "      <td>0.137566</td>\n",
       "      <td>0.857778</td>\n",
       "      <td>-0.001078</td>\n",
       "      <td>0.973553</td>\n",
       "      <td>-0.148230</td>\n",
       "    </tr>\n",
       "    <tr>\n",
       "      <th>22</th>\n",
       "      <td>(yogurt)</td>\n",
       "      <td>(whole milk)</td>\n",
       "      <td>0.079250</td>\n",
       "      <td>0.160375</td>\n",
       "      <td>0.010875</td>\n",
       "      <td>0.137224</td>\n",
       "      <td>0.855644</td>\n",
       "      <td>-0.001835</td>\n",
       "      <td>0.973167</td>\n",
       "      <td>-0.154856</td>\n",
       "    </tr>\n",
       "    <tr>\n",
       "      <th>19</th>\n",
       "      <td>(shopping bags)</td>\n",
       "      <td>(whole milk)</td>\n",
       "      <td>0.049250</td>\n",
       "      <td>0.160375</td>\n",
       "      <td>0.006750</td>\n",
       "      <td>0.137056</td>\n",
       "      <td>0.854596</td>\n",
       "      <td>-0.001148</td>\n",
       "      <td>0.972977</td>\n",
       "      <td>-0.151793</td>\n",
       "    </tr>\n",
       "    <tr>\n",
       "      <th>13</th>\n",
       "      <td>(pork)</td>\n",
       "      <td>(whole milk)</td>\n",
       "      <td>0.037500</td>\n",
       "      <td>0.160375</td>\n",
       "      <td>0.005125</td>\n",
       "      <td>0.136667</td>\n",
       "      <td>0.852169</td>\n",
       "      <td>-0.000889</td>\n",
       "      <td>0.972539</td>\n",
       "      <td>-0.152711</td>\n",
       "    </tr>\n",
       "    <tr>\n",
       "      <th>3</th>\n",
       "      <td>(canned beer)</td>\n",
       "      <td>(whole milk)</td>\n",
       "      <td>0.046875</td>\n",
       "      <td>0.160375</td>\n",
       "      <td>0.006375</td>\n",
       "      <td>0.136000</td>\n",
       "      <td>0.848012</td>\n",
       "      <td>-0.001143</td>\n",
       "      <td>0.971788</td>\n",
       "      <td>-0.158279</td>\n",
       "    </tr>\n",
       "    <tr>\n",
       "      <th>14</th>\n",
       "      <td>(rolls/buns)</td>\n",
       "      <td>(whole milk)</td>\n",
       "      <td>0.113625</td>\n",
       "      <td>0.160375</td>\n",
       "      <td>0.015250</td>\n",
       "      <td>0.134213</td>\n",
       "      <td>0.836872</td>\n",
       "      <td>-0.002973</td>\n",
       "      <td>0.969783</td>\n",
       "      <td>-0.180269</td>\n",
       "    </tr>\n",
       "    <tr>\n",
       "      <th>1</th>\n",
       "      <td>(bottled water)</td>\n",
       "      <td>(whole milk)</td>\n",
       "      <td>0.060875</td>\n",
       "      <td>0.160375</td>\n",
       "      <td>0.008125</td>\n",
       "      <td>0.133470</td>\n",
       "      <td>0.832238</td>\n",
       "      <td>-0.001638</td>\n",
       "      <td>0.968951</td>\n",
       "      <td>-0.176714</td>\n",
       "    </tr>\n",
       "    <tr>\n",
       "      <th>2</th>\n",
       "      <td>(brown bread)</td>\n",
       "      <td>(whole milk)</td>\n",
       "      <td>0.037625</td>\n",
       "      <td>0.160375</td>\n",
       "      <td>0.005000</td>\n",
       "      <td>0.132890</td>\n",
       "      <td>0.828623</td>\n",
       "      <td>-0.001034</td>\n",
       "      <td>0.968303</td>\n",
       "      <td>-0.176892</td>\n",
       "    </tr>\n",
       "    <tr>\n",
       "      <th>11</th>\n",
       "      <td>(pastry)</td>\n",
       "      <td>(whole milk)</td>\n",
       "      <td>0.050875</td>\n",
       "      <td>0.160375</td>\n",
       "      <td>0.006500</td>\n",
       "      <td>0.127764</td>\n",
       "      <td>0.796659</td>\n",
       "      <td>-0.001659</td>\n",
       "      <td>0.962612</td>\n",
       "      <td>-0.211931</td>\n",
       "    </tr>\n",
       "    <tr>\n",
       "      <th>10</th>\n",
       "      <td>(other vegetables)</td>\n",
       "      <td>(whole milk)</td>\n",
       "      <td>0.121875</td>\n",
       "      <td>0.160375</td>\n",
       "      <td>0.015500</td>\n",
       "      <td>0.127179</td>\n",
       "      <td>0.793013</td>\n",
       "      <td>-0.004046</td>\n",
       "      <td>0.961968</td>\n",
       "      <td>-0.229132</td>\n",
       "    </tr>\n",
       "    <tr>\n",
       "      <th>4</th>\n",
       "      <td>(citrus fruit)</td>\n",
       "      <td>(whole milk)</td>\n",
       "      <td>0.053250</td>\n",
       "      <td>0.160375</td>\n",
       "      <td>0.006250</td>\n",
       "      <td>0.117371</td>\n",
       "      <td>0.731853</td>\n",
       "      <td>-0.002290</td>\n",
       "      <td>0.951277</td>\n",
       "      <td>-0.279021</td>\n",
       "    </tr>\n",
       "    <tr>\n",
       "      <th>20</th>\n",
       "      <td>(soda)</td>\n",
       "      <td>(whole milk)</td>\n",
       "      <td>0.097000</td>\n",
       "      <td>0.160375</td>\n",
       "      <td>0.011125</td>\n",
       "      <td>0.114691</td>\n",
       "      <td>0.715141</td>\n",
       "      <td>-0.004431</td>\n",
       "      <td>0.948397</td>\n",
       "      <td>-0.306092</td>\n",
       "    </tr>\n",
       "    <tr>\n",
       "      <th>17</th>\n",
       "      <td>(sausage)</td>\n",
       "      <td>(soda)</td>\n",
       "      <td>0.061500</td>\n",
       "      <td>0.097000</td>\n",
       "      <td>0.006750</td>\n",
       "      <td>0.109756</td>\n",
       "      <td>1.131506</td>\n",
       "      <td>0.000784</td>\n",
       "      <td>1.014329</td>\n",
       "      <td>0.123838</td>\n",
       "    </tr>\n",
       "    <tr>\n",
       "      <th>21</th>\n",
       "      <td>(tropical fruit)</td>\n",
       "      <td>(whole milk)</td>\n",
       "      <td>0.064000</td>\n",
       "      <td>0.160375</td>\n",
       "      <td>0.007000</td>\n",
       "      <td>0.109375</td>\n",
       "      <td>0.681995</td>\n",
       "      <td>-0.003264</td>\n",
       "      <td>0.942737</td>\n",
       "      <td>-0.332518</td>\n",
       "    </tr>\n",
       "    <tr>\n",
       "      <th>9</th>\n",
       "      <td>(shopping bags)</td>\n",
       "      <td>(other vegetables)</td>\n",
       "      <td>0.049250</td>\n",
       "      <td>0.121875</td>\n",
       "      <td>0.005375</td>\n",
       "      <td>0.109137</td>\n",
       "      <td>0.895484</td>\n",
       "      <td>-0.000627</td>\n",
       "      <td>0.985702</td>\n",
       "      <td>-0.109339</td>\n",
       "    </tr>\n",
       "    <tr>\n",
       "      <th>16</th>\n",
       "      <td>(root vegetables)</td>\n",
       "      <td>(whole milk)</td>\n",
       "      <td>0.071500</td>\n",
       "      <td>0.160375</td>\n",
       "      <td>0.007500</td>\n",
       "      <td>0.104895</td>\n",
       "      <td>0.654061</td>\n",
       "      <td>-0.003967</td>\n",
       "      <td>0.938019</td>\n",
       "      <td>-0.362910</td>\n",
       "    </tr>\n",
       "    <tr>\n",
       "      <th>15</th>\n",
       "      <td>(yogurt)</td>\n",
       "      <td>(rolls/buns)</td>\n",
       "      <td>0.079250</td>\n",
       "      <td>0.113625</td>\n",
       "      <td>0.008250</td>\n",
       "      <td>0.104101</td>\n",
       "      <td>0.916180</td>\n",
       "      <td>-0.000755</td>\n",
       "      <td>0.989369</td>\n",
       "      <td>-0.090382</td>\n",
       "    </tr>\n",
       "  </tbody>\n",
       "</table>\n",
       "</div>"
      ],
      "text/plain": [
       "           antecedents         consequents  antecedent support  \\\n",
       "0       (bottled beer)        (whole milk)            0.045625   \n",
       "18           (sausage)        (whole milk)            0.061500   \n",
       "5               (curd)        (whole milk)            0.033125   \n",
       "8         (newspapers)        (whole milk)            0.038250   \n",
       "6      (domestic eggs)        (whole milk)            0.039125   \n",
       "7        (frankfurter)        (whole milk)            0.036750   \n",
       "12         (pip fruit)        (whole milk)            0.047250   \n",
       "22            (yogurt)        (whole milk)            0.079250   \n",
       "19     (shopping bags)        (whole milk)            0.049250   \n",
       "13              (pork)        (whole milk)            0.037500   \n",
       "3        (canned beer)        (whole milk)            0.046875   \n",
       "14        (rolls/buns)        (whole milk)            0.113625   \n",
       "1      (bottled water)        (whole milk)            0.060875   \n",
       "2        (brown bread)        (whole milk)            0.037625   \n",
       "11            (pastry)        (whole milk)            0.050875   \n",
       "10  (other vegetables)        (whole milk)            0.121875   \n",
       "4       (citrus fruit)        (whole milk)            0.053250   \n",
       "20              (soda)        (whole milk)            0.097000   \n",
       "17           (sausage)              (soda)            0.061500   \n",
       "21    (tropical fruit)        (whole milk)            0.064000   \n",
       "9      (shopping bags)  (other vegetables)            0.049250   \n",
       "16   (root vegetables)        (whole milk)            0.071500   \n",
       "15            (yogurt)        (rolls/buns)            0.079250   \n",
       "\n",
       "    consequent support   support  confidence      lift  leverage  conviction  \\\n",
       "0             0.160375  0.007500    0.164384  1.024995  0.000183    1.004797   \n",
       "18            0.160375  0.010000    0.162602  1.013884  0.000137    1.002659   \n",
       "5             0.160375  0.005250    0.158491  0.988250 -0.000062    0.997761   \n",
       "8             0.160375  0.006000    0.156863  0.978100 -0.000134    0.995834   \n",
       "6             0.160375  0.006000    0.153355  0.956225 -0.000275    0.991708   \n",
       "7             0.160375  0.005250    0.142857  0.890769 -0.000644    0.979563   \n",
       "12            0.160375  0.006500    0.137566  0.857778 -0.001078    0.973553   \n",
       "22            0.160375  0.010875    0.137224  0.855644 -0.001835    0.973167   \n",
       "19            0.160375  0.006750    0.137056  0.854596 -0.001148    0.972977   \n",
       "13            0.160375  0.005125    0.136667  0.852169 -0.000889    0.972539   \n",
       "3             0.160375  0.006375    0.136000  0.848012 -0.001143    0.971788   \n",
       "14            0.160375  0.015250    0.134213  0.836872 -0.002973    0.969783   \n",
       "1             0.160375  0.008125    0.133470  0.832238 -0.001638    0.968951   \n",
       "2             0.160375  0.005000    0.132890  0.828623 -0.001034    0.968303   \n",
       "11            0.160375  0.006500    0.127764  0.796659 -0.001659    0.962612   \n",
       "10            0.160375  0.015500    0.127179  0.793013 -0.004046    0.961968   \n",
       "4             0.160375  0.006250    0.117371  0.731853 -0.002290    0.951277   \n",
       "20            0.160375  0.011125    0.114691  0.715141 -0.004431    0.948397   \n",
       "17            0.097000  0.006750    0.109756  1.131506  0.000784    1.014329   \n",
       "21            0.160375  0.007000    0.109375  0.681995 -0.003264    0.942737   \n",
       "9             0.121875  0.005375    0.109137  0.895484 -0.000627    0.985702   \n",
       "16            0.160375  0.007500    0.104895  0.654061 -0.003967    0.938019   \n",
       "15            0.113625  0.008250    0.104101  0.916180 -0.000755    0.989369   \n",
       "\n",
       "    zhangs_metric  \n",
       "0        0.025551  \n",
       "18       0.014591  \n",
       "5       -0.012148  \n",
       "8       -0.022751  \n",
       "6       -0.045476  \n",
       "7       -0.112927  \n",
       "12      -0.148230  \n",
       "22      -0.154856  \n",
       "19      -0.151793  \n",
       "13      -0.152711  \n",
       "3       -0.158279  \n",
       "14      -0.180269  \n",
       "1       -0.176714  \n",
       "2       -0.176892  \n",
       "11      -0.211931  \n",
       "10      -0.229132  \n",
       "4       -0.279021  \n",
       "20      -0.306092  \n",
       "17       0.123838  \n",
       "21      -0.332518  \n",
       "9       -0.109339  \n",
       "16      -0.362910  \n",
       "15      -0.090382  "
      ]
     },
     "execution_count": 51,
     "metadata": {},
     "output_type": "execute_result"
    }
   ],
   "source": [
    "sorted_rules"
   ]
  },
  {
   "cell_type": "code",
   "execution_count": 47,
   "id": "6e89ef2d",
   "metadata": {},
   "outputs": [],
   "source": [
    "# display the rule(s) with the highest confidence\n",
    "highest_confidence_rules = sorted_rules[sorted_rules['confidence'] == sorted_rules['confidence'].max()]"
   ]
  },
  {
   "cell_type": "code",
   "execution_count": 48,
   "id": "197748cc",
   "metadata": {},
   "outputs": [
    {
     "data": {
      "text/html": [
       "<div>\n",
       "<style scoped>\n",
       "    .dataframe tbody tr th:only-of-type {\n",
       "        vertical-align: middle;\n",
       "    }\n",
       "\n",
       "    .dataframe tbody tr th {\n",
       "        vertical-align: top;\n",
       "    }\n",
       "\n",
       "    .dataframe thead th {\n",
       "        text-align: right;\n",
       "    }\n",
       "</style>\n",
       "<table border=\"1\" class=\"dataframe\">\n",
       "  <thead>\n",
       "    <tr style=\"text-align: right;\">\n",
       "      <th></th>\n",
       "      <th>antecedents</th>\n",
       "      <th>consequents</th>\n",
       "      <th>antecedent support</th>\n",
       "      <th>consequent support</th>\n",
       "      <th>support</th>\n",
       "      <th>confidence</th>\n",
       "      <th>lift</th>\n",
       "      <th>leverage</th>\n",
       "      <th>conviction</th>\n",
       "      <th>zhangs_metric</th>\n",
       "    </tr>\n",
       "  </thead>\n",
       "  <tbody>\n",
       "    <tr>\n",
       "      <th>0</th>\n",
       "      <td>(bottled beer)</td>\n",
       "      <td>(whole milk)</td>\n",
       "      <td>0.045625</td>\n",
       "      <td>0.160375</td>\n",
       "      <td>0.0075</td>\n",
       "      <td>0.164384</td>\n",
       "      <td>1.024995</td>\n",
       "      <td>0.000183</td>\n",
       "      <td>1.004797</td>\n",
       "      <td>0.025551</td>\n",
       "    </tr>\n",
       "  </tbody>\n",
       "</table>\n",
       "</div>"
      ],
      "text/plain": [
       "      antecedents   consequents  antecedent support  consequent support  \\\n",
       "0  (bottled beer)  (whole milk)            0.045625            0.160375   \n",
       "\n",
       "   support  confidence      lift  leverage  conviction  zhangs_metric  \n",
       "0   0.0075    0.164384  1.024995  0.000183    1.004797       0.025551  "
      ]
     },
     "execution_count": 48,
     "metadata": {},
     "output_type": "execute_result"
    }
   ],
   "source": [
    "highest_confidence_rules"
   ]
  },
  {
   "cell_type": "markdown",
   "id": "051ca6fd",
   "metadata": {},
   "source": [
    "**OBSERVATION:** For support, $s >= 0.005$, the rule with the highest confidence has value: $c = 0.164384$."
   ]
  },
  {
   "cell_type": "markdown",
   "id": "18c7017f",
   "metadata": {},
   "source": [
    "## 2. Image Classification using CNN\n",
    "\n",
    "Construct a 4-class classification model employing a Convolutional Neural Network (CNN) with the following simplistic architecture:\n",
    "\n",
    "- A single convolutional layer featuring 8 filters of size 3 × 3.\n",
    "- A max pooling layer with a pool size of 2 × 2.\n",
    "- Flatten the tensor to prepare it for the fully connected layers.\n",
    "- A hidden layer comprising 16 nodes.\n",
    "- An output layer with 4 nodes (corresponding to the 4 classes) employing a `softmax` activation function for multi-class classification.\n",
    "\n",
    "Utilize the `ReLU` (Rectified Linear Unit) activation function for all layers except the output layer. Train the model for 20 or more epochs using the `adam` optimizer and the `categorical cross-entropy` loss function. Allocate 20% of the data for validation during training to evaluate the model's performance. Select a batch size that ensures a balanced trade-off between computational efficiency and the training speed. For further guidance, refer to this [Keras Example](https://keras.io/examples/vision/mnist_convnet/)."
   ]
  },
  {
   "cell_type": "code",
   "execution_count": 14,
   "id": "6a3f013c",
   "metadata": {},
   "outputs": [],
   "source": [
    "import tensorflow as tf\n",
    "from tensorflow.keras import layers, models\n",
    "from tensorflow.keras.utils import to_categorical\n",
    "from tensorflow.keras.preprocessing import image\n",
    "from sklearn.model_selection import train_test_split"
   ]
  },
  {
   "cell_type": "code",
   "execution_count": 15,
   "id": "4b08901b",
   "metadata": {},
   "outputs": [],
   "source": [
    "DOG_IMAGES_PATH = \"../assignment1/dataset/Cropped/\""
   ]
  },
  {
   "cell_type": "markdown",
   "id": "7a2aa6b9",
   "metadata": {},
   "source": [
    "### Define Functions\n",
    "The functions below provide modularity and reusability."
   ]
  },
  {
   "cell_type": "code",
   "execution_count": 16,
   "id": "9ddffaf3",
   "metadata": {},
   "outputs": [],
   "source": [
    "def get_files(dog_class, img_path=DOG_IMAGES_PATH):\n",
    "    \"\"\"This function was implemented in assignment 1.\"\"\"\n",
    "    dir_path = os.path.join(img_path, dog_class)\n",
    "    if os.path.exists(dir_path):\n",
    "        files = [os.path.join(dir_path, file) for file in os.listdir(dir_path)]\n",
    "        return files\n",
    "    else:\n",
    "        print(f\"Directory {dir_path} does not exist.\")\n",
    "        return []"
   ]
  },
  {
   "cell_type": "code",
   "execution_count": 17,
   "id": "e8bd0ed1",
   "metadata": {},
   "outputs": [],
   "source": [
    "def load_images(file_paths):\n",
    "    \"\"\"Given image paths, load and vertically stack them using keras.\"\"\"\n",
    "    loaded_images = [image.img_to_array(image.load_img(file_path)) for file_path in file_paths]\n",
    "    return np.stack(loaded_images)"
   ]
  },
  {
   "cell_type": "code",
   "execution_count": 18,
   "id": "2795b7d3",
   "metadata": {},
   "outputs": [],
   "source": [
    "def prepare_data():\n",
    "    \"\"\"\n",
    "    This function prepares the image and label data for training. It was implemented in previous HWs.\n",
    "    - Labels are generated based on the class index.\n",
    "    - Images and labels are collected in lists which are then converted to NumPy arrays.\n",
    "    - Labels are also one-hot encoded.\n",
    "    \n",
    "    Returns:\n",
    "    - images (np.array): A NumPy array of loaded images.\n",
    "    - labels_one_hot (np.array): A NumPy array of one-hot encoded labels corresponding to the images.\n",
    "    \"\"\"\n",
    "    \n",
    "    dog_classes = os.listdir(DOG_IMAGES_PATH)\n",
    "    mapping = {f\"class{i+1}\": name for i, name in enumerate(dog_classes)}\n",
    "    images, labels = [], []\n",
    "    for i, class_name in enumerate(['class1', 'class2', 'class3', 'class4']):\n",
    "        class_images_paths = get_files(mapping[class_name])\n",
    "        class_images = load_images(class_images_paths)\n",
    "        class_labels = [i] * len(class_images)\n",
    "        images.extend(class_images)\n",
    "        labels.extend(class_labels)\n",
    "    return np.array(images), to_categorical(np.array(labels))"
   ]
  },
  {
   "cell_type": "code",
   "execution_count": 19,
   "id": "c2e5d110",
   "metadata": {},
   "outputs": [],
   "source": [
    "def build_model(kernel_size, input_shape):\n",
    "    \"\"\"\n",
    "    Builds a CNN model with a specified kernel size.\n",
    "    \n",
    "    Parameters:\n",
    "    - kernel_size (tuple): The dimensions of the convolutional kernel (e.g., (3, 3), (5, 5), etc.).\n",
    "    - input_shape (tuple): The dimensions of the input image (e.g., (28, 28, 3))\n",
    "    \n",
    "    Returns:\n",
    "    - model (tf.keras.models.Sequential): The constructed CNN model.\n",
    "    \n",
    "    The model architecture:\n",
    "    - Convolutional layer with 8 filters of the specified kernel size, and ReLU activation.\n",
    "    - MaxPooling layer with a 2x2 pool size.\n",
    "    - Flatten layer to convert the feature maps to a 1D tensor.\n",
    "    - Fully connected layer with 16 nodes and ReLU activation.\n",
    "    - Output layer with 4 nodes (for 4 classes) and softmax activation for multi-class classification.\n",
    "    \"\"\"\n",
    "    return models.Sequential([\n",
    "        layers.Conv2D(8, kernel_size=kernel_size, activation='relu', input_shape=input_shape),\n",
    "        layers.MaxPooling2D(pool_size=(2, 2)),\n",
    "        layers.Flatten(),\n",
    "        layers.Dense(16, activation='relu'),\n",
    "        layers.Dense(4, activation='softmax')\n",
    "    ])"
   ]
  },
  {
   "cell_type": "code",
   "execution_count": 20,
   "id": "f4ecda6c",
   "metadata": {},
   "outputs": [],
   "source": [
    "def train_model(model, x_train, y_train, batch_size, epochs, validation_split):\n",
    "    \n",
    "    model.compile(optimizer='adam', \n",
    "                  loss='categorical_crossentropy', \n",
    "                  metrics=['accuracy'])\n",
    "    \n",
    "    history = model.fit(x_train, y_train, batch_size=batch_size, \n",
    "                        epochs=epochs, validation_split=validation_split,\n",
    "                        verbose=0)\n",
    "    \n",
    "    return model, history"
   ]
  },
  {
   "cell_type": "code",
   "execution_count": 21,
   "id": "7778edcc",
   "metadata": {},
   "outputs": [],
   "source": [
    "def plot_learning_curves(history):\n",
    "    plt.figure(figsize=(10, 6))\n",
    "    plt.plot(history.history['accuracy'], label='Training Accuracy')\n",
    "    plt.plot(history.history['val_accuracy'], label='Validation Accuracy')\n",
    "    plt.title('Learning Curves')\n",
    "    plt.xlabel('Epochs')\n",
    "    plt.ylabel('Accuracy')\n",
    "    plt.legend()\n",
    "    plt.show()"
   ]
  },
  {
   "cell_type": "markdown",
   "id": "e40ae52e",
   "metadata": {},
   "source": [
    "### Data Preparation\n",
    "Prepare data for the CNN."
   ]
  },
  {
   "cell_type": "code",
   "execution_count": 22,
   "id": "1d436ed1",
   "metadata": {},
   "outputs": [],
   "source": [
    "# load dataset\n",
    "images, labels_one_hot = prepare_data()"
   ]
  },
  {
   "cell_type": "code",
   "execution_count": 23,
   "id": "062cbd7f",
   "metadata": {},
   "outputs": [
    {
     "data": {
      "text/plain": [
       "(array([1., 0., 0., 0.], dtype=float32),\n",
       " array([0., 1., 0., 0.], dtype=float32),\n",
       " array([0., 0., 1., 0.], dtype=float32),\n",
       " array([0., 0., 0., 1.], dtype=float32))"
      ]
     },
     "execution_count": 23,
     "metadata": {},
     "output_type": "execute_result"
    }
   ],
   "source": [
    "labels_one_hot[0], labels_one_hot[200], labels_one_hot[450], labels_one_hot[650]"
   ]
  },
  {
   "cell_type": "code",
   "execution_count": 24,
   "id": "c2c3a9da",
   "metadata": {},
   "outputs": [],
   "source": [
    "# convert one-hot encoding back to class labels if needed\n",
    "labels = np.argmax(labels_one_hot, axis=1)"
   ]
  },
  {
   "cell_type": "code",
   "execution_count": 25,
   "id": "ed7aaa9f",
   "metadata": {},
   "outputs": [
    {
     "data": {
      "text/plain": [
       "(0, 1, 2, 3)"
      ]
     },
     "execution_count": 25,
     "metadata": {},
     "output_type": "execute_result"
    }
   ],
   "source": [
    "labels[0], labels[200], labels[450], labels[650]"
   ]
  },
  {
   "cell_type": "code",
   "execution_count": 26,
   "id": "b32dbb55",
   "metadata": {},
   "outputs": [],
   "source": [
    "# split the data into training and test datasets\n",
    "train_images, test_images, train_labels, test_labels = train_test_split(\n",
    "    images, labels, test_size=0.2, random_state=42)  # 20% for testing\n",
    "\n",
    "# # for a validation set, split the train_images further\n",
    "# train_images, val_images, train_labels, val_labels = train_test_split(\n",
    "#     train_images, train_labels, test_size=0.25, random_state=42)  # 0.25 x 0.8 = 20% of the original set for validation"
   ]
  },
  {
   "cell_type": "code",
   "execution_count": 27,
   "id": "2dfa2a9a",
   "metadata": {},
   "outputs": [],
   "source": [
    "# scale images to [0, 1] range\n",
    "train_images = train_images.astype(\"float32\") / 255\n",
    "test_images = test_images.astype(\"float32\") / 255"
   ]
  },
  {
   "cell_type": "code",
   "execution_count": 28,
   "id": "898c3584",
   "metadata": {},
   "outputs": [
    {
     "name": "stdout",
     "output_type": "stream",
     "text": [
      "train_images shape: (557, 100, 100, 3)\n",
      "557 train samples\n",
      "140 test samples\n"
     ]
    }
   ],
   "source": [
    "print(f\"train_images shape: {train_images.shape}\")\n",
    "print(f\"{train_images.shape[0]} train samples\")\n",
    "print(f\"{test_images.shape[0]} test samples\")"
   ]
  },
  {
   "cell_type": "code",
   "execution_count": 29,
   "id": "71200860",
   "metadata": {},
   "outputs": [],
   "source": [
    "# convert class labels back to one-hot encoding for training\n",
    "train_labels_one_hot = to_categorical(train_labels)\n",
    "test_labels_one_hot = to_categorical(test_labels)"
   ]
  },
  {
   "cell_type": "markdown",
   "id": "d48438b4",
   "metadata": {},
   "source": [
    "### Build and Train Model"
   ]
  },
  {
   "cell_type": "code",
   "execution_count": 30,
   "id": "65550b00",
   "metadata": {},
   "outputs": [
    {
     "name": "stdout",
     "output_type": "stream",
     "text": [
      "(100, 100, 3)\n"
     ]
    }
   ],
   "source": [
    "kernel3 = (3, 3)\n",
    "input_shape = (images.shape[1], images.shape[2], images.shape[3])\n",
    "print(input_shape)"
   ]
  },
  {
   "cell_type": "code",
   "execution_count": 31,
   "id": "425a93eb",
   "metadata": {},
   "outputs": [
    {
     "name": "stdout",
     "output_type": "stream",
     "text": [
      "Model: \"sequential\"\n",
      "_________________________________________________________________\n",
      " Layer (type)                Output Shape              Param #   \n",
      "=================================================================\n",
      " conv2d (Conv2D)             (None, 98, 98, 8)         224       \n",
      "                                                                 \n",
      " max_pooling2d (MaxPooling2  (None, 49, 49, 8)         0         \n",
      " D)                                                              \n",
      "                                                                 \n",
      " flatten (Flatten)           (None, 19208)             0         \n",
      "                                                                 \n",
      " dense (Dense)               (None, 16)                307344    \n",
      "                                                                 \n",
      " dense_1 (Dense)             (None, 4)                 68        \n",
      "                                                                 \n",
      "=================================================================\n",
      "Total params: 307636 (1.17 MB)\n",
      "Trainable params: 307636 (1.17 MB)\n",
      "Non-trainable params: 0 (0.00 Byte)\n",
      "_________________________________________________________________\n"
     ]
    }
   ],
   "source": [
    "model = build_model(kernel3, input_shape)\n",
    "model.summary()"
   ]
  },
  {
   "cell_type": "code",
   "execution_count": 32,
   "id": "61ee11b1",
   "metadata": {},
   "outputs": [],
   "source": [
    "BATCH_SIZE = 64\n",
    "EPOCHS = 30\n",
    "VALIDATION_SPLIT = 0.2"
   ]
  },
  {
   "cell_type": "code",
   "execution_count": 33,
   "id": "703e5709",
   "metadata": {
    "scrolled": false
   },
   "outputs": [],
   "source": [
    "model3, history3 = train_model(model,train_images, train_labels_one_hot, \n",
    "                               batch_size=BATCH_SIZE, epochs=EPOCHS, \n",
    "                               validation_split=VALIDATION_SPLIT)"
   ]
  },
  {
   "cell_type": "code",
   "execution_count": 34,
   "id": "1a7f545b",
   "metadata": {},
   "outputs": [
    {
     "data": {
      "image/png": "[encoded data removed]",
      "text/plain": [
       "<Figure size 1000x600 with 1 Axes>"
      ]
     },
     "metadata": {},
     "output_type": "display_data"
    }
   ],
   "source": [
    "plot_learning_curves(history3)"
   ]
  },
  {
   "cell_type": "code",
   "execution_count": 35,
   "id": "3d3e87c8",
   "metadata": {},
   "outputs": [
    {
     "name": "stdout",
     "output_type": "stream",
     "text": [
      "Test loss: 1.0838483572006226\n",
      "Test accuracy: 0.6214285492897034\n"
     ]
    }
   ],
   "source": [
    "score = model3.evaluate(test_images, test_labels_one_hot, verbose=0)\n",
    "print(\"Test loss:\", score[0])\n",
    "print(\"Test accuracy:\", score[1])"
   ]
  },
  {
   "cell_type": "markdown",
   "id": "8dda8359",
   "metadata": {},
   "source": [
    "Train the CNN using 2 other filter sizes: 5 × 5 and 7 × 7 for the convolution layer (i) with all\n",
    "other parameters unchanged"
   ]
  },
  {
   "cell_type": "code",
   "execution_count": 36,
   "id": "a6fcf83f",
   "metadata": {},
   "outputs": [],
   "source": [
    "kernel5 = (5, 5)\n",
    "model = build_model(kernel5, input_shape)"
   ]
  },
  {
   "cell_type": "code",
   "execution_count": 37,
   "id": "a051286e",
   "metadata": {},
   "outputs": [],
   "source": [
    "model5, history5 = train_model(model, train_images, train_labels_one_hot, \n",
    "                               batch_size=BATCH_SIZE, epochs=EPOCHS, \n",
    "                               validation_split=VALIDATION_SPLIT)"
   ]
  },
  {
   "cell_type": "code",
   "execution_count": 40,
   "id": "f0187852",
   "metadata": {},
   "outputs": [
    {
     "data": {
      "image/png": "[encoded data removed]",
      "text/plain": [
       "<Figure size 1000x600 with 1 Axes>"
      ]
     },
     "metadata": {},
     "output_type": "display_data"
    }
   ],
   "source": [
    "plot_learning_curves(history5)"
   ]
  },
  {
   "cell_type": "code",
   "execution_count": 41,
   "id": "dd570376",
   "metadata": {},
   "outputs": [
    {
     "name": "stdout",
     "output_type": "stream",
     "text": [
      "Test loss: 1.1769672632217407\n",
      "Test accuracy: 0.6071428656578064\n"
     ]
    }
   ],
   "source": [
    "score = model5.evaluate(test_images, test_labels_one_hot, verbose=0)\n",
    "print(\"Test loss:\", score[0])\n",
    "print(\"Test accuracy:\", score[1])"
   ]
  },
  {
   "cell_type": "code",
   "execution_count": 40,
   "id": "5c11f67c",
   "metadata": {},
   "outputs": [],
   "source": [
    "kernel7 = (7, 7)\n",
    "model = build_model(kernel7, input_shape)"
   ]
  },
  {
   "cell_type": "code",
   "execution_count": 41,
   "id": "3ca73b27",
   "metadata": {},
   "outputs": [],
   "source": [
    "model7, history7 = train_model(model, train_images, train_labels_one_hot, \n",
    "                               batch_size=BATCH_SIZE, epochs=EPOCHS, \n",
    "                               validation_split=VALIDATION_SPLIT)"
   ]
  },
  {
   "cell_type": "code",
   "execution_count": 42,
   "id": "f784f0d7",
   "metadata": {},
   "outputs": [
    {
     "data": {
      "image/png": "[encoded data removed]",
      "text/plain": [
       "<Figure size 1000x600 with 1 Axes>"
      ]
     },
     "metadata": {},
     "output_type": "display_data"
    }
   ],
   "source": [
    "plot_learning_curves(history7)"
   ]
  },
  {
   "cell_type": "code",
   "execution_count": 43,
   "id": "ef1e463d",
   "metadata": {
    "scrolled": true
   },
   "outputs": [
    {
     "name": "stdout",
     "output_type": "stream",
     "text": [
      "Test loss: 1.4322681427001953\n",
      "Test accuracy: 0.5714285969734192\n"
     ]
    }
   ],
   "source": [
    "score = model7.evaluate(test_images, test_labels_one_hot, verbose=0)\n",
    "print(\"Test loss:\", score[0])\n",
    "print(\"Test accuracy:\", score[1])"
   ]
  },
  {
   "cell_type": "markdown",
   "id": "f2084002",
   "metadata": {},
   "source": [
    "**OBSERVATIONS:** \n",
    "Each model's training accuracy reaches $1$ over the 30 epochs. However, the test accuracy for each model is:\n",
    "- (a) The original model (kernel size $3 \\times 3$) had test accuracy $= 0.6214$.\n",
    "- (b) The model with kernel size $5 \\times 5$ had test accuracy $= 0.6071$.\n",
    "- (c) The model with kernel size $7 \\times 7$ had test accuracy $= 0.5714$.\n",
    "\n",
    "This shows that the models perform extremely well on the training data, but poorly on the test data - which is a sign of overfitting to the training data. However, model (a) with the kernel size $3 \\times 3$ shows less overfitting and higher test accuracy in comparison to the other two models and is just the right architecture.\n",
    "\n",
    "The CNN implementation almost doubles the test accuracy from the previous implementations using KNN, NN, and RandomForest which were roughly around 30-40% on the test data."
   ]
  }
 ],
 "metadata": {
  "kernelspec": {
   "display_name": "Data Mining (venv)",
   "language": "python",
   "name": "venv"
  },
  "language_info": {
   "codemirror_mode": {
    "name": "ipython",
    "version": 3
   },
   "file_extension": ".py",
   "mimetype": "text/x-python",
   "name": "python",
   "nbconvert_exporter": "python",
   "pygments_lexer": "ipython3",
   "version": "3.11.0"
  }
 },
 "nbformat": 4,
 "nbformat_minor": 5
}
