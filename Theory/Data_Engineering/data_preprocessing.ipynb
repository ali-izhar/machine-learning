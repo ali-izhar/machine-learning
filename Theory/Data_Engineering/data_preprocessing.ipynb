{
 "cells": [
  {
   "cell_type": "markdown",
   "id": "c34761b0",
   "metadata": {},
   "source": [
    "# Data Preprocessing\n",
    "Data preprocessing is the process of cleaning, transforming, and organizing a dataset in order to prepare it for data analysis and modeling. It aims to improve the quality, integrity, and reliability of the data, and addresses issues such as missing values, noisy data, outliers, and incompatible data formats.\n",
    "\n",
    "\"Garbage in, garbage out\" is a known phrase in data science, which expresses the idea that the quality of the results of a model is determined by the quality of its inputs. The more informative and less noisy the data is, the better the model will be able to learn the underlying patterns or relationships in the data and generalize to new unseen data.\n",
    "\n",
    "## Data Preprocessing Tasks\n",
    "The main tasks involved in data preprocessing are:\n",
    "- Data cleaning\n",
    "- Handling missing data\n",
    "- Encoding categorical data\n",
    "- Detecting and handling outliers\n",
    "- Handling skewed data\n",
    "- Discretization\n",
    "- Scaling and normalization\n",
    "\n",
    "Feature selection and extraction are considered separate steps from data preprocessing, although there can be some overlap between them.\n",
    "\n",
    "The main modules in Scikit-Learn that are used for data preprocessing are:\n",
    "- `sklearn.preprocessing` provides various transformers for scaling, normalization, encoding features, and discretization.\n",
    "- `sklearn.impute` provides transformers for imputing missing values."
   ]
  },
  {
   "cell_type": "code",
   "execution_count": null,
   "id": "8e03428a",
   "metadata": {},
   "outputs": [],
   "source": []
  },
  {
   "cell_type": "code",
   "execution_count": null,
   "id": "7844e5b8",
   "metadata": {},
   "outputs": [],
   "source": []
  },
  {
   "cell_type": "code",
   "execution_count": null,
   "id": "3d03b815",
   "metadata": {},
   "outputs": [],
   "source": []
  },
  {
   "cell_type": "code",
   "execution_count": null,
   "id": "b5f468e3",
   "metadata": {},
   "outputs": [],
   "source": []
  }
 ],
 "metadata": {
  "kernelspec": {
   "display_name": "Data Mining (venv)",
   "language": "python",
   "name": "venv"
  },
  "language_info": {
   "codemirror_mode": {
    "name": "ipython",
    "version": 3
   },
   "file_extension": ".py",
   "mimetype": "text/x-python",
   "name": "python",
   "nbconvert_exporter": "python",
   "pygments_lexer": "ipython3",
   "version": "3.11.0"
  }
 },
 "nbformat": 4,
 "nbformat_minor": 5
}
