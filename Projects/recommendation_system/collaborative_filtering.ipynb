{
 "cells": [
  {
   "cell_type": "markdown",
   "id": "00e6b889",
   "metadata": {},
   "source": [
    "# Collaborative Filtering Recommender System for Movie Recommendations"
   ]
  },
  {
   "cell_type": "code",
   "execution_count": null,
   "id": "8d6aaedb",
   "metadata": {},
   "outputs": [],
   "source": [
    "import numpy as np\n",
    "import pandas as pd\n",
    "from scipy.optimize import minimize"
   ]
  },
  {
   "cell_type": "markdown",
   "id": "6a34efc3",
   "metadata": {},
   "source": [
    "## Data Loading"
   ]
  },
  {
   "cell_type": "code",
   "execution_count": null,
   "id": "7663bd9d",
   "metadata": {},
   "outputs": [],
   "source": [
    "movies = pd.read_csv('movies.csv')\n",
    "ratings = pd.read_csv('ratings.csv')"
   ]
  },
  {
   "cell_type": "markdown",
   "id": "c71fd270",
   "metadata": {},
   "source": [
    "## Data Exploration"
   ]
  },
  {
   "cell_type": "code",
   "execution_count": null,
   "id": "ed7b71c6",
   "metadata": {},
   "outputs": [],
   "source": [
    "movies.head()\n",
    "ratings.head()"
   ]
  },
  {
   "cell_type": "markdown",
   "id": "daa4d91d",
   "metadata": {},
   "source": [
    "## Collaborative Filtering"
   ]
  },
  {
   "cell_type": "code",
   "execution_count": null,
   "id": "015d6fec",
   "metadata": {},
   "outputs": [],
   "source": [
    "def collaborative_filtering_cost(params, Y, R, num_users, num_movies, num_features, lambda_):\n",
    "    ..."
   ]
  },
  {
   "cell_type": "code",
   "execution_count": null,
   "id": "1257e4b9",
   "metadata": {},
   "outputs": [],
   "source": [
    "def collaborative_filtering_gradient(params, Y, R, num_users, num_movies, num_features, lambda_):\n",
    "    ..."
   ]
  },
  {
   "cell_type": "markdown",
   "id": "47524fd0",
   "metadata": {},
   "source": [
    "## Normalize Ratings\n",
    "Normalize the ratings to ensure that the optimization procedure works better."
   ]
  },
  {
   "cell_type": "code",
   "execution_count": null,
   "id": "d8a9500f",
   "metadata": {},
   "outputs": [],
   "source": [
    "def normalize_ratings(Y, R):\n",
    "    ..."
   ]
  },
  {
   "cell_type": "markdown",
   "id": "c5100ab4",
   "metadata": {},
   "source": [
    "## Training Collaborative Filtering\n",
    "Here, you'll initialize parameters and optimize (train) them."
   ]
  },
  {
   "cell_type": "code",
   "execution_count": null,
   "id": "629668ec",
   "metadata": {},
   "outputs": [],
   "source": [
    "# Initialize parameters\n",
    "X = np.random.randn(num_movies, num_features)\n",
    "Theta = np.random.randn(num_users, num_features)\n",
    "\n",
    "initial_parameters = np.concatenate([X.ravel(), Theta.ravel()])\n",
    "\n",
    "# Optimize\n",
    "result = minimize(fun=collaborative_filtering_cost, x0=initial_parameters, \n",
    "                  args=(Y, R, num_users, num_movies, num_features, lambda_),\n",
    "                  method='TNC', jac=collaborative_filtering_gradient)\n"
   ]
  },
  {
   "cell_type": "markdown",
   "id": "86bee4ac",
   "metadata": {},
   "source": [
    "## Making Predictions\n",
    "After training, make movie recommendations for users."
   ]
  },
  {
   "cell_type": "code",
   "execution_count": null,
   "id": "a9c0f46a",
   "metadata": {},
   "outputs": [],
   "source": [
    "# Reshape the trained output for predictions\n",
    "X_trained = result.x[:num_movies*num_features].reshape(num_movies, num_features)\n",
    "Theta_trained = result.x[num_movies*num_features:].reshape(num_users, num_features)\n",
    "\n",
    "# Predict ratings\n",
    "predictions = X_trained.dot(Theta_trained.T)\n"
   ]
  },
  {
   "cell_type": "markdown",
   "id": "e18dd4d7",
   "metadata": {},
   "source": [
    "## Recommendations for a Sample User\n",
    "Pick a user and display the movies with the highest predicted ratings that the user hasn't rated yet."
   ]
  },
  {
   "cell_type": "code",
   "execution_count": null,
   "id": "84f1527c",
   "metadata": {},
   "outputs": [],
   "source": [
    "user_id = 0  # Sample user\n",
    "user_ratings = Y[user_id, :]\n",
    "predicted_ratings = predictions[:, user_id]\n",
    "unrated_movie_idx = np.where(user_ratings == 0)[0]\n",
    "\n",
    "# Get top 10 recommended movies for this user\n",
    "top_movie_idx = unrated_movie_idx[np.argsort(predicted_ratings[unrated_movie_idx])[-10:]]\n",
    "recommended_movies = movies.iloc[top_movie_idx]\n",
    "\n",
    "print(recommended_movies)\n"
   ]
  },
  {
   "cell_type": "code",
   "execution_count": null,
   "id": "527b1cb3",
   "metadata": {},
   "outputs": [],
   "source": []
  },
  {
   "cell_type": "code",
   "execution_count": null,
   "id": "aefe89f2",
   "metadata": {},
   "outputs": [],
   "source": []
  },
  {
   "cell_type": "code",
   "execution_count": null,
   "id": "8d914c6b",
   "metadata": {},
   "outputs": [],
   "source": []
  },
  {
   "cell_type": "code",
   "execution_count": null,
   "id": "9b72f176",
   "metadata": {},
   "outputs": [],
   "source": []
  }
 ],
 "metadata": {
  "kernelspec": {
   "display_name": "venv",
   "language": "python",
   "name": "venv"
  },
  "language_info": {
   "codemirror_mode": {
    "name": "ipython",
    "version": 3
   },
   "file_extension": ".py",
   "mimetype": "text/x-python",
   "name": "python",
   "nbconvert_exporter": "python",
   "pygments_lexer": "ipython3",
   "version": "3.11.0"
  }
 },
 "nbformat": 4,
 "nbformat_minor": 5
}
