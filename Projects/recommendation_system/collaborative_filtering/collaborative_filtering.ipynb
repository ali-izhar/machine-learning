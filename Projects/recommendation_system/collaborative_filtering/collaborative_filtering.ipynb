{
 "cells": [
  {
   "cell_type": "markdown",
   "id": "00e6b889",
   "metadata": {},
   "source": [
    "# Collaborative Filtering Recommender System for Movie Recommendations\n",
    "\n",
    "Collaborative filtering (CF) is a popular technique used in recommendation systems. It operates under the assumption that if two users agree on one issue, they will likely agree on others as well. In the context of movie recommendations, if two users both liked certain movies, they are likely to share similar tastes in other movies as well.\n",
    "\n",
    "There are two primary types of collaborative filtering:\n",
    "\n",
    "1. **User-Based CF**: This method finds users that are similar to the targeted user and recommends items based on what those similar users liked.\n",
    "2. **Item-Based CF**: Instead of looking at user similarities, this approach finds similarities between items. So if a user liked a particular item, other items that are similar to it will be recommended.\n",
    "\n",
    "## Why use Collaborative Filtering?\n",
    "\n",
    "1. **Personalization**: Collaborative filtering offers a personalized user experience. Each user gets recommendations based on their unique tastes and preferences.\n",
    "2. **Scalability**: Modern collaborative filtering methods can handle large datasets efficiently, making them ideal for today's internet-scale applications.\n",
    "3. **No need for item metadata**: Unlike content-based recommendation systems, CF doesn't require any information about the items. It works purely based on user-item interactions.\n",
    "4. **Adaptability**: Collaborative filtering models can adapt over time. As more users interact with items, the system becomes more refined and accurate."
   ]
  },
  {
   "cell_type": "markdown",
   "id": "2f0e4328",
   "metadata": {},
   "source": [
    "## Notation\n",
    "|General <br />  Notation  | Description| Python (if any) |\n",
    "|:-------------|:------------------------------------------------------------||\n",
    "| $r(i,j)$     | scalar; = 1  if user j rated movie i,  = 0  otherwise             ||\n",
    "| $y(i,j)$     | scalar; = rating given by user j on movie  i    (if r(i,j) = 1 is defined) ||\n",
    "|$\\mathbf{w}^{(j)}$ | vector; parameters for user j ||\n",
    "|$b^{(j)}$     |  scalar; parameter for user j ||\n",
    "| $\\mathbf{x}^{(i)}$ |   vector; feature ratings for movie i        ||     \n",
    "| $n_u$        | number of users |num_users|\n",
    "| $n_m$        | number of movies | num_movies |\n",
    "| $n$          | number of features | num_features                    |\n",
    "| $\\mathbf{X}$ |  matrix of vectors $\\mathbf{x}^{(i)}$         | X |\n",
    "| $\\mathbf{W}$ |  matrix of vectors $\\mathbf{w}^{(j)}$         | W |\n",
    "| $\\mathbf{b}$ |  vector of bias parameters $b^{(j)}$ | b |\n",
    "| $\\mathbf{R}$ | matrix of elements $r(i,j)$                    | R |"
   ]
  },
  {
   "cell_type": "code",
   "execution_count": 37,
   "id": "8d6aaedb",
   "metadata": {},
   "outputs": [],
   "source": [
    "import numpy as np\n",
    "import pandas as pd\n",
    "import tensorflow as tf\n",
    "from tensorflow import keras"
   ]
  },
  {
   "cell_type": "markdown",
   "id": "6a34efc3",
   "metadata": {},
   "source": [
    "## Data Loading"
   ]
  },
  {
   "cell_type": "markdown",
   "id": "af812e19",
   "metadata": {},
   "source": [
    "The data set is derived from the [MovieLens \"ml-latest-small\"](https://grouplens.org/datasets/movielens/latest/) dataset. We need to perform some preprocessing to reshape the data into the expected format for collaborative filtering.\n",
    "\n",
    "**Preprocess the Data:**\n",
    "- Create a user-movie matrix Y from ratings.csv, where Y[i, j] is the rating by user j for movie i. If a movie hasn't been rated by a user, fill it with 0.\n",
    "- Create a matrix R from ratings.csv, where R[i, j] is 1 if movie i has been rated by user j, and 0 otherwise."
   ]
  },
  {
   "cell_type": "code",
   "execution_count": 7,
   "id": "7663bd9d",
   "metadata": {},
   "outputs": [],
   "source": [
    "def load_movielens_data(movies_path, ratings_path):\n",
    "    movies = pd.read_csv(movies_path)\n",
    "    ratings = pd.read_csv(ratings_path)\n",
    "    \n",
    "    # Create a user-movie matrix\n",
    "    # Each row corresponds to a movie, Each column corresponds to a user.\n",
    "    Y = ratings.pivot(index='movieId', columns='userId', values='rating').fillna(0).values\n",
    "    \n",
    "    # Create R matrix\n",
    "    R = Y.copy()\n",
    "    R[R > 0] = 1\n",
    "    \n",
    "    return Y, R"
   ]
  },
  {
   "cell_type": "code",
   "execution_count": 8,
   "id": "1c18c448",
   "metadata": {},
   "outputs": [],
   "source": [
    "def initialize_parameters(num_movies, num_users, num_features):\n",
    "    # Initialize movie features matrix X\n",
    "    X = np.random.randn(num_movies, num_features) * 0.01\n",
    "\n",
    "    # Initialize user features matrix W\n",
    "    W = np.random.randn(num_users, num_features) * 0.01\n",
    "\n",
    "    # Initialize user biases b\n",
    "    b = np.zeros((1, num_users))\n",
    "    \n",
    "    return X, W, b"
   ]
  },
  {
   "cell_type": "code",
   "execution_count": 9,
   "id": "25fd4734",
   "metadata": {},
   "outputs": [],
   "source": [
    "Y, R = load_movielens_data('data/movies.csv', 'data/ratings.csv')"
   ]
  },
  {
   "cell_type": "code",
   "execution_count": 10,
   "id": "6e84bdf1",
   "metadata": {},
   "outputs": [],
   "source": [
    "num_movies, num_users = Y.shape\n",
    "num_features = 10  # or any other value depending on your needs\n",
    "\n",
    "# Initialize X, W, and b\n",
    "X, W, b = initialize_parameters(num_movies, num_users, num_features)"
   ]
  },
  {
   "cell_type": "markdown",
   "id": "3044a493",
   "metadata": {},
   "source": [
    "## Data Exploration"
   ]
  },
  {
   "cell_type": "code",
   "execution_count": 11,
   "id": "e6277a02",
   "metadata": {},
   "outputs": [
    {
     "name": "stdout",
     "output_type": "stream",
     "text": [
      "Y (9724, 610) R (9724, 610)\n",
      "X (9724, 10)\n",
      "W (610, 10)\n",
      "b (1, 610)\n",
      "num_features 10\n",
      "num_movies 9724\n",
      "num_users 610\n"
     ]
    }
   ],
   "source": [
    "print(\"Y\", Y.shape, \"R\", R.shape)\n",
    "print(\"X\", X.shape)\n",
    "print(\"W\", W.shape)\n",
    "print(\"b\", b.shape)\n",
    "print(\"num_features\", num_features)\n",
    "print(\"num_movies\",   num_movies)\n",
    "print(\"num_users\",    num_users)"
   ]
  },
  {
   "cell_type": "markdown",
   "id": "daa4d91d",
   "metadata": {},
   "source": [
    "## Collaborative Filtering Learning Algorithm\n",
    "The collaborative filtering algorithm in the setting of movie recommendations considers a set of $n$-dimensional parameter vectors $\\mathbf{x}^{(0)},...,\\mathbf{x}^{(n_m-1)}$, $\\mathbf{w}^{(0)},...,\\mathbf{w}^{(n_u-1)}$ and $b^{(0)},...,b^{(n_u-1)}$, where the model predicts the rating for movie $i$ by user $j$ as $y^{(i,j)} = \\mathbf{w}^{(j)}\\cdot \\mathbf{x}^{(i)} + b^{(j)}$ . Given a dataset that consists of a set of ratings produced by some users on some movies, we wish to learn the parameter vectors $\\mathbf{x}^{(0)},...,\\mathbf{x}^{(n_m-1)}, \\mathbf{w}^{(0)},...,\\mathbf{w}^{(n_u-1)}$  and $b^{(0)},...,b^{(n_u-1)}$ that produce the best fit (minimizes the squared error)."
   ]
  },
  {
   "cell_type": "markdown",
   "id": "913e4b31",
   "metadata": {},
   "source": [
    "### 4.1 Collaborative filtering cost function\n",
    "\n",
    "The collaborative filtering cost function is given by\n",
    "$$J({\\mathbf{x}^{(0)},...,\\mathbf{x}^{(n_m-1)},\\mathbf{w}^{(0)},b^{(0)},...,\\mathbf{w}^{(n_u-1)},b^{(n_u-1)}})= \\left[ \\frac{1}{2}\\sum_{(i,j):r(i,j)=1}(\\mathbf{w}^{(j)} \\cdot \\mathbf{x}^{(i)} + b^{(j)} - y^{(i,j)})^2 \\right]\n",
    "+ \\underbrace{\\left[\n",
    "\\frac{\\lambda}{2}\n",
    "\\sum_{j=0}^{n_u-1}\\sum_{k=0}^{n-1}(\\mathbf{w}^{(j)}_k)^2\n",
    "+ \\frac{\\lambda}{2}\\sum_{i=0}^{n_m-1}\\sum_{k=0}^{n-1}(\\mathbf{x}_k^{(i)})^2\n",
    "\\right]}_{regularization}\n",
    "\\tag{1}$$\n",
    "\n",
    "The first summation in (1) is \"for all $i$, $j$ where $r(i,j)$ equals $1$\" and could be written:\n",
    "\n",
    "$$\n",
    "= \\left[ \\frac{1}{2}\\sum_{j=0}^{n_u-1} \\sum_{i=0}^{n_m-1}r(i,j)*(\\mathbf{w}^{(j)} \\cdot \\mathbf{x}^{(i)} + b^{(j)} - y^{(i,j)})^2 \\right]\n",
    "+\\text{regularization}\n",
    "$$"
   ]
  },
  {
   "cell_type": "code",
   "execution_count": 12,
   "id": "015d6fec",
   "metadata": {},
   "outputs": [],
   "source": [
    "def collaborative_filtering_cost(X, W, b, Y, R, lambda_):\n",
    "    \"\"\"\n",
    "    Returns the cost for the collaborative-based filtering\n",
    "    Vectorized for speed. Uses tensorflow operations to be compatible with custom training loop.\n",
    "    Args:\n",
    "      X (ndarray (num_movies,num_features)): matrix of item features\n",
    "      W (ndarray (num_users,num_features)) : matrix of user parameters\n",
    "      b (ndarray (1, num_users)            : vector of user parameters\n",
    "      Y (ndarray (num_movies,num_users)    : matrix of user ratings of movies\n",
    "      R (ndarray (num_movies,num_users)    : matrix, where R(i, j) = 1 if the i-th movies was rated by the j-th user\n",
    "      lambda_ (float): regularization parameter\n",
    "    Returns:\n",
    "      J (float) : Cost\n",
    "    \"\"\"\n",
    "    j = (tf.linalg.matmul(X, tf.transpose(W)) + b - Y)*R\n",
    "    J = 0.5 * tf.reduce_sum(j**2) + (lambda_/2) * (tf.reduce_sum(X**2) + tf.reduce_sum(W**2))\n",
    "    return J"
   ]
  },
  {
   "cell_type": "code",
   "execution_count": null,
   "id": "20c5ca44",
   "metadata": {},
   "outputs": [],
   "source": [
    "# def collaborative_filtering_cost(X, W, b, Y, R, lambda_):\n",
    "#     \"\"\"\n",
    "#     For loop implementation.\n",
    "#     \"\"\"\n",
    "#     nm, nu = Y.shape\n",
    "#     J = 0\n",
    "\n",
    "#     for i in range(nm):\n",
    "#         for j in range(nu):\n",
    "#             if R[i, j] == 1:\n",
    "#                 J += (np.dot(W[j, :], X[i, :]) + b[0, j] - Y[i, j]) ** 2\n",
    "    \n",
    "#     J /= 2\n",
    "#     reg_term = (lambda_ / 2) * (np.sum(W**2) + np.sum(X**2))\n",
    "#     J += reg_term\n",
    "    \n",
    "#     return J"
   ]
  },
  {
   "cell_type": "markdown",
   "id": "3cfab41c",
   "metadata": {},
   "source": [
    "## Learning Movie Recommendations"
   ]
  },
  {
   "cell_type": "code",
   "execution_count": 25,
   "id": "17bcabfd",
   "metadata": {},
   "outputs": [],
   "source": [
    "def load_movie_list_pd(n=None):\n",
    "    \"\"\" \n",
    "    Returns a list and a dataframe with an index of movies. \n",
    "    If n is provided, it loads only n random movies.\n",
    "    \"\"\"\n",
    "    df = pd.read_csv('data/movies.csv', usecols=['movieId', 'title'], index_col='movieId')\n",
    "    \n",
    "    # If n is specified, sample n random rows from the dataframe\n",
    "    if n:\n",
    "        df = df.sample(n)\n",
    "    \n",
    "    mlist = df[\"title\"].to_list()\n",
    "    return mlist, df"
   ]
  },
  {
   "cell_type": "code",
   "execution_count": 26,
   "id": "44045051",
   "metadata": {},
   "outputs": [],
   "source": [
    "movie_list, movie_list_df = load_movie_list_pd(20)"
   ]
  },
  {
   "cell_type": "code",
   "execution_count": 27,
   "id": "4ee6fd75",
   "metadata": {},
   "outputs": [
    {
     "data": {
      "text/html": [
       "<div>\n",
       "<style scoped>\n",
       "    .dataframe tbody tr th:only-of-type {\n",
       "        vertical-align: middle;\n",
       "    }\n",
       "\n",
       "    .dataframe tbody tr th {\n",
       "        vertical-align: top;\n",
       "    }\n",
       "\n",
       "    .dataframe thead th {\n",
       "        text-align: right;\n",
       "    }\n",
       "</style>\n",
       "<table border=\"1\" class=\"dataframe\">\n",
       "  <thead>\n",
       "    <tr style=\"text-align: right;\">\n",
       "      <th></th>\n",
       "      <th>title</th>\n",
       "    </tr>\n",
       "    <tr>\n",
       "      <th>movieId</th>\n",
       "      <th></th>\n",
       "    </tr>\n",
       "  </thead>\n",
       "  <tbody>\n",
       "    <tr>\n",
       "      <th>25795</th>\n",
       "      <td>Dinner at Eight (1933)</td>\n",
       "    </tr>\n",
       "    <tr>\n",
       "      <th>26375</th>\n",
       "      <td>Silver Streak (1976)</td>\n",
       "    </tr>\n",
       "    <tr>\n",
       "      <th>7616</th>\n",
       "      <td>Body Double (1984)</td>\n",
       "    </tr>\n",
       "    <tr>\n",
       "      <th>61236</th>\n",
       "      <td>Waltz with Bashir (Vals im Bashir) (2008)</td>\n",
       "    </tr>\n",
       "    <tr>\n",
       "      <th>52241</th>\n",
       "      <td>Lookout, The (2007)</td>\n",
       "    </tr>\n",
       "    <tr>\n",
       "      <th>159858</th>\n",
       "      <td>The Conjuring 2 (2016)</td>\n",
       "    </tr>\n",
       "    <tr>\n",
       "      <th>91842</th>\n",
       "      <td>Contraband (2012)</td>\n",
       "    </tr>\n",
       "    <tr>\n",
       "      <th>31030</th>\n",
       "      <td>I Remember Mama (1948)</td>\n",
       "    </tr>\n",
       "    <tr>\n",
       "      <th>185029</th>\n",
       "      <td>A Quiet Place (2018)</td>\n",
       "    </tr>\n",
       "    <tr>\n",
       "      <th>165103</th>\n",
       "      <td>Keeping Up with the Joneses (2016)</td>\n",
       "    </tr>\n",
       "    <tr>\n",
       "      <th>4704</th>\n",
       "      <td>Hatari! (1962)</td>\n",
       "    </tr>\n",
       "    <tr>\n",
       "      <th>4866</th>\n",
       "      <td>Last Castle, The (2001)</td>\n",
       "    </tr>\n",
       "    <tr>\n",
       "      <th>3323</th>\n",
       "      <td>Chain of Fools (2000)</td>\n",
       "    </tr>\n",
       "    <tr>\n",
       "      <th>1150</th>\n",
       "      <td>Return of Martin Guerre, The (Retour de Martin...</td>\n",
       "    </tr>\n",
       "    <tr>\n",
       "      <th>2862</th>\n",
       "      <td>Caligula (1979)</td>\n",
       "    </tr>\n",
       "    <tr>\n",
       "      <th>3060</th>\n",
       "      <td>Commitments, The (1991)</td>\n",
       "    </tr>\n",
       "    <tr>\n",
       "      <th>3161</th>\n",
       "      <td>Onegin (1999)</td>\n",
       "    </tr>\n",
       "    <tr>\n",
       "      <th>134004</th>\n",
       "      <td>What Love Is (2007)</td>\n",
       "    </tr>\n",
       "    <tr>\n",
       "      <th>4975</th>\n",
       "      <td>Vanilla Sky (2001)</td>\n",
       "    </tr>\n",
       "    <tr>\n",
       "      <th>446</th>\n",
       "      <td>Farewell My Concubine (Ba wang bie ji) (1993)</td>\n",
       "    </tr>\n",
       "  </tbody>\n",
       "</table>\n",
       "</div>"
      ],
      "text/plain": [
       "                                                     title\n",
       "movieId                                                   \n",
       "25795                               Dinner at Eight (1933)\n",
       "26375                                 Silver Streak (1976)\n",
       "7616                                    Body Double (1984)\n",
       "61236            Waltz with Bashir (Vals im Bashir) (2008)\n",
       "52241                                  Lookout, The (2007)\n",
       "159858                              The Conjuring 2 (2016)\n",
       "91842                                    Contraband (2012)\n",
       "31030                               I Remember Mama (1948)\n",
       "185029                                A Quiet Place (2018)\n",
       "165103                  Keeping Up with the Joneses (2016)\n",
       "4704                                        Hatari! (1962)\n",
       "4866                               Last Castle, The (2001)\n",
       "3323                                 Chain of Fools (2000)\n",
       "1150     Return of Martin Guerre, The (Retour de Martin...\n",
       "2862                                       Caligula (1979)\n",
       "3060                               Commitments, The (1991)\n",
       "3161                                         Onegin (1999)\n",
       "134004                                 What Love Is (2007)\n",
       "4975                                    Vanilla Sky (2001)\n",
       "446          Farewell My Concubine (Ba wang bie ji) (1993)"
      ]
     },
     "execution_count": 27,
     "metadata": {},
     "output_type": "execute_result"
    }
   ],
   "source": [
    "movie_list_df"
   ]
  },
  {
   "cell_type": "code",
   "execution_count": 33,
   "id": "dad6aea0",
   "metadata": {},
   "outputs": [
    {
     "name": "stdout",
     "output_type": "stream",
     "text": [
      "\n",
      "New user ratings:\n",
      "\n",
      "Rated 5 for Dinner at Eight (1933)\n",
      "Rated 5 for Silver Streak (1976)\n",
      "Rated 4 for Body Double (1984)\n",
      "Rated 4 for Waltz with Bashir (Vals im Bashir) (2008)\n",
      "Rated 1 for Lookout, The (2007)\n",
      "Rated 5 for The Conjuring 2 (2016)\n",
      "Rated 5 for Contraband (2012)\n",
      "Rated 5 for I Remember Mama (1948)\n",
      "Rated 5 for A Quiet Place (2018)\n",
      "Rated 4 for Keeping Up with the Joneses (2016)\n",
      "Rated 5 for Hatari! (1962)\n",
      "Rated 4 for Last Castle, The (2001)\n",
      "Rated 4 for Chain of Fools (2000)\n",
      "Rated 5 for Return of Martin Guerre, The (Retour de Martin Guerre, Le) (1982)\n",
      "Rated 5 for Caligula (1979)\n",
      "Rated 5 for Commitments, The (1991)\n",
      "Rated 4 for Onegin (1999)\n",
      "Rated 1 for What Love Is (2007)\n",
      "Rated 4 for Vanilla Sky (2001)\n",
      "Rated 5 for Farewell My Concubine (Ba wang bie ji) (1993)\n"
     ]
    }
   ],
   "source": [
    "# Initialize the ratings with zeros for all movies\n",
    "my_ratings = np.zeros(num_movies)\n",
    "\n",
    "# Generate ratings, with a bias towards rating of 5\n",
    "ratings_choices = [1, 2, 3, 4, 5]\n",
    "weights = [0.1, 0.1, 0.1, 0.2, 0.5]  # Here, 50% chance for a 5 rating\n",
    "\n",
    "for idx, movie_id in enumerate(movie_list_df.index):\n",
    "    my_ratings[idx] = np.random.choice(ratings_choices, p=weights)\n",
    "\n",
    "# Now print the rated movies\n",
    "print('\\nNew user ratings:\\n')\n",
    "for idx, movie_id in enumerate(movie_list_df.index):\n",
    "    if my_ratings[idx] > 0:  # Only printing movies which got rated\n",
    "        print(f'Rated {int(my_ratings[idx])} for {movie_list_df.loc[movie_id, \"title\"]}')"
   ]
  },
  {
   "cell_type": "markdown",
   "id": "07fe123c",
   "metadata": {},
   "source": [
    "Now, let's add these reviews to $Y$ and $R$ and normalize the ratings."
   ]
  },
  {
   "cell_type": "markdown",
   "id": "81a810ef",
   "metadata": {},
   "source": [
    "## Normalize Ratings\n",
    "Normalize the ratings to ensure that the optimization procedure works better."
   ]
  },
  {
   "cell_type": "code",
   "execution_count": 34,
   "id": "a2f05f21",
   "metadata": {},
   "outputs": [],
   "source": [
    "def normalize_ratings(Y, R):\n",
    "    \"\"\"\n",
    "    Preprocess data by subtracting mean rating for every movie (every row). Only include real ratings R(i,j)=1.\n",
    "    [Ynorm, Ymean] = normalize_ratings(Y, R) normalized Y so that each movie has a rating of 0 on average. \n",
    "    Unrated moves then have a mean rating (0) \n",
    "    Returns the mean rating in Ymean.\n",
    "    \n",
    "    * Y*R: Multiplies the ratings matrix Y by the matrix R which indicates whether a movie was rated (R(i,j) = 1) \n",
    "        or not (R(i,j) = 0). This has the effect of \"zeroing-out\" unrated movies, making them not contribute to the sum.\n",
    "    * np.sum(Y*R, axis=1): Sum the ratings for each movie across all users.\n",
    "    * np.sum(R, axis=1): Count the number of ratings for each movie.\n",
    "    * The division computes the average (mean) rating for each movie.\n",
    "    * reshape(-1,1): Reshapes the resulting array into a column vector.\n",
    "    * 1e-12: A small number is added to the denominator to prevent division by zero.\n",
    "    \"\"\"\n",
    "    \n",
    "    Ymean = (np.sum(Y*R, axis=1)/(np.sum(R, axis=1)+1e-12)).reshape(-1,1)\n",
    "    Ynorm = Y - np.multiply(Ymean, R) \n",
    "    return(Ynorm, Ymean)"
   ]
  },
  {
   "cell_type": "code",
   "execution_count": 35,
   "id": "aec7f947",
   "metadata": {},
   "outputs": [],
   "source": [
    "# Reshape my_ratings to a 2D column vector\n",
    "my_ratings = np.array(my_ratings).reshape(-1, 1)\n",
    "\n",
    "# Add new user ratings to Y \n",
    "Y = np.hstack((my_ratings, Y))\n",
    "\n",
    "# Add new user indicator matrix to R\n",
    "R = np.hstack(((my_ratings != 0).astype(int), R))\n",
    "\n",
    "# Normalize the Dataset\n",
    "Ynorm, Ymean = normalize_ratings(Y, R)"
   ]
  },
  {
   "cell_type": "markdown",
   "id": "c5100ab4",
   "metadata": {},
   "source": [
    "## Training Collaborative Filtering"
   ]
  },
  {
   "cell_type": "code",
   "execution_count": 44,
   "id": "fc509637",
   "metadata": {},
   "outputs": [],
   "source": [
    "# Re-initialize varialbes since we added new ratings\n",
    "num_movies, num_users = Y.shape\n",
    "num_features = 100"
   ]
  },
  {
   "cell_type": "code",
   "execution_count": 45,
   "id": "5999f409",
   "metadata": {},
   "outputs": [],
   "source": [
    "tf.random.set_seed(1234)\n",
    "\n",
    "# Set Initial Parameters (W, X), use tf.Variable to track these variables\n",
    "W = tf.Variable(tf.random.normal((num_users,  num_features),dtype=tf.float64),  name='W')\n",
    "X = tf.Variable(tf.random.normal((num_movies, num_features),dtype=tf.float64),  name='X')\n",
    "b = tf.Variable(tf.random.normal((1,          num_users),   dtype=tf.float64),  name='b')\n",
    "\n",
    "# Instantiate an optimizer.\n",
    "optimizer = keras.optimizers.Adam(learning_rate=1e-1)"
   ]
  },
  {
   "cell_type": "code",
   "execution_count": 46,
   "id": "629668ec",
   "metadata": {},
   "outputs": [
    {
     "name": "stdout",
     "output_type": "stream",
     "text": [
      "Training loss at iteration 0: 5541103.4\n",
      "Training loss at iteration 20: 279359.8\n",
      "Training loss at iteration 40: 108046.2\n",
      "Training loss at iteration 60: 53029.9\n",
      "Training loss at iteration 80: 30319.3\n",
      "Training loss at iteration 100: 19364.6\n",
      "Training loss at iteration 120: 13491.1\n",
      "Training loss at iteration 140: 10121.6\n",
      "Training loss at iteration 160: 8099.7\n",
      "Training loss at iteration 180: 6843.9\n"
     ]
    }
   ],
   "source": [
    "iterations = 200\n",
    "lambda_ = 1\n",
    "for iter in range(iterations):\n",
    "    with tf.GradientTape() as tape:\n",
    "\n",
    "        # Compute the cost (forward pass included in cost)\n",
    "        cost_value = collaborative_filtering_cost(X, W, b, Ynorm, R, lambda_)\n",
    "\n",
    "    # Use the gradient tape to automatically retrieve\n",
    "    # the gradients of the trainable variables with respect to the loss\n",
    "    grads = tape.gradient( cost_value, [X,W,b] )\n",
    "\n",
    "    # Run one step of gradient descent by updating\n",
    "    # the value of the variables to minimize the loss.\n",
    "    optimizer.apply_gradients( zip(grads, [X,W,b]) )\n",
    "\n",
    "    # Log periodically.\n",
    "    if iter % 20 == 0:\n",
    "        print(f\"Training loss at iteration {iter}: {cost_value:0.1f}\")"
   ]
  },
  {
   "cell_type": "markdown",
   "id": "e18dd4d7",
   "metadata": {},
   "source": [
    "## Recommendations\n",
    "Below, we compute the ratings for all the movies and users and display the movies that are recommended. These are based on the movies and ratings entered as `my_ratings[]` above. To predict the rating of movie $i$ for user $j$, we compute $\\mathbf{w}^{(j)} \\cdot \\mathbf{x}^{(i)} + b^{(j)}$. This can be computed for all ratings using matrix multiplication."
   ]
  },
  {
   "cell_type": "code",
   "execution_count": 57,
   "id": "84f1527c",
   "metadata": {},
   "outputs": [
    {
     "name": "stdout",
     "output_type": "stream",
     "text": [
      "Top recommended movies:\n",
      "\n",
      "Predicting rating 5.50 for movie Body Double (1984)\n",
      "Predicting rating 4.97 for movie Hatari! (1962)\n",
      "Predicting rating 4.06 for movie Farewell My Concubine (Ba wang bie ji) (1993)\n",
      "Predicting rating 4.01 for movie Caligula (1979)\n",
      "Predicting rating 4.00 for movie Commitments, The (1991)\n",
      "Predicting rating 3.99 for movie Chain of Fools (2000)\n",
      "Predicting rating 3.52 for movie Last Castle, The (2001)\n",
      "Predicting rating 3.01 for movie Onegin (1999)\n",
      "Predicting rating 2.98 for movie Vanilla Sky (2001)\n",
      "\n",
      "\n",
      "Original vs Predicted ratings:\n",
      "\n",
      "Original [5.], Predicted 4.95 for Dinner at Eight (1933)\n",
      "Original [5.], Predicted 4.90 for Silver Streak (1976)\n",
      "Original [4.], Predicted 4.01 for Body Double (1984)\n",
      "Original [4.], Predicted 3.91 for Waltz with Bashir (Vals im Bashir) (2008)\n",
      "Original [1.], Predicted 1.33 for Lookout, The (2007)\n",
      "Original [5.], Predicted 4.95 for The Conjuring 2 (2016)\n",
      "Original [5.], Predicted 4.89 for Contraband (2012)\n",
      "Original [5.], Predicted 4.81 for I Remember Mama (1948)\n",
      "Original [5.], Predicted 4.83 for A Quiet Place (2018)\n",
      "Original [4.], Predicted 4.06 for Keeping Up with the Joneses (2016)\n",
      "Original [5.], Predicted 4.98 for Hatari! (1962)\n",
      "Original [4.], Predicted 3.96 for Last Castle, The (2001)\n",
      "Original [4.], Predicted 4.05 for Chain of Fools (2000)\n",
      "Original [5.], Predicted 4.97 for Return of Martin Guerre, The (Retour de Martin Guerre, Le) (1982)\n",
      "Original [5.], Predicted 4.89 for Caligula (1979)\n",
      "Original [5.], Predicted 5.00 for Commitments, The (1991)\n",
      "Original [4.], Predicted 4.11 for Onegin (1999)\n",
      "Original [1.], Predicted 1.63 for What Love Is (2007)\n",
      "Original [4.], Predicted 3.98 for Vanilla Sky (2001)\n",
      "Original [5.], Predicted 4.81 for Farewell My Concubine (Ba wang bie ji) (1993)\n"
     ]
    }
   ],
   "source": [
    "# Make a prediction using trained weights and biases\n",
    "p = np.matmul(X.numpy(), np.transpose(W.numpy())) + b.numpy()\n",
    "\n",
    "# Restore the mean\n",
    "pm = p + Ymean\n",
    "\n",
    "my_predictions = pm[:, 0]\n",
    "\n",
    "# Sort predictions\n",
    "sorted_indices = np.argsort(my_predictions)[::-1]  # [::-1] is for descending order\n",
    "\n",
    "print('Top recommended movies:\\n')\n",
    "recommended_count = 0\n",
    "for idx in sorted_indices:\n",
    "    if idx not in my_rated and idx in movie_list_df.index:\n",
    "        movie_title = movie_list_df.loc[idx, 'title']\n",
    "        print(f'Predicting rating {my_predictions[idx]:.2f} for movie {movie_title}')\n",
    "        recommended_count += 1\n",
    "        if recommended_count == 17:\n",
    "            break\n",
    "            \n",
    "print('\\n\\nOriginal vs Predicted ratings:\\n')\n",
    "for i in range(len(my_ratings)):\n",
    "    if my_ratings[i] > 0:\n",
    "        print(f'Original {my_ratings[i]}, Predicted {my_predictions[i]:0.2f} for {movie_list[i]}')"
   ]
  }
 ],
 "metadata": {
  "kernelspec": {
   "display_name": "venv",
   "language": "python",
   "name": "venv"
  },
  "language_info": {
   "codemirror_mode": {
    "name": "ipython",
    "version": 3
   },
   "file_extension": ".py",
   "mimetype": "text/x-python",
   "name": "python",
   "nbconvert_exporter": "python",
   "pygments_lexer": "ipython3",
   "version": "3.11.0"
  }
 },
 "nbformat": 4,
 "nbformat_minor": 5
}
