{
 "cells": [
  {
   "cell_type": "markdown",
   "id": "21f5ec27",
   "metadata": {},
   "source": [
    "# Emojify!\n",
    "\n",
    "Have you ever wanted to make your text messages more expressive? The emojifier app will help you do that. Rather than writing:\n",
    ">\"Congratulations on the promotion! Let's get coffee and talk. Love you!\"\n",
    "\n",
    "The emojifier can automatically turn this into:\n",
    ">\"Congratulations on the promotion! 👍  Let's get coffee and talk. ☕️ Love you! ❤️\"\n",
    "\n",
    "### Using Word Vectors to Improve Emoji Lookups\n",
    "* In many emoji interfaces, you need to remember that ❤️  is the \"heart\" symbol rather than the \"love\" symbol. \n",
    "    * In other words, you'll have to remember to type \"heart\" to find the desired emoji, and typing \"love\" won't bring up that symbol.\n",
    "* You can make a more flexible emoji interface by using word vectors!\n",
    "* When using word vectors, you'll see that even if your training set explicitly relates only a few words to a particular emoji, your algorithm will be able to generalize and associate additional words in the test set to the same emoji.\n",
    "    * This works even if those additional words don't even appear in the training set. \n",
    "    * This allows you to build an accurate classifier mapping from sentences to emojis, even using a small training set. "
   ]
  },
  {
   "cell_type": "code",
   "execution_count": 1,
   "id": "70b7bde4",
   "metadata": {},
   "outputs": [],
   "source": [
    "import numpy as np\n",
    "from emo_utils import *"
   ]
  },
  {
   "cell_type": "markdown",
   "id": "ecea7a95",
   "metadata": {},
   "source": [
    "## 1 - Baseline Model: Emojifier-V1\n",
    "\n",
    "### 1.1 - Dataset EMOJISET\n",
    "\n",
    "Let's start by building a simple baseline classifier. \n",
    "\n",
    "We have a tiny dataset (X, Y) where:\n",
    "- X contains 127 sentences (strings).\n",
    "- Y contains an integer label between 0 and 4 corresponding to an emoji for each sentence.\n",
    "\n",
    "<img src=\"images/data_set.png\" style=\"width:700px;\">\n",
    "<caption><center><font color='purple'><b>Figure 1</b>: EMOJISET - a classification problem with 5 classes. A few examples of sentences are given here. </font></center></caption>"
   ]
  },
  {
   "cell_type": "code",
   "execution_count": 2,
   "id": "9dfab4d6",
   "metadata": {},
   "outputs": [],
   "source": [
    "X_train, Y_train = read_csv('data/train_emoji.csv')\n",
    "X_test, Y_test = read_csv('data/test_emoji.csv')"
   ]
  },
  {
   "cell_type": "code",
   "execution_count": 3,
   "id": "d3e112f4",
   "metadata": {},
   "outputs": [
    {
     "name": "stdout",
     "output_type": "stream",
     "text": [
      "never talk to me again 😞\n",
      "I am proud of your achievements 😄\n",
      "It is the worst day in my life 😞\n",
      "Miss you so much ❤️\n",
      "food is life 🍴\n",
      "I love you mum ❤️\n",
      "Stop saying bullshit 😞\n",
      "congratulations on your acceptance 😄\n",
      "The assignment is too long  😞\n",
      "I want to go play ⚾\n"
     ]
    }
   ],
   "source": [
    "for idx in range(10):\n",
    "    print(X_train[idx], label_to_emoji(Y_train[idx]))"
   ]
  },
  {
   "cell_type": "markdown",
   "id": "0176a46e",
   "metadata": {},
   "source": [
    "### 1.2 - Overview of the Emojifier-V1\n",
    "\n",
    "Let's implement a baseline model called \"Emojifier-v1\".\n",
    "\n",
    "<br>\n",
    "\n",
    "<center>\n",
    "<img src=\"images/emojifierv1.png\" style=\"width:900px;\">\n",
    "    <caption><center><font color='purple'><b>Figure 2</b>: Baseline model (Emojifier-V1).</font></center></caption>\n",
    "</center>\n",
    "\n",
    "#### Inputs and Outputs\n",
    "* The input of the model is a string corresponding to a sentence (e.g. \"I love you\"). \n",
    "* The output will be a probability vector of shape (1,5), (indicating that there are 5 emojis to choose from).\n",
    "* The (1,5) probability vector is passed to an argmax layer, which extracts the index of the emoji with the highest probability.\n",
    "\n",
    "#### One-hot Encoding\n",
    "* To get the labels into a format suitable for training a softmax classifier, convert $Y$ from its current shape  $(m, 1)$ into a \"one-hot representation\" $(m, 5)$, \n",
    "    * Each row is a one-hot vector giving the label of one example.\n",
    "    * Here, `Y_oh` stands for \"Y-one-hot\" in the variable names `Y_oh_train` and `Y_oh_test`"
   ]
  },
  {
   "cell_type": "code",
   "execution_count": 4,
   "id": "c8f0eaa9",
   "metadata": {},
   "outputs": [],
   "source": [
    "Y_oh_train = convert_to_one_hot(Y_train, C = 5)\n",
    "Y_oh_test = convert_to_one_hot(Y_test, C = 5)"
   ]
  },
  {
   "cell_type": "code",
   "execution_count": 5,
   "id": "94bdfc7e",
   "metadata": {},
   "outputs": [
    {
     "name": "stdout",
     "output_type": "stream",
     "text": [
      "Sentence 'I missed you' has label index 0, which is emoji ❤️\n",
      "Label index 0 in one-hot encoding format is [1. 0. 0. 0. 0.]\n"
     ]
    }
   ],
   "source": [
    "idx = 50\n",
    "print(f\"Sentence '{X_train[idx]}' has label index {Y_train[idx]}, which is emoji {label_to_emoji(Y_train[idx])}\", )\n",
    "print(f\"Label index {Y_train[idx]} in one-hot encoding format is {Y_oh_train[idx]}\")"
   ]
  },
  {
   "cell_type": "markdown",
   "id": "e9e5adc7",
   "metadata": {},
   "source": [
    "### 1.3 - Implementing Emojifier-V1\n",
    "\n",
    "As shown in Figure 2 (above), the first step is to:\n",
    "* Convert each word in the input sentence into their word vector representations.\n",
    "* Take an average of the word vectors."
   ]
  },
  {
   "cell_type": "code",
   "execution_count": 6,
   "id": "433ba967",
   "metadata": {},
   "outputs": [],
   "source": [
    "word_to_index, index_to_word, word_to_vec_map = read_glove_vecs('data/glove.6B.50d.txt')"
   ]
  },
  {
   "cell_type": "markdown",
   "id": "3d9b84a9",
   "metadata": {},
   "source": [
    "We've loaded:\n",
    "- `word_to_index`: dictionary mapping from words to their indices in the vocabulary \n",
    "    - (400,001 words, with the valid indices ranging from 0 to 400,000)\n",
    "- `index_to_word`: dictionary mapping from indices to their corresponding words in the vocabulary\n",
    "- `word_to_vec_map`: dictionary mapping words to their GloVe vector representation."
   ]
  },
  {
   "cell_type": "code",
   "execution_count": 7,
   "id": "2e62c8bd",
   "metadata": {},
   "outputs": [
    {
     "name": "stdout",
     "output_type": "stream",
     "text": [
      "the index of cucumber in the vocabulary is 113317\n",
      "the 289846th word in the vocabulary is potatos\n"
     ]
    }
   ],
   "source": [
    "word = \"cucumber\"\n",
    "idx = 289846\n",
    "print(\"the index of\", word, \"in the vocabulary is\", word_to_index[word])\n",
    "print(\"the\", str(idx) + \"th word in the vocabulary is\", index_to_word[idx])"
   ]
  },
  {
   "cell_type": "markdown",
   "id": "d246da03",
   "metadata": {},
   "source": [
    "1. Convert every sentence to lower-case, then split the sentence into a list of words. \n",
    "    * `X.lower()` and `X.split()` might be useful. 😉\n",
    "2. For each word in the sentence, access its GloVe representation.\n",
    "    * Then take the average of all of these word vectors."
   ]
  },
  {
   "cell_type": "code",
   "execution_count": 8,
   "id": "4161e294",
   "metadata": {},
   "outputs": [],
   "source": [
    "def sentence_to_avg(sentence, word_to_vec_map):\n",
    "    \"\"\"Converts a sentence (string) into a list of words (strings). Extracts the GloVe representation of each word\n",
    "    and averages its value into a single vector encoding the meaning of the sentence.\n",
    "    \n",
    "    Arguments:\n",
    "    sentence -- string, one training example from X\n",
    "    word_to_vec_map -- dictionary mapping every word in a vocabulary into its 50-dimensional vector representation\n",
    "    \n",
    "    Returns:\n",
    "    avg -- average vector encoding information about the sentence, numpy-array of shape (J,), where J can be any number\n",
    "    \"\"\"\n",
    "    \n",
    "    any_word = list(word_to_vec_map.keys())[0]\n",
    "    words = sentence.lower().split()\n",
    "    avg = np.zeros(word_to_vec_map[any_word].shape[0])\n",
    "    \n",
    "    count = 0\n",
    "    \n",
    "    for w in words:\n",
    "        # check that word exists in word_to_vec_map\n",
    "        if w in word_to_vec_map:\n",
    "            avg += word_to_vec_map[w]\n",
    "            count +=1\n",
    "          \n",
    "    if count > 0:\n",
    "        avg = avg / count    \n",
    "    return avg"
   ]
  },
  {
   "cell_type": "markdown",
   "id": "6fef5897",
   "metadata": {},
   "source": [
    "### 1.4 - Implement the Model\n",
    "\n",
    "After using `sentence_to_avg()`, need to:\n",
    "* Pass the average through forward propagation\n",
    "* Compute the cost\n",
    "* Backpropagate to update the softmax parameters\n",
    "\n",
    "$$ z^{(i)} = Wavg^{(i)} + b$$\n",
    "\n",
    "$$ a^{(i)} = softmax(z^{(i)})$$\n",
    "\n",
    "$$ \\mathcal{L}^{(i)} = - \\sum_{k = 0}^{n_y - 1} Y_{oh,k}^{(i)} * log(a^{(i)}_k)$$"
   ]
  },
  {
   "cell_type": "code",
   "execution_count": 9,
   "id": "5cbb21f2",
   "metadata": {},
   "outputs": [],
   "source": [
    "def model(X, Y, word_to_vec_map, learning_rate = 0.01, num_iterations = 400):\n",
    "    \"\"\"Model to train word vector representations in numpy.\n",
    "    \n",
    "    Arguments:\n",
    "    X -- input data, numpy array of sentences as strings, of shape (m,)\n",
    "    Y -- labels, numpy array of integers between 0 and 7, numpy-array of shape (m, 1)\n",
    "    word_to_vec_map -- dictionary mapping every word in a vocabulary into its 50-dimensional vector representation\n",
    "    learning_rate -- learning_rate for the stochastic gradient descent algorithm\n",
    "    num_iterations -- number of iterations\n",
    "    \n",
    "    Returns:\n",
    "    pred -- vector of predictions, numpy-array of shape (m, 1)\n",
    "    W -- weight matrix of the softmax layer, of shape (n_y, n_h)\n",
    "    b -- bias of the softmax layer, of shape (n_y,)\n",
    "    \"\"\"\n",
    "    \n",
    "    any_word = list(word_to_vec_map.keys())[0]\n",
    "    m = Y.shape[0]                             # number of training examples\n",
    "    n_y = len(np.unique(Y))                    # number of classes  \n",
    "    n_h = word_to_vec_map[any_word].shape[0]   # dimensions of the GloVe vectors \n",
    "    \n",
    "    # Initialize parameters using Xavier initialization\n",
    "    W = np.random.randn(n_y, n_h) / np.sqrt(n_h)\n",
    "    b = np.zeros((n_y,))\n",
    "    \n",
    "    # Convert Y to Y_onehot with n_y classes\n",
    "    Y_oh = convert_to_one_hot(Y, C = n_y) \n",
    "    \n",
    "    for t in range(num_iterations):    \n",
    "        cost = 0\n",
    "        dW = 0\n",
    "        db = 0\n",
    "        \n",
    "        for i in range(m):          # Loop over the training examples\n",
    "            \n",
    "            # Average the word vectors of the words from the i'th training example\n",
    "            avg = sentence_to_avg(X[i], word_to_vec_map)\n",
    "\n",
    "            # Forward propagate the avg through the softmax layer. \n",
    "            z = np.dot(W, avg) + b\n",
    "            a = softmax(z)\n",
    "\n",
    "            # Add the cost using the i'th training label's one hot representation and \"A\" (the output of the softmax)\n",
    "            cost += - np.sum(Y_oh * np.log(a))\n",
    "            \n",
    "            # Compute gradients \n",
    "            dz = a - Y_oh[i]\n",
    "            dW += np.dot(dz.reshape(n_y,1), avg.reshape(1, n_h))\n",
    "            db += dz\n",
    "\n",
    "            # Update parameters with Stochastic Gradient Descent\n",
    "            W = W - learning_rate * dW\n",
    "            b = b - learning_rate * db\n",
    "            \n",
    "        assert type(cost) == np.float64, \"Incorrect implementation of cost\"\n",
    "        assert cost.shape == (), \"Incorrect implementation of cost\"\n",
    "        \n",
    "        if t % 100 == 0:\n",
    "            print(\"Epoch: \" + str(t) + \" --- cost = \" + str(cost))\n",
    "            pred = predict(X, Y, W, b, word_to_vec_map)\n",
    "\n",
    "    return pred, W, b"
   ]
  },
  {
   "cell_type": "code",
   "execution_count": 10,
   "id": "f652cba6",
   "metadata": {},
   "outputs": [
    {
     "name": "stdout",
     "output_type": "stream",
     "text": [
      "Epoch: 0 --- cost = 73708.16886577602\n",
      "Accuracy: 0.5454545454545454\n",
      "Epoch: 100 --- cost = 672602.6480313523\n",
      "Accuracy: 0.696969696969697\n",
      "Epoch: 200 --- cost = 663538.0764059211\n",
      "Accuracy: 1.0\n",
      "Epoch: 300 --- cost = 662948.9814999644\n",
      "Accuracy: 1.0\n"
     ]
    }
   ],
   "source": [
    "np.random.seed(1)\n",
    "pred, W, b = model(X_train, Y_train, word_to_vec_map)"
   ]
  },
  {
   "cell_type": "code",
   "execution_count": 11,
   "id": "98d2d24e",
   "metadata": {},
   "outputs": [
    {
     "name": "stdout",
     "output_type": "stream",
     "text": [
      "Training set:\n",
      "Accuracy: 1.0\n",
      "Test set:\n",
      "Accuracy: 0.8392857142857143\n"
     ]
    }
   ],
   "source": [
    "print(\"Training set:\")\n",
    "pred_train = predict(X_train, Y_train, W, b, word_to_vec_map)\n",
    "\n",
    "print('Test set:')\n",
    "pred_test = predict(X_test, Y_test, W, b, word_to_vec_map)"
   ]
  },
  {
   "cell_type": "code",
   "execution_count": 12,
   "id": "ccc77d71",
   "metadata": {},
   "outputs": [
    {
     "name": "stdout",
     "output_type": "stream",
     "text": [
      "Accuracy: 0.8333333333333334\n",
      "\n",
      "i treasure you ❤️\n",
      "i love you ❤️\n",
      "funny lol 😄\n",
      "lets play with a ball ⚾\n",
      "food is ready 🍴\n",
      "today is not good 😄\n"
     ]
    }
   ],
   "source": [
    "X_my_sentences = np.array([\"i treasure you\", \"i love you\", \"funny lol\", \"lets play with a ball\", \n",
    "                           \"food is ready\", \"today is not good\"])\n",
    "Y_my_labels = np.array([[0], [0], [2], [1], [4],[3]])\n",
    "\n",
    "pred = predict(X_my_sentences, Y_my_labels , W, b, word_to_vec_map)\n",
    "print_predictions(X_my_sentences, pred)"
   ]
  },
  {
   "cell_type": "markdown",
   "id": "84fb770c",
   "metadata": {},
   "source": [
    "* Because *treasure* has a similar embedding as *love*, the algorithm has generalized correctly even to a word it has never seen before. \n",
    "* Words such as *heart*, *dear*, *beloved* or *adore* have embedding vectors similar to *love*. \n",
    "\n",
    "#### Word Ordering isn't Considered in this Model\n",
    "* Note that the model doesn't get the following sentence correct:\n",
    ">\"today is not good\" \n",
    "\n",
    "* This algorithm ignores word ordering, so is not good at understanding phrases like \"not good.\" "
   ]
  },
  {
   "cell_type": "markdown",
   "id": "24375eae",
   "metadata": {},
   "source": [
    "## 2 - Emojifier-V2: Using LSTMs in Keras \n",
    "\n",
    "Build an LSTM model that takes word **sequences** as input! This model will be able to account for word ordering. \n",
    "\n",
    "Emojifier-V2 will continue to use pre-trained word embeddings to represent words. We'll feed word embeddings into an LSTM, and the LSTM will learn to predict the most appropriate emoji. "
   ]
  },
  {
   "cell_type": "code",
   "execution_count": 13,
   "id": "538a674d",
   "metadata": {},
   "outputs": [
    {
     "name": "stdout",
     "output_type": "stream",
     "text": [
      "WARNING:tensorflow:From D:\\github\\data-mining\\venv\\Lib\\site-packages\\keras\\src\\losses.py:2976: The name tf.losses.sparse_softmax_cross_entropy is deprecated. Please use tf.compat.v1.losses.sparse_softmax_cross_entropy instead.\n",
      "\n"
     ]
    }
   ],
   "source": [
    "from tensorflow.keras.models import Model\n",
    "from tensorflow.keras.layers import Dense, Input, Dropout, LSTM, Activation, Embedding\n",
    "from tensorflow.keras.preprocessing import sequence\n",
    "from tensorflow.keras.initializers import glorot_uniform"
   ]
  },
  {
   "cell_type": "markdown",
   "id": "61358647",
   "metadata": {},
   "source": [
    "### 2.1 - Model Overview\n",
    "\n",
    "Here is the Emojifier-v2 we will implement:\n",
    "\n",
    "<img src=\"images/emojifier-v2.png\" style=\"width:700px;\"> <br>\n",
    "<caption><center><font color='purple'><b>Figure 3</b>: Emojifier-V2. A 2-layer LSTM sequence classifier.</font></center></caption>"
   ]
  },
  {
   "cell_type": "markdown",
   "id": "3cf81b06",
   "metadata": {},
   "source": [
    "### 2.2 Keras and Mini-batching \n",
    "\n",
    "We want to train Keras using mini-batches. However, most deep learning frameworks require that all sequences in the same mini-batch have the **same length**. \n",
    "\n",
    "This is what allows vectorization to work: If we had a 3-word sentence and a 4-word sentence, then the computations needed for them are different (one takes 3 steps of an LSTM, one takes 4 steps) so it's just not possible to do them both at the same time.\n",
    "    \n",
    "#### Padding Handles Sequences of Varying Length\n",
    "* The common solution to handling sequences of **different length** is to use padding.  Specifically:\n",
    "    * Set a maximum sequence length\n",
    "    * Pad all sequences to have the same length. \n",
    "    \n",
    "#### Example of Padding:\n",
    "* Given a maximum sequence length of 20, we could pad every sentence with \"0\"s so that each input sentence is of length 20. \n",
    "* Thus, the sentence \"I love you\" would be represented as $(e_{I}, e_{love}, e_{you}, \\vec{0}, \\vec{0}, \\ldots, \\vec{0})$. \n",
    "* In this example, any sentences longer than 20 words would have to be truncated. \n",
    "* One way to choose the maximum sequence length is to just pick the length of the longest sentence in the training set. \n",
    "\n",
    "### 2.3 - The Embedding Layer\n",
    "\n",
    "In Keras, the embedding matrix is represented as a \"layer.\"\n",
    "\n",
    "* The embedding matrix maps word indices to embedding vectors.\n",
    "    * The word indices are positive integers.\n",
    "    * The embedding vectors are dense vectors of fixed size.\n",
    "    * A \"dense\" vector is the opposite of a sparse vector. It means that most of its values are non-zero.  As a counter-example, a one-hot encoded vector is not \"dense.\"\n",
    "* The embedding matrix can be derived in two ways:\n",
    "    * Training a model to derive the embeddings from scratch. \n",
    "    * Using a pretrained embedding.\n",
    "\n",
    "#### Inputs and Outputs to the Embedding Layer\n",
    "\n",
    "* The `Embedding()` layer's input is an integer matrix of size **(batch size, max input length)**. \n",
    "    * This input corresponds to sentences converted into lists of indices (integers).\n",
    "    * The largest integer (the highest word index) in the input should be no larger than the vocabulary size.\n",
    "* The embedding layer outputs an array of shape (batch size, max input length, dimension of word vectors).\n",
    "\n",
    "* The figure shows the propagation of two example sentences through the embedding layer. \n",
    "    * Both examples have been zero-padded to a length of `max_len=5`.\n",
    "    * The word embeddings are 50 units in length.\n",
    "    * The final dimension of the representation is  `(2,max_len,50)`. \n",
    "\n",
    "<img src=\"images/embedding1.png\" style=\"width:700px;\">\n",
    "<caption><center><font color='purple'><b>Figure 4</b>: Embedding layer</font></center></caption>"
   ]
  },
  {
   "cell_type": "code",
   "execution_count": 14,
   "id": "72cd48d8",
   "metadata": {},
   "outputs": [],
   "source": [
    "def sentences_to_indices(X, word_to_index, max_len):\n",
    "    \"\"\"Converts an array of sentences (strings) into an array of indices corresponding to words in the sentences.\n",
    "    The output shape should be such that it can be given to `Embedding()` (described in Figure 4). \n",
    "    \n",
    "    Arguments:\n",
    "    X -- array of sentences (strings), of shape (m,)\n",
    "    word_to_index -- a dictionary containing the each word mapped to its index\n",
    "    max_len -- maximum number of words in a sentence. You can assume every sentence in X is no longer than this. \n",
    "    \n",
    "    Returns:\n",
    "    X_indices -- array of indices corresponding to words in the sentences from X, of shape (m, max_len)\n",
    "    \"\"\"\n",
    "    \n",
    "    m = X.shape[0]           # number of training examples\n",
    "    \n",
    "    # Initialize X_indices as a numpy matrix of zeros and the correct shape\n",
    "    X_indices = np.zeros((m, max_len))\n",
    "    \n",
    "    for i in range(m):\n",
    "        sentence_words = X[i].lower().split()\n",
    "        j = 0\n",
    "        for w in sentence_words:\n",
    "            if w in word_to_index:\n",
    "                X_indices[i, j] = word_to_index[w]\n",
    "                j += 1  \n",
    "                \n",
    "    return X_indices"
   ]
  },
  {
   "cell_type": "code",
   "execution_count": 15,
   "id": "e7f15697",
   "metadata": {},
   "outputs": [
    {
     "name": "stdout",
     "output_type": "stream",
     "text": [
      "X1 = ['funny lol' 'lets play baseball' 'food is ready for you']\n",
      "X1_indices =\n",
      " [[155345. 225122.      0.      0.      0.]\n",
      " [220930. 286375.  69714.      0.      0.]\n",
      " [151204. 192973. 302254. 151349. 394475.]]\n"
     ]
    }
   ],
   "source": [
    "X1 = np.array([\"funny lol\", \"lets play baseball\", \"food is ready for you\"])\n",
    "X1_indices = sentences_to_indices(X1, word_to_index, max_len=5)\n",
    "print(\"X1 =\", X1)\n",
    "print(\"X1_indices =\\n\", X1_indices)"
   ]
  },
  {
   "cell_type": "markdown",
   "id": "8f682023",
   "metadata": {},
   "source": [
    "#### Build Embedding Layer\n",
    "\n",
    "Build the `Embedding()` layer in Keras, using pre-trained word vectors. \n",
    "\n",
    "* The embedding layer takes as input a list of word indices.\n",
    "    * `sentences_to_indices()` creates these word indices.\n",
    "* The embedding layer will return the word embeddings for a sentence.\n",
    "\n",
    "#### pretrained_embedding_layer\n",
    "1. Initialize the embedding matrix as a numpy array of zeros.\n",
    "    * The embedding matrix has a row for each unique word in the vocabulary.\n",
    "        * There is one additional row to handle \"unknown\" words.\n",
    "        * So vocab_size is the number of unique words plus one.\n",
    "    * Each row will store the vector representation of one word. \n",
    "        * For example, one row may be 50 positions long if using GloVe word vectors.\n",
    "    * In the code below, `emb_dim` represents the length of a word embedding.\n",
    "2. Fill in each row of the embedding matrix with the vector representation of a word\n",
    "    * Each word in `word_to_index` is a string.\n",
    "    * word_to_vec_map is a dictionary where the keys are strings and the values are the word vectors.\n",
    "3. Define the Keras embedding layer. \n",
    "    * Use [Embedding()](https://www.tensorflow.org/api_docs/python/tf/keras/layers/Embedding). \n",
    "    * The input dimension is equal to the vocabulary length (number of unique words plus one).\n",
    "    * The output dimension is equal to the number of positions in a word embedding.\n",
    "    * Make this layer's embeddings fixed.\n",
    "        * If we were to set `trainable = True`, then it will allow the optimization algorithm to modify the values of the word embeddings.\n",
    "        * In this case, we don't want the model to modify the word embeddings.\n",
    "4. Set the embedding weights to be equal to the embedding matrix."
   ]
  },
  {
   "cell_type": "code",
   "execution_count": 16,
   "id": "f3354024",
   "metadata": {},
   "outputs": [],
   "source": [
    "def pretrained_embedding_layer(word_to_vec_map, word_to_index):\n",
    "    \"\"\"Creates a Keras Embedding() layer and loads in pre-trained GloVe 50-dimensional vectors.\n",
    "    \n",
    "    Arguments:\n",
    "    word_to_vec_map -- dictionary mapping words to their GloVe vector representation.\n",
    "    word_to_index -- dictionary mapping from words to their indices in the vocabulary (400,001 words)\n",
    "\n",
    "    Returns:\n",
    "    embedding_layer -- pretrained layer Keras instance\n",
    "    \"\"\"\n",
    "    \n",
    "    vocab_size = len(word_to_index) + 1             # adding 1 to fit Keras embedding\n",
    "    any_word = list(word_to_vec_map.keys())[0]\n",
    "    emb_dim = word_to_vec_map[any_word].shape[0]    # define dimensionality of your GloVe word vectors (= 50)\n",
    "      \n",
    "    # Step 1: Initialize the embedding matrix as a numpy array of zeros\n",
    "    emb_matrix = np.zeros((vocab_size, emb_dim))\n",
    "    \n",
    "    # Step 2: Set each row \"idx\" of the embedding matrix to be the \n",
    "    # word vector representation of the idx'th word of the vocabulary\n",
    "    for word, idx in word_to_index.items():\n",
    "        emb_matrix[idx, :] = word_to_vec_map[word]\n",
    "\n",
    "    # Step 3: Define Keras embedding layer with the correct input and output sizes\n",
    "    embedding_layer = Embedding(vocab_size, emb_dim, trainable=False)\n",
    "\n",
    "    # Step 4: Build the embedding layer, it is required before setting the weights of the embedding layer\n",
    "    embedding_layer.build((None,))\n",
    "    \n",
    "    # Set the weights of the embedding layer to the embedding matrix\n",
    "    embedding_layer.set_weights([emb_matrix])\n",
    "    \n",
    "    return embedding_layer"
   ]
  },
  {
   "cell_type": "code",
   "execution_count": 17,
   "id": "8913bc35",
   "metadata": {},
   "outputs": [
    {
     "name": "stdout",
     "output_type": "stream",
     "text": [
      "WARNING:tensorflow:From D:\\github\\data-mining\\venv\\Lib\\site-packages\\keras\\src\\backend.py:873: The name tf.get_default_graph is deprecated. Please use tf.compat.v1.get_default_graph instead.\n",
      "\n",
      "weights[0][1][1] = 0.39031\n",
      "Input_dim 400001\n",
      "Output_dim 50\n"
     ]
    }
   ],
   "source": [
    "embedding_layer = pretrained_embedding_layer(word_to_vec_map, word_to_index)\n",
    "print(\"weights[0][1][1] =\", embedding_layer.get_weights()[0][1][1])\n",
    "print(\"Input_dim\", embedding_layer.input_dim)\n",
    "print(\"Output_dim\",embedding_layer.output_dim)"
   ]
  },
  {
   "cell_type": "markdown",
   "id": "5336d5a6",
   "metadata": {},
   "source": [
    "### 2.4 - Building the Emojifier-V2\n",
    "\n",
    "<img src=\"images/emojifier-v2.png\" style=\"width:700px;\"> <br>\n",
    "<caption><center><font color='purple'><b>Figure 3</b>: Emojifier-v2. A 2-layer LSTM sequence classifier. </font></center></caption></font>"
   ]
  },
  {
   "cell_type": "code",
   "execution_count": 18,
   "id": "8e9d97b3",
   "metadata": {},
   "outputs": [],
   "source": [
    "def Emojify_V2(input_shape, word_to_vec_map, word_to_index):\n",
    "    \"\"\"Function creating the Emojify-v2 model's graph.\n",
    "    \n",
    "    Arguments:\n",
    "    input_shape -- shape of the input, usually (max_len,)\n",
    "    word_to_vec_map -- dictionary mapping every word in a vocabulary into its 50-dimensional vector representation\n",
    "    word_to_index -- dictionary mapping from words to their indices in the vocabulary (400,001 words)\n",
    "\n",
    "    Returns:\n",
    "    model -- a model instance in Keras\n",
    "    \"\"\"\n",
    "    \n",
    "    # Define sentence_indices as the input of the graph.\n",
    "    sentence_indices = Input(shape=input_shape, dtype='int32')\n",
    "    \n",
    "    # Create the embedding layer pretrained with GloVe Vectors\n",
    "    embedding_layer = pretrained_embedding_layer(word_to_vec_map, word_to_index)\n",
    "    \n",
    "    # Propagate sentence_indices through your embedding layer\n",
    "    embeddings = embedding_layer(sentence_indices)   \n",
    "    \n",
    "    # Propagate the embeddings through an LSTM layer with 128-dimensional hidden state\n",
    "    # The returned output should be a batch of sequences\n",
    "    X = LSTM(units=128, return_sequences=True)(embeddings)\n",
    "    \n",
    "    # Add dropout with a probability of 0.5\n",
    "    X = Dropout(rate=0.5)(X) \n",
    "    \n",
    "    # Propagate X trough another LSTM layer with 128-dimensional hidden state\n",
    "    # The returned output should be a single hidden state, not a batch of sequences\n",
    "    X = LSTM(units=128)(X)\n",
    "    \n",
    "    # Add dropout with a probability of 0.5\n",
    "    X = Dropout(rate=0.5)(X)\n",
    "    \n",
    "    # Propagate X through a Dense layer with 5 units\n",
    "    X = Dense(units=5)(X)\n",
    "    \n",
    "    # Add a softmax activation\n",
    "    X = Activation('softmax')(X)\n",
    "    \n",
    "    # Create Model instance which converts sentence_indices into X.\n",
    "    model = Model(inputs=sentence_indices, outputs=X)\n",
    "     \n",
    "    return model"
   ]
  },
  {
   "cell_type": "code",
   "execution_count": 20,
   "id": "76db2fab",
   "metadata": {},
   "outputs": [],
   "source": [
    "# find the length of the maximum length sentence in the training dataset\n",
    "maxLen = len(max(X_train, key=lambda x: len(x.split())).split())"
   ]
  },
  {
   "cell_type": "code",
   "execution_count": 21,
   "id": "85109726",
   "metadata": {},
   "outputs": [
    {
     "data": {
      "text/plain": [
       "10"
      ]
     },
     "execution_count": 21,
     "metadata": {},
     "output_type": "execute_result"
    }
   ],
   "source": [
    "maxLen"
   ]
  },
  {
   "cell_type": "code",
   "execution_count": 22,
   "id": "f99f2d7b",
   "metadata": {},
   "outputs": [
    {
     "name": "stdout",
     "output_type": "stream",
     "text": [
      "Model: \"model\"\n",
      "_________________________________________________________________\n",
      " Layer (type)                Output Shape              Param #   \n",
      "=================================================================\n",
      " input_1 (InputLayer)        [(None, 10)]              0         \n",
      "                                                                 \n",
      " embedding_1 (Embedding)     (None, 10, 50)            20000050  \n",
      "                                                                 \n",
      " lstm (LSTM)                 (None, 10, 128)           91648     \n",
      "                                                                 \n",
      " dropout (Dropout)           (None, 10, 128)           0         \n",
      "                                                                 \n",
      " lstm_1 (LSTM)               (None, 128)               131584    \n",
      "                                                                 \n",
      " dropout_1 (Dropout)         (None, 128)               0         \n",
      "                                                                 \n",
      " dense (Dense)               (None, 5)                 645       \n",
      "                                                                 \n",
      " activation (Activation)     (None, 5)                 0         \n",
      "                                                                 \n",
      "=================================================================\n",
      "Total params: 20223927 (77.15 MB)\n",
      "Trainable params: 223877 (874.52 KB)\n",
      "Non-trainable params: 20000050 (76.29 MB)\n",
      "_________________________________________________________________\n"
     ]
    }
   ],
   "source": [
    "model = Emojify_V2((maxLen,), word_to_vec_map, word_to_index)\n",
    "model.summary()"
   ]
  },
  {
   "cell_type": "markdown",
   "id": "5d7212ae",
   "metadata": {},
   "source": [
    "Run the following cell to create your model and check its summary. \n",
    "\n",
    "* Because all sentences in the dataset are less than 10 words, `max_len = 10` was chosen.  \n",
    "* The architecture uses 20,223,927 parameters, of which 20,000,050 (the word embeddings) are non-trainable, with the remaining 223,877 being trainable. \n",
    "* Because the vocabulary size has 400,001 words (with valid indices from 0 to 400,000) there are 400,001\\*50 = 20,000,050 non-trainable parameters. "
   ]
  },
  {
   "cell_type": "code",
   "execution_count": 23,
   "id": "4d8bc237",
   "metadata": {},
   "outputs": [
    {
     "name": "stdout",
     "output_type": "stream",
     "text": [
      "WARNING:tensorflow:From D:\\github\\data-mining\\venv\\Lib\\site-packages\\keras\\src\\optimizers\\__init__.py:309: The name tf.train.Optimizer is deprecated. Please use tf.compat.v1.train.Optimizer instead.\n",
      "\n"
     ]
    }
   ],
   "source": [
    "model.compile(loss='categorical_crossentropy', optimizer='adam', metrics=['accuracy'])"
   ]
  },
  {
   "cell_type": "code",
   "execution_count": 24,
   "id": "2dc24c61",
   "metadata": {},
   "outputs": [
    {
     "name": "stdout",
     "output_type": "stream",
     "text": [
      "Epoch 1/50\n",
      "WARNING:tensorflow:From D:\\github\\data-mining\\venv\\Lib\\site-packages\\keras\\src\\utils\\tf_utils.py:492: The name tf.ragged.RaggedTensorValue is deprecated. Please use tf.compat.v1.ragged.RaggedTensorValue instead.\n",
      "\n",
      "WARNING:tensorflow:From D:\\github\\data-mining\\venv\\Lib\\site-packages\\keras\\src\\engine\\base_layer_utils.py:384: The name tf.executing_eagerly_outside_functions is deprecated. Please use tf.compat.v1.executing_eagerly_outside_functions instead.\n",
      "\n",
      "5/5 [==============================] - 3s 13ms/step - loss: 1.5955 - accuracy: 0.2500\n",
      "Epoch 2/50\n",
      "5/5 [==============================] - 0s 9ms/step - loss: 1.5221 - accuracy: 0.3333\n",
      "Epoch 3/50\n",
      "5/5 [==============================] - 0s 9ms/step - loss: 1.4876 - accuracy: 0.3258\n",
      "Epoch 4/50\n",
      "5/5 [==============================] - 0s 9ms/step - loss: 1.4053 - accuracy: 0.3864\n",
      "Epoch 5/50\n",
      "5/5 [==============================] - 0s 9ms/step - loss: 1.3113 - accuracy: 0.5606\n",
      "Epoch 6/50\n",
      "5/5 [==============================] - 0s 10ms/step - loss: 1.2258 - accuracy: 0.5303\n",
      "Epoch 7/50\n",
      "5/5 [==============================] - 0s 9ms/step - loss: 1.1008 - accuracy: 0.5152\n",
      "Epoch 8/50\n",
      "5/5 [==============================] - 0s 9ms/step - loss: 0.9493 - accuracy: 0.6212\n",
      "Epoch 9/50\n",
      "5/5 [==============================] - 0s 9ms/step - loss: 0.8712 - accuracy: 0.6818\n",
      "Epoch 10/50\n",
      "5/5 [==============================] - 0s 8ms/step - loss: 0.8468 - accuracy: 0.6742\n",
      "Epoch 11/50\n",
      "5/5 [==============================] - 0s 8ms/step - loss: 0.7415 - accuracy: 0.7273\n",
      "Epoch 12/50\n",
      "5/5 [==============================] - 0s 8ms/step - loss: 0.5729 - accuracy: 0.8030\n",
      "Epoch 13/50\n",
      "5/5 [==============================] - 0s 8ms/step - loss: 0.6189 - accuracy: 0.7348\n",
      "Epoch 14/50\n",
      "5/5 [==============================] - 0s 8ms/step - loss: 0.5239 - accuracy: 0.7803\n",
      "Epoch 15/50\n",
      "5/5 [==============================] - 0s 8ms/step - loss: 0.4369 - accuracy: 0.8561\n",
      "Epoch 16/50\n",
      "5/5 [==============================] - 0s 8ms/step - loss: 0.3634 - accuracy: 0.8864\n",
      "Epoch 17/50\n",
      "5/5 [==============================] - 0s 9ms/step - loss: 0.3289 - accuracy: 0.8636\n",
      "Epoch 18/50\n",
      "5/5 [==============================] - 0s 8ms/step - loss: 0.3398 - accuracy: 0.8712\n",
      "Epoch 19/50\n",
      "5/5 [==============================] - 0s 9ms/step - loss: 0.3306 - accuracy: 0.8788\n",
      "Epoch 20/50\n",
      "5/5 [==============================] - 0s 8ms/step - loss: 0.4399 - accuracy: 0.8864\n",
      "Epoch 21/50\n",
      "5/5 [==============================] - 0s 9ms/step - loss: 0.2327 - accuracy: 0.9318\n",
      "Epoch 22/50\n",
      "5/5 [==============================] - 0s 8ms/step - loss: 0.2219 - accuracy: 0.9015\n",
      "Epoch 23/50\n",
      "5/5 [==============================] - 0s 8ms/step - loss: 0.2416 - accuracy: 0.9015\n",
      "Epoch 24/50\n",
      "5/5 [==============================] - 0s 8ms/step - loss: 0.1863 - accuracy: 0.9318\n",
      "Epoch 25/50\n",
      "5/5 [==============================] - 0s 9ms/step - loss: 0.1754 - accuracy: 0.9394\n",
      "Epoch 26/50\n",
      "5/5 [==============================] - 0s 8ms/step - loss: 0.2136 - accuracy: 0.9318\n",
      "Epoch 27/50\n",
      "5/5 [==============================] - 0s 9ms/step - loss: 0.2356 - accuracy: 0.9091\n",
      "Epoch 28/50\n",
      "5/5 [==============================] - 0s 9ms/step - loss: 0.4376 - accuracy: 0.8561\n",
      "Epoch 29/50\n",
      "5/5 [==============================] - 0s 8ms/step - loss: 0.1728 - accuracy: 0.9621\n",
      "Epoch 30/50\n",
      "5/5 [==============================] - 0s 9ms/step - loss: 0.3968 - accuracy: 0.8561\n",
      "Epoch 31/50\n",
      "5/5 [==============================] - 0s 9ms/step - loss: 0.1990 - accuracy: 0.9167\n",
      "Epoch 32/50\n",
      "5/5 [==============================] - 0s 8ms/step - loss: 0.2328 - accuracy: 0.9091\n",
      "Epoch 33/50\n",
      "5/5 [==============================] - 0s 9ms/step - loss: 0.2410 - accuracy: 0.9015\n",
      "Epoch 34/50\n",
      "5/5 [==============================] - 0s 8ms/step - loss: 0.1741 - accuracy: 0.9545\n",
      "Epoch 35/50\n",
      "5/5 [==============================] - 0s 9ms/step - loss: 0.1454 - accuracy: 0.9697\n",
      "Epoch 36/50\n",
      "5/5 [==============================] - 0s 9ms/step - loss: 0.1591 - accuracy: 0.9470\n",
      "Epoch 37/50\n",
      "5/5 [==============================] - 0s 9ms/step - loss: 0.1055 - accuracy: 0.9773\n",
      "Epoch 38/50\n",
      "5/5 [==============================] - 0s 8ms/step - loss: 0.1053 - accuracy: 0.9697\n",
      "Epoch 39/50\n",
      "5/5 [==============================] - 0s 8ms/step - loss: 0.0962 - accuracy: 0.9621\n",
      "Epoch 40/50\n",
      "5/5 [==============================] - 0s 8ms/step - loss: 0.0679 - accuracy: 0.9773\n",
      "Epoch 41/50\n",
      "5/5 [==============================] - 0s 8ms/step - loss: 0.0588 - accuracy: 0.9848\n",
      "Epoch 42/50\n",
      "5/5 [==============================] - 0s 9ms/step - loss: 0.0776 - accuracy: 0.9773\n",
      "Epoch 43/50\n",
      "5/5 [==============================] - 0s 9ms/step - loss: 0.0394 - accuracy: 0.9924\n",
      "Epoch 44/50\n",
      "5/5 [==============================] - 0s 8ms/step - loss: 0.0343 - accuracy: 0.9924\n",
      "Epoch 45/50\n",
      "5/5 [==============================] - 0s 8ms/step - loss: 0.0264 - accuracy: 1.0000\n",
      "Epoch 46/50\n",
      "5/5 [==============================] - 0s 9ms/step - loss: 0.0554 - accuracy: 0.9773\n",
      "Epoch 47/50\n",
      "5/5 [==============================] - 0s 9ms/step - loss: 0.0193 - accuracy: 1.0000\n",
      "Epoch 48/50\n",
      "5/5 [==============================] - 0s 9ms/step - loss: 0.0598 - accuracy: 0.9621\n",
      "Epoch 49/50\n",
      "5/5 [==============================] - 0s 8ms/step - loss: 0.2267 - accuracy: 0.9394\n",
      "Epoch 50/50\n",
      "5/5 [==============================] - 0s 9ms/step - loss: 0.2457 - accuracy: 0.9470\n"
     ]
    },
    {
     "data": {
      "text/plain": [
       "<keras.src.callbacks.History at 0x26aba861690>"
      ]
     },
     "execution_count": 24,
     "metadata": {},
     "output_type": "execute_result"
    }
   ],
   "source": [
    "X_train_indices = sentences_to_indices(X_train, word_to_index, maxLen)\n",
    "Y_train_oh = convert_to_one_hot(Y_train, C = 5)\n",
    "\n",
    "model.fit(X_train_indices, Y_train_oh, epochs = 50, batch_size = 32, shuffle=True)"
   ]
  },
  {
   "cell_type": "code",
   "execution_count": 25,
   "id": "74c4caf0",
   "metadata": {},
   "outputs": [
    {
     "name": "stdout",
     "output_type": "stream",
     "text": [
      "2/2 [==============================] - 1s 6ms/step - loss: 0.3428 - accuracy: 0.8929\n",
      "\n",
      "Test accuracy =  0.8928571343421936\n"
     ]
    }
   ],
   "source": [
    "X_test_indices = sentences_to_indices(X_test, word_to_index, max_len = maxLen)\n",
    "Y_test_oh = convert_to_one_hot(Y_test, C = 5)\n",
    "loss, acc = model.evaluate(X_test_indices, Y_test_oh)\n",
    "print()\n",
    "print(\"Test accuracy = \", acc)"
   ]
  },
  {
   "cell_type": "code",
   "execution_count": 26,
   "id": "ae62eb3f",
   "metadata": {},
   "outputs": [
    {
     "name": "stdout",
     "output_type": "stream",
     "text": [
      "2/2 [==============================] - 1s 4ms/step\n",
      "Expected emoji:😞 prediction: This girl is messing with me\t❤️\n",
      "Expected emoji:❤️ prediction: I love taking breaks\t😞\n",
      "Expected emoji:😄 prediction: she said yes\t😞\n",
      "Expected emoji:😄 prediction: will you be my valentine\t❤️\n",
      "Expected emoji:😞 prediction: go away\t⚾\n",
      "Expected emoji:😞 prediction: yesterday we lost again\t⚾\n"
     ]
    }
   ],
   "source": [
    "C = 5\n",
    "y_test_oh = np.eye(C)[Y_test.reshape(-1)]\n",
    "X_test_indices = sentences_to_indices(X_test, word_to_index, maxLen)\n",
    "pred = model.predict(X_test_indices)\n",
    "for i in range(len(X_test)):\n",
    "    x = X_test_indices\n",
    "    num = np.argmax(pred[i])\n",
    "    if(num != Y_test[i]):\n",
    "        print('Expected emoji:'+ label_to_emoji(Y_test[i]) + ' prediction: '+ X_test[i] + label_to_emoji(num).strip())"
   ]
  },
  {
   "cell_type": "code",
   "execution_count": 31,
   "id": "8ff735d1",
   "metadata": {},
   "outputs": [
    {
     "name": "stdout",
     "output_type": "stream",
     "text": [
      "1/1 [==============================] - 0s 19ms/step\n",
      "I am not very happy 😞\n"
     ]
    }
   ],
   "source": [
    "# change the sentence below to see your prediction. Make sure all the words are in the Glove embeddings.\n",
    "# sentence = \"\"\"Congratulations on finishing this assignment and building an Emojifier!\"\"\"\n",
    "sentence = \"I am not very happy\"\n",
    "\n",
    "x_test = np.array([sentence])\n",
    "X_test_indices = sentences_to_indices(x_test, word_to_index, maxLen)\n",
    "print(x_test[0] +' '+  label_to_emoji(np.argmax(model.predict(X_test_indices))))"
   ]
  },
  {
   "cell_type": "markdown",
   "id": "a77546ff",
   "metadata": {},
   "source": [
    "#### LSTM Version Accounts for Word Order\n",
    "* The Emojify-V1 model did not predict \"not feeling happy\" correctly, but implementation of Emojify-V2 got it right! \n",
    "* The current model still isn't very robust at understanding negation (such as \"not happy\")\n",
    "    * This is because the training set is small and doesn't have a lot of examples of negation. \n",
    "    * If the training set were larger, the LSTM model would be much better than the Emojify-V1 model at understanding more complex sentences. "
   ]
  }
 ],
 "metadata": {
  "kernelspec": {
   "display_name": "Data Mining (venv)",
   "language": "python",
   "name": "venv"
  },
  "language_info": {
   "codemirror_mode": {
    "name": "ipython",
    "version": 3
   },
   "file_extension": ".py",
   "mimetype": "text/x-python",
   "name": "python",
   "nbconvert_exporter": "python",
   "pygments_lexer": "ipython3",
   "version": "3.11.0"
  }
 },
 "nbformat": 4,
 "nbformat_minor": 5
}
