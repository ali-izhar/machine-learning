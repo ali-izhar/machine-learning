{
 "cells": [
  {
   "cell_type": "markdown",
   "metadata": {},
   "source": [
    "# Course Recommender\n",
    "\n",
    "Design and implement a \"course recommender\" that can suggest relevant courses to users based on their input from a dataset of over 4000 courses extracted from the Coursera catalog."
   ]
  },
  {
   "cell_type": "markdown",
   "metadata": {},
   "source": [
    "## Import Packages"
   ]
  },
  {
   "cell_type": "code",
   "execution_count": 23,
   "metadata": {},
   "outputs": [],
   "source": [
    "import os\n",
    "import json\n",
    "import re\n",
    "import ast\n",
    "\n",
    "import pandas as pd\n",
    "import numpy as np\n",
    "import openai\n",
    "\n",
    "from IPython.display import display"
   ]
  },
  {
   "cell_type": "code",
   "execution_count": 7,
   "metadata": {},
   "outputs": [],
   "source": [
    "# Set up OpenAI API key\n",
    "openai.api_key = os.getenv(\"OPENAI_API_KEY\")"
   ]
  },
  {
   "cell_type": "markdown",
   "metadata": {},
   "source": [
    "## Load Data\n",
    "\n",
    "The dataset is sourced from [Kaggle](https://www.kaggle.com/datasets/khusheekapoor/coursera-courses-dataset-2021)"
   ]
  },
  {
   "cell_type": "code",
   "execution_count": 8,
   "metadata": {},
   "outputs": [],
   "source": [
    "path = 'data/Coursera.csv'\n",
    "data = pd.read_csv(path)"
   ]
  },
  {
   "cell_type": "code",
   "execution_count": 9,
   "metadata": {},
   "outputs": [
    {
     "data": {
      "text/html": [
       "<div>\n",
       "<style scoped>\n",
       "    .dataframe tbody tr th:only-of-type {\n",
       "        vertical-align: middle;\n",
       "    }\n",
       "\n",
       "    .dataframe tbody tr th {\n",
       "        vertical-align: top;\n",
       "    }\n",
       "\n",
       "    .dataframe thead th {\n",
       "        text-align: right;\n",
       "    }\n",
       "</style>\n",
       "<table border=\"1\" class=\"dataframe\">\n",
       "  <thead>\n",
       "    <tr style=\"text-align: right;\">\n",
       "      <th></th>\n",
       "      <th>course_name</th>\n",
       "      <th>university</th>\n",
       "      <th>difficulty_level</th>\n",
       "      <th>course_rating</th>\n",
       "      <th>course_url</th>\n",
       "      <th>description</th>\n",
       "      <th>skills</th>\n",
       "    </tr>\n",
       "  </thead>\n",
       "  <tbody>\n",
       "    <tr>\n",
       "      <th>0</th>\n",
       "      <td>Write A Feature Length Screenplay For Film Or ...</td>\n",
       "      <td>Michigan State University</td>\n",
       "      <td>Beginner</td>\n",
       "      <td>4.8</td>\n",
       "      <td>https://www.coursera.org/learn/write-a-feature...</td>\n",
       "      <td>Write a Full Length Feature Film Script  In th...</td>\n",
       "      <td>Drama  Comedy  peering  screenwriting  film  D...</td>\n",
       "    </tr>\n",
       "    <tr>\n",
       "      <th>1</th>\n",
       "      <td>Business Strategy: Business Model Canvas Analy...</td>\n",
       "      <td>Coursera Project Network</td>\n",
       "      <td>Beginner</td>\n",
       "      <td>4.8</td>\n",
       "      <td>https://www.coursera.org/learn/canvas-analysis...</td>\n",
       "      <td>By the end of this guided project, you will be...</td>\n",
       "      <td>Finance  business plan  persona (user experien...</td>\n",
       "    </tr>\n",
       "    <tr>\n",
       "      <th>2</th>\n",
       "      <td>Silicon Thin Film Solar Cells</td>\n",
       "      <td>�cole Polytechnique</td>\n",
       "      <td>Advanced</td>\n",
       "      <td>4.1</td>\n",
       "      <td>https://www.coursera.org/learn/silicon-thin-fi...</td>\n",
       "      <td>This course consists of a general presentation...</td>\n",
       "      <td>chemistry  physics  Solar Energy  film  lambda...</td>\n",
       "    </tr>\n",
       "    <tr>\n",
       "      <th>3</th>\n",
       "      <td>Finance for Managers</td>\n",
       "      <td>IESE Business School</td>\n",
       "      <td>Intermediate</td>\n",
       "      <td>4.8</td>\n",
       "      <td>https://www.coursera.org/learn/operational-fin...</td>\n",
       "      <td>When it comes to numbers, there is always more...</td>\n",
       "      <td>accounts receivable  dupont analysis  analysis...</td>\n",
       "    </tr>\n",
       "    <tr>\n",
       "      <th>4</th>\n",
       "      <td>Retrieve Data using Single-Table SQL Queries</td>\n",
       "      <td>Coursera Project Network</td>\n",
       "      <td>Beginner</td>\n",
       "      <td>4.6</td>\n",
       "      <td>https://www.coursera.org/learn/single-table-sq...</td>\n",
       "      <td>In this course you�ll learn how to effectively...</td>\n",
       "      <td>Data Analysis  select (sql)  database manageme...</td>\n",
       "    </tr>\n",
       "  </tbody>\n",
       "</table>\n",
       "</div>"
      ],
      "text/plain": [
       "                                         course_name  \\\n",
       "0  Write A Feature Length Screenplay For Film Or ...   \n",
       "1  Business Strategy: Business Model Canvas Analy...   \n",
       "2                      Silicon Thin Film Solar Cells   \n",
       "3                               Finance for Managers   \n",
       "4       Retrieve Data using Single-Table SQL Queries   \n",
       "\n",
       "                  university difficulty_level course_rating  \\\n",
       "0  Michigan State University         Beginner           4.8   \n",
       "1   Coursera Project Network         Beginner           4.8   \n",
       "2        �cole Polytechnique         Advanced           4.1   \n",
       "3       IESE Business School     Intermediate           4.8   \n",
       "4   Coursera Project Network         Beginner           4.6   \n",
       "\n",
       "                                          course_url  \\\n",
       "0  https://www.coursera.org/learn/write-a-feature...   \n",
       "1  https://www.coursera.org/learn/canvas-analysis...   \n",
       "2  https://www.coursera.org/learn/silicon-thin-fi...   \n",
       "3  https://www.coursera.org/learn/operational-fin...   \n",
       "4  https://www.coursera.org/learn/single-table-sq...   \n",
       "\n",
       "                                         description  \\\n",
       "0  Write a Full Length Feature Film Script  In th...   \n",
       "1  By the end of this guided project, you will be...   \n",
       "2  This course consists of a general presentation...   \n",
       "3  When it comes to numbers, there is always more...   \n",
       "4  In this course you�ll learn how to effectively...   \n",
       "\n",
       "                                              skills  \n",
       "0  Drama  Comedy  peering  screenwriting  film  D...  \n",
       "1  Finance  business plan  persona (user experien...  \n",
       "2  chemistry  physics  Solar Energy  film  lambda...  \n",
       "3  accounts receivable  dupont analysis  analysis...  \n",
       "4  Data Analysis  select (sql)  database manageme...  "
      ]
     },
     "execution_count": 9,
     "metadata": {},
     "output_type": "execute_result"
    }
   ],
   "source": [
    "data.head()"
   ]
  },
  {
   "cell_type": "code",
   "execution_count": 10,
   "metadata": {},
   "outputs": [
    {
     "name": "stdout",
     "output_type": "stream",
     "text": [
      "course_name         0\n",
      "university          0\n",
      "difficulty_level    0\n",
      "course_rating       0\n",
      "course_url          0\n",
      "description         0\n",
      "skills              0\n",
      "dtype: int64\n"
     ]
    }
   ],
   "source": [
    "# Check for missing values\n",
    "print(data.isnull().sum())"
   ]
  },
  {
   "cell_type": "markdown",
   "metadata": {},
   "source": [
    "## Generate course embeddings\n",
    "The following function `create_embeddings` creates embeddings for a given text using OpenAI's API. Embeddings are numerical representations of text data, and are widely used for various natural language processing tasks. Read more on the [OpenAI's embedding models](https://platform.openai.com/docs/guides/embeddings)."
   ]
  },
  {
   "cell_type": "code",
   "execution_count": 11,
   "metadata": {},
   "outputs": [],
   "source": [
    "def create_embeddings(text, model_engine=\"text-embedding-ada-002\"):\n",
    "    \"\"\"\n",
    "    Create embeddings using OpenAI for a given text.\n",
    "    \n",
    "    Args:\n",
    "        - text (string): The text for which you want to generate the embedding.\n",
    "        - model_engine (string, default: \"text-embedding-ada-002\"): The specific model to use for generating embeddings.\n",
    "        \n",
    "    Returns:\n",
    "        - A list of numerical values representing the embedding of the input text.\n",
    "    \"\"\"\n",
    "    try:\n",
    "        response = openai.Embedding.create(\n",
    "            input=text,\n",
    "            model=model_engine,\n",
    "        )[\"data\"][0][\"embedding\"]\n",
    "        return response\n",
    "    except Exception as e:\n",
    "        print(e)\n",
    "        return None"
   ]
  },
  {
   "cell_type": "code",
   "execution_count": 12,
   "metadata": {},
   "outputs": [],
   "source": [
    "# Get embeddings for all course names. This line might take up to 10 mins to complete.\n",
    "data['embedding'] = data['course_name'].apply(create_embeddings)"
   ]
  },
  {
   "cell_type": "code",
   "execution_count": 13,
   "metadata": {},
   "outputs": [
    {
     "data": {
      "text/html": [
       "<div>\n",
       "<style scoped>\n",
       "    .dataframe tbody tr th:only-of-type {\n",
       "        vertical-align: middle;\n",
       "    }\n",
       "\n",
       "    .dataframe tbody tr th {\n",
       "        vertical-align: top;\n",
       "    }\n",
       "\n",
       "    .dataframe thead th {\n",
       "        text-align: right;\n",
       "    }\n",
       "</style>\n",
       "<table border=\"1\" class=\"dataframe\">\n",
       "  <thead>\n",
       "    <tr style=\"text-align: right;\">\n",
       "      <th></th>\n",
       "      <th>course_name</th>\n",
       "      <th>university</th>\n",
       "      <th>difficulty_level</th>\n",
       "      <th>course_rating</th>\n",
       "      <th>course_url</th>\n",
       "      <th>description</th>\n",
       "      <th>skills</th>\n",
       "      <th>embedding</th>\n",
       "    </tr>\n",
       "  </thead>\n",
       "  <tbody>\n",
       "    <tr>\n",
       "      <th>0</th>\n",
       "      <td>Write A Feature Length Screenplay For Film Or ...</td>\n",
       "      <td>Michigan State University</td>\n",
       "      <td>Beginner</td>\n",
       "      <td>4.8</td>\n",
       "      <td>https://www.coursera.org/learn/write-a-feature...</td>\n",
       "      <td>Write a Full Length Feature Film Script  In th...</td>\n",
       "      <td>Drama  Comedy  peering  screenwriting  film  D...</td>\n",
       "      <td>[0.004957424942404032, -0.013018687255680561, ...</td>\n",
       "    </tr>\n",
       "    <tr>\n",
       "      <th>1</th>\n",
       "      <td>Business Strategy: Business Model Canvas Analy...</td>\n",
       "      <td>Coursera Project Network</td>\n",
       "      <td>Beginner</td>\n",
       "      <td>4.8</td>\n",
       "      <td>https://www.coursera.org/learn/canvas-analysis...</td>\n",
       "      <td>By the end of this guided project, you will be...</td>\n",
       "      <td>Finance  business plan  persona (user experien...</td>\n",
       "      <td>[-0.011336499825119972, -0.022729190066456795,...</td>\n",
       "    </tr>\n",
       "    <tr>\n",
       "      <th>2</th>\n",
       "      <td>Silicon Thin Film Solar Cells</td>\n",
       "      <td>�cole Polytechnique</td>\n",
       "      <td>Advanced</td>\n",
       "      <td>4.1</td>\n",
       "      <td>https://www.coursera.org/learn/silicon-thin-fi...</td>\n",
       "      <td>This course consists of a general presentation...</td>\n",
       "      <td>chemistry  physics  Solar Energy  film  lambda...</td>\n",
       "      <td>[0.002505358075723052, -0.006338656414300203, ...</td>\n",
       "    </tr>\n",
       "    <tr>\n",
       "      <th>3</th>\n",
       "      <td>Finance for Managers</td>\n",
       "      <td>IESE Business School</td>\n",
       "      <td>Intermediate</td>\n",
       "      <td>4.8</td>\n",
       "      <td>https://www.coursera.org/learn/operational-fin...</td>\n",
       "      <td>When it comes to numbers, there is always more...</td>\n",
       "      <td>accounts receivable  dupont analysis  analysis...</td>\n",
       "      <td>[-0.0029222306329756975, -0.03425585851073265,...</td>\n",
       "    </tr>\n",
       "    <tr>\n",
       "      <th>4</th>\n",
       "      <td>Retrieve Data using Single-Table SQL Queries</td>\n",
       "      <td>Coursera Project Network</td>\n",
       "      <td>Beginner</td>\n",
       "      <td>4.6</td>\n",
       "      <td>https://www.coursera.org/learn/single-table-sq...</td>\n",
       "      <td>In this course you�ll learn how to effectively...</td>\n",
       "      <td>Data Analysis  select (sql)  database manageme...</td>\n",
       "      <td>[-0.016929104924201965, 0.013173501938581467, ...</td>\n",
       "    </tr>\n",
       "  </tbody>\n",
       "</table>\n",
       "</div>"
      ],
      "text/plain": [
       "                                         course_name  \\\n",
       "0  Write A Feature Length Screenplay For Film Or ...   \n",
       "1  Business Strategy: Business Model Canvas Analy...   \n",
       "2                      Silicon Thin Film Solar Cells   \n",
       "3                               Finance for Managers   \n",
       "4       Retrieve Data using Single-Table SQL Queries   \n",
       "\n",
       "                  university difficulty_level course_rating  \\\n",
       "0  Michigan State University         Beginner           4.8   \n",
       "1   Coursera Project Network         Beginner           4.8   \n",
       "2        �cole Polytechnique         Advanced           4.1   \n",
       "3       IESE Business School     Intermediate           4.8   \n",
       "4   Coursera Project Network         Beginner           4.6   \n",
       "\n",
       "                                          course_url  \\\n",
       "0  https://www.coursera.org/learn/write-a-feature...   \n",
       "1  https://www.coursera.org/learn/canvas-analysis...   \n",
       "2  https://www.coursera.org/learn/silicon-thin-fi...   \n",
       "3  https://www.coursera.org/learn/operational-fin...   \n",
       "4  https://www.coursera.org/learn/single-table-sq...   \n",
       "\n",
       "                                         description  \\\n",
       "0  Write a Full Length Feature Film Script  In th...   \n",
       "1  By the end of this guided project, you will be...   \n",
       "2  This course consists of a general presentation...   \n",
       "3  When it comes to numbers, there is always more...   \n",
       "4  In this course you�ll learn how to effectively...   \n",
       "\n",
       "                                              skills  \\\n",
       "0  Drama  Comedy  peering  screenwriting  film  D...   \n",
       "1  Finance  business plan  persona (user experien...   \n",
       "2  chemistry  physics  Solar Energy  film  lambda...   \n",
       "3  accounts receivable  dupont analysis  analysis...   \n",
       "4  Data Analysis  select (sql)  database manageme...   \n",
       "\n",
       "                                           embedding  \n",
       "0  [0.004957424942404032, -0.013018687255680561, ...  \n",
       "1  [-0.011336499825119972, -0.022729190066456795,...  \n",
       "2  [0.002505358075723052, -0.006338656414300203, ...  \n",
       "3  [-0.0029222306329756975, -0.03425585851073265,...  \n",
       "4  [-0.016929104924201965, 0.013173501938581467, ...  "
      ]
     },
     "execution_count": 13,
     "metadata": {},
     "output_type": "execute_result"
    }
   ],
   "source": [
    "data.head()"
   ]
  },
  {
   "cell_type": "code",
   "execution_count": 14,
   "metadata": {},
   "outputs": [],
   "source": [
    "# Save the dataframe with embeddings\n",
    "data.to_csv('data/Coursera_embeddings.csv', index=False)"
   ]
  },
  {
   "cell_type": "markdown",
   "metadata": {},
   "source": [
    "## Testing"
   ]
  },
  {
   "cell_type": "code",
   "execution_count": 15,
   "metadata": {},
   "outputs": [],
   "source": [
    "# Load the updated dataframe for testing\n",
    "data_test = pd.read_csv('data/Coursera_embeddings.csv')"
   ]
  },
  {
   "cell_type": "code",
   "execution_count": 16,
   "metadata": {},
   "outputs": [],
   "source": [
    "# Convert string representation of embeddings back to list format\n",
    "data_test['embedding'] = data_test['embedding'].apply(ast.literal_eval)"
   ]
  },
  {
   "cell_type": "code",
   "execution_count": 17,
   "metadata": {},
   "outputs": [
    {
     "data": {
      "text/plain": [
       "list"
      ]
     },
     "execution_count": 17,
     "metadata": {},
     "output_type": "execute_result"
    }
   ],
   "source": [
    "# check that the embeddings are indeed in list format\n",
    "type(data['embedding'][0])"
   ]
  },
  {
   "cell_type": "markdown",
   "metadata": {},
   "source": [
    "The following function computes the similarity score between two embeddings. The similarity score indicates how closely related the two embeddings (and thereby the original texts) are.\n",
    "\n",
    "The function uses the `inner` function from numpy to compute the dot product between two embeddings. When embeddings are generated in a way that they maintain the semantic meaning of the original text, a higher dot product indicates that the texts are more similar in meaning. This dot product can serve as a similarity score, with higher values indicating more similar texts."
   ]
  },
  {
   "cell_type": "code",
   "execution_count": 18,
   "metadata": {},
   "outputs": [],
   "source": [
    "def calculate_similarity(embedding1, embedding2):\n",
    "    \"\"\"\n",
    "    Calculate the similarity score between two embeddings.\n",
    "    \n",
    "    Args:\n",
    "        - embedding1 (list): The first embedding.\n",
    "        - embedding2 (list): The second embedding.\n",
    "    \n",
    "    Returns:\n",
    "        - A numerical value (float) representing the similarity between the two embeddings.\n",
    "    \"\"\"\n",
    "    return np.inner(embedding1, embedding2)"
   ]
  },
  {
   "cell_type": "code",
   "execution_count": 33,
   "metadata": {},
   "outputs": [],
   "source": [
    "def recommend_courses(user_prompt, data, default_display=True, similarity_score_threshold=0.5, top_n=5):\n",
    "    \"\"\"\n",
    "    Recommend top N courses based on the similarity of the user's input to the course embeddings.\n",
    "\n",
    "    Args:\n",
    "        - user_prompt (str): The user's input text for which course recommendations are sought.\n",
    "        - data (DataFrame): The dataset containing course information and embeddings.\n",
    "        - similarity_score_threshold (float, default: 0.7): The threshold above which courses are considered relevant.\n",
    "        - top_n (int, default: 5): The number of top courses to recommend.\n",
    "        - default_display (bool, default: True): If True, display full course info, else only specific columns.\n",
    "\n",
    "    Returns:\n",
    "        - DataFrame: A DataFrame containing recommended courses based on the user's input.\n",
    "    \"\"\"\n",
    "    \n",
    "    user_embedding = create_embeddings(user_prompt)\n",
    "    data['similarity_score'] = data['embedding'].apply(lambda x: calculate_similarity(user_embedding, x))\n",
    "    \n",
    "    filtered_data = data[data['similarity_score'] >= similarity_score_threshold]\n",
    "    sorted_data = filtered_data.sort_values(by='similarity_score', ascending=False)\n",
    "    \n",
    "    # Drop the similarity score column after sorting\n",
    "    sorted_data.drop('similarity_score', axis=1, inplace=True)\n",
    "    \n",
    "    if not default_display:\n",
    "        # Only retain the specified columns if default_display is set to False\n",
    "        columns_to_display = ['course_name', 'university', 'difficulty_level', 'course_rating']\n",
    "        sorted_data = sorted_data[columns_to_display]\n",
    "    \n",
    "    return sorted_data.head(top_n)"
   ]
  },
  {
   "cell_type": "markdown",
   "metadata": {},
   "source": [
    "## Recommendations\n",
    "\n",
    "Based on the `recommend_courses` function, which utilizes the embeddings generated for each course, we can provide recommendations based on user input."
   ]
  },
  {
   "cell_type": "code",
   "execution_count": 35,
   "metadata": {},
   "outputs": [
    {
     "name": "stdout",
     "output_type": "stream",
     "text": [
      "Enter a course topic or name: Machine Learning\n"
     ]
    },
    {
     "data": {
      "text/html": [
       "<div>\n",
       "<style scoped>\n",
       "    .dataframe tbody tr th:only-of-type {\n",
       "        vertical-align: middle;\n",
       "    }\n",
       "\n",
       "    .dataframe tbody tr th {\n",
       "        vertical-align: top;\n",
       "    }\n",
       "\n",
       "    .dataframe thead th {\n",
       "        text-align: right;\n",
       "    }\n",
       "</style>\n",
       "<table border=\"1\" class=\"dataframe\">\n",
       "  <thead>\n",
       "    <tr style=\"text-align: right;\">\n",
       "      <th></th>\n",
       "      <th>course_name</th>\n",
       "      <th>university</th>\n",
       "      <th>difficulty_level</th>\n",
       "      <th>course_rating</th>\n",
       "    </tr>\n",
       "  </thead>\n",
       "  <tbody>\n",
       "    <tr>\n",
       "      <th>2707</th>\n",
       "      <td>Machine Learning for Data Analysis</td>\n",
       "      <td>Wesleyan University</td>\n",
       "      <td>Intermediate</td>\n",
       "      <td>4.2</td>\n",
       "    </tr>\n",
       "    <tr>\n",
       "      <th>2405</th>\n",
       "      <td>Machine Learning With Big Data</td>\n",
       "      <td>University of California San Diego</td>\n",
       "      <td>Beginner</td>\n",
       "      <td>4.6</td>\n",
       "    </tr>\n",
       "    <tr>\n",
       "      <th>903</th>\n",
       "      <td>Machine Learning: Classification</td>\n",
       "      <td>University of Washington</td>\n",
       "      <td>Beginner</td>\n",
       "      <td>4.7</td>\n",
       "    </tr>\n",
       "    <tr>\n",
       "      <th>3230</th>\n",
       "      <td>Machine Learning for All</td>\n",
       "      <td>University of London</td>\n",
       "      <td>Conversant</td>\n",
       "      <td>4.7</td>\n",
       "    </tr>\n",
       "    <tr>\n",
       "      <th>384</th>\n",
       "      <td>Introduction to Machine Learning</td>\n",
       "      <td>Duke University</td>\n",
       "      <td>Beginner</td>\n",
       "      <td>4.6</td>\n",
       "    </tr>\n",
       "  </tbody>\n",
       "</table>\n",
       "</div>"
      ],
      "text/plain": [
       "                             course_name                          university  \\\n",
       "2707  Machine Learning for Data Analysis                 Wesleyan University   \n",
       "2405      Machine Learning With Big Data  University of California San Diego   \n",
       "903     Machine Learning: Classification            University of Washington   \n",
       "3230            Machine Learning for All                University of London   \n",
       "384     Introduction to Machine Learning                     Duke University   \n",
       "\n",
       "     difficulty_level course_rating  \n",
       "2707     Intermediate           4.2  \n",
       "2405         Beginner           4.6  \n",
       "903          Beginner           4.7  \n",
       "3230       Conversant           4.7  \n",
       "384          Beginner           4.6  "
      ]
     },
     "metadata": {},
     "output_type": "display_data"
    }
   ],
   "source": [
    "user_input = input(\"Enter a course topic or name: \")\n",
    "recommendations = recommend_courses(user_input, data_test, False)\n",
    "display(recommendations)"
   ]
  }
 ],
 "metadata": {
  "kernelspec": {
   "display_name": "Python 3 (ipykernel)",
   "language": "python",
   "name": "python3"
  },
  "language_info": {
   "codemirror_mode": {
    "name": "ipython",
    "version": 3
   },
   "file_extension": ".py",
   "mimetype": "text/x-python",
   "name": "python",
   "nbconvert_exporter": "python",
   "pygments_lexer": "ipython3",
   "version": "3.10.1"
  }
 },
 "nbformat": 4,
 "nbformat_minor": 2
}
